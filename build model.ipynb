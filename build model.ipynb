{
 "cells": [
  {
   "cell_type": "code",
   "execution_count": 75,
   "id": "d3178b8c",
   "metadata": {},
   "outputs": [],
   "source": [
    "import pandas as pd \n",
    "from sklearn.tree import DecisionTreeClassifier\n",
    "from sklearn.tree import DecisionTreeRegressor\n",
    "from sklearn.model_selection import train_test_split\n",
    "from sklearn.metrics import mean_squared_error, r2_score"
   ]
  },
  {
   "cell_type": "code",
   "execution_count": 44,
   "id": "fc3c07be",
   "metadata": {},
   "outputs": [],
   "source": [
    "data = pd.read_csv(\"smartphone_clained\")\n",
    "data = data.drop(\"Unnamed: 0\",axis=1)"
   ]
  },
  {
   "cell_type": "code",
   "execution_count": 45,
   "id": "18364387",
   "metadata": {},
   "outputs": [
    {
     "data": {
      "text/html": [
       "<div>\n",
       "<style scoped>\n",
       "    .dataframe tbody tr th:only-of-type {\n",
       "        vertical-align: middle;\n",
       "    }\n",
       "\n",
       "    .dataframe tbody tr th {\n",
       "        vertical-align: top;\n",
       "    }\n",
       "\n",
       "    .dataframe thead th {\n",
       "        text-align: right;\n",
       "    }\n",
       "</style>\n",
       "<table border=\"1\" class=\"dataframe\">\n",
       "  <thead>\n",
       "    <tr style=\"text-align: right;\">\n",
       "      <th></th>\n",
       "      <th>Battery(mAh)</th>\n",
       "      <th>Taille_ecran(en pouces)</th>\n",
       "      <th>Réseau</th>\n",
       "      <th>Stockage(Go)</th>\n",
       "      <th>RAM(Go)</th>\n",
       "      <th>nb_capteur_ph</th>\n",
       "      <th>Selfie(mégapixels)</th>\n",
       "      <th>Price(€)</th>\n",
       "    </tr>\n",
       "  </thead>\n",
       "  <tbody>\n",
       "    <tr>\n",
       "      <th>0</th>\n",
       "      <td>3700.0</td>\n",
       "      <td>6.1</td>\n",
       "      <td>5G</td>\n",
       "      <td>128.0</td>\n",
       "      <td>8.0</td>\n",
       "      <td>3.0</td>\n",
       "      <td>10.0</td>\n",
       "      <td>749.0</td>\n",
       "    </tr>\n",
       "    <tr>\n",
       "      <th>1</th>\n",
       "      <td>5020.0</td>\n",
       "      <td>6.6</td>\n",
       "      <td>4G</td>\n",
       "      <td>128.0</td>\n",
       "      <td>6.0</td>\n",
       "      <td>4.0</td>\n",
       "      <td>16.0</td>\n",
       "      <td>249.0</td>\n",
       "    </tr>\n",
       "    <tr>\n",
       "      <th>2</th>\n",
       "      <td>4500.0</td>\n",
       "      <td>6.4</td>\n",
       "      <td>5G</td>\n",
       "      <td>128.0</td>\n",
       "      <td>8.0</td>\n",
       "      <td>3.0</td>\n",
       "      <td>16.0</td>\n",
       "      <td>419.0</td>\n",
       "    </tr>\n",
       "    <tr>\n",
       "      <th>3</th>\n",
       "      <td>5000.0</td>\n",
       "      <td>6.5</td>\n",
       "      <td>5G</td>\n",
       "      <td>64.0</td>\n",
       "      <td>4.0</td>\n",
       "      <td>3.0</td>\n",
       "      <td>8.0</td>\n",
       "      <td>299.0</td>\n",
       "    </tr>\n",
       "    <tr>\n",
       "      <th>4</th>\n",
       "      <td>5330.0</td>\n",
       "      <td>6.7</td>\n",
       "      <td>4G</td>\n",
       "      <td>128.0</td>\n",
       "      <td>4.0</td>\n",
       "      <td>4.0</td>\n",
       "      <td>8.0</td>\n",
       "      <td>229.0</td>\n",
       "    </tr>\n",
       "    <tr>\n",
       "      <th>...</th>\n",
       "      <td>...</td>\n",
       "      <td>...</td>\n",
       "      <td>...</td>\n",
       "      <td>...</td>\n",
       "      <td>...</td>\n",
       "      <td>...</td>\n",
       "      <td>...</td>\n",
       "      <td>...</td>\n",
       "    </tr>\n",
       "    <tr>\n",
       "      <th>786</th>\n",
       "      <td>2815.0</td>\n",
       "      <td>6.1</td>\n",
       "      <td>5G</td>\n",
       "      <td>512.0</td>\n",
       "      <td>6.0</td>\n",
       "      <td>3.0</td>\n",
       "      <td>12.0</td>\n",
       "      <td>1620.0</td>\n",
       "    </tr>\n",
       "    <tr>\n",
       "      <th>787</th>\n",
       "      <td>2815.0</td>\n",
       "      <td>6.1</td>\n",
       "      <td>5G</td>\n",
       "      <td>512.0</td>\n",
       "      <td>6.0</td>\n",
       "      <td>3.0</td>\n",
       "      <td>12.0</td>\n",
       "      <td>1620.0</td>\n",
       "    </tr>\n",
       "    <tr>\n",
       "      <th>788</th>\n",
       "      <td>2815.0</td>\n",
       "      <td>6.1</td>\n",
       "      <td>5G</td>\n",
       "      <td>1000.0</td>\n",
       "      <td>6.0</td>\n",
       "      <td>3.0</td>\n",
       "      <td>12.0</td>\n",
       "      <td>1908.0</td>\n",
       "    </tr>\n",
       "    <tr>\n",
       "      <th>789</th>\n",
       "      <td>2815.0</td>\n",
       "      <td>6.1</td>\n",
       "      <td>5G</td>\n",
       "      <td>1000.0</td>\n",
       "      <td>6.0</td>\n",
       "      <td>3.0</td>\n",
       "      <td>12.0</td>\n",
       "      <td>1908.0</td>\n",
       "    </tr>\n",
       "    <tr>\n",
       "      <th>790</th>\n",
       "      <td>2815.0</td>\n",
       "      <td>6.1</td>\n",
       "      <td>5G</td>\n",
       "      <td>1000.0</td>\n",
       "      <td>6.0</td>\n",
       "      <td>3.0</td>\n",
       "      <td>12.0</td>\n",
       "      <td>1908.0</td>\n",
       "    </tr>\n",
       "  </tbody>\n",
       "</table>\n",
       "<p>791 rows × 8 columns</p>\n",
       "</div>"
      ],
      "text/plain": [
       "     Battery(mAh)  Taille_ecran(en pouces) Réseau  Stockage(Go)  RAM(Go)  \\\n",
       "0          3700.0                      6.1    5G          128.0      8.0   \n",
       "1          5020.0                      6.6    4G          128.0      6.0   \n",
       "2          4500.0                      6.4    5G          128.0      8.0   \n",
       "3          5000.0                      6.5    5G           64.0      4.0   \n",
       "4          5330.0                      6.7    4G          128.0      4.0   \n",
       "..            ...                      ...    ...           ...      ...   \n",
       "786        2815.0                      6.1    5G          512.0      6.0   \n",
       "787        2815.0                      6.1    5G          512.0      6.0   \n",
       "788        2815.0                      6.1    5G         1000.0      6.0   \n",
       "789        2815.0                      6.1    5G         1000.0      6.0   \n",
       "790        2815.0                      6.1    5G         1000.0      6.0   \n",
       "\n",
       "     nb_capteur_ph  Selfie(mégapixels)  Price(€)  \n",
       "0              3.0                10.0     749.0  \n",
       "1              4.0                16.0     249.0  \n",
       "2              3.0                16.0     419.0  \n",
       "3              3.0                 8.0     299.0  \n",
       "4              4.0                 8.0     229.0  \n",
       "..             ...                 ...       ...  \n",
       "786            3.0                12.0    1620.0  \n",
       "787            3.0                12.0    1620.0  \n",
       "788            3.0                12.0    1908.0  \n",
       "789            3.0                12.0    1908.0  \n",
       "790            3.0                12.0    1908.0  \n",
       "\n",
       "[791 rows x 8 columns]"
      ]
     },
     "execution_count": 45,
     "metadata": {},
     "output_type": "execute_result"
    }
   ],
   "source": [
    "num_col = data.drop(['Marque', 'Model', 'couleur', 'os', 'CPU', 'Resolution_ecran', 'camera','Bluetooth'],axis=1)\n",
    "num_col"
   ]
  },
  {
   "cell_type": "code",
   "execution_count": 46,
   "id": "0c15f0cf",
   "metadata": {},
   "outputs": [],
   "source": [
    "L = num_col['Réseau'].str.split(\"G\",expand =True)\n",
    "num_col.insert(2, 'Réseau(G)', L[0])\n",
    "num_col.drop('Réseau',axis=1,inplace=True)\n",
    "num_col['Réseau(G)'] = num_col['Réseau(G)'].astype('float')"
   ]
  },
  {
   "cell_type": "code",
   "execution_count": 47,
   "id": "3ec68281",
   "metadata": {},
   "outputs": [
    {
     "data": {
      "text/plain": [
       "Battery(mAh)                 1\n",
       "Taille_ecran(en pouces)      0\n",
       "Réseau(G)                    0\n",
       "Stockage(Go)                 0\n",
       "RAM(Go)                      0\n",
       "nb_capteur_ph              217\n",
       "Selfie(mégapixels)         218\n",
       "Price(€)                     0\n",
       "dtype: int64"
      ]
     },
     "execution_count": 47,
     "metadata": {},
     "output_type": "execute_result"
    }
   ],
   "source": [
    "num_col.isna().sum()"
   ]
  },
  {
   "cell_type": "code",
   "execution_count": 48,
   "id": "40e16987",
   "metadata": {},
   "outputs": [
    {
     "data": {
      "text/html": [
       "<div>\n",
       "<style scoped>\n",
       "    .dataframe tbody tr th:only-of-type {\n",
       "        vertical-align: middle;\n",
       "    }\n",
       "\n",
       "    .dataframe tbody tr th {\n",
       "        vertical-align: top;\n",
       "    }\n",
       "\n",
       "    .dataframe thead th {\n",
       "        text-align: right;\n",
       "    }\n",
       "</style>\n",
       "<table border=\"1\" class=\"dataframe\">\n",
       "  <thead>\n",
       "    <tr style=\"text-align: right;\">\n",
       "      <th></th>\n",
       "      <th>Battery(mAh)</th>\n",
       "      <th>Taille_ecran(en pouces)</th>\n",
       "      <th>Réseau(G)</th>\n",
       "      <th>Stockage(Go)</th>\n",
       "      <th>RAM(Go)</th>\n",
       "      <th>nb_capteur_ph</th>\n",
       "      <th>Selfie(mégapixels)</th>\n",
       "      <th>Price(€)</th>\n",
       "    </tr>\n",
       "  </thead>\n",
       "  <tbody>\n",
       "    <tr>\n",
       "      <th>702</th>\n",
       "      <td>NaN</td>\n",
       "      <td>5.4</td>\n",
       "      <td>5.0</td>\n",
       "      <td>128.0</td>\n",
       "      <td>4.0</td>\n",
       "      <td>2.0</td>\n",
       "      <td>12.0</td>\n",
       "      <td>664.0</td>\n",
       "    </tr>\n",
       "  </tbody>\n",
       "</table>\n",
       "</div>"
      ],
      "text/plain": [
       "     Battery(mAh)  Taille_ecran(en pouces)  Réseau(G)  Stockage(Go)  RAM(Go)  \\\n",
       "702           NaN                      5.4        5.0         128.0      4.0   \n",
       "\n",
       "     nb_capteur_ph  Selfie(mégapixels)  Price(€)  \n",
       "702            2.0                12.0     664.0  "
      ]
     },
     "execution_count": 48,
     "metadata": {},
     "output_type": "execute_result"
    }
   ],
   "source": [
    "num_col[num_col['Battery(mAh)'].isna() == True]"
   ]
  },
  {
   "cell_type": "code",
   "execution_count": 49,
   "id": "656094d1",
   "metadata": {},
   "outputs": [],
   "source": [
    "num_col = num_col.drop(num_col[num_col['Battery(mAh)'].isna() == True].index)"
   ]
  },
  {
   "cell_type": "code",
   "execution_count": 50,
   "id": "fa0a3ff4",
   "metadata": {},
   "outputs": [
    {
     "data": {
      "text/plain": [
       "array([2., 1., 1., 1., 1., 1., 1., 1., 1., 1., 2., 2., 2., 2., 2., 3., 1.,\n",
       "       1., 2., 2., 1., 1., 1., 1., 2., 3., 3., 1., 3., 1., 3., 3., 3., 3.,\n",
       "       3., 2., 4., 3., 3., 3., 3., 4., 3., 1., 3., 3., 3., 4., 3., 3., 4.,\n",
       "       4., 3., 2., 4., 4., 4., 4., 4., 4., 4., 3., 3., 4., 4., 4., 4., 4.,\n",
       "       3., 3., 3., 2., 3., 3., 4., 4., 3., 3., 3., 4., 3., 4., 4., 4., 4.,\n",
       "       3., 3., 3., 3., 3., 3., 3., 2., 3., 4., 3., 2., 3., 3., 3., 3., 3.,\n",
       "       3., 3., 3., 3., 3., 3., 3., 3., 3., 3., 3., 1., 2., 1., 2., 1., 1.,\n",
       "       1., 1., 1., 1., 1., 1., 1., 1., 2., 1., 2., 2., 2., 2., 2., 2., 2.,\n",
       "       2., 2., 2., 2., 2., 2., 3., 1., 2., 1., 2., 3., 1., 3., 3., 2., 1.,\n",
       "       3., 2., 3., 3., 2., 2., 3., 3., 2., 1., 1., 2., 2., 3., 3., 3., 2.,\n",
       "       2., 3., 1., 3., 3., 3., 4., 2., 3., 4., 2., 3., 3., 4., 4., 2., 2.,\n",
       "       2., 4., 4., 1., 3., 4., 3., 4., 4., 1., 4., 3., 3., 3., 3., 3., 2.,\n",
       "       3., 4., 4., 3., 3., 4., 3., 1., 4., 1., 3., 3., 3.])"
      ]
     },
     "execution_count": 50,
     "metadata": {},
     "output_type": "execute_result"
    }
   ],
   "source": [
    "X = num_col.drop(['nb_capteur_ph','Selfie(mégapixels)'],axis=1)\n",
    "y = num_col['nb_capteur_ph'] \n",
    "# Division des données en ensembles d'apprentissage et de test\n",
    "y_train = y[y.isna() == False]\n",
    "X_train = X.loc[y_train.index,]\n",
    "X_test = X.loc[y[y.isna() == True].index,]\n",
    "y_test = y[y.isna() == True]\n",
    "dtc = DecisionTreeClassifier()\n",
    "dtc.fit(X_train, y_train)\n",
    "# Prédiction des classes pour les données de test\n",
    "y_pred = dtc.predict(X_test)\n",
    "y_pred"
   ]
  },
  {
   "cell_type": "code",
   "execution_count": 51,
   "id": "0edcc2c8",
   "metadata": {},
   "outputs": [],
   "source": [
    "num_col['nb_capteur_ph'][num_col['nb_capteur_ph'].isna() == True] = y_pred"
   ]
  },
  {
   "cell_type": "code",
   "execution_count": 52,
   "id": "ae87b860",
   "metadata": {},
   "outputs": [],
   "source": [
    "X = num_col.drop('Selfie(mégapixels)',axis=1)\n",
    "y = num_col['Selfie(mégapixels)'] \n",
    "# Division des données en ensembles d'apprentissage et de test\n",
    "y_train = y[y.isna() == False]\n",
    "X_train = X.loc[y_train.index,]\n",
    "X_test = X.loc[y[y.isna() == True].index,]\n",
    "y_test = y[y.isna() == True]\n",
    "dtc = DecisionTreeRegressor()\n",
    "dtc.fit(X_train, y_train)\n",
    "# Prédiction des classes pour les données de test\n",
    "y_pred = dtc.predict(X_test)"
   ]
  },
  {
   "cell_type": "code",
   "execution_count": 53,
   "id": "3cc6bd91",
   "metadata": {},
   "outputs": [],
   "source": [
    "num_col['Selfie(mégapixels)'][num_col['Selfie(mégapixels)'].isna() == True] = y_pred"
   ]
  },
  {
   "cell_type": "code",
   "execution_count": 54,
   "id": "aa2249fc",
   "metadata": {},
   "outputs": [
    {
     "data": {
      "text/plain": [
       "Battery(mAh)               0\n",
       "Taille_ecran(en pouces)    0\n",
       "Réseau(G)                  0\n",
       "Stockage(Go)               0\n",
       "RAM(Go)                    0\n",
       "nb_capteur_ph              0\n",
       "Selfie(mégapixels)         0\n",
       "Price(€)                   0\n",
       "dtype: int64"
      ]
     },
     "execution_count": 54,
     "metadata": {},
     "output_type": "execute_result"
    }
   ],
   "source": [
    "num_col.isna().sum()"
   ]
  },
  {
   "cell_type": "code",
   "execution_count": 55,
   "id": "ade816cf",
   "metadata": {},
   "outputs": [
    {
     "data": {
      "text/html": [
       "<div>\n",
       "<style scoped>\n",
       "    .dataframe tbody tr th:only-of-type {\n",
       "        vertical-align: middle;\n",
       "    }\n",
       "\n",
       "    .dataframe tbody tr th {\n",
       "        vertical-align: top;\n",
       "    }\n",
       "\n",
       "    .dataframe thead th {\n",
       "        text-align: right;\n",
       "    }\n",
       "</style>\n",
       "<table border=\"1\" class=\"dataframe\">\n",
       "  <thead>\n",
       "    <tr style=\"text-align: right;\">\n",
       "      <th></th>\n",
       "      <th>Battery(mAh)</th>\n",
       "      <th>Taille_ecran(en pouces)</th>\n",
       "      <th>Réseau(G)</th>\n",
       "      <th>Stockage(Go)</th>\n",
       "      <th>RAM(Go)</th>\n",
       "      <th>nb_capteur_ph</th>\n",
       "      <th>Selfie(mégapixels)</th>\n",
       "      <th>Price(€)</th>\n",
       "    </tr>\n",
       "  </thead>\n",
       "  <tbody>\n",
       "    <tr>\n",
       "      <th>0</th>\n",
       "      <td>3700.0</td>\n",
       "      <td>6.1</td>\n",
       "      <td>5.0</td>\n",
       "      <td>128.0</td>\n",
       "      <td>8.0</td>\n",
       "      <td>3.0</td>\n",
       "      <td>10.0</td>\n",
       "      <td>749.0</td>\n",
       "    </tr>\n",
       "    <tr>\n",
       "      <th>1</th>\n",
       "      <td>5020.0</td>\n",
       "      <td>6.6</td>\n",
       "      <td>4.0</td>\n",
       "      <td>128.0</td>\n",
       "      <td>6.0</td>\n",
       "      <td>4.0</td>\n",
       "      <td>16.0</td>\n",
       "      <td>249.0</td>\n",
       "    </tr>\n",
       "    <tr>\n",
       "      <th>2</th>\n",
       "      <td>4500.0</td>\n",
       "      <td>6.4</td>\n",
       "      <td>5.0</td>\n",
       "      <td>128.0</td>\n",
       "      <td>8.0</td>\n",
       "      <td>3.0</td>\n",
       "      <td>16.0</td>\n",
       "      <td>419.0</td>\n",
       "    </tr>\n",
       "    <tr>\n",
       "      <th>3</th>\n",
       "      <td>5000.0</td>\n",
       "      <td>6.5</td>\n",
       "      <td>5.0</td>\n",
       "      <td>64.0</td>\n",
       "      <td>4.0</td>\n",
       "      <td>3.0</td>\n",
       "      <td>8.0</td>\n",
       "      <td>299.0</td>\n",
       "    </tr>\n",
       "    <tr>\n",
       "      <th>4</th>\n",
       "      <td>5330.0</td>\n",
       "      <td>6.7</td>\n",
       "      <td>4.0</td>\n",
       "      <td>128.0</td>\n",
       "      <td>4.0</td>\n",
       "      <td>4.0</td>\n",
       "      <td>8.0</td>\n",
       "      <td>229.0</td>\n",
       "    </tr>\n",
       "    <tr>\n",
       "      <th>...</th>\n",
       "      <td>...</td>\n",
       "      <td>...</td>\n",
       "      <td>...</td>\n",
       "      <td>...</td>\n",
       "      <td>...</td>\n",
       "      <td>...</td>\n",
       "      <td>...</td>\n",
       "      <td>...</td>\n",
       "    </tr>\n",
       "    <tr>\n",
       "      <th>786</th>\n",
       "      <td>2815.0</td>\n",
       "      <td>6.1</td>\n",
       "      <td>5.0</td>\n",
       "      <td>512.0</td>\n",
       "      <td>6.0</td>\n",
       "      <td>3.0</td>\n",
       "      <td>12.0</td>\n",
       "      <td>1620.0</td>\n",
       "    </tr>\n",
       "    <tr>\n",
       "      <th>787</th>\n",
       "      <td>2815.0</td>\n",
       "      <td>6.1</td>\n",
       "      <td>5.0</td>\n",
       "      <td>512.0</td>\n",
       "      <td>6.0</td>\n",
       "      <td>3.0</td>\n",
       "      <td>12.0</td>\n",
       "      <td>1620.0</td>\n",
       "    </tr>\n",
       "    <tr>\n",
       "      <th>788</th>\n",
       "      <td>2815.0</td>\n",
       "      <td>6.1</td>\n",
       "      <td>5.0</td>\n",
       "      <td>1000.0</td>\n",
       "      <td>6.0</td>\n",
       "      <td>3.0</td>\n",
       "      <td>12.0</td>\n",
       "      <td>1908.0</td>\n",
       "    </tr>\n",
       "    <tr>\n",
       "      <th>789</th>\n",
       "      <td>2815.0</td>\n",
       "      <td>6.1</td>\n",
       "      <td>5.0</td>\n",
       "      <td>1000.0</td>\n",
       "      <td>6.0</td>\n",
       "      <td>3.0</td>\n",
       "      <td>12.0</td>\n",
       "      <td>1908.0</td>\n",
       "    </tr>\n",
       "    <tr>\n",
       "      <th>790</th>\n",
       "      <td>2815.0</td>\n",
       "      <td>6.1</td>\n",
       "      <td>5.0</td>\n",
       "      <td>1000.0</td>\n",
       "      <td>6.0</td>\n",
       "      <td>3.0</td>\n",
       "      <td>12.0</td>\n",
       "      <td>1908.0</td>\n",
       "    </tr>\n",
       "  </tbody>\n",
       "</table>\n",
       "<p>790 rows × 8 columns</p>\n",
       "</div>"
      ],
      "text/plain": [
       "     Battery(mAh)  Taille_ecran(en pouces)  Réseau(G)  Stockage(Go)  RAM(Go)  \\\n",
       "0          3700.0                      6.1        5.0         128.0      8.0   \n",
       "1          5020.0                      6.6        4.0         128.0      6.0   \n",
       "2          4500.0                      6.4        5.0         128.0      8.0   \n",
       "3          5000.0                      6.5        5.0          64.0      4.0   \n",
       "4          5330.0                      6.7        4.0         128.0      4.0   \n",
       "..            ...                      ...        ...           ...      ...   \n",
       "786        2815.0                      6.1        5.0         512.0      6.0   \n",
       "787        2815.0                      6.1        5.0         512.0      6.0   \n",
       "788        2815.0                      6.1        5.0        1000.0      6.0   \n",
       "789        2815.0                      6.1        5.0        1000.0      6.0   \n",
       "790        2815.0                      6.1        5.0        1000.0      6.0   \n",
       "\n",
       "     nb_capteur_ph  Selfie(mégapixels)  Price(€)  \n",
       "0              3.0                10.0     749.0  \n",
       "1              4.0                16.0     249.0  \n",
       "2              3.0                16.0     419.0  \n",
       "3              3.0                 8.0     299.0  \n",
       "4              4.0                 8.0     229.0  \n",
       "..             ...                 ...       ...  \n",
       "786            3.0                12.0    1620.0  \n",
       "787            3.0                12.0    1620.0  \n",
       "788            3.0                12.0    1908.0  \n",
       "789            3.0                12.0    1908.0  \n",
       "790            3.0                12.0    1908.0  \n",
       "\n",
       "[790 rows x 8 columns]"
      ]
     },
     "execution_count": 55,
     "metadata": {},
     "output_type": "execute_result"
    }
   ],
   "source": [
    "num_col"
   ]
  },
  {
   "cell_type": "markdown",
   "id": "44dd576b",
   "metadata": {},
   "source": [
    "### feature selection : Variance threshold"
   ]
  },
  {
   "cell_type": "code",
   "execution_count": 56,
   "id": "fdaf4c1f",
   "metadata": {},
   "outputs": [
    {
     "data": {
      "text/html": [
       "<style>#sk-container-id-3 {color: black;background-color: white;}#sk-container-id-3 pre{padding: 0;}#sk-container-id-3 div.sk-toggleable {background-color: white;}#sk-container-id-3 label.sk-toggleable__label {cursor: pointer;display: block;width: 100%;margin-bottom: 0;padding: 0.3em;box-sizing: border-box;text-align: center;}#sk-container-id-3 label.sk-toggleable__label-arrow:before {content: \"▸\";float: left;margin-right: 0.25em;color: #696969;}#sk-container-id-3 label.sk-toggleable__label-arrow:hover:before {color: black;}#sk-container-id-3 div.sk-estimator:hover label.sk-toggleable__label-arrow:before {color: black;}#sk-container-id-3 div.sk-toggleable__content {max-height: 0;max-width: 0;overflow: hidden;text-align: left;background-color: #f0f8ff;}#sk-container-id-3 div.sk-toggleable__content pre {margin: 0.2em;color: black;border-radius: 0.25em;background-color: #f0f8ff;}#sk-container-id-3 input.sk-toggleable__control:checked~div.sk-toggleable__content {max-height: 200px;max-width: 100%;overflow: auto;}#sk-container-id-3 input.sk-toggleable__control:checked~label.sk-toggleable__label-arrow:before {content: \"▾\";}#sk-container-id-3 div.sk-estimator input.sk-toggleable__control:checked~label.sk-toggleable__label {background-color: #d4ebff;}#sk-container-id-3 div.sk-label input.sk-toggleable__control:checked~label.sk-toggleable__label {background-color: #d4ebff;}#sk-container-id-3 input.sk-hidden--visually {border: 0;clip: rect(1px 1px 1px 1px);clip: rect(1px, 1px, 1px, 1px);height: 1px;margin: -1px;overflow: hidden;padding: 0;position: absolute;width: 1px;}#sk-container-id-3 div.sk-estimator {font-family: monospace;background-color: #f0f8ff;border: 1px dotted black;border-radius: 0.25em;box-sizing: border-box;margin-bottom: 0.5em;}#sk-container-id-3 div.sk-estimator:hover {background-color: #d4ebff;}#sk-container-id-3 div.sk-parallel-item::after {content: \"\";width: 100%;border-bottom: 1px solid gray;flex-grow: 1;}#sk-container-id-3 div.sk-label:hover label.sk-toggleable__label {background-color: #d4ebff;}#sk-container-id-3 div.sk-serial::before {content: \"\";position: absolute;border-left: 1px solid gray;box-sizing: border-box;top: 0;bottom: 0;left: 50%;z-index: 0;}#sk-container-id-3 div.sk-serial {display: flex;flex-direction: column;align-items: center;background-color: white;padding-right: 0.2em;padding-left: 0.2em;position: relative;}#sk-container-id-3 div.sk-item {position: relative;z-index: 1;}#sk-container-id-3 div.sk-parallel {display: flex;align-items: stretch;justify-content: center;background-color: white;position: relative;}#sk-container-id-3 div.sk-item::before, #sk-container-id-3 div.sk-parallel-item::before {content: \"\";position: absolute;border-left: 1px solid gray;box-sizing: border-box;top: 0;bottom: 0;left: 50%;z-index: -1;}#sk-container-id-3 div.sk-parallel-item {display: flex;flex-direction: column;z-index: 1;position: relative;background-color: white;}#sk-container-id-3 div.sk-parallel-item:first-child::after {align-self: flex-end;width: 50%;}#sk-container-id-3 div.sk-parallel-item:last-child::after {align-self: flex-start;width: 50%;}#sk-container-id-3 div.sk-parallel-item:only-child::after {width: 0;}#sk-container-id-3 div.sk-dashed-wrapped {border: 1px dashed gray;margin: 0 0.4em 0.5em 0.4em;box-sizing: border-box;padding-bottom: 0.4em;background-color: white;}#sk-container-id-3 div.sk-label label {font-family: monospace;font-weight: bold;display: inline-block;line-height: 1.2em;}#sk-container-id-3 div.sk-label-container {text-align: center;}#sk-container-id-3 div.sk-container {/* jupyter's `normalize.less` sets `[hidden] { display: none; }` but bootstrap.min.css set `[hidden] { display: none !important; }` so we also need the `!important` here to be able to override the default hidden behavior on the sphinx rendered scikit-learn.org. See: https://github.com/scikit-learn/scikit-learn/issues/21755 */display: inline-block !important;position: relative;}#sk-container-id-3 div.sk-text-repr-fallback {display: none;}</style><div id=\"sk-container-id-3\" class=\"sk-top-container\"><div class=\"sk-text-repr-fallback\"><pre>VarianceThreshold(threshold=0.2)</pre><b>In a Jupyter environment, please rerun this cell to show the HTML representation or trust the notebook. <br />On GitHub, the HTML representation is unable to render, please try loading this page with nbviewer.org.</b></div><div class=\"sk-container\" hidden><div class=\"sk-item\"><div class=\"sk-estimator sk-toggleable\"><input class=\"sk-toggleable__control sk-hidden--visually\" id=\"sk-estimator-id-3\" type=\"checkbox\" checked><label for=\"sk-estimator-id-3\" class=\"sk-toggleable__label sk-toggleable__label-arrow\">VarianceThreshold</label><div class=\"sk-toggleable__content\"><pre>VarianceThreshold(threshold=0.2)</pre></div></div></div></div></div>"
      ],
      "text/plain": [
       "VarianceThreshold(threshold=0.2)"
      ]
     },
     "execution_count": 56,
     "metadata": {},
     "output_type": "execute_result"
    }
   ],
   "source": [
    "from sklearn.feature_selection import VarianceThreshold  \n",
    "from sklearn.feature_selection import VarianceThreshold\n",
    "import numpy as np\n",
    "# instantiate a variance threshold feature selector\n",
    "selector = VarianceThreshold(threshold=0.2)\n",
    "# fit the selector to the data\n",
    "selector.fit(num_col)"
   ]
  },
  {
   "cell_type": "code",
   "execution_count": 57,
   "id": "7030895f",
   "metadata": {},
   "outputs": [
    {
     "data": {
      "text/plain": [
       "array([ True, False,  True,  True,  True,  True,  True,  True])"
      ]
     },
     "execution_count": 57,
     "metadata": {},
     "output_type": "execute_result"
    }
   ],
   "source": [
    "# get the indices of the selected features\n",
    "selected_features = selector.get_support()\n",
    "selected_features"
   ]
  },
  {
   "cell_type": "code",
   "execution_count": 58,
   "id": "b28ed243",
   "metadata": {},
   "outputs": [
    {
     "name": "stdout",
     "output_type": "stream",
     "text": [
      "selected_features : \n",
      "Battery(mAh)\n",
      "Réseau(G)\n",
      "Stockage(Go)\n",
      "RAM(Go)\n",
      "nb_capteur_ph\n",
      "Selfie(mégapixels)\n",
      "Price(€)\n",
      "/n unselected_features :\n",
      "Taille_ecran(en pouces)\n"
     ]
    }
   ],
   "source": [
    "concol = [column for column in num_col.columns \n",
    "          if column not in num_col.columns[selected_features]]\n",
    "concol2 = [column for column in num_col.columns \n",
    "          if column  in num_col.columns[selected_features]]\n",
    "print(\"selected_features : \")\n",
    "for features in concol2:\n",
    "    print(features)\n",
    "print(\"/n unselected_features :\")\n",
    "for features in concol:\n",
    "    print(features)"
   ]
  },
  {
   "cell_type": "markdown",
   "id": "35de0d1b",
   "metadata": {},
   "source": [
    "#### On remarque que la colonne 'Taille_ecran(en pouces)' est celle à supprimer"
   ]
  },
  {
   "cell_type": "code",
   "execution_count": 59,
   "id": "18169905",
   "metadata": {},
   "outputs": [],
   "source": [
    "from sklearn.feature_selection import SelectKBest, f_regression\n",
    "# Select the best k features using SelectKBest method\n",
    "selector = SelectKBest(f_regression, k=5)\n",
    "selected_features = selector.fit_transform(num_col,y)"
   ]
  },
  {
   "cell_type": "code",
   "execution_count": 60,
   "id": "32d0e215",
   "metadata": {},
   "outputs": [
    {
     "name": "stdout",
     "output_type": "stream",
     "text": [
      "Selected features:\n",
      "Index(['Réseau(G)', 'RAM(Go)', 'nb_capteur_ph', 'Selfie(mégapixels)',\n",
      "       'Price(€)'],\n",
      "      dtype='object')\n"
     ]
    }
   ],
   "source": [
    "mask = selector.get_support()\n",
    "# Use the mask to select only the selected features from the original dataset\n",
    "selected_feature_names = num_col.columns[mask]\n",
    "# Show the selected features\n",
    "print(\"Selected features:\")\n",
    "print(selected_feature_names)"
   ]
  },
  {
   "cell_type": "code",
   "execution_count": 61,
   "id": "b6c62a3c",
   "metadata": {},
   "outputs": [],
   "source": [
    "num_col = num_col.drop('Taille_ecran(en pouces)',axis=1)"
   ]
  },
  {
   "cell_type": "code",
   "execution_count": 63,
   "id": "0fcb780b",
   "metadata": {},
   "outputs": [
    {
     "data": {
      "text/html": [
       "<div>\n",
       "<style scoped>\n",
       "    .dataframe tbody tr th:only-of-type {\n",
       "        vertical-align: middle;\n",
       "    }\n",
       "\n",
       "    .dataframe tbody tr th {\n",
       "        vertical-align: top;\n",
       "    }\n",
       "\n",
       "    .dataframe thead th {\n",
       "        text-align: right;\n",
       "    }\n",
       "</style>\n",
       "<table border=\"1\" class=\"dataframe\">\n",
       "  <thead>\n",
       "    <tr style=\"text-align: right;\">\n",
       "      <th></th>\n",
       "      <th>Battery(mAh)</th>\n",
       "      <th>Réseau(G)</th>\n",
       "      <th>Stockage(Go)</th>\n",
       "      <th>RAM(Go)</th>\n",
       "      <th>nb_capteur_ph</th>\n",
       "      <th>Selfie(mégapixels)</th>\n",
       "      <th>Price(€)</th>\n",
       "    </tr>\n",
       "  </thead>\n",
       "  <tbody>\n",
       "    <tr>\n",
       "      <th>0</th>\n",
       "      <td>3700.0</td>\n",
       "      <td>5.0</td>\n",
       "      <td>128.0</td>\n",
       "      <td>8.0</td>\n",
       "      <td>3.0</td>\n",
       "      <td>10.0</td>\n",
       "      <td>749.0</td>\n",
       "    </tr>\n",
       "    <tr>\n",
       "      <th>1</th>\n",
       "      <td>5020.0</td>\n",
       "      <td>4.0</td>\n",
       "      <td>128.0</td>\n",
       "      <td>6.0</td>\n",
       "      <td>4.0</td>\n",
       "      <td>16.0</td>\n",
       "      <td>249.0</td>\n",
       "    </tr>\n",
       "    <tr>\n",
       "      <th>2</th>\n",
       "      <td>4500.0</td>\n",
       "      <td>5.0</td>\n",
       "      <td>128.0</td>\n",
       "      <td>8.0</td>\n",
       "      <td>3.0</td>\n",
       "      <td>16.0</td>\n",
       "      <td>419.0</td>\n",
       "    </tr>\n",
       "    <tr>\n",
       "      <th>3</th>\n",
       "      <td>5000.0</td>\n",
       "      <td>5.0</td>\n",
       "      <td>64.0</td>\n",
       "      <td>4.0</td>\n",
       "      <td>3.0</td>\n",
       "      <td>8.0</td>\n",
       "      <td>299.0</td>\n",
       "    </tr>\n",
       "    <tr>\n",
       "      <th>4</th>\n",
       "      <td>5330.0</td>\n",
       "      <td>4.0</td>\n",
       "      <td>128.0</td>\n",
       "      <td>4.0</td>\n",
       "      <td>4.0</td>\n",
       "      <td>8.0</td>\n",
       "      <td>229.0</td>\n",
       "    </tr>\n",
       "    <tr>\n",
       "      <th>...</th>\n",
       "      <td>...</td>\n",
       "      <td>...</td>\n",
       "      <td>...</td>\n",
       "      <td>...</td>\n",
       "      <td>...</td>\n",
       "      <td>...</td>\n",
       "      <td>...</td>\n",
       "    </tr>\n",
       "    <tr>\n",
       "      <th>786</th>\n",
       "      <td>2815.0</td>\n",
       "      <td>5.0</td>\n",
       "      <td>512.0</td>\n",
       "      <td>6.0</td>\n",
       "      <td>3.0</td>\n",
       "      <td>12.0</td>\n",
       "      <td>1620.0</td>\n",
       "    </tr>\n",
       "    <tr>\n",
       "      <th>787</th>\n",
       "      <td>2815.0</td>\n",
       "      <td>5.0</td>\n",
       "      <td>512.0</td>\n",
       "      <td>6.0</td>\n",
       "      <td>3.0</td>\n",
       "      <td>12.0</td>\n",
       "      <td>1620.0</td>\n",
       "    </tr>\n",
       "    <tr>\n",
       "      <th>788</th>\n",
       "      <td>2815.0</td>\n",
       "      <td>5.0</td>\n",
       "      <td>1000.0</td>\n",
       "      <td>6.0</td>\n",
       "      <td>3.0</td>\n",
       "      <td>12.0</td>\n",
       "      <td>1908.0</td>\n",
       "    </tr>\n",
       "    <tr>\n",
       "      <th>789</th>\n",
       "      <td>2815.0</td>\n",
       "      <td>5.0</td>\n",
       "      <td>1000.0</td>\n",
       "      <td>6.0</td>\n",
       "      <td>3.0</td>\n",
       "      <td>12.0</td>\n",
       "      <td>1908.0</td>\n",
       "    </tr>\n",
       "    <tr>\n",
       "      <th>790</th>\n",
       "      <td>2815.0</td>\n",
       "      <td>5.0</td>\n",
       "      <td>1000.0</td>\n",
       "      <td>6.0</td>\n",
       "      <td>3.0</td>\n",
       "      <td>12.0</td>\n",
       "      <td>1908.0</td>\n",
       "    </tr>\n",
       "  </tbody>\n",
       "</table>\n",
       "<p>790 rows × 7 columns</p>\n",
       "</div>"
      ],
      "text/plain": [
       "     Battery(mAh)  Réseau(G)  Stockage(Go)  RAM(Go)  nb_capteur_ph  \\\n",
       "0          3700.0        5.0         128.0      8.0            3.0   \n",
       "1          5020.0        4.0         128.0      6.0            4.0   \n",
       "2          4500.0        5.0         128.0      8.0            3.0   \n",
       "3          5000.0        5.0          64.0      4.0            3.0   \n",
       "4          5330.0        4.0         128.0      4.0            4.0   \n",
       "..            ...        ...           ...      ...            ...   \n",
       "786        2815.0        5.0         512.0      6.0            3.0   \n",
       "787        2815.0        5.0         512.0      6.0            3.0   \n",
       "788        2815.0        5.0        1000.0      6.0            3.0   \n",
       "789        2815.0        5.0        1000.0      6.0            3.0   \n",
       "790        2815.0        5.0        1000.0      6.0            3.0   \n",
       "\n",
       "     Selfie(mégapixels)  Price(€)  \n",
       "0                  10.0     749.0  \n",
       "1                  16.0     249.0  \n",
       "2                  16.0     419.0  \n",
       "3                   8.0     299.0  \n",
       "4                   8.0     229.0  \n",
       "..                  ...       ...  \n",
       "786                12.0    1620.0  \n",
       "787                12.0    1620.0  \n",
       "788                12.0    1908.0  \n",
       "789                12.0    1908.0  \n",
       "790                12.0    1908.0  \n",
       "\n",
       "[790 rows x 7 columns]"
      ]
     },
     "execution_count": 63,
     "metadata": {},
     "output_type": "execute_result"
    }
   ],
   "source": [
    "num_col"
   ]
  },
  {
   "cell_type": "markdown",
   "id": "6a36180b",
   "metadata": {},
   "source": [
    "### Utiliser l'algorithme de l'arbre de décision pour prédire la valeur du prix"
   ]
  },
  {
   "cell_type": "code",
   "execution_count": 66,
   "id": "8d09c60c",
   "metadata": {},
   "outputs": [],
   "source": [
    "X = num_col.drop('Price(€)',axis=1)\n",
    "y = num_col['Price(€)'] "
   ]
  },
  {
   "cell_type": "code",
   "execution_count": 67,
   "id": "37e805cd",
   "metadata": {},
   "outputs": [],
   "source": [
    "# Division des données en ensembles d'apprentissage et de test\n",
    "X_train, X_test, y_train, y_test = train_test_split(X, y, test_size=0.3, random_state=1)"
   ]
  },
  {
   "cell_type": "code",
   "execution_count": 68,
   "id": "51b69520",
   "metadata": {},
   "outputs": [],
   "source": [
    "dtc = DecisionTreeRegressor()"
   ]
  },
  {
   "cell_type": "code",
   "execution_count": 69,
   "id": "34443f98",
   "metadata": {
    "scrolled": true
   },
   "outputs": [
    {
     "data": {
      "text/html": [
       "<style>#sk-container-id-4 {color: black;background-color: white;}#sk-container-id-4 pre{padding: 0;}#sk-container-id-4 div.sk-toggleable {background-color: white;}#sk-container-id-4 label.sk-toggleable__label {cursor: pointer;display: block;width: 100%;margin-bottom: 0;padding: 0.3em;box-sizing: border-box;text-align: center;}#sk-container-id-4 label.sk-toggleable__label-arrow:before {content: \"▸\";float: left;margin-right: 0.25em;color: #696969;}#sk-container-id-4 label.sk-toggleable__label-arrow:hover:before {color: black;}#sk-container-id-4 div.sk-estimator:hover label.sk-toggleable__label-arrow:before {color: black;}#sk-container-id-4 div.sk-toggleable__content {max-height: 0;max-width: 0;overflow: hidden;text-align: left;background-color: #f0f8ff;}#sk-container-id-4 div.sk-toggleable__content pre {margin: 0.2em;color: black;border-radius: 0.25em;background-color: #f0f8ff;}#sk-container-id-4 input.sk-toggleable__control:checked~div.sk-toggleable__content {max-height: 200px;max-width: 100%;overflow: auto;}#sk-container-id-4 input.sk-toggleable__control:checked~label.sk-toggleable__label-arrow:before {content: \"▾\";}#sk-container-id-4 div.sk-estimator input.sk-toggleable__control:checked~label.sk-toggleable__label {background-color: #d4ebff;}#sk-container-id-4 div.sk-label input.sk-toggleable__control:checked~label.sk-toggleable__label {background-color: #d4ebff;}#sk-container-id-4 input.sk-hidden--visually {border: 0;clip: rect(1px 1px 1px 1px);clip: rect(1px, 1px, 1px, 1px);height: 1px;margin: -1px;overflow: hidden;padding: 0;position: absolute;width: 1px;}#sk-container-id-4 div.sk-estimator {font-family: monospace;background-color: #f0f8ff;border: 1px dotted black;border-radius: 0.25em;box-sizing: border-box;margin-bottom: 0.5em;}#sk-container-id-4 div.sk-estimator:hover {background-color: #d4ebff;}#sk-container-id-4 div.sk-parallel-item::after {content: \"\";width: 100%;border-bottom: 1px solid gray;flex-grow: 1;}#sk-container-id-4 div.sk-label:hover label.sk-toggleable__label {background-color: #d4ebff;}#sk-container-id-4 div.sk-serial::before {content: \"\";position: absolute;border-left: 1px solid gray;box-sizing: border-box;top: 0;bottom: 0;left: 50%;z-index: 0;}#sk-container-id-4 div.sk-serial {display: flex;flex-direction: column;align-items: center;background-color: white;padding-right: 0.2em;padding-left: 0.2em;position: relative;}#sk-container-id-4 div.sk-item {position: relative;z-index: 1;}#sk-container-id-4 div.sk-parallel {display: flex;align-items: stretch;justify-content: center;background-color: white;position: relative;}#sk-container-id-4 div.sk-item::before, #sk-container-id-4 div.sk-parallel-item::before {content: \"\";position: absolute;border-left: 1px solid gray;box-sizing: border-box;top: 0;bottom: 0;left: 50%;z-index: -1;}#sk-container-id-4 div.sk-parallel-item {display: flex;flex-direction: column;z-index: 1;position: relative;background-color: white;}#sk-container-id-4 div.sk-parallel-item:first-child::after {align-self: flex-end;width: 50%;}#sk-container-id-4 div.sk-parallel-item:last-child::after {align-self: flex-start;width: 50%;}#sk-container-id-4 div.sk-parallel-item:only-child::after {width: 0;}#sk-container-id-4 div.sk-dashed-wrapped {border: 1px dashed gray;margin: 0 0.4em 0.5em 0.4em;box-sizing: border-box;padding-bottom: 0.4em;background-color: white;}#sk-container-id-4 div.sk-label label {font-family: monospace;font-weight: bold;display: inline-block;line-height: 1.2em;}#sk-container-id-4 div.sk-label-container {text-align: center;}#sk-container-id-4 div.sk-container {/* jupyter's `normalize.less` sets `[hidden] { display: none; }` but bootstrap.min.css set `[hidden] { display: none !important; }` so we also need the `!important` here to be able to override the default hidden behavior on the sphinx rendered scikit-learn.org. See: https://github.com/scikit-learn/scikit-learn/issues/21755 */display: inline-block !important;position: relative;}#sk-container-id-4 div.sk-text-repr-fallback {display: none;}</style><div id=\"sk-container-id-4\" class=\"sk-top-container\"><div class=\"sk-text-repr-fallback\"><pre>DecisionTreeRegressor()</pre><b>In a Jupyter environment, please rerun this cell to show the HTML representation or trust the notebook. <br />On GitHub, the HTML representation is unable to render, please try loading this page with nbviewer.org.</b></div><div class=\"sk-container\" hidden><div class=\"sk-item\"><div class=\"sk-estimator sk-toggleable\"><input class=\"sk-toggleable__control sk-hidden--visually\" id=\"sk-estimator-id-4\" type=\"checkbox\" checked><label for=\"sk-estimator-id-4\" class=\"sk-toggleable__label sk-toggleable__label-arrow\">DecisionTreeRegressor</label><div class=\"sk-toggleable__content\"><pre>DecisionTreeRegressor()</pre></div></div></div></div></div>"
      ],
      "text/plain": [
       "DecisionTreeRegressor()"
      ]
     },
     "execution_count": 69,
     "metadata": {},
     "output_type": "execute_result"
    }
   ],
   "source": [
    "# Apprentissage du modèle\n",
    "dtc.fit(X_train, y_train)"
   ]
  },
  {
   "cell_type": "code",
   "execution_count": 70,
   "id": "35aecaae",
   "metadata": {},
   "outputs": [],
   "source": [
    "# Prédiction des classes pour les données de test\n",
    "y_pred = dtc.predict(X_test)"
   ]
  },
  {
   "cell_type": "code",
   "execution_count": 71,
   "id": "1b8426ee",
   "metadata": {},
   "outputs": [
    {
     "data": {
      "text/plain": [
       "array([ 339.9875    ,  899.        ,  121.90727273,  122.        ,\n",
       "       1099.        ,  149.        ,  339.9875    ,  143.85714286,\n",
       "        177.75      ,  271.66666667,  899.        ,  177.75      ,\n",
       "       1199.        ,  589.        ,  175.98      ,  461.        ,\n",
       "        278.714     ,  515.72      ,  306.34      ,  413.83333333,\n",
       "        799.        ,  899.975     ,  382.95      ,  318.27      ,\n",
       "        216.39      ,  385.06666667,  382.95      ,  778.83333333,\n",
       "        469.        ,  163.        ,  332.5       , 1049.        ,\n",
       "        143.85714286,  513.        ,  778.83333333,  513.        ,\n",
       "        185.985     ,  187.635     ,  291.33333333,  214.04      ,\n",
       "        955.9       ,  269.1       ,  729.        ,  236.7       ,\n",
       "        437.84428571,  336.82666667,  431.29833333,  778.83333333,\n",
       "        162.45      ,  342.45      ,  634.        ,  686.        ,\n",
       "        413.83333333,  589.        ,  467.        , 1207.99666667,\n",
       "        640.85714286, 1119.        ,  209.        ,  271.66666667,\n",
       "       1879.        ,  449.        ,  229.        ,  191.166     ,\n",
       "       1908.        ,  297.        ,  164.75      ,  799.        ,\n",
       "        352.9       ,  191.166     ,  278.714     ,  332.5       ,\n",
       "        315.23      ,  986.9575    ,  371.25      ,  539.83333333,\n",
       "        858.14285714,  431.29833333,  352.9       ,  187.635     ,\n",
       "        247.0175    ,  179.        , 1021.95      ,  729.        ,\n",
       "       1221.136     ,  247.0175    ,  380.        , 1369.6       ,\n",
       "        256.        ,  370.3       ,  122.        ,  250.        ,\n",
       "       1099.        ,  220.        ,  437.84428571,  400.        ,\n",
       "        277.        ,  577.985     , 1769.        , 1070.6       ,\n",
       "        799.        , 1499.        ,  254.5       ,  236.7       ,\n",
       "        318.27      ,  291.33333333,  385.06666667,  215.52333333,\n",
       "       1280.18      ,  239.636     ,  640.85714286,  791.9       ,\n",
       "        471.9       ,  959.        ,  844.71428571,  373.46      ,\n",
       "       1221.136     ,  278.714     ,  735.9       ,  729.        ,\n",
       "        239.636     ,  529.        ,  431.29833333,  256.        ,\n",
       "        190.        , 1099.        ,  220.        , 2029.        ,\n",
       "        220.        ,  799.        ,  332.5       ,  858.14285714,\n",
       "        121.90727273,  191.166     ,  121.90727273,  431.29833333,\n",
       "       1207.99666667, 1099.        ,  437.84428571,  634.        ,\n",
       "        377.5       , 1379.        ,  451.33333333, 1156.5       ,\n",
       "        799.        ,  385.06666667,  917.6       ,  431.29833333,\n",
       "        328.6       ,  589.        , 1908.        , 1156.5       ,\n",
       "        752.7       ,  191.166     ,  844.71428571,  122.        ,\n",
       "        809.31      ,  513.        ,  250.        , 1156.5       ,\n",
       "        372.        ,  170.        ,  247.0175    , 1499.        ,\n",
       "        986.9575    ,  256.        ,  858.14285714,  275.31666667,\n",
       "        899.975     ,  141.        , 1369.6       ,  385.06666667,\n",
       "        220.        ,  142.725     ,  549.        , 1280.18      ,\n",
       "        249.14      ,  318.27      ,  179.        ,  461.        ,\n",
       "        369.9       ,  268.        ,  385.06666667, 1908.        ,\n",
       "        306.34      ,  236.7       ,  959.        ,  209.905     ,\n",
       "        400.        , 1021.95      ,  299.5       ,  413.83333333,\n",
       "        108.69      ,  277.        ,  969.        ,  274.97333333,\n",
       "        454.56666667,  386.34      , 1769.        ,  215.52333333,\n",
       "       1879.        ,  247.0175    ,  735.9       ,  749.        ,\n",
       "        239.636     ,  164.75      ,  315.23      , 1021.95      ,\n",
       "        640.85714286, 1156.5       ,  318.27      ,  271.66666667,\n",
       "        969.        ,  193.5       ,  163.        ,  159.        ,\n",
       "       1369.6       ,  858.14285714,  634.        ,  220.        ,\n",
       "        187.635     ,  529.        ,  279.        , 2029.        ,\n",
       "        986.9575    ,  986.9575    , 1021.95      ,  589.        ,\n",
       "        306.34      , 1037.        , 1249.        ,  589.        ,\n",
       "        305.23666667,  369.        ,  142.725     ,  239.636     ,\n",
       "        451.33333333])"
      ]
     },
     "execution_count": 71,
     "metadata": {},
     "output_type": "execute_result"
    }
   ],
   "source": [
    "y_pred"
   ]
  },
  {
   "cell_type": "code",
   "execution_count": 76,
   "id": "a8c48d48",
   "metadata": {},
   "outputs": [
    {
     "name": "stdout",
     "output_type": "stream",
     "text": [
      "RMSE: 146.9470826628099\n",
      "R²: 0.8804929591372773\n"
     ]
    }
   ],
   "source": [
    "# Calculer le RMSE\n",
    "rmse = mean_squared_error(y_test, y_pred, squared=False)\n",
    "print('RMSE:', rmse)\n",
    "\n",
    "# Calculer le R²\n",
    "r2 = r2_score(y_test, y_pred)\n",
    "print('R²:', r2)"
   ]
  },
  {
   "cell_type": "code",
   "execution_count": null,
   "id": "235220ce",
   "metadata": {},
   "outputs": [],
   "source": []
  }
 ],
 "metadata": {
  "kernelspec": {
   "display_name": "Python 3 (ipykernel)",
   "language": "python",
   "name": "python3"
  },
  "language_info": {
   "codemirror_mode": {
    "name": "ipython",
    "version": 3
   },
   "file_extension": ".py",
   "mimetype": "text/x-python",
   "name": "python",
   "nbconvert_exporter": "python",
   "pygments_lexer": "ipython3",
   "version": "3.10.5"
  }
 },
 "nbformat": 4,
 "nbformat_minor": 5
}
