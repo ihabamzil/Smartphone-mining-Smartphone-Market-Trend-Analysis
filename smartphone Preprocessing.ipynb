{
 "cells": [
  {
   "cell_type": "markdown",
   "id": "b322fef4",
   "metadata": {},
   "source": [
    "# Data Preprocessing :"
   ]
  },
  {
   "cell_type": "code",
   "execution_count": 93,
   "id": "1c175920",
   "metadata": {},
   "outputs": [],
   "source": [
    "# Import libraries\n",
    "import pandas as pd\n",
    "import numpy as np\n",
    "import matplotlib.pyplot as plt\n",
    "import datetime as dt\n",
    "import seaborn as sns \n",
    "import missingno as msno \n",
    "import plotly.express as px"
   ]
  },
  {
   "cell_type": "code",
   "execution_count": 94,
   "id": "67134bb6",
   "metadata": {
    "scrolled": true
   },
   "outputs": [
    {
     "data": {
      "text/html": [
       "<div>\n",
       "<style scoped>\n",
       "    .dataframe tbody tr th:only-of-type {\n",
       "        vertical-align: middle;\n",
       "    }\n",
       "\n",
       "    .dataframe tbody tr th {\n",
       "        vertical-align: top;\n",
       "    }\n",
       "\n",
       "    .dataframe thead th {\n",
       "        text-align: right;\n",
       "    }\n",
       "</style>\n",
       "<table border=\"1\" class=\"dataframe\">\n",
       "  <thead>\n",
       "    <tr style=\"text-align: right;\">\n",
       "      <th></th>\n",
       "      <th>Unnamed: 0</th>\n",
       "      <th>MODEL</th>\n",
       "      <th>couleur</th>\n",
       "      <th>os</th>\n",
       "      <th>CPU</th>\n",
       "      <th>Battery</th>\n",
       "      <th>Taille_ecran</th>\n",
       "      <th>Resolution_ecran</th>\n",
       "      <th>Réseau</th>\n",
       "      <th>Bluetooth</th>\n",
       "      <th>Stockage</th>\n",
       "      <th>RAM</th>\n",
       "      <th>nb_capteur_ph</th>\n",
       "      <th>camera</th>\n",
       "      <th>Selfie</th>\n",
       "      <th>Price</th>\n",
       "    </tr>\n",
       "  </thead>\n",
       "  <tbody>\n",
       "    <tr>\n",
       "      <th>0</th>\n",
       "      <td>0</td>\n",
       "      <td>Samsung Galaxy S22\\n\\t\\t\\t</td>\n",
       "      <td>Noir\\n\\t\\t\\t</td>\n",
       "      <td>Android 12\\n\\t\\t\\t</td>\n",
       "      <td>Exynos 2200\\n\\t\\t\\t</td>\n",
       "      <td>3700 mAh\\n\\t\\t\\t</td>\n",
       "      <td>6,1\" soit 15,5 cm\\n\\t\\t\\t</td>\n",
       "      <td>2340 x 1080 pixels\\n\\t\\t\\t</td>\n",
       "      <td>5G\\n\\t\\t\\t</td>\n",
       "      <td>5\\n\\t\\t\\t</td>\n",
       "      <td>128 Go\\n\\t\\t\\t</td>\n",
       "      <td>8 Go\\n\\t\\t\\t</td>\n",
       "      <td>3.0</td>\n",
       "      <td>50 mégapixels+ 12 mégapixels+ 10 mégapixels\\n...</td>\n",
       "      <td>10 mégapixels\\n\\t\\t\\t</td>\n",
       "      <td>\\n      749,00€\\n</td>\n",
       "    </tr>\n",
       "    <tr>\n",
       "      <th>1</th>\n",
       "      <td>1</td>\n",
       "      <td>XIAOMI Redmi Note 10 Pro\\n\\t\\t\\t</td>\n",
       "      <td>Gris\\n\\t\\t\\t</td>\n",
       "      <td>Android 10\\n\\t\\t\\t</td>\n",
       "      <td>8 coeurs jusqu'à 2,3 GHz\\n\\t\\t\\t</td>\n",
       "      <td>5020 mAh\\n\\t\\t\\t</td>\n",
       "      <td>6,6\" soit 16,8 cm\\n\\t\\t\\t</td>\n",
       "      <td>2340 x 1080 pixels\\n\\t\\t\\t</td>\n",
       "      <td>4G\\n\\t\\t\\t</td>\n",
       "      <td>5\\n\\t\\t\\t</td>\n",
       "      <td>128 Go\\n\\t\\t\\t</td>\n",
       "      <td>6 Go\\n\\t\\t\\t</td>\n",
       "      <td>4.0</td>\n",
       "      <td>108 mégapixels + 8 mégapixels + 5 mégapixels ...</td>\n",
       "      <td>16 mégapixels\\n\\t\\t\\t</td>\n",
       "      <td>\\n      249,00€\\n</td>\n",
       "    </tr>\n",
       "    <tr>\n",
       "      <th>2</th>\n",
       "      <td>2</td>\n",
       "      <td>OPPO Reno 8 Lite\\n\\t\\t\\t</td>\n",
       "      <td>Noir\\n\\t\\t\\t</td>\n",
       "      <td>Android 11\\n\\t\\t\\t</td>\n",
       "      <td>8 coeurs jusqu'à 2,2 GHz\\n\\t\\t\\t</td>\n",
       "      <td>4500 mAh\\n\\t\\t\\t</td>\n",
       "      <td>6,4\" soit 16,3 cm\\n\\t\\t\\t</td>\n",
       "      <td>2400 x 1080 pixels\\n\\t\\t\\t</td>\n",
       "      <td>5G\\n\\t\\t\\t</td>\n",
       "      <td>5.1\\n\\t\\t\\t</td>\n",
       "      <td>128 Go\\n\\t\\t\\t</td>\n",
       "      <td>8 Go\\n\\t\\t\\t</td>\n",
       "      <td>3.0</td>\n",
       "      <td>64 mégapixels+ 2 mégapixels+ 2 mégapixels\\n\\t...</td>\n",
       "      <td>16 mégapixels\\n\\t\\t\\t</td>\n",
       "      <td>\\n      419,00€\\n</td>\n",
       "    </tr>\n",
       "    <tr>\n",
       "      <th>3</th>\n",
       "      <td>3</td>\n",
       "      <td>OPPO A77\\n\\t\\t\\t</td>\n",
       "      <td>Noir\\n\\t\\t\\t</td>\n",
       "      <td>Android 12\\n\\t\\t\\t</td>\n",
       "      <td>8 coeurs jusqu'à 2,4 GHz\\n\\t\\t\\t</td>\n",
       "      <td>5000 mAh\\n\\t\\t\\t</td>\n",
       "      <td>6,5\" soit 16,5 cm\\n\\t\\t\\t</td>\n",
       "      <td>1600 x 720 pixels\\n\\t\\t\\t</td>\n",
       "      <td>5G\\n\\t\\t\\t</td>\n",
       "      <td>5.2\\n\\t\\t\\t</td>\n",
       "      <td>64 Go\\n\\t\\t\\t</td>\n",
       "      <td>4 Go\\n\\t\\t\\t</td>\n",
       "      <td>3.0</td>\n",
       "      <td>48 mégapixels+ 8 mégapixels+ 2 mégapixels\\n\\t...</td>\n",
       "      <td>8 mégapixels\\n\\t\\t\\t</td>\n",
       "      <td>\\n      299,00€\\n</td>\n",
       "    </tr>\n",
       "    <tr>\n",
       "      <th>4</th>\n",
       "      <td>4</td>\n",
       "      <td>Honor X7A\\n\\t\\t\\t</td>\n",
       "      <td>Noir\\n\\t\\t\\t</td>\n",
       "      <td>Android S + Magic UI 6.1\\n\\t\\t\\t</td>\n",
       "      <td>8 coeurs jusqu'à 2,3 GHz\\n\\t\\t\\t</td>\n",
       "      <td>5330 mAh\\n\\t\\t\\t</td>\n",
       "      <td>6,7\" soit 17 cm\\n\\t\\t\\t</td>\n",
       "      <td>1600 x 720 pixels\\n\\t\\t\\t</td>\n",
       "      <td>4G\\n\\t\\t\\t</td>\n",
       "      <td>5.1\\n\\t\\t\\t</td>\n",
       "      <td>128 Go\\n\\t\\t\\t</td>\n",
       "      <td>4 Go\\n\\t\\t\\t</td>\n",
       "      <td>4.0</td>\n",
       "      <td>50 mégapixels+ 5 mégapixels + 2 mégapixels+ 2...</td>\n",
       "      <td>8 mégapixels\\n\\t\\t\\t</td>\n",
       "      <td>\\n      229,00€\\n</td>\n",
       "    </tr>\n",
       "  </tbody>\n",
       "</table>\n",
       "</div>"
      ],
      "text/plain": [
       "   Unnamed: 0                              MODEL        couleur  \\\n",
       "0           0         Samsung Galaxy S22\\n\\t\\t\\t   Noir\\n\\t\\t\\t   \n",
       "1           1   XIAOMI Redmi Note 10 Pro\\n\\t\\t\\t   Gris\\n\\t\\t\\t   \n",
       "2           2           OPPO Reno 8 Lite\\n\\t\\t\\t   Noir\\n\\t\\t\\t   \n",
       "3           3                   OPPO A77\\n\\t\\t\\t   Noir\\n\\t\\t\\t   \n",
       "4           4                  Honor X7A\\n\\t\\t\\t   Noir\\n\\t\\t\\t   \n",
       "\n",
       "                                  os                                CPU  \\\n",
       "0                 Android 12\\n\\t\\t\\t                Exynos 2200\\n\\t\\t\\t   \n",
       "1                 Android 10\\n\\t\\t\\t   8 coeurs jusqu'à 2,3 GHz\\n\\t\\t\\t   \n",
       "2                 Android 11\\n\\t\\t\\t   8 coeurs jusqu'à 2,2 GHz\\n\\t\\t\\t   \n",
       "3                 Android 12\\n\\t\\t\\t   8 coeurs jusqu'à 2,4 GHz\\n\\t\\t\\t   \n",
       "4   Android S + Magic UI 6.1\\n\\t\\t\\t   8 coeurs jusqu'à 2,3 GHz\\n\\t\\t\\t   \n",
       "\n",
       "             Battery                Taille_ecran             Resolution_ecran  \\\n",
       "0   3700 mAh\\n\\t\\t\\t   6,1\" soit 15,5 cm\\n\\t\\t\\t   2340 x 1080 pixels\\n\\t\\t\\t   \n",
       "1   5020 mAh\\n\\t\\t\\t   6,6\" soit 16,8 cm\\n\\t\\t\\t   2340 x 1080 pixels\\n\\t\\t\\t   \n",
       "2   4500 mAh\\n\\t\\t\\t   6,4\" soit 16,3 cm\\n\\t\\t\\t   2400 x 1080 pixels\\n\\t\\t\\t   \n",
       "3   5000 mAh\\n\\t\\t\\t   6,5\" soit 16,5 cm\\n\\t\\t\\t    1600 x 720 pixels\\n\\t\\t\\t   \n",
       "4   5330 mAh\\n\\t\\t\\t     6,7\" soit 17 cm\\n\\t\\t\\t    1600 x 720 pixels\\n\\t\\t\\t   \n",
       "\n",
       "        Réseau     Bluetooth         Stockage            RAM  nb_capteur_ph  \\\n",
       "0   5G\\n\\t\\t\\t     5\\n\\t\\t\\t   128 Go\\n\\t\\t\\t   8 Go\\n\\t\\t\\t            3.0   \n",
       "1   4G\\n\\t\\t\\t     5\\n\\t\\t\\t   128 Go\\n\\t\\t\\t   6 Go\\n\\t\\t\\t            4.0   \n",
       "2   5G\\n\\t\\t\\t   5.1\\n\\t\\t\\t   128 Go\\n\\t\\t\\t   8 Go\\n\\t\\t\\t            3.0   \n",
       "3   5G\\n\\t\\t\\t   5.2\\n\\t\\t\\t    64 Go\\n\\t\\t\\t   4 Go\\n\\t\\t\\t            3.0   \n",
       "4   4G\\n\\t\\t\\t   5.1\\n\\t\\t\\t   128 Go\\n\\t\\t\\t   4 Go\\n\\t\\t\\t            4.0   \n",
       "\n",
       "                                              camera                  Selfie  \\\n",
       "0   50 mégapixels+ 12 mégapixels+ 10 mégapixels\\n...   10 mégapixels\\n\\t\\t\\t   \n",
       "1   108 mégapixels + 8 mégapixels + 5 mégapixels ...   16 mégapixels\\n\\t\\t\\t   \n",
       "2   64 mégapixels+ 2 mégapixels+ 2 mégapixels\\n\\t...   16 mégapixels\\n\\t\\t\\t   \n",
       "3   48 mégapixels+ 8 mégapixels+ 2 mégapixels\\n\\t...    8 mégapixels\\n\\t\\t\\t   \n",
       "4   50 mégapixels+ 5 mégapixels + 2 mégapixels+ 2...    8 mégapixels\\n\\t\\t\\t   \n",
       "\n",
       "                   Price  \n",
       "0  \\n      749,00€\\n      \n",
       "1  \\n      249,00€\\n      \n",
       "2  \\n      419,00€\\n      \n",
       "3  \\n      299,00€\\n      \n",
       "4  \\n      229,00€\\n      "
      ]
     },
     "execution_count": 94,
     "metadata": {},
     "output_type": "execute_result"
    }
   ],
   "source": [
    "df = pd.read_csv(\"C:/Users/asus/OneDrive/Bureau/projet data mining/projet final/smartphone\")\n",
    "df.head()"
   ]
  },
  {
   "cell_type": "code",
   "execution_count": 95,
   "id": "7aa5109d",
   "metadata": {},
   "outputs": [
    {
     "data": {
      "text/html": [
       "<div>\n",
       "<style scoped>\n",
       "    .dataframe tbody tr th:only-of-type {\n",
       "        vertical-align: middle;\n",
       "    }\n",
       "\n",
       "    .dataframe tbody tr th {\n",
       "        vertical-align: top;\n",
       "    }\n",
       "\n",
       "    .dataframe thead th {\n",
       "        text-align: right;\n",
       "    }\n",
       "</style>\n",
       "<table border=\"1\" class=\"dataframe\">\n",
       "  <thead>\n",
       "    <tr style=\"text-align: right;\">\n",
       "      <th></th>\n",
       "      <th>Unnamed: 0</th>\n",
       "      <th>MODEL</th>\n",
       "      <th>couleur</th>\n",
       "      <th>os</th>\n",
       "      <th>CPU</th>\n",
       "      <th>Battery</th>\n",
       "      <th>Taille_ecran</th>\n",
       "      <th>Resolution_ecran</th>\n",
       "      <th>Réseau</th>\n",
       "      <th>Bluetooth</th>\n",
       "      <th>Stockage</th>\n",
       "      <th>RAM</th>\n",
       "      <th>nb_capteur_ph</th>\n",
       "      <th>camera</th>\n",
       "      <th>Selfie</th>\n",
       "      <th>Price</th>\n",
       "    </tr>\n",
       "  </thead>\n",
       "  <tbody>\n",
       "    <tr>\n",
       "      <th>0</th>\n",
       "      <td>0</td>\n",
       "      <td>Samsung Galaxy S22</td>\n",
       "      <td>Noir</td>\n",
       "      <td>Android 12</td>\n",
       "      <td>Exynos 2200</td>\n",
       "      <td>3700 mAh</td>\n",
       "      <td>6,1\" soit 15,5 cm</td>\n",
       "      <td>2340 x 1080 pixels</td>\n",
       "      <td>5G</td>\n",
       "      <td>5</td>\n",
       "      <td>128 Go</td>\n",
       "      <td>8 Go</td>\n",
       "      <td>3.0</td>\n",
       "      <td>50 mégapixels+ 12 mégapixels+ 10 mégapixels</td>\n",
       "      <td>10 mégapixels</td>\n",
       "      <td>749,00€</td>\n",
       "    </tr>\n",
       "    <tr>\n",
       "      <th>1</th>\n",
       "      <td>1</td>\n",
       "      <td>XIAOMI Redmi Note 10 Pro</td>\n",
       "      <td>Gris</td>\n",
       "      <td>Android 10</td>\n",
       "      <td>8 coeurs jusqu'à 2,3 GHz</td>\n",
       "      <td>5020 mAh</td>\n",
       "      <td>6,6\" soit 16,8 cm</td>\n",
       "      <td>2340 x 1080 pixels</td>\n",
       "      <td>4G</td>\n",
       "      <td>5</td>\n",
       "      <td>128 Go</td>\n",
       "      <td>6 Go</td>\n",
       "      <td>4.0</td>\n",
       "      <td>108 mégapixels + 8 mégapixels + 5 mégapixels ...</td>\n",
       "      <td>16 mégapixels</td>\n",
       "      <td>249,00€</td>\n",
       "    </tr>\n",
       "    <tr>\n",
       "      <th>2</th>\n",
       "      <td>2</td>\n",
       "      <td>OPPO Reno 8 Lite</td>\n",
       "      <td>Noir</td>\n",
       "      <td>Android 11</td>\n",
       "      <td>8 coeurs jusqu'à 2,2 GHz</td>\n",
       "      <td>4500 mAh</td>\n",
       "      <td>6,4\" soit 16,3 cm</td>\n",
       "      <td>2400 x 1080 pixels</td>\n",
       "      <td>5G</td>\n",
       "      <td>5.1</td>\n",
       "      <td>128 Go</td>\n",
       "      <td>8 Go</td>\n",
       "      <td>3.0</td>\n",
       "      <td>64 mégapixels+ 2 mégapixels+ 2 mégapixels</td>\n",
       "      <td>16 mégapixels</td>\n",
       "      <td>419,00€</td>\n",
       "    </tr>\n",
       "    <tr>\n",
       "      <th>3</th>\n",
       "      <td>3</td>\n",
       "      <td>OPPO A77</td>\n",
       "      <td>Noir</td>\n",
       "      <td>Android 12</td>\n",
       "      <td>8 coeurs jusqu'à 2,4 GHz</td>\n",
       "      <td>5000 mAh</td>\n",
       "      <td>6,5\" soit 16,5 cm</td>\n",
       "      <td>1600 x 720 pixels</td>\n",
       "      <td>5G</td>\n",
       "      <td>5.2</td>\n",
       "      <td>64 Go</td>\n",
       "      <td>4 Go</td>\n",
       "      <td>3.0</td>\n",
       "      <td>48 mégapixels+ 8 mégapixels+ 2 mégapixels</td>\n",
       "      <td>8 mégapixels</td>\n",
       "      <td>299,00€</td>\n",
       "    </tr>\n",
       "    <tr>\n",
       "      <th>4</th>\n",
       "      <td>4</td>\n",
       "      <td>Honor X7A</td>\n",
       "      <td>Noir</td>\n",
       "      <td>Android S + Magic UI 6.1</td>\n",
       "      <td>8 coeurs jusqu'à 2,3 GHz</td>\n",
       "      <td>5330 mAh</td>\n",
       "      <td>6,7\" soit 17 cm</td>\n",
       "      <td>1600 x 720 pixels</td>\n",
       "      <td>4G</td>\n",
       "      <td>5.1</td>\n",
       "      <td>128 Go</td>\n",
       "      <td>4 Go</td>\n",
       "      <td>4.0</td>\n",
       "      <td>50 mégapixels+ 5 mégapixels + 2 mégapixels+ 2...</td>\n",
       "      <td>8 mégapixels</td>\n",
       "      <td>229,00€</td>\n",
       "    </tr>\n",
       "  </tbody>\n",
       "</table>\n",
       "</div>"
      ],
      "text/plain": [
       "   Unnamed: 0                       MODEL couleur                          os  \\\n",
       "0           0         Samsung Galaxy S22    Noir                  Android 12    \n",
       "1           1   XIAOMI Redmi Note 10 Pro    Gris                  Android 10    \n",
       "2           2           OPPO Reno 8 Lite    Noir                  Android 11    \n",
       "3           3                   OPPO A77    Noir                  Android 12    \n",
       "4           4                  Honor X7A    Noir    Android S + Magic UI 6.1    \n",
       "\n",
       "                          CPU     Battery         Taille_ecran  \\\n",
       "0                Exynos 2200    3700 mAh    6,1\" soit 15,5 cm    \n",
       "1   8 coeurs jusqu'à 2,3 GHz    5020 mAh    6,6\" soit 16,8 cm    \n",
       "2   8 coeurs jusqu'à 2,2 GHz    4500 mAh    6,4\" soit 16,3 cm    \n",
       "3   8 coeurs jusqu'à 2,4 GHz    5000 mAh    6,5\" soit 16,5 cm    \n",
       "4   8 coeurs jusqu'à 2,3 GHz    5330 mAh      6,7\" soit 17 cm    \n",
       "\n",
       "       Resolution_ecran Réseau Bluetooth  Stockage     RAM  nb_capteur_ph  \\\n",
       "0   2340 x 1080 pixels     5G         5    128 Go    8 Go             3.0   \n",
       "1   2340 x 1080 pixels     4G         5    128 Go    6 Go             4.0   \n",
       "2   2400 x 1080 pixels     5G       5.1    128 Go    8 Go             3.0   \n",
       "3    1600 x 720 pixels     5G       5.2     64 Go    4 Go             3.0   \n",
       "4    1600 x 720 pixels     4G       5.1    128 Go    4 Go             4.0   \n",
       "\n",
       "                                              camera           Selfie  \\\n",
       "0       50 mégapixels+ 12 mégapixels+ 10 mégapixels    10 mégapixels    \n",
       "1   108 mégapixels + 8 mégapixels + 5 mégapixels ...   16 mégapixels    \n",
       "2         64 mégapixels+ 2 mégapixels+ 2 mégapixels    16 mégapixels    \n",
       "3         48 mégapixels+ 8 mégapixels+ 2 mégapixels     8 mégapixels    \n",
       "4   50 mégapixels+ 5 mégapixels + 2 mégapixels+ 2...    8 mégapixels    \n",
       "\n",
       "                 Price  \n",
       "0         749,00€       \n",
       "1         249,00€       \n",
       "2         419,00€       \n",
       "3         299,00€       \n",
       "4         229,00€       "
      ]
     },
     "execution_count": 95,
     "metadata": {},
     "output_type": "execute_result"
    }
   ],
   "source": [
    "#Remplacer /n/t par des espaces\n",
    "for i in range(1,16):\n",
    "    if i == 12:\n",
    "        continue\n",
    "    df.iloc[:,i] = df.iloc[:,i].str.replace(\"\\n\\t\\t\\t\",\" \")\n",
    "df.iloc[:,15] = df.iloc[:,15].str.replace(\"\\n\",\" \")\n",
    "df.head()"
   ]
  },
  {
   "cell_type": "code",
   "execution_count": 96,
   "id": "0f21507e",
   "metadata": {},
   "outputs": [
    {
     "data": {
      "text/plain": [
       "Unnamed: 0            int64\n",
       "MODEL                object\n",
       "couleur              object\n",
       "os                   object\n",
       "CPU                  object\n",
       "Battery              object\n",
       "Taille_ecran         object\n",
       "Resolution_ecran     object\n",
       "Réseau               object\n",
       "Bluetooth            object\n",
       "Stockage             object\n",
       "RAM                  object\n",
       "nb_capteur_ph       float64\n",
       "camera               object\n",
       "Selfie               object\n",
       "Price                object\n",
       "dtype: object"
      ]
     },
     "execution_count": 96,
     "metadata": {},
     "output_type": "execute_result"
    }
   ],
   "source": [
    "df.dtypes"
   ]
  },
  {
   "cell_type": "code",
   "execution_count": 97,
   "id": "58a629b5",
   "metadata": {},
   "outputs": [
    {
     "name": "stdout",
     "output_type": "stream",
     "text": [
      "<class 'pandas.core.frame.DataFrame'>\n",
      "RangeIndex: 811 entries, 0 to 810\n",
      "Data columns (total 16 columns):\n",
      " #   Column            Non-Null Count  Dtype  \n",
      "---  ------            --------------  -----  \n",
      " 0   Unnamed: 0        811 non-null    int64  \n",
      " 1   MODEL             811 non-null    object \n",
      " 2   couleur           811 non-null    object \n",
      " 3   os                811 non-null    object \n",
      " 4   CPU               811 non-null    object \n",
      " 5   Battery           809 non-null    object \n",
      " 6   Taille_ecran      811 non-null    object \n",
      " 7   Resolution_ecran  811 non-null    object \n",
      " 8   Réseau            811 non-null    object \n",
      " 9   Bluetooth         811 non-null    object \n",
      " 10  Stockage          811 non-null    object \n",
      " 11  RAM               811 non-null    object \n",
      " 12  nb_capteur_ph     581 non-null    float64\n",
      " 13  camera            581 non-null    object \n",
      " 14  Selfie            580 non-null    object \n",
      " 15  Price             811 non-null    object \n",
      "dtypes: float64(1), int64(1), object(14)\n",
      "memory usage: 101.5+ KB\n"
     ]
    }
   ],
   "source": [
    "df.info()"
   ]
  },
  {
   "cell_type": "code",
   "execution_count": 98,
   "id": "cb7ab1ba",
   "metadata": {},
   "outputs": [
    {
     "data": {
      "text/plain": [
       "Unnamed: 0            0\n",
       "MODEL                 0\n",
       "couleur               0\n",
       "os                    0\n",
       "CPU                   0\n",
       "Battery               2\n",
       "Taille_ecran          0\n",
       "Resolution_ecran      0\n",
       "Réseau                0\n",
       "Bluetooth             0\n",
       "Stockage              0\n",
       "RAM                   0\n",
       "nb_capteur_ph       230\n",
       "camera              230\n",
       "Selfie              231\n",
       "Price                 0\n",
       "dtype: int64"
      ]
     },
     "execution_count": 98,
     "metadata": {},
     "output_type": "execute_result"
    }
   ],
   "source": [
    "# Print number of missing values\n",
    "df.isna().sum()"
   ]
  },
  {
   "cell_type": "markdown",
   "id": "4576cd97",
   "metadata": {},
   "source": [
    "#### On va procéder colonne par colonne."
   ]
  },
  {
   "cell_type": "code",
   "execution_count": 99,
   "id": "4e205682",
   "metadata": {},
   "outputs": [],
   "source": [
    "df = df.drop(\"Unnamed: 0\",axis=1)"
   ]
  },
  {
   "cell_type": "markdown",
   "id": "db8e1d37",
   "metadata": {},
   "source": [
    "### colonne 1: Marque et Model "
   ]
  },
  {
   "cell_type": "code",
   "execution_count": 100,
   "id": "ab079aff",
   "metadata": {},
   "outputs": [],
   "source": [
    "L = df['MODEL'].str.split(\" \",n=2,expand =True)\n",
    "Marque = L[1]\n",
    "Model = L[2]\n",
    "df.insert(0, 'Marque', Marque)\n",
    "df.insert(1, 'Model', Model)"
   ]
  },
  {
   "cell_type": "code",
   "execution_count": 101,
   "id": "4f2cc26c",
   "metadata": {},
   "outputs": [
    {
     "data": {
      "text/html": [
       "<div>\n",
       "<style scoped>\n",
       "    .dataframe tbody tr th:only-of-type {\n",
       "        vertical-align: middle;\n",
       "    }\n",
       "\n",
       "    .dataframe tbody tr th {\n",
       "        vertical-align: top;\n",
       "    }\n",
       "\n",
       "    .dataframe thead th {\n",
       "        text-align: right;\n",
       "    }\n",
       "</style>\n",
       "<table border=\"1\" class=\"dataframe\">\n",
       "  <thead>\n",
       "    <tr style=\"text-align: right;\">\n",
       "      <th></th>\n",
       "      <th>Marque</th>\n",
       "      <th>Model</th>\n",
       "      <th>couleur</th>\n",
       "      <th>os</th>\n",
       "      <th>CPU</th>\n",
       "      <th>Battery</th>\n",
       "      <th>Taille_ecran</th>\n",
       "      <th>Resolution_ecran</th>\n",
       "      <th>Réseau</th>\n",
       "      <th>Bluetooth</th>\n",
       "      <th>Stockage</th>\n",
       "      <th>RAM</th>\n",
       "      <th>nb_capteur_ph</th>\n",
       "      <th>camera</th>\n",
       "      <th>Selfie</th>\n",
       "      <th>Price</th>\n",
       "    </tr>\n",
       "  </thead>\n",
       "  <tbody>\n",
       "    <tr>\n",
       "      <th>0</th>\n",
       "      <td>Samsung</td>\n",
       "      <td>Galaxy S22</td>\n",
       "      <td>Noir</td>\n",
       "      <td>Android 12</td>\n",
       "      <td>Exynos 2200</td>\n",
       "      <td>3700 mAh</td>\n",
       "      <td>6,1\" soit 15,5 cm</td>\n",
       "      <td>2340 x 1080 pixels</td>\n",
       "      <td>5G</td>\n",
       "      <td>5</td>\n",
       "      <td>128 Go</td>\n",
       "      <td>8 Go</td>\n",
       "      <td>3.0</td>\n",
       "      <td>50 mégapixels+ 12 mégapixels+ 10 mégapixels</td>\n",
       "      <td>10 mégapixels</td>\n",
       "      <td>749,00€</td>\n",
       "    </tr>\n",
       "    <tr>\n",
       "      <th>1</th>\n",
       "      <td>XIAOMI</td>\n",
       "      <td>Redmi Note 10 Pro</td>\n",
       "      <td>Gris</td>\n",
       "      <td>Android 10</td>\n",
       "      <td>8 coeurs jusqu'à 2,3 GHz</td>\n",
       "      <td>5020 mAh</td>\n",
       "      <td>6,6\" soit 16,8 cm</td>\n",
       "      <td>2340 x 1080 pixels</td>\n",
       "      <td>4G</td>\n",
       "      <td>5</td>\n",
       "      <td>128 Go</td>\n",
       "      <td>6 Go</td>\n",
       "      <td>4.0</td>\n",
       "      <td>108 mégapixels + 8 mégapixels + 5 mégapixels ...</td>\n",
       "      <td>16 mégapixels</td>\n",
       "      <td>249,00€</td>\n",
       "    </tr>\n",
       "    <tr>\n",
       "      <th>2</th>\n",
       "      <td>OPPO</td>\n",
       "      <td>Reno 8 Lite</td>\n",
       "      <td>Noir</td>\n",
       "      <td>Android 11</td>\n",
       "      <td>8 coeurs jusqu'à 2,2 GHz</td>\n",
       "      <td>4500 mAh</td>\n",
       "      <td>6,4\" soit 16,3 cm</td>\n",
       "      <td>2400 x 1080 pixels</td>\n",
       "      <td>5G</td>\n",
       "      <td>5.1</td>\n",
       "      <td>128 Go</td>\n",
       "      <td>8 Go</td>\n",
       "      <td>3.0</td>\n",
       "      <td>64 mégapixels+ 2 mégapixels+ 2 mégapixels</td>\n",
       "      <td>16 mégapixels</td>\n",
       "      <td>419,00€</td>\n",
       "    </tr>\n",
       "    <tr>\n",
       "      <th>3</th>\n",
       "      <td>OPPO</td>\n",
       "      <td>A77</td>\n",
       "      <td>Noir</td>\n",
       "      <td>Android 12</td>\n",
       "      <td>8 coeurs jusqu'à 2,4 GHz</td>\n",
       "      <td>5000 mAh</td>\n",
       "      <td>6,5\" soit 16,5 cm</td>\n",
       "      <td>1600 x 720 pixels</td>\n",
       "      <td>5G</td>\n",
       "      <td>5.2</td>\n",
       "      <td>64 Go</td>\n",
       "      <td>4 Go</td>\n",
       "      <td>3.0</td>\n",
       "      <td>48 mégapixels+ 8 mégapixels+ 2 mégapixels</td>\n",
       "      <td>8 mégapixels</td>\n",
       "      <td>299,00€</td>\n",
       "    </tr>\n",
       "    <tr>\n",
       "      <th>4</th>\n",
       "      <td>Honor</td>\n",
       "      <td>X7A</td>\n",
       "      <td>Noir</td>\n",
       "      <td>Android S + Magic UI 6.1</td>\n",
       "      <td>8 coeurs jusqu'à 2,3 GHz</td>\n",
       "      <td>5330 mAh</td>\n",
       "      <td>6,7\" soit 17 cm</td>\n",
       "      <td>1600 x 720 pixels</td>\n",
       "      <td>4G</td>\n",
       "      <td>5.1</td>\n",
       "      <td>128 Go</td>\n",
       "      <td>4 Go</td>\n",
       "      <td>4.0</td>\n",
       "      <td>50 mégapixels+ 5 mégapixels + 2 mégapixels+ 2...</td>\n",
       "      <td>8 mégapixels</td>\n",
       "      <td>229,00€</td>\n",
       "    </tr>\n",
       "  </tbody>\n",
       "</table>\n",
       "</div>"
      ],
      "text/plain": [
       "    Marque               Model couleur                          os  \\\n",
       "0  Samsung         Galaxy S22    Noir                  Android 12    \n",
       "1   XIAOMI  Redmi Note 10 Pro    Gris                  Android 10    \n",
       "2     OPPO        Reno 8 Lite    Noir                  Android 11    \n",
       "3     OPPO                A77    Noir                  Android 12    \n",
       "4    Honor                X7A    Noir    Android S + Magic UI 6.1    \n",
       "\n",
       "                          CPU     Battery         Taille_ecran  \\\n",
       "0                Exynos 2200    3700 mAh    6,1\" soit 15,5 cm    \n",
       "1   8 coeurs jusqu'à 2,3 GHz    5020 mAh    6,6\" soit 16,8 cm    \n",
       "2   8 coeurs jusqu'à 2,2 GHz    4500 mAh    6,4\" soit 16,3 cm    \n",
       "3   8 coeurs jusqu'à 2,4 GHz    5000 mAh    6,5\" soit 16,5 cm    \n",
       "4   8 coeurs jusqu'à 2,3 GHz    5330 mAh      6,7\" soit 17 cm    \n",
       "\n",
       "       Resolution_ecran Réseau Bluetooth  Stockage     RAM  nb_capteur_ph  \\\n",
       "0   2340 x 1080 pixels     5G         5    128 Go    8 Go             3.0   \n",
       "1   2340 x 1080 pixels     4G         5    128 Go    6 Go             4.0   \n",
       "2   2400 x 1080 pixels     5G       5.1    128 Go    8 Go             3.0   \n",
       "3    1600 x 720 pixels     5G       5.2     64 Go    4 Go             3.0   \n",
       "4    1600 x 720 pixels     4G       5.1    128 Go    4 Go             4.0   \n",
       "\n",
       "                                              camera           Selfie  \\\n",
       "0       50 mégapixels+ 12 mégapixels+ 10 mégapixels    10 mégapixels    \n",
       "1   108 mégapixels + 8 mégapixels + 5 mégapixels ...   16 mégapixels    \n",
       "2         64 mégapixels+ 2 mégapixels+ 2 mégapixels    16 mégapixels    \n",
       "3         48 mégapixels+ 8 mégapixels+ 2 mégapixels     8 mégapixels    \n",
       "4   50 mégapixels+ 5 mégapixels + 2 mégapixels+ 2...    8 mégapixels    \n",
       "\n",
       "                 Price  \n",
       "0         749,00€       \n",
       "1         249,00€       \n",
       "2         419,00€       \n",
       "3         299,00€       \n",
       "4         229,00€       "
      ]
     },
     "execution_count": 101,
     "metadata": {},
     "output_type": "execute_result"
    }
   ],
   "source": [
    "df.drop(\"MODEL\",axis=1,inplace =True)\n",
    "df.head()"
   ]
  },
  {
   "cell_type": "code",
   "execution_count": 102,
   "id": "2e825aea",
   "metadata": {},
   "outputs": [
    {
     "data": {
      "text/plain": [
       "array(['Samsung', 'XIAOMI', 'OPPO', 'Honor', 'Motorola', 'VIVO', 'Xiaomi',\n",
       "       'Crosscall', 'iPhone', 'Google', 'Nothing', 'HONOR', 'Sony',\n",
       "       'OnePlus', 'ASUS', 'Realme', 'DORO', 'FAIRPHONE', 'MOTOROLA',\n",
       "       'TCL', 'MOBIHO', 'CATERPILAR', 'HUAWEI', 'ORDISSIMO', 'ARCHOS',\n",
       "       'BlackBerry', 'Noir', 'SAMSUNG', 'SONY', 'FACOM', 'Huawei', 'Bleu',\n",
       "       'HTC'], dtype=object)"
      ]
     },
     "execution_count": 102,
     "metadata": {},
     "output_type": "execute_result"
    }
   ],
   "source": [
    "df[\"Marque\"].unique()"
   ]
  },
  {
   "cell_type": "code",
   "execution_count": 103,
   "id": "018eee6d",
   "metadata": {},
   "outputs": [
    {
     "data": {
      "text/plain": [
       "array(['SAMSUNG', 'XIAOMI', 'OPPO', 'HONOR', 'MOTOROLA', 'VIVO',\n",
       "       'CROSSCALL', 'IPHONE', 'GOOGLE', 'SONY', 'ONEPLUS', 'ASUS',\n",
       "       'REALME', 'DORO', 'FAIRPHONE', 'TCL', 'MOBIHO', 'CATERPILAR',\n",
       "       'HUAWEI', 'ORDISSIMO', 'ARCHOS', 'BLACKBERRY', 'FACOM', 'HTC'],\n",
       "      dtype=object)"
      ]
     },
     "execution_count": 103,
     "metadata": {},
     "output_type": "execute_result"
    }
   ],
   "source": [
    "#drop some missing values\n",
    "df = df.drop(df[df[\"Marque\"].isin([\"Nothing\",\"Noir\",\"Bleu\"])].index)\n",
    "df[\"Marque\"] = df[\"Marque\"].str.upper()\n",
    "df[\"Marque\"].unique()"
   ]
  },
  {
   "cell_type": "code",
   "execution_count": 104,
   "id": "3cdf536f",
   "metadata": {},
   "outputs": [
    {
     "data": {
      "text/plain": [
       "array(['SAMSUNG', 'XIAOMI', 'OPPO', 'HONOR', 'MOTOROLA', 'VIVO',\n",
       "       'CROSSCALL', 'IPHONE', 'GOOGLE', 'SONY', 'ONEPLUS', 'ASUS',\n",
       "       'REALME', 'DORO', 'FAIRPHONE', 'TCL', 'MOBIHO', 'CATERPILAR',\n",
       "       'HUAWEI', 'ORDISSIMO', 'ARCHOS', 'BLACKBERRY', 'FACOM', 'HTC'],\n",
       "      dtype=object)"
      ]
     },
     "execution_count": 104,
     "metadata": {},
     "output_type": "execute_result"
    }
   ],
   "source": [
    "df[\"Marque\"].unique()"
   ]
  },
  {
   "cell_type": "code",
   "execution_count": 105,
   "id": "181a0517",
   "metadata": {},
   "outputs": [
    {
     "data": {
      "text/plain": [
       "array(['Galaxy S22 ', 'Redmi Note 10 Pro ', 'Reno 8 Lite ', 'A77 ',\n",
       "       'X7A ', '\\tE22i ', 'Y76 ', 'V23 ', '11 Lite ', '11T ', '12 ',\n",
       "       'Galaxy A53 ', 'Galaxy A13 ', 'Redmi Note 11 Pro ',\n",
       "       'Redmi Note 11S ', 'Galaxy A23 ', 'Redmi Note 11 ', 'E20 ',\n",
       "       'Redmi A1 ', 'XCOVER 5 ', 'A17 ', 'Core M5 ', '14 Pro Max ',\n",
       "       '14 Pro ', '14 ', '13 ', 'Pixel 7 Pro ', '14 Plus ', 'Pixel 7 ',\n",
       "       'Pixel 6a ', 'SE ', '13 Mini ', 'Magic5 Lite ', 'Reno 8 ',\n",
       "       '12T Pro ', 'Redmi 10 ', 'Redmi 10C ', 'Edge 30 Néo ', 'Y33s ',\n",
       "       'Galaxy S20 FE ', '12T ', 'A96 ', 'Xperia 1 IV ', 'Nord CE 2 ',\n",
       "       'Xperia 5 IV ', 'Y52 ', 'Zenfone 9 ', 'Find X5 ', 'Nord 2T ',\n",
       "       'A57 ', 'Y16 ', 'Redmi 10A ', 'Nord CE 2 Lite ', '8 Plus ',\n",
       "       'Moto G ', 'Y55 ', 'Find X5 Pro ', 'C30 ', 'C35 ', 'G22 ', '9i ',\n",
       "       '9 ', 'Y72 ', 'Xperia 10 IV ', 'Edge 30 ', 'GT2 ', '11T Pro ',\n",
       "       'GT Néo 3 ', 'Edge 30 pro ', 'GT2 Pro ', 'Reno 8 Pro ',\n",
       "       'Edge 30 Ultra ', '12 Pro ', 'ROG Phone 6 ', '11 ', '8100 Plus ',\n",
       "       'Galaxy Z Flip 3 ', 'Pixel 6 Pro ', 'A57S ', '70 ', 'Action-X5 ',\n",
       "       'E13 ', 'G13 ', 'G72 ', 'Core X5 ', '4 ', 'Core Z5 ',\n",
       "       'Find N2 Flip ', 'Razr ', 'Xperia Pro-l ', 'A94 ', 'Find X5 Lite ',\n",
       "       '12X ', 'Reno 6 Pro ', 'Redmi Note 10 ', 'Redmi 9AT ', 'Redmi 9A ',\n",
       "       'Redmi A1+ ', 'C21-Y ', 'C11 ', 'Poco C40 ', 'Redmi 9C ', '30 SE ',\n",
       "       'Le Smart initial ', '20 R ', 'Redmi 9 ', 'C31 ', 'Moto G31 ',\n",
       "       'Moto G41 ', '8050 ', 'Galaxy A03s ', 'X7 ', 'Galaxy A12 ',\n",
       "       'Redmi 9T ', 'Galaxy M13 ', 'Poco M4 Pro ', 'S42 H+ ',\n",
       "       'Galaxy M23 5G ', 'X8 5G ', 'A16 ', 'X8 ', 'Redmi Note 10S ',\n",
       "       'Edge 20 Lite 5G ', 'Narzo 50 ', 'Galaxy Xcover 5 ', 'Y21S ',\n",
       "       'Magic 4 Lite ', 'A76 ', 'Find X3 Lite ', 'A54 ', '8080 ',\n",
       "       'Galaxy A22 ', 'Galaxy A33 ', 'GT Master ', 'Reno 6 ', 'Nord 2 ',\n",
       "       'P10 LITE ', 'Le Numero 2 ', 'Poco X4 Pro ', 'Galaxy A32 ',\n",
       "       '9 Pro ', 'Poco X4 GT ', 'Galaxy A52S ', 'Galaxy M53 ', 'Core X4 ',\n",
       "       'Mi 11 Lite ', 'X Cover Pro ', '12 Lite ', 'Poco F4 ', '70 5G ',\n",
       "       'Oxygen 68 XL ', 'X50 Pro ', 'P40 ', 'Galaxy S20 ',\n",
       "       'Galaxy S21 FE ', 'P30 ', 'Galaxy S21 ', '7t ', 'Galaxy S20+ ',\n",
       "       'P50 Pro ', '10 Pro ', 'Galaxy S22 Ultra ', 'Galaxy S21 Ultra ',\n",
       "       'Galaxy S22+ ', 'Galaxy Z Fold 3 ', 'Xperia 1 III ',\n",
       "       'Galaxy Z Fold 4 ', '8100 ', '12 reconditionné ',\n",
       "       'SE reconditionné ', 'Galaxy S9 ', 'XR reconditionné ',\n",
       "       'X reconditionné ', '7 reconditionné ', '8 reconditionné ',\n",
       "       'Galaxy A51 ', 'Galaxy S10 ', 'Xs reconditionné ', '4S ', '9720 ',\n",
       "       '5S ', '5C ', 'Galaxy J3 Ed.2017 ', 'P8 Lite 2017 ',\n",
       "       'Galaxy J5 Ed. 2016 ', 'Y6 2018 ', 'X Cover 4 ',\n",
       "       'Galaxy A3 (2016) ', 'Galaxy J3 2016 ', 'Y5 ',\n",
       "       'Galaxy J5 Ed. 2017 ', '6 Plus ', 'Galaxy S7 ', 'Galaxy A6 ',\n",
       "       'Xperia XA2 ', 'Galaxy A02s ', 'Galaxy A20e ', 'Y6 2019 ',\n",
       "       'P smart 2019 ', 'Galaxy J6 ', 'G5S ', 'Galaxy A8 ', 'P20 Lite ',\n",
       "       'Redmi Note 8T ', 'Galaxy J7 Ed. 2016 ', 'Galaxy A7 ', '7 ',\n",
       "       'Galaxy A10 ', 'Galaxy A40 ', 'Y6P ', 'F400 ', 'Mate 20 Lite ',\n",
       "       'Galaxy S8 ', 'Redmi Note 8 Pro ', 'X Cover 4S ', 'E4 ',\n",
       "       'Galaxy A21s ', 'Galaxy A6+ ', 'Redmi Note 9 ',\n",
       "       '6 Plus et 6S Plus ', 'P10 ', 'P40 Lite E ', 'Galaxy S9+ ', '6S ',\n",
       "       'P30 Lite ', 'Poco F3 ', 'Call X3 ', 'Galaxy S8+ ',\n",
       "       'Galaxy S7 Edge ', 'Redmi Note 9 Pro ', 'Galaxy A41 ', 'A74 ',\n",
       "       'Galaxy A50 ', 'Galaxy S10E ', 'P40 Lite ', 'Galaxy Note 8 ',\n",
       "       'Galaxy A70 ', 'Mate 20 ', 'Redmi Note 8 ', 'U11 ', 'Galaxy A71 ',\n",
       "       'Galaxy A52 ', 'Mi 9 Lite ', 'Galaxy A42 ', '9 Lite ', 'Xr ',\n",
       "       'Galaxy Note 9 ', 'X ', 'P30 Pro ', 'Galaxy S10+ ',\n",
       "       'Galaxy Note 10 Lite ', 'Mi 11 i ', 'Mate 20 Pro ', 'P40 Pro ',\n",
       "       'Xperia 10 III ', 'Pixel 6 ', 'Redmi Note 11 Pro Plus ',\n",
       "       'Galaxy Note 10+ ', '12 Mini ', 'Galaxy A72 ', 'Galaxy S20 Ultra ',\n",
       "       'Find X3 Pro ', '11 Pro ', 'Galaxy S21+ ', '11 reconditionné ',\n",
       "       'Mate 40 Pro ', 'Galaxy Note 20 Ultra ', 'Xperia 5 III ',\n",
       "       'P50 Pocket ', '12 Pro Max ', '13 Pro ', '13 Pro Max '],\n",
       "      dtype=object)"
      ]
     },
     "execution_count": 105,
     "metadata": {},
     "output_type": "execute_result"
    }
   ],
   "source": [
    "df[\"Model\"].unique()"
   ]
  },
  {
   "cell_type": "markdown",
   "id": "68d2369a",
   "metadata": {},
   "source": [
    "### La colonne  :Couleur"
   ]
  },
  {
   "cell_type": "code",
   "execution_count": 106,
   "id": "7ecfe6a3",
   "metadata": {},
   "outputs": [
    {
     "data": {
      "text/plain": [
       "array([' Noir ', ' Gris ', ' Blanc ', ' Bleu foncé ', ' Bleu clair ',\n",
       "       ' Or ', ' Bleu ', ' Silver Blue ', ' Violet ', ' Argent ',\n",
       "       ' Noir Volcanique ', ' Sauge ', ' Rouge ', ' Vert ', ' Neige ',\n",
       "       ' Lavande ', ' Beige ', ' Gold ', ' Silver ', ' Rose ',\n",
       "       ' Graphite Black ', ' Blanc et gris ', ' Gris Météore ', ' Mauve ',\n",
       "       ' Jaune ', ' Crystal ', ' Orange ', ' Bronze ', ' Android 11 ',\n",
       "       ' Noir piano ', ' Champagne ', ' Crème ', ' Bordeau ',\n",
       "       ' Vert Sauge ', ' Gris sidéral ', ' Gris acier ', ' Orchidée ',\n",
       "       ' Corail ', ' Bleu électrique ', ' Android 9.0 Pie ', ' iOS 14 '],\n",
       "      dtype=object)"
      ]
     },
     "execution_count": 106,
     "metadata": {},
     "output_type": "execute_result"
    }
   ],
   "source": [
    "df[\"couleur\"].unique()"
   ]
  },
  {
   "cell_type": "code",
   "execution_count": 107,
   "id": "bf99dd4c",
   "metadata": {},
   "outputs": [
    {
     "data": {
      "text/plain": [
       "array(['Noir', 'Gris', 'Blanc', 'Bleufoncé', 'Bleuclair', 'Or', 'Bleu',\n",
       "       'SilverBlue', 'Violet', 'Argent', 'NoirVolcanique', 'Sauge',\n",
       "       'Rouge', 'Vert', 'Neige', 'Lavande', 'Beige', 'Gold', 'Silver',\n",
       "       'Rose', 'GraphiteBlack', 'Blancetgris', 'GrisMétéore', 'Mauve',\n",
       "       'Jaune', 'Crystal', 'Orange', 'Bronze', 'Noirpiano', 'Champagne',\n",
       "       'Crème', 'Bordeau', 'VertSauge', 'Grissidéral', 'Grisacier',\n",
       "       'Orchidée', 'Corail', 'Bleuélectrique'], dtype=object)"
      ]
     },
     "execution_count": 107,
     "metadata": {},
     "output_type": "execute_result"
    }
   ],
   "source": [
    "df[\"couleur\"] = df[\"couleur\"].str.replace(\" \",\"\")\n",
    "df = df.drop(df[df[\"couleur\"].isin([\"Android11\",\"Android9.0Pie\",\"iOS14\"])].index)\n",
    "df[\"couleur\"].unique()"
   ]
  },
  {
   "cell_type": "markdown",
   "id": "08d490dc",
   "metadata": {},
   "source": [
    "### La colonne :OS "
   ]
  },
  {
   "cell_type": "code",
   "execution_count": 108,
   "id": "b16fef6c",
   "metadata": {},
   "outputs": [
    {
     "data": {
      "text/plain": [
       "array([' Android 12 ', ' Android 10 ', ' Android 11 ',\n",
       "       ' Android S + Magic UI 6.1 ', ' iOS 16 ', ' iOS 15 ',\n",
       "       ' Android 13 ', ' iOS 14 ', ' iOS 11 ', ' iOS 13 ',\n",
       "       ' ColorOS 12 basé sur Android 11 ', ' Non communiqué ',\n",
       "       ' Android 9.0 Pie ', ' Android 7.0 Nougat ', ' Android 10.0 ',\n",
       "       ' EMUI 12 ', ' Android 8.0 Oreo ', ' iOS 12 ', ' iOS 10 ',\n",
       "       ' iOS 7 ', ' Propriétaire ', ' Android 6.0 Marshmallow ',\n",
       "       ' Android 8.1 Oreo ', ' Android 5.1 Lollipop ', ' iOS 8 ',\n",
       "       ' Android 7.1 Nougat ', ' Android ', ' Android 7.0 EMUI 5.1 ',\n",
       "       ' iOS 9 ', ' MIUI 12.5 ', ' Android 10.1 ', ' EMUI 11 '],\n",
       "      dtype=object)"
      ]
     },
     "execution_count": 108,
     "metadata": {},
     "output_type": "execute_result"
    }
   ],
   "source": [
    "df[\"os\"].unique()"
   ]
  },
  {
   "cell_type": "code",
   "execution_count": 109,
   "id": "e77b67f3",
   "metadata": {},
   "outputs": [],
   "source": [
    "df.loc[[368,539,540,541,683],'os'] = ' Android 10 '"
   ]
  },
  {
   "cell_type": "code",
   "execution_count": 110,
   "id": "1d54c70f",
   "metadata": {},
   "outputs": [
    {
     "data": {
      "text/plain": [
       "array([' Android 12 ', ' Android 10 ', ' Android 11 ',\n",
       "       ' Android S + Magic UI 6.1 ', ' iOS 16 ', ' iOS 15 ',\n",
       "       ' Android 13 ', ' iOS 14 ', ' iOS 11 ', ' iOS 13 ',\n",
       "       ' ColorOS 12 basé sur Android 11 ', ' Non communiqué ',\n",
       "       ' Android 9.0 Pie ', ' Android 7.0 Nougat ', ' EMUI 12 ',\n",
       "       ' Android 8.0 Oreo ', ' iOS 12 ', ' iOS 10 ', ' iOS 7 ',\n",
       "       ' Propriétaire ', ' Android 6.0 Marshmallow ',\n",
       "       ' Android 8.1 Oreo ', ' Android 5.1 Lollipop ', ' iOS 8 ',\n",
       "       ' Android 7.1 Nougat ', ' Android ', ' Android 7.0 EMUI 5.1 ',\n",
       "       ' iOS 9 ', ' MIUI 12.5 ', ' EMUI 11 '], dtype=object)"
      ]
     },
     "execution_count": 110,
     "metadata": {},
     "output_type": "execute_result"
    }
   ],
   "source": [
    "df[\"os\"].unique()"
   ]
  },
  {
   "cell_type": "markdown",
   "id": "9884d8f2",
   "metadata": {},
   "source": [
    "### La colonne CPU "
   ]
  },
  {
   "cell_type": "code",
   "execution_count": 111,
   "id": "d67706c1",
   "metadata": {},
   "outputs": [
    {
     "data": {
      "text/plain": [
       "array(['Exynos2200', \"8coeursjusqu'à2,3GHz\", \"8coeursjusqu'à2,2GHz\",\n",
       "       \"8coeursjusqu'à2,4GHz\", \"8coeursjusqu'à2,5GHz\",\n",
       "       'QualcommSnapdragon778G', 'MediaTekDimensity1200-Ultra',\n",
       "       \"8coeursjusqu'à3,0GHz\", \"8coeursjusqu'à2GHz\",\n",
       "       \"8coeursjusqu'à1,6GHz\", \"4coeursjusqu'à2GHz\", 'Exynos850',\n",
       "       'PuceA16', 'PuceA15', 'GoogleTensorG2', 'PuceA14', 'GoogleTensor',\n",
       "       \"8coeursjusqu'à3,2GHz\", 'QualcommSnapdragon865',\n",
       "       \"8coeursjusqu'à2,8GHz\", 'QualcommSnapdragon680',\n",
       "       'QualcommSnapdragon888', 'QualcommSnapdragon6905G',\n",
       "       'QualcommSnapdragon870G', 'Noncommuniqué', '4cœursjusqu’à2,8Ghz',\n",
       "       'PuceA11', \"8coeursjusqu'à2,9GHz\", \"8coeursjusqu'à1,8GHz\",\n",
       "       'PuceA13', \"8coeursjusqu'à1,2GHz\", 'QualcommQCM6490',\n",
       "       'UNISOCT610octo-core', 'UNISOCT618octo-core',\n",
       "       \"4coeursjusqu'à1,3GHz\", \"4coeursjusqu'à2,3GHz\",\n",
       "       \"4coeursjusqu'à2,2GHz\", \"8coeursjusqu'à2,1GHz\", 'MTK67638coeurs',\n",
       "       \"8coeursjusqu'à3,1GHz\", \"8coeursjusqu'à2,6GHz\", 'Exynos990',\n",
       "       \"8coeursjusqu'à2,7GHz\", 'PuceA12', 'PuceA10', 'PuceA5', 'PuceA7',\n",
       "       'PuceA6', \"4coeursjusqu'à1,4GHz\", 'HiSiliconKirin655',\n",
       "       \"4coeursjusqu'à1,2GHz\", \"4coeursjusqu'à1,5GHz\", 'PuceA9',\n",
       "       'PuceA8,64bitsetco-processeurM8', \"8coeursjusqu'à1,4GHz\",\n",
       "       'HiSiliconKirin659(4x2.36GHz+4x1.7GHz)', \"4coeursjusqu'à1,1GHz\",\n",
       "       'HUAWEIKirin960Octo-Core:4x2,4GHz,4x1,8GHz', '8coeurs',\n",
       "       'MediaTekHelioG85', \"4coeursjusqu'à1,6GHz\"], dtype=object)"
      ]
     },
     "execution_count": 111,
     "metadata": {},
     "output_type": "execute_result"
    }
   ],
   "source": [
    "df[\"CPU\"] = df[\"CPU\"].str.replace(\" \",\"\")\n",
    "df[\"CPU\"].unique()"
   ]
  },
  {
   "cell_type": "markdown",
   "id": "ecb68791",
   "metadata": {},
   "source": [
    "### La colonne battery"
   ]
  },
  {
   "cell_type": "code",
   "execution_count": 112,
   "id": "0b624781",
   "metadata": {
    "scrolled": true
   },
   "outputs": [
    {
     "data": {
      "text/plain": [
       "array([' 3700 mAh ', ' 5020 mAh ', ' 4500 mAh ', ' 5000 mAh ',\n",
       "       ' 5330 mAh ', ' 4020 mAh ', ' 4100 mAh ', ' 4200 mAh ',\n",
       "       ' 4250 mAh ', ' 4000 mAh ', ' 3000 mAh ', ' 4323 mAh ',\n",
       "       ' 3200 mAh ', ' 3279 mAh ', ' 2815 mAh ', ' 4926 mAh ',\n",
       "       ' 4270 mAh ', ' 4300 mAh ', ' 1810 mAh ', ' 2227 mAh ',\n",
       "       ' Li-ion 5100 mAh ', ' 4800 mAh ', ' 2691 mAh ', ' 4610 mAh ',\n",
       "       ' Li-Po 4600 mAh ', ' 6000 mAh ', ' 3110 mAh ', ' 3300 mAh ',\n",
       "       ' 3850 mAh ', ' 3905 mAh ', ' 4950 mAh ', ' 3500 mAh ',\n",
       "       ' Li-ion 3000 mAh ', ' 5080 mAh ', ' Li-ion 3800 mAh ',\n",
       "       ' 4050 mAh ', ' 3800 mAh ', ' 3600 mAh ', ' 4360 mAh ',\n",
       "       ' 4400 mAh ', ' 2942 mAh ', ' 2716 mAh ', ' 1960 mAh ',\n",
       "       ' 1821 mAh ', ' 3400 mAh ', ' 2658 mAh ', ' Non communiqué ',\n",
       "       ' 1400 mAh ', ' Lithium-ion ', ' Li-Po 1560 mAh ', ' 1560 mAh ',\n",
       "       ' Li-ion 2400 mAh ', ' Li-ion 3100 mAh ', ' Li-ion 2800 mAh ',\n",
       "       ' Li-ion 2300 mAh ', ' Li-ion 2600 mAh ', ' 3020 mAh ',\n",
       "       ' Li-Po 1624 mAh ', ' Li-ion ', ' Li-ion 3300 mAh ', ' 3100 mAh ',\n",
       "       ' 3750 mAh ', ' 2800 mAh ', ' Li-ion 3200 mAh ',\n",
       "       ' Li-ion 1715 mAh ', ' 3340 mAh ', ' Li-Po 5000 mAh ',\n",
       "       ' Li-ion 3500 mAh ', ' Li-ion 3600 mAh ', ' 4030 mAh ',\n",
       "       ' 4520 mAh ', ' 4614 mAh ', ' 3046 mAh ', ' 3687 mAh '],\n",
       "      dtype=object)"
      ]
     },
     "execution_count": 112,
     "metadata": {},
     "output_type": "execute_result"
    }
   ],
   "source": [
    "df['Battery'].unique()"
   ]
  },
  {
   "cell_type": "code",
   "execution_count": 113,
   "id": "58ed5258",
   "metadata": {},
   "outputs": [],
   "source": [
    "df = df.drop(df[df[\"Battery\"].isin([\" Li-ion \",\" Lithium-ion \",\" Non communiqué \"])].index)\n",
    "df['Battery'] = df['Battery'].str.replace(\" \",\"\")\n",
    "df['Battery'] = df['Battery'].str.replace(\"Li-ion\",\"\")\n",
    "df['Battery'] = df['Battery'].str.replace(\"Li-Po\",\"\")\n",
    "L = df['Battery'].str.split(\"mAh\",n=2,expand =True)\n",
    "df.insert(5,'Battery(mAh)', L[0])\n",
    "df.drop('Battery',axis=1,inplace=True)\n",
    "df['Battery(mAh)'] = df['Battery(mAh)'].astype('float')"
   ]
  },
  {
   "cell_type": "code",
   "execution_count": 114,
   "id": "5f361e5c",
   "metadata": {
    "scrolled": true
   },
   "outputs": [
    {
     "data": {
      "text/plain": [
       "array([3700., 5020., 4500., 5000., 5330., 4020., 4100., 4200., 4250.,\n",
       "       4000., 3000., 4323., 3200., 3279., 2815., 4926., 4270., 4300.,\n",
       "       1810., 2227., 5100., 4800., 2691., 4610., 4600., 6000., 3110.,\n",
       "       3300., 3850., 3905., 4950., 3500., 5080., 3800., 4050., 3600.,\n",
       "       4360., 4400., 2942., 2716., 1960., 1821., 3400., 2658., 1400.,\n",
       "       1560., 2400., 3100., 2800., 2300., 2600., 3020., 1624., 3750.,\n",
       "       1715., 3340., 4030., 4520., 4614., 3046., 3687.])"
      ]
     },
     "execution_count": 114,
     "metadata": {},
     "output_type": "execute_result"
    }
   ],
   "source": [
    "df['Battery(mAh)'].unique()"
   ]
  },
  {
   "cell_type": "markdown",
   "id": "828e4f7a",
   "metadata": {},
   "source": [
    "### La colonne Taille_ecran\t"
   ]
  },
  {
   "cell_type": "code",
   "execution_count": 115,
   "id": "15abdc83",
   "metadata": {},
   "outputs": [
    {
     "data": {
      "text/plain": [
       "array([' 6,1\" soit 15,5 cm ', ' 6,6\" soit 16,8 cm ',\n",
       "       ' 6,4\" soit 16,3 cm ', ' 6,5\" soit 16,5 cm ', ' 6,7\" soit 17 cm ',\n",
       "       ' 6,3\" soit 16 cm ', ' 5,3\" soit 13,5 cm ', ' 4,9\" soit 12,4 cm ',\n",
       "       ' 4,7\" soit 11,9 cm ', ' 5,4\" soit 13,7 cm ', ' 5,9\" soit 15 cm ',\n",
       "       ' 5,5\" soit 14 cm ', ' 6,8\" soit 17,3 cm ', ' 6\" soit 15,2 cm ',\n",
       "       ' 3,26\" soit 8,28 cm ', ' 5,7\" soit 14,5 cm ',\n",
       "       ' 5,2\" soit 13,2 cm ', ' 6,2\" soit 15,7 cm ', ' 1,9\" soit 4,8 cm ',\n",
       "       ' 7,6\" soit 19,3 cm ', ' 5,8\" soit 14,7 cm ', ' 2,8\" soit 7,1 cm ',\n",
       "       ' 4\" soit 10,2 cm ', ' 5\" soit 12,7 cm ', ' 5,1\" soit 12,9 cm ',\n",
       "       ' 5,6\" soit 14,2 cm ', ' 5,1\" soit 13 cm ', ' 4,6\" soit 11,7 cm ',\n",
       "       ' 6,9\" soit 17,5 cm '], dtype=object)"
      ]
     },
     "execution_count": 115,
     "metadata": {},
     "output_type": "execute_result"
    }
   ],
   "source": [
    "df['Taille_ecran'].unique()"
   ]
  },
  {
   "cell_type": "code",
   "execution_count": 116,
   "id": "0cfb1ebd",
   "metadata": {},
   "outputs": [
    {
     "data": {
      "text/plain": [
       "array([6.1 , 6.6 , 6.4 , 6.5 , 6.7 , 6.3 , 5.3 , 4.9 , 4.7 , 5.4 , 5.9 ,\n",
       "       5.5 , 6.8 , 6.  , 3.26, 5.7 , 5.2 , 6.2 , 1.9 , 7.6 , 5.8 , 2.8 ,\n",
       "       4.  , 5.  , 5.1 , 5.6 , 4.6 , 6.9 ])"
      ]
     },
     "execution_count": 116,
     "metadata": {},
     "output_type": "execute_result"
    }
   ],
   "source": [
    "M = df['Taille_ecran'].str.split(\"soit\",n=2,expand =True)\n",
    "L = M[0].str.split('\"',expand =True)\n",
    "df.insert(6,'Taille_ecran(en pouces)', L[0])\n",
    "df.drop('Taille_ecran',axis=1,inplace=True)\n",
    "df['Taille_ecran(en pouces)'] = df['Taille_ecran(en pouces)'].str.replace(\" \",\"\")\n",
    "df['Taille_ecran(en pouces)'] = df['Taille_ecran(en pouces)'].str.replace(\",\",\".\")\n",
    "df['Taille_ecran(en pouces)'] = df['Taille_ecran(en pouces)'].astype('float')\n",
    "df['Taille_ecran(en pouces)'].unique()"
   ]
  },
  {
   "cell_type": "markdown",
   "id": "d8bbaf86",
   "metadata": {},
   "source": [
    "### La colonne stockage"
   ]
  },
  {
   "cell_type": "code",
   "execution_count": 117,
   "id": "e9bd09a8",
   "metadata": {},
   "outputs": [
    {
     "data": {
      "text/plain": [
       "array([' 128 Go ', ' 64 Go ', ' 32 Go ', ' 256 Go ', ' 512 Go ', ' 1 To ',\n",
       "       ' 64 Go UFS 2.1 ', ' 512 Go (UFS 3.1) ', ' 16 Go ', ' 128 Mo ',\n",
       "       ' 4 Mo ', ' 1 ', ' Non testé ', ' 8 Go ', ' 64 Go UFS 2.0 ',\n",
       "       ' 128 Go (UFS 2.1) '], dtype=object)"
      ]
     },
     "execution_count": 117,
     "metadata": {},
     "output_type": "execute_result"
    }
   ],
   "source": [
    "df['Stockage'].unique()"
   ]
  },
  {
   "cell_type": "code",
   "execution_count": 118,
   "id": "88119553",
   "metadata": {},
   "outputs": [
    {
     "name": "stderr",
     "output_type": "stream",
     "text": [
      "C:\\Users\\asus\\AppData\\Local\\Temp\\ipykernel_16676\\4270412459.py:4: FutureWarning: The default value of regex will change from True to False in a future version.\n",
      "  df['Stockage'] = df['Stockage'].str.replace(\"UFS2.1\",\"\")\n",
      "C:\\Users\\asus\\AppData\\Local\\Temp\\ipykernel_16676\\4270412459.py:5: FutureWarning: The default value of regex will change from True to False in a future version.\n",
      "  df['Stockage'] = df['Stockage'].str.replace(\"(UFS3.1)\",\"\")\n",
      "C:\\Users\\asus\\AppData\\Local\\Temp\\ipykernel_16676\\4270412459.py:6: FutureWarning: The default value of regex will change from True to False in a future version.\n",
      "  df['Stockage'] = df['Stockage'].str.replace(\"UFS2.0\",\"\")\n",
      "C:\\Users\\asus\\AppData\\Local\\Temp\\ipykernel_16676\\4270412459.py:7: FutureWarning: The default value of regex will change from True to False in a future version.\n",
      "  df['Stockage'] = df['Stockage'].str.replace(\"(UFS2.1)\",\"\")\n",
      "C:\\Users\\asus\\AppData\\Local\\Temp\\ipykernel_16676\\4270412459.py:8: FutureWarning: The default value of regex will change from True to False in a future version. In addition, single character regular expressions will *not* be treated as literal strings when regex=True.\n",
      "  df['Stockage'] = df['Stockage'].str.replace(\"(\",\"\")\n",
      "C:\\Users\\asus\\AppData\\Local\\Temp\\ipykernel_16676\\4270412459.py:9: FutureWarning: The default value of regex will change from True to False in a future version. In addition, single character regular expressions will *not* be treated as literal strings when regex=True.\n",
      "  df['Stockage'] = df['Stockage'].str.replace(\")\",\"\")\n"
     ]
    }
   ],
   "source": [
    "df['Stockage'] = df['Stockage'].str.replace(\" \",\"\")\n",
    "df['Stockage'] = df['Stockage'].str.replace(\"Go\",\"\")\n",
    "df['Stockage'] = df['Stockage'].str.replace(\"Mo\",\"\")\n",
    "df['Stockage'] = df['Stockage'].str.replace(\"UFS2.1\",\"\")\n",
    "df['Stockage'] = df['Stockage'].str.replace(\"(UFS3.1)\",\"\")\n",
    "df['Stockage'] = df['Stockage'].str.replace(\"UFS2.0\",\"\")\n",
    "df['Stockage'] = df['Stockage'].str.replace(\"(UFS2.1)\",\"\")\n",
    "df['Stockage'] = df['Stockage'].str.replace(\"(\",\"\")\n",
    "df['Stockage'] = df['Stockage'].str.replace(\")\",\"\")\n",
    "df['Stockage'] = df['Stockage'].str.replace(\"To\",\"000\")\n",
    "df = df.drop(df[df[\"Stockage\"].isin([\"Nontesté\"])].index)\n",
    "df = df.rename(columns={'Stockage': 'Stockage(Go)'})\n",
    "df['Stockage(Go)'] = df['Stockage(Go)'].astype('float')"
   ]
  },
  {
   "cell_type": "code",
   "execution_count": 119,
   "id": "eb61cbf0",
   "metadata": {},
   "outputs": [
    {
     "data": {
      "text/plain": [
       "array([ 128.,   64.,   32.,  256.,  512., 1000.,   16.,    4.,    1.,\n",
       "          8.])"
      ]
     },
     "execution_count": 119,
     "metadata": {},
     "output_type": "execute_result"
    }
   ],
   "source": [
    "df['Stockage(Go)'].unique()"
   ]
  },
  {
   "cell_type": "code",
   "execution_count": 120,
   "id": "996a4a7c",
   "metadata": {},
   "outputs": [
    {
     "data": {
      "text/plain": [
       "dtype('float64')"
      ]
     },
     "execution_count": 120,
     "metadata": {},
     "output_type": "execute_result"
    }
   ],
   "source": [
    "df['Stockage(Go)'].dtypes"
   ]
  },
  {
   "cell_type": "markdown",
   "id": "618e22b9",
   "metadata": {},
   "source": [
    "### La colonne RAM"
   ]
  },
  {
   "cell_type": "code",
   "execution_count": 121,
   "id": "a18eca2c",
   "metadata": {},
   "outputs": [
    {
     "data": {
      "text/plain": [
       "array([' 8 Go ', ' 6 Go ', ' 4 Go ', ' 2 Go ', ' 12 Go ', ' 3 Go ',\n",
       "       ' 16 Go ', ' Non communiqué ', \" H.264 jusqu'à 1080p \", ' 1,5 Go ',\n",
       "       ' 1 Go '], dtype=object)"
      ]
     },
     "execution_count": 121,
     "metadata": {},
     "output_type": "execute_result"
    }
   ],
   "source": [
    "df['RAM'].unique()"
   ]
  },
  {
   "cell_type": "code",
   "execution_count": 122,
   "id": "5c68986e",
   "metadata": {},
   "outputs": [
    {
     "data": {
      "text/plain": [
       " 4 Go                    258\n",
       " 6 Go                    185\n",
       " 8 Go                    150\n",
       " 3 Go                     77\n",
       " 12 Go                    60\n",
       " 2 Go                     52\n",
       " 1,5 Go                    4\n",
       " Non communiqué            3\n",
       " 16 Go                     2\n",
       " H.264 jusqu'à 1080p       2\n",
       " 1 Go                      1\n",
       "Name: RAM, dtype: int64"
      ]
     },
     "execution_count": 122,
     "metadata": {},
     "output_type": "execute_result"
    }
   ],
   "source": [
    "df['RAM'].value_counts()"
   ]
  },
  {
   "cell_type": "code",
   "execution_count": 123,
   "id": "687d16c8",
   "metadata": {},
   "outputs": [],
   "source": [
    "df = df.drop(df[df[\"RAM\"].isin([\" H.264 jusqu'à 1080p \",\" Non communiqué \"])].index)\n",
    "df[\"RAM\"] = df[\"RAM\"].str.replace(\" \",\"\")\n",
    "df[\"RAM\"] = df[\"RAM\"].str.replace(\"Go\",\"\")\n",
    "df[\"RAM\"] = df[\"RAM\"].str.replace(\",\",\".\")\n",
    "df['RAM'] = df['RAM'].astype('float')\n",
    "df = df.rename(columns={'RAM': 'RAM(Go)'})"
   ]
  },
  {
   "cell_type": "code",
   "execution_count": 124,
   "id": "de67d97d",
   "metadata": {},
   "outputs": [
    {
     "data": {
      "text/plain": [
       "4.0     258\n",
       "6.0     185\n",
       "8.0     150\n",
       "3.0      77\n",
       "12.0     60\n",
       "2.0      52\n",
       "1.5       4\n",
       "16.0      2\n",
       "1.0       1\n",
       "Name: RAM(Go), dtype: int64"
      ]
     },
     "execution_count": 124,
     "metadata": {},
     "output_type": "execute_result"
    }
   ],
   "source": [
    "df['RAM(Go)'].value_counts()"
   ]
  },
  {
   "cell_type": "markdown",
   "id": "5dfc0c07",
   "metadata": {},
   "source": [
    "### La colonne nb_capteur_ph"
   ]
  },
  {
   "cell_type": "code",
   "execution_count": 125,
   "id": "0769ed3c",
   "metadata": {},
   "outputs": [
    {
     "data": {
      "text/plain": [
       "3.0    263\n",
       "2.0    144\n",
       "4.0     97\n",
       "1.0     69\n",
       "Name: nb_capteur_ph, dtype: int64"
      ]
     },
     "execution_count": 125,
     "metadata": {},
     "output_type": "execute_result"
    }
   ],
   "source": [
    "df['nb_capteur_ph'].value_counts()"
   ]
  },
  {
   "cell_type": "markdown",
   "id": "ed71d8d4",
   "metadata": {},
   "source": [
    "### La colonne Selfie"
   ]
  },
  {
   "cell_type": "code",
   "execution_count": 126,
   "id": "d3ff6b56",
   "metadata": {},
   "outputs": [
    {
     "data": {
      "text/plain": [
       " 12 mégapixels                   189\n",
       " 32 mégapixels                    78\n",
       " 8 mégapixels                     67\n",
       " 16 mégapixels                    54\n",
       " 7 mégapixels                     45\n",
       " 10 mégapixels                    39\n",
       " 5 mégapixels                     32\n",
       " 13 mégapixels                    26\n",
       " 20 mégapixels                    11\n",
       " 10,8 mégapixels                   6\n",
       " 40 mégapixels                     6\n",
       " 25 mégapixels                     4\n",
       " 10 mégapixels+ 8 mégapixels       4\n",
       " 2 mégapixels                      3\n",
       " 50 mégapixels                     3\n",
       " Oui                               2\n",
       " 24 mégapixels                     2\n",
       " 60 mégapixels                     1\n",
       "Name: Selfie, dtype: int64"
      ]
     },
     "execution_count": 126,
     "metadata": {},
     "output_type": "execute_result"
    }
   ],
   "source": [
    "df['Selfie'].value_counts()"
   ]
  },
  {
   "cell_type": "code",
   "execution_count": 127,
   "id": "f0176e2d",
   "metadata": {},
   "outputs": [],
   "source": [
    "df[\"Selfie\"] = df[\"Selfie\"].replace({\" 10 mégapixels+ 8 mégapixels \":\" 10 mégapixels \"})\n",
    "df = df.drop(df[df[\"Selfie\"].isin([' Oui '])].index)\n",
    "df[\"Selfie\"] = df[\"Selfie\"].str.replace(\"mégapixels\",\"\")\n",
    "df[\"Selfie\"] = df[\"Selfie\"].replace({' 10,8  ':' 10.8  '})\n",
    "df[\"Selfie\"] = df[\"Selfie\"].replace(\"  \",\"\")\n",
    "df['Selfie'] = df['Selfie'].astype('float')\n",
    "df = df.rename(columns={'Selfie': 'Selfie(mégapixels)'})"
   ]
  },
  {
   "cell_type": "code",
   "execution_count": 128,
   "id": "abb4af95",
   "metadata": {},
   "outputs": [
    {
     "data": {
      "text/plain": [
       "dtype('float64')"
      ]
     },
     "execution_count": 128,
     "metadata": {},
     "output_type": "execute_result"
    }
   ],
   "source": [
    "df['Selfie(mégapixels)'].dtypes"
   ]
  },
  {
   "cell_type": "markdown",
   "id": "283e07c0",
   "metadata": {},
   "source": [
    "### La colonne Price"
   ]
  },
  {
   "cell_type": "code",
   "execution_count": 129,
   "id": "8475be7d",
   "metadata": {},
   "outputs": [],
   "source": [
    "df[\"Price\"] = df[\"Price\"].str.replace(\"€\",\"\")\n",
    "df[\"Price\"] = df[\"Price\"].str.replace(\",\",\".\")\n",
    "df['Price'] = df['Price'].astype('float')\n",
    "df = df.rename(columns={'Price': 'Price(€)'})"
   ]
  },
  {
   "cell_type": "code",
   "execution_count": 130,
   "id": "4955b7ee",
   "metadata": {},
   "outputs": [],
   "source": [
    "num_col = df.drop(['Marque', 'Model', 'couleur', 'os', 'CPU', 'Resolution_ecran', 'Réseau', 'Bluetooth', 'camera'],axis=1)"
   ]
  },
  {
   "cell_type": "code",
   "execution_count": 131,
   "id": "29ee7a4a",
   "metadata": {},
   "outputs": [
    {
     "data": {
      "text/html": [
       "<div>\n",
       "<style scoped>\n",
       "    .dataframe tbody tr th:only-of-type {\n",
       "        vertical-align: middle;\n",
       "    }\n",
       "\n",
       "    .dataframe tbody tr th {\n",
       "        vertical-align: top;\n",
       "    }\n",
       "\n",
       "    .dataframe thead th {\n",
       "        text-align: right;\n",
       "    }\n",
       "</style>\n",
       "<table border=\"1\" class=\"dataframe\">\n",
       "  <thead>\n",
       "    <tr style=\"text-align: right;\">\n",
       "      <th></th>\n",
       "      <th>Battery(mAh)</th>\n",
       "      <th>Taille_ecran(en pouces)</th>\n",
       "      <th>Stockage(Go)</th>\n",
       "      <th>RAM(Go)</th>\n",
       "      <th>nb_capteur_ph</th>\n",
       "      <th>Selfie(mégapixels)</th>\n",
       "      <th>Price(€)</th>\n",
       "    </tr>\n",
       "  </thead>\n",
       "  <tbody>\n",
       "    <tr>\n",
       "      <th>0</th>\n",
       "      <td>3700.0</td>\n",
       "      <td>6.1</td>\n",
       "      <td>128.0</td>\n",
       "      <td>8.0</td>\n",
       "      <td>3.0</td>\n",
       "      <td>10.0</td>\n",
       "      <td>749.0</td>\n",
       "    </tr>\n",
       "    <tr>\n",
       "      <th>1</th>\n",
       "      <td>5020.0</td>\n",
       "      <td>6.6</td>\n",
       "      <td>128.0</td>\n",
       "      <td>6.0</td>\n",
       "      <td>4.0</td>\n",
       "      <td>16.0</td>\n",
       "      <td>249.0</td>\n",
       "    </tr>\n",
       "    <tr>\n",
       "      <th>2</th>\n",
       "      <td>4500.0</td>\n",
       "      <td>6.4</td>\n",
       "      <td>128.0</td>\n",
       "      <td>8.0</td>\n",
       "      <td>3.0</td>\n",
       "      <td>16.0</td>\n",
       "      <td>419.0</td>\n",
       "    </tr>\n",
       "    <tr>\n",
       "      <th>3</th>\n",
       "      <td>5000.0</td>\n",
       "      <td>6.5</td>\n",
       "      <td>64.0</td>\n",
       "      <td>4.0</td>\n",
       "      <td>3.0</td>\n",
       "      <td>8.0</td>\n",
       "      <td>299.0</td>\n",
       "    </tr>\n",
       "    <tr>\n",
       "      <th>4</th>\n",
       "      <td>5330.0</td>\n",
       "      <td>6.7</td>\n",
       "      <td>128.0</td>\n",
       "      <td>4.0</td>\n",
       "      <td>4.0</td>\n",
       "      <td>8.0</td>\n",
       "      <td>229.0</td>\n",
       "    </tr>\n",
       "    <tr>\n",
       "      <th>...</th>\n",
       "      <td>...</td>\n",
       "      <td>...</td>\n",
       "      <td>...</td>\n",
       "      <td>...</td>\n",
       "      <td>...</td>\n",
       "      <td>...</td>\n",
       "      <td>...</td>\n",
       "    </tr>\n",
       "    <tr>\n",
       "      <th>806</th>\n",
       "      <td>2815.0</td>\n",
       "      <td>6.1</td>\n",
       "      <td>512.0</td>\n",
       "      <td>6.0</td>\n",
       "      <td>3.0</td>\n",
       "      <td>12.0</td>\n",
       "      <td>1620.0</td>\n",
       "    </tr>\n",
       "    <tr>\n",
       "      <th>807</th>\n",
       "      <td>2815.0</td>\n",
       "      <td>6.1</td>\n",
       "      <td>512.0</td>\n",
       "      <td>6.0</td>\n",
       "      <td>3.0</td>\n",
       "      <td>12.0</td>\n",
       "      <td>1620.0</td>\n",
       "    </tr>\n",
       "    <tr>\n",
       "      <th>808</th>\n",
       "      <td>2815.0</td>\n",
       "      <td>6.1</td>\n",
       "      <td>1000.0</td>\n",
       "      <td>6.0</td>\n",
       "      <td>3.0</td>\n",
       "      <td>12.0</td>\n",
       "      <td>1908.0</td>\n",
       "    </tr>\n",
       "    <tr>\n",
       "      <th>809</th>\n",
       "      <td>2815.0</td>\n",
       "      <td>6.1</td>\n",
       "      <td>1000.0</td>\n",
       "      <td>6.0</td>\n",
       "      <td>3.0</td>\n",
       "      <td>12.0</td>\n",
       "      <td>1908.0</td>\n",
       "    </tr>\n",
       "    <tr>\n",
       "      <th>810</th>\n",
       "      <td>2815.0</td>\n",
       "      <td>6.1</td>\n",
       "      <td>1000.0</td>\n",
       "      <td>6.0</td>\n",
       "      <td>3.0</td>\n",
       "      <td>12.0</td>\n",
       "      <td>1908.0</td>\n",
       "    </tr>\n",
       "  </tbody>\n",
       "</table>\n",
       "<p>787 rows × 7 columns</p>\n",
       "</div>"
      ],
      "text/plain": [
       "     Battery(mAh)  Taille_ecran(en pouces)  Stockage(Go)  RAM(Go)  \\\n",
       "0          3700.0                      6.1         128.0      8.0   \n",
       "1          5020.0                      6.6         128.0      6.0   \n",
       "2          4500.0                      6.4         128.0      8.0   \n",
       "3          5000.0                      6.5          64.0      4.0   \n",
       "4          5330.0                      6.7         128.0      4.0   \n",
       "..            ...                      ...           ...      ...   \n",
       "806        2815.0                      6.1         512.0      6.0   \n",
       "807        2815.0                      6.1         512.0      6.0   \n",
       "808        2815.0                      6.1        1000.0      6.0   \n",
       "809        2815.0                      6.1        1000.0      6.0   \n",
       "810        2815.0                      6.1        1000.0      6.0   \n",
       "\n",
       "     nb_capteur_ph  Selfie(mégapixels)  Price(€)  \n",
       "0              3.0                10.0     749.0  \n",
       "1              4.0                16.0     249.0  \n",
       "2              3.0                16.0     419.0  \n",
       "3              3.0                 8.0     299.0  \n",
       "4              4.0                 8.0     229.0  \n",
       "..             ...                 ...       ...  \n",
       "806            3.0                12.0    1620.0  \n",
       "807            3.0                12.0    1620.0  \n",
       "808            3.0                12.0    1908.0  \n",
       "809            3.0                12.0    1908.0  \n",
       "810            3.0                12.0    1908.0  \n",
       "\n",
       "[787 rows x 7 columns]"
      ]
     },
     "execution_count": 131,
     "metadata": {},
     "output_type": "execute_result"
    }
   ],
   "source": [
    "num_col"
   ]
  },
  {
   "cell_type": "code",
   "execution_count": 133,
   "id": "9fad1943",
   "metadata": {},
   "outputs": [
    {
     "data": {
      "application/vnd.plotly.v1+json": {
       "config": {
        "plotlyServerURL": "https://plot.ly"
       },
       "data": [
        {
         "alignmentgroup": "True",
         "fillcolor": "#C9A26B",
         "hovertemplate": "Battery(mAh)=%{x}<extra></extra>",
         "legendgroup": "",
         "marker": {
          "color": "#636efa"
         },
         "name": "",
         "notched": false,
         "offsetgroup": "",
         "orientation": "h",
         "showlegend": false,
         "type": "box",
         "x": [
          3700,
          5020,
          4500,
          5000,
          5330,
          4020,
          4100,
          4100,
          4200,
          4200,
          4250,
          5000,
          4500,
          5000,
          5000,
          5000,
          5000,
          5000,
          5000,
          5000,
          4000,
          5000,
          3000,
          5000,
          5000,
          5000,
          4000,
          5000,
          4323,
          3200,
          4323,
          3200,
          3279,
          2815,
          3279,
          4323,
          4323,
          4323,
          4323,
          3200,
          3279,
          4926,
          3200,
          3279,
          4323,
          4323,
          2815,
          4323,
          2815,
          4270,
          4323,
          4300,
          2815,
          1810,
          2815,
          4323,
          2815,
          2815,
          2227,
          4926,
          3279,
          2815,
          3200,
          3279,
          4323,
          3279,
          3700,
          4323,
          4323,
          2815,
          3200,
          2815,
          5100,
          4500,
          2815,
          5000,
          5000,
          3279,
          1810,
          2815,
          2815,
          5000,
          4323,
          4020,
          5000,
          2815,
          4323,
          5000,
          3200,
          5000,
          4500,
          5000,
          5000,
          5000,
          3279,
          4500,
          5000,
          3279,
          5000,
          5000,
          5000,
          5000,
          5000,
          4500,
          4300,
          4020,
          2227,
          4800,
          4800,
          1810,
          4500,
          4500,
          5000,
          5000,
          5000,
          5000,
          5000,
          5000,
          5000,
          2691,
          5000,
          5000,
          5000,
          5000,
          5000,
          4270,
          2815,
          5000,
          5000,
          5000,
          5000,
          5000,
          5000,
          5000,
          5000,
          5000,
          5000,
          5000,
          5000,
          5000,
          5000,
          4500,
          5000,
          5000,
          1810,
          5000,
          5000,
          5000,
          4800,
          5000,
          4500,
          1810,
          1810,
          5000,
          4300,
          5000,
          5000,
          4610,
          4600,
          5000,
          2815,
          2815,
          6000,
          6000,
          6000,
          6000,
          2815,
          2815,
          2815,
          2815,
          5000,
          4323,
          4323,
          3279,
          3279,
          5000,
          4323,
          4323,
          4323,
          3200,
          3200,
          3200,
          3200,
          3200,
          4323,
          4323,
          3110,
          3110,
          2815,
          3110,
          3110,
          2815,
          3000,
          3300,
          5000,
          2227,
          4300,
          5020,
          2815,
          5000,
          5000,
          5000,
          4600,
          5100,
          4800,
          4300,
          3850,
          4300,
          5000,
          5000,
          5000,
          5000,
          4800,
          5000,
          5000,
          3905,
          4950,
          4300,
          2227,
          4300,
          4300,
          3500,
          4500,
          2227,
          5000,
          5000,
          4300,
          5000,
          4500,
          4500,
          4500,
          2227,
          2227,
          5000,
          5000,
          5000,
          5000,
          5000,
          5000,
          5000,
          5000,
          5000,
          5000,
          5000,
          5000,
          5000,
          5000,
          5000,
          5000,
          6000,
          5000,
          5000,
          6000,
          5000,
          5000,
          5000,
          6000,
          5000,
          3000,
          5000,
          6000,
          4500,
          5020,
          5000,
          5000,
          5000,
          5000,
          5000,
          5000,
          5000,
          3000,
          5000,
          5000,
          5000,
          5000,
          5000,
          6000,
          5000,
          5000,
          5000,
          5000,
          5000,
          4200,
          5000,
          5000,
          5000,
          5000,
          5000,
          5000,
          5000,
          5000,
          4000,
          5000,
          5000,
          5000,
          5000,
          5000,
          5000,
          3000,
          5000,
          5000,
          5020,
          5000,
          5020,
          3000,
          5000,
          5020,
          5000,
          4800,
          5020,
          5000,
          4300,
          5020,
          5000,
          3200,
          5000,
          5000,
          5000,
          5000,
          5000,
          5000,
          5000,
          5000,
          5000,
          4300,
          5000,
          5000,
          5000,
          4300,
          4300,
          4250,
          4500,
          3000,
          4000,
          5000,
          5000,
          5000,
          4300,
          4500,
          5000,
          5000,
          4500,
          5000,
          5000,
          5000,
          5000,
          5080,
          4500,
          5080,
          5000,
          5000,
          3800,
          4250,
          4050,
          5000,
          4300,
          4500,
          4300,
          3800,
          4500,
          4500,
          5000,
          4500,
          4800,
          4500,
          6000,
          4200,
          4500,
          3800,
          4300,
          4000,
          4500,
          4000,
          4500,
          3600,
          4500,
          4000,
          3800,
          4500,
          4000,
          2227,
          3300,
          3300,
          2227,
          3700,
          4500,
          4500,
          4360,
          5000,
          5000,
          5000,
          5000,
          5000,
          5000,
          4500,
          4500,
          4500,
          5000,
          4400,
          5000,
          4400,
          4500,
          4400,
          5000,
          4400,
          4926,
          3000,
          5000,
          2691,
          2815,
          1810,
          3000,
          2942,
          2942,
          2716,
          1960,
          1960,
          1821,
          1821,
          2716,
          4000,
          2942,
          2942,
          2942,
          2942,
          3400,
          2815,
          2815,
          2716,
          2400,
          3000,
          3100,
          3000,
          3000,
          2800,
          2300,
          2600,
          5000,
          3020,
          1624,
          2600,
          3000,
          3000,
          2600,
          3000,
          2400,
          3000,
          3000,
          3300,
          5000,
          3000,
          3000,
          3020,
          3400,
          3400,
          3000,
          3000,
          3000,
          3000,
          3000,
          3100,
          3000,
          3000,
          3000,
          3000,
          3000,
          4000,
          3300,
          3300,
          1960,
          2400,
          3400,
          3000,
          3100,
          5000,
          3400,
          3000,
          3750,
          3000,
          3400,
          4500,
          3000,
          4000,
          3000,
          2800,
          3000,
          3000,
          3100,
          3100,
          3000,
          2800,
          6000,
          5000,
          3500,
          5020,
          5000,
          3300,
          3200,
          5000,
          5000,
          4000,
          3500,
          3500,
          1715,
          1960,
          6000,
          3340,
          3340,
          3340,
          3000,
          5000,
          3000,
          3100,
          3500,
          4000,
          3500,
          3500,
          3600,
          4000,
          5000,
          5020,
          3500,
          3500,
          3500,
          5000,
          3000,
          3000,
          1810,
          1810,
          4000,
          1810,
          5000,
          5000,
          3600,
          5000,
          4000,
          5000,
          3100,
          1810,
          4200,
          3500,
          3500,
          3300,
          4500,
          4000,
          4000,
          3100,
          3100,
          4000,
          4000,
          6000,
          4000,
          4000,
          1810,
          1810,
          1810,
          5000,
          3000,
          3500,
          3400,
          4500,
          5000,
          4000,
          4500,
          4500,
          3400,
          4500,
          4300,
          4030,
          5000,
          3000,
          5000,
          2942,
          5020,
          1810,
          4000,
          4500,
          3600,
          2942,
          2716,
          3600,
          5000,
          4000,
          4200,
          4100,
          4500,
          4500,
          2942,
          3000,
          3300,
          4000,
          4100,
          4500,
          4100,
          4500,
          3000,
          3400,
          3500,
          3400,
          2942,
          3100,
          3500,
          4500,
          4520,
          4200,
          4500,
          2942,
          4200,
          4500,
          4200,
          2942,
          4500,
          4500,
          4500,
          4500,
          4500,
          4500,
          4500,
          4500,
          4200,
          1810,
          4100,
          4000,
          3800,
          4250,
          4250,
          4250,
          4000,
          2942,
          4000,
          4500,
          4000,
          4520,
          4614,
          4500,
          4000,
          1810,
          3110,
          3110,
          4500,
          4500,
          4100,
          4300,
          4500,
          4500,
          4000,
          3110,
          2942,
          3110,
          4500,
          4500,
          4200,
          5000,
          3400,
          3110,
          3110,
          3110,
          2227,
          4300,
          4100,
          4200,
          2227,
          2227,
          4200,
          1810,
          4500,
          3400,
          4614,
          5000,
          4500,
          3046,
          3110,
          3110,
          3110,
          4200,
          4200,
          4800,
          5000,
          2227,
          3110,
          2227,
          2227,
          3110,
          2227,
          3110,
          2227,
          1810,
          4800,
          4800,
          3110,
          3046,
          2227,
          2227,
          3110,
          5000,
          3110,
          2227,
          2227,
          4400,
          2815,
          2815,
          4500,
          3046,
          5000,
          4500,
          5000,
          3300,
          5000,
          3110,
          2227,
          4500,
          4500,
          4000,
          2815,
          2815,
          2227,
          4360,
          4500,
          2815,
          2815,
          2815,
          3046,
          2815,
          2815,
          3687,
          2227,
          3687,
          3687,
          3687,
          3687,
          4400,
          4926,
          4500,
          4500,
          4500,
          3687,
          3687,
          3687,
          2815,
          4400,
          4400,
          2227,
          2815,
          4500,
          4500,
          2815,
          5000,
          3687,
          4400,
          2815,
          4800,
          2227,
          2815,
          3687,
          3687,
          3687,
          3687,
          2815,
          3687,
          2815,
          2815,
          2815,
          2815,
          2815,
          3687,
          3687,
          3687,
          3687,
          3687,
          3687,
          3687,
          3687,
          3687,
          2815,
          2815,
          2815,
          3687,
          3687,
          3687,
          3687,
          3687,
          3687,
          2815,
          2815,
          2815,
          2815,
          2815
         ],
         "x0": " ",
         "xaxis": "x",
         "y0": " ",
         "yaxis": "y"
        }
       ],
       "layout": {
        "boxmode": "group",
        "legend": {
         "tracegroupgap": 0
        },
        "margin": {
         "t": 60
        },
        "template": {
         "data": {
          "bar": [
           {
            "error_x": {
             "color": "#2a3f5f"
            },
            "error_y": {
             "color": "#2a3f5f"
            },
            "marker": {
             "line": {
              "color": "#E5ECF6",
              "width": 0.5
             },
             "pattern": {
              "fillmode": "overlay",
              "size": 10,
              "solidity": 0.2
             }
            },
            "type": "bar"
           }
          ],
          "barpolar": [
           {
            "marker": {
             "line": {
              "color": "#E5ECF6",
              "width": 0.5
             },
             "pattern": {
              "fillmode": "overlay",
              "size": 10,
              "solidity": 0.2
             }
            },
            "type": "barpolar"
           }
          ],
          "carpet": [
           {
            "aaxis": {
             "endlinecolor": "#2a3f5f",
             "gridcolor": "white",
             "linecolor": "white",
             "minorgridcolor": "white",
             "startlinecolor": "#2a3f5f"
            },
            "baxis": {
             "endlinecolor": "#2a3f5f",
             "gridcolor": "white",
             "linecolor": "white",
             "minorgridcolor": "white",
             "startlinecolor": "#2a3f5f"
            },
            "type": "carpet"
           }
          ],
          "choropleth": [
           {
            "colorbar": {
             "outlinewidth": 0,
             "ticks": ""
            },
            "type": "choropleth"
           }
          ],
          "contour": [
           {
            "colorbar": {
             "outlinewidth": 0,
             "ticks": ""
            },
            "colorscale": [
             [
              0,
              "#0d0887"
             ],
             [
              0.1111111111111111,
              "#46039f"
             ],
             [
              0.2222222222222222,
              "#7201a8"
             ],
             [
              0.3333333333333333,
              "#9c179e"
             ],
             [
              0.4444444444444444,
              "#bd3786"
             ],
             [
              0.5555555555555556,
              "#d8576b"
             ],
             [
              0.6666666666666666,
              "#ed7953"
             ],
             [
              0.7777777777777778,
              "#fb9f3a"
             ],
             [
              0.8888888888888888,
              "#fdca26"
             ],
             [
              1,
              "#f0f921"
             ]
            ],
            "type": "contour"
           }
          ],
          "contourcarpet": [
           {
            "colorbar": {
             "outlinewidth": 0,
             "ticks": ""
            },
            "type": "contourcarpet"
           }
          ],
          "heatmap": [
           {
            "colorbar": {
             "outlinewidth": 0,
             "ticks": ""
            },
            "colorscale": [
             [
              0,
              "#0d0887"
             ],
             [
              0.1111111111111111,
              "#46039f"
             ],
             [
              0.2222222222222222,
              "#7201a8"
             ],
             [
              0.3333333333333333,
              "#9c179e"
             ],
             [
              0.4444444444444444,
              "#bd3786"
             ],
             [
              0.5555555555555556,
              "#d8576b"
             ],
             [
              0.6666666666666666,
              "#ed7953"
             ],
             [
              0.7777777777777778,
              "#fb9f3a"
             ],
             [
              0.8888888888888888,
              "#fdca26"
             ],
             [
              1,
              "#f0f921"
             ]
            ],
            "type": "heatmap"
           }
          ],
          "heatmapgl": [
           {
            "colorbar": {
             "outlinewidth": 0,
             "ticks": ""
            },
            "colorscale": [
             [
              0,
              "#0d0887"
             ],
             [
              0.1111111111111111,
              "#46039f"
             ],
             [
              0.2222222222222222,
              "#7201a8"
             ],
             [
              0.3333333333333333,
              "#9c179e"
             ],
             [
              0.4444444444444444,
              "#bd3786"
             ],
             [
              0.5555555555555556,
              "#d8576b"
             ],
             [
              0.6666666666666666,
              "#ed7953"
             ],
             [
              0.7777777777777778,
              "#fb9f3a"
             ],
             [
              0.8888888888888888,
              "#fdca26"
             ],
             [
              1,
              "#f0f921"
             ]
            ],
            "type": "heatmapgl"
           }
          ],
          "histogram": [
           {
            "marker": {
             "pattern": {
              "fillmode": "overlay",
              "size": 10,
              "solidity": 0.2
             }
            },
            "type": "histogram"
           }
          ],
          "histogram2d": [
           {
            "colorbar": {
             "outlinewidth": 0,
             "ticks": ""
            },
            "colorscale": [
             [
              0,
              "#0d0887"
             ],
             [
              0.1111111111111111,
              "#46039f"
             ],
             [
              0.2222222222222222,
              "#7201a8"
             ],
             [
              0.3333333333333333,
              "#9c179e"
             ],
             [
              0.4444444444444444,
              "#bd3786"
             ],
             [
              0.5555555555555556,
              "#d8576b"
             ],
             [
              0.6666666666666666,
              "#ed7953"
             ],
             [
              0.7777777777777778,
              "#fb9f3a"
             ],
             [
              0.8888888888888888,
              "#fdca26"
             ],
             [
              1,
              "#f0f921"
             ]
            ],
            "type": "histogram2d"
           }
          ],
          "histogram2dcontour": [
           {
            "colorbar": {
             "outlinewidth": 0,
             "ticks": ""
            },
            "colorscale": [
             [
              0,
              "#0d0887"
             ],
             [
              0.1111111111111111,
              "#46039f"
             ],
             [
              0.2222222222222222,
              "#7201a8"
             ],
             [
              0.3333333333333333,
              "#9c179e"
             ],
             [
              0.4444444444444444,
              "#bd3786"
             ],
             [
              0.5555555555555556,
              "#d8576b"
             ],
             [
              0.6666666666666666,
              "#ed7953"
             ],
             [
              0.7777777777777778,
              "#fb9f3a"
             ],
             [
              0.8888888888888888,
              "#fdca26"
             ],
             [
              1,
              "#f0f921"
             ]
            ],
            "type": "histogram2dcontour"
           }
          ],
          "mesh3d": [
           {
            "colorbar": {
             "outlinewidth": 0,
             "ticks": ""
            },
            "type": "mesh3d"
           }
          ],
          "parcoords": [
           {
            "line": {
             "colorbar": {
              "outlinewidth": 0,
              "ticks": ""
             }
            },
            "type": "parcoords"
           }
          ],
          "pie": [
           {
            "automargin": true,
            "type": "pie"
           }
          ],
          "scatter": [
           {
            "fillpattern": {
             "fillmode": "overlay",
             "size": 10,
             "solidity": 0.2
            },
            "type": "scatter"
           }
          ],
          "scatter3d": [
           {
            "line": {
             "colorbar": {
              "outlinewidth": 0,
              "ticks": ""
             }
            },
            "marker": {
             "colorbar": {
              "outlinewidth": 0,
              "ticks": ""
             }
            },
            "type": "scatter3d"
           }
          ],
          "scattercarpet": [
           {
            "marker": {
             "colorbar": {
              "outlinewidth": 0,
              "ticks": ""
             }
            },
            "type": "scattercarpet"
           }
          ],
          "scattergeo": [
           {
            "marker": {
             "colorbar": {
              "outlinewidth": 0,
              "ticks": ""
             }
            },
            "type": "scattergeo"
           }
          ],
          "scattergl": [
           {
            "marker": {
             "colorbar": {
              "outlinewidth": 0,
              "ticks": ""
             }
            },
            "type": "scattergl"
           }
          ],
          "scattermapbox": [
           {
            "marker": {
             "colorbar": {
              "outlinewidth": 0,
              "ticks": ""
             }
            },
            "type": "scattermapbox"
           }
          ],
          "scatterpolar": [
           {
            "marker": {
             "colorbar": {
              "outlinewidth": 0,
              "ticks": ""
             }
            },
            "type": "scatterpolar"
           }
          ],
          "scatterpolargl": [
           {
            "marker": {
             "colorbar": {
              "outlinewidth": 0,
              "ticks": ""
             }
            },
            "type": "scatterpolargl"
           }
          ],
          "scatterternary": [
           {
            "marker": {
             "colorbar": {
              "outlinewidth": 0,
              "ticks": ""
             }
            },
            "type": "scatterternary"
           }
          ],
          "surface": [
           {
            "colorbar": {
             "outlinewidth": 0,
             "ticks": ""
            },
            "colorscale": [
             [
              0,
              "#0d0887"
             ],
             [
              0.1111111111111111,
              "#46039f"
             ],
             [
              0.2222222222222222,
              "#7201a8"
             ],
             [
              0.3333333333333333,
              "#9c179e"
             ],
             [
              0.4444444444444444,
              "#bd3786"
             ],
             [
              0.5555555555555556,
              "#d8576b"
             ],
             [
              0.6666666666666666,
              "#ed7953"
             ],
             [
              0.7777777777777778,
              "#fb9f3a"
             ],
             [
              0.8888888888888888,
              "#fdca26"
             ],
             [
              1,
              "#f0f921"
             ]
            ],
            "type": "surface"
           }
          ],
          "table": [
           {
            "cells": {
             "fill": {
              "color": "#EBF0F8"
             },
             "line": {
              "color": "white"
             }
            },
            "header": {
             "fill": {
              "color": "#C8D4E3"
             },
             "line": {
              "color": "white"
             }
            },
            "type": "table"
           }
          ]
         },
         "layout": {
          "annotationdefaults": {
           "arrowcolor": "#2a3f5f",
           "arrowhead": 0,
           "arrowwidth": 1
          },
          "autotypenumbers": "strict",
          "coloraxis": {
           "colorbar": {
            "outlinewidth": 0,
            "ticks": ""
           }
          },
          "colorscale": {
           "diverging": [
            [
             0,
             "#8e0152"
            ],
            [
             0.1,
             "#c51b7d"
            ],
            [
             0.2,
             "#de77ae"
            ],
            [
             0.3,
             "#f1b6da"
            ],
            [
             0.4,
             "#fde0ef"
            ],
            [
             0.5,
             "#f7f7f7"
            ],
            [
             0.6,
             "#e6f5d0"
            ],
            [
             0.7,
             "#b8e186"
            ],
            [
             0.8,
             "#7fbc41"
            ],
            [
             0.9,
             "#4d9221"
            ],
            [
             1,
             "#276419"
            ]
           ],
           "sequential": [
            [
             0,
             "#0d0887"
            ],
            [
             0.1111111111111111,
             "#46039f"
            ],
            [
             0.2222222222222222,
             "#7201a8"
            ],
            [
             0.3333333333333333,
             "#9c179e"
            ],
            [
             0.4444444444444444,
             "#bd3786"
            ],
            [
             0.5555555555555556,
             "#d8576b"
            ],
            [
             0.6666666666666666,
             "#ed7953"
            ],
            [
             0.7777777777777778,
             "#fb9f3a"
            ],
            [
             0.8888888888888888,
             "#fdca26"
            ],
            [
             1,
             "#f0f921"
            ]
           ],
           "sequentialminus": [
            [
             0,
             "#0d0887"
            ],
            [
             0.1111111111111111,
             "#46039f"
            ],
            [
             0.2222222222222222,
             "#7201a8"
            ],
            [
             0.3333333333333333,
             "#9c179e"
            ],
            [
             0.4444444444444444,
             "#bd3786"
            ],
            [
             0.5555555555555556,
             "#d8576b"
            ],
            [
             0.6666666666666666,
             "#ed7953"
            ],
            [
             0.7777777777777778,
             "#fb9f3a"
            ],
            [
             0.8888888888888888,
             "#fdca26"
            ],
            [
             1,
             "#f0f921"
            ]
           ]
          },
          "colorway": [
           "#636efa",
           "#EF553B",
           "#00cc96",
           "#ab63fa",
           "#FFA15A",
           "#19d3f3",
           "#FF6692",
           "#B6E880",
           "#FF97FF",
           "#FECB52"
          ],
          "font": {
           "color": "#2a3f5f"
          },
          "geo": {
           "bgcolor": "white",
           "lakecolor": "white",
           "landcolor": "#E5ECF6",
           "showlakes": true,
           "showland": true,
           "subunitcolor": "white"
          },
          "hoverlabel": {
           "align": "left"
          },
          "hovermode": "closest",
          "mapbox": {
           "style": "light"
          },
          "paper_bgcolor": "white",
          "plot_bgcolor": "#E5ECF6",
          "polar": {
           "angularaxis": {
            "gridcolor": "white",
            "linecolor": "white",
            "ticks": ""
           },
           "bgcolor": "#E5ECF6",
           "radialaxis": {
            "gridcolor": "white",
            "linecolor": "white",
            "ticks": ""
           }
          },
          "scene": {
           "xaxis": {
            "backgroundcolor": "#E5ECF6",
            "gridcolor": "white",
            "gridwidth": 2,
            "linecolor": "white",
            "showbackground": true,
            "ticks": "",
            "zerolinecolor": "white"
           },
           "yaxis": {
            "backgroundcolor": "#E5ECF6",
            "gridcolor": "white",
            "gridwidth": 2,
            "linecolor": "white",
            "showbackground": true,
            "ticks": "",
            "zerolinecolor": "white"
           },
           "zaxis": {
            "backgroundcolor": "#E5ECF6",
            "gridcolor": "white",
            "gridwidth": 2,
            "linecolor": "white",
            "showbackground": true,
            "ticks": "",
            "zerolinecolor": "white"
           }
          },
          "shapedefaults": {
           "line": {
            "color": "#2a3f5f"
           }
          },
          "ternary": {
           "aaxis": {
            "gridcolor": "white",
            "linecolor": "white",
            "ticks": ""
           },
           "baxis": {
            "gridcolor": "white",
            "linecolor": "white",
            "ticks": ""
           },
           "bgcolor": "#E5ECF6",
           "caxis": {
            "gridcolor": "white",
            "linecolor": "white",
            "ticks": ""
           }
          },
          "title": {
           "x": 0.05
          },
          "xaxis": {
           "automargin": true,
           "gridcolor": "white",
           "linecolor": "white",
           "ticks": "",
           "title": {
            "standoff": 15
           },
           "zerolinecolor": "white",
           "zerolinewidth": 2
          },
          "yaxis": {
           "automargin": true,
           "gridcolor": "white",
           "linecolor": "white",
           "ticks": "",
           "title": {
            "standoff": 15
           },
           "zerolinecolor": "white",
           "zerolinewidth": 2
          }
         }
        },
        "xaxis": {
         "anchor": "y",
         "domain": [
          0,
          1
         ],
         "title": {
          "text": "Battery(mAh)"
         }
        },
        "yaxis": {
         "anchor": "x",
         "domain": [
          0,
          1
         ]
        }
       }
      },
      "text/html": [
       "<div>                            <div id=\"300e422c-45e8-476c-a97c-23c29a58f0cc\" class=\"plotly-graph-div\" style=\"height:525px; width:100%;\"></div>            <script type=\"text/javascript\">                require([\"plotly\"], function(Plotly) {                    window.PLOTLYENV=window.PLOTLYENV || {};                                    if (document.getElementById(\"300e422c-45e8-476c-a97c-23c29a58f0cc\")) {                    Plotly.newPlot(                        \"300e422c-45e8-476c-a97c-23c29a58f0cc\",                        [{\"alignmentgroup\":\"True\",\"hovertemplate\":\"Battery(mAh)=%{x}<extra></extra>\",\"legendgroup\":\"\",\"marker\":{\"color\":\"#636efa\"},\"name\":\"\",\"notched\":false,\"offsetgroup\":\"\",\"orientation\":\"h\",\"showlegend\":false,\"x\":[3700.0,5020.0,4500.0,5000.0,5330.0,4020.0,4100.0,4100.0,4200.0,4200.0,4250.0,5000.0,4500.0,5000.0,5000.0,5000.0,5000.0,5000.0,5000.0,5000.0,4000.0,5000.0,3000.0,5000.0,5000.0,5000.0,4000.0,5000.0,4323.0,3200.0,4323.0,3200.0,3279.0,2815.0,3279.0,4323.0,4323.0,4323.0,4323.0,3200.0,3279.0,4926.0,3200.0,3279.0,4323.0,4323.0,2815.0,4323.0,2815.0,4270.0,4323.0,4300.0,2815.0,1810.0,2815.0,4323.0,2815.0,2815.0,2227.0,4926.0,3279.0,2815.0,3200.0,3279.0,4323.0,3279.0,3700.0,4323.0,4323.0,2815.0,3200.0,2815.0,5100.0,4500.0,2815.0,5000.0,5000.0,3279.0,1810.0,2815.0,2815.0,5000.0,4323.0,4020.0,5000.0,2815.0,4323.0,5000.0,3200.0,5000.0,4500.0,5000.0,5000.0,5000.0,3279.0,4500.0,5000.0,3279.0,5000.0,5000.0,5000.0,5000.0,5000.0,4500.0,4300.0,4020.0,2227.0,4800.0,4800.0,1810.0,4500.0,4500.0,5000.0,5000.0,5000.0,5000.0,5000.0,5000.0,5000.0,2691.0,5000.0,5000.0,5000.0,5000.0,5000.0,4270.0,2815.0,5000.0,5000.0,5000.0,5000.0,5000.0,5000.0,5000.0,5000.0,5000.0,5000.0,5000.0,5000.0,5000.0,5000.0,4500.0,5000.0,5000.0,1810.0,5000.0,5000.0,5000.0,4800.0,5000.0,4500.0,1810.0,1810.0,5000.0,4300.0,5000.0,5000.0,4610.0,4600.0,5000.0,2815.0,2815.0,6000.0,6000.0,6000.0,6000.0,2815.0,2815.0,2815.0,2815.0,5000.0,4323.0,4323.0,3279.0,3279.0,5000.0,4323.0,4323.0,4323.0,3200.0,3200.0,3200.0,3200.0,3200.0,4323.0,4323.0,3110.0,3110.0,2815.0,3110.0,3110.0,2815.0,3000.0,3300.0,5000.0,2227.0,4300.0,5020.0,2815.0,5000.0,5000.0,5000.0,4600.0,5100.0,4800.0,4300.0,3850.0,4300.0,5000.0,5000.0,5000.0,5000.0,4800.0,5000.0,5000.0,3905.0,4950.0,4300.0,2227.0,4300.0,4300.0,3500.0,4500.0,2227.0,5000.0,5000.0,4300.0,5000.0,4500.0,4500.0,4500.0,2227.0,2227.0,5000.0,5000.0,5000.0,5000.0,5000.0,5000.0,5000.0,5000.0,5000.0,5000.0,5000.0,5000.0,5000.0,5000.0,5000.0,5000.0,6000.0,5000.0,5000.0,6000.0,5000.0,5000.0,5000.0,6000.0,5000.0,3000.0,5000.0,6000.0,4500.0,5020.0,5000.0,5000.0,5000.0,5000.0,5000.0,5000.0,5000.0,3000.0,5000.0,5000.0,5000.0,5000.0,5000.0,6000.0,5000.0,5000.0,5000.0,5000.0,5000.0,4200.0,5000.0,5000.0,5000.0,5000.0,5000.0,5000.0,5000.0,5000.0,4000.0,5000.0,5000.0,5000.0,5000.0,5000.0,5000.0,3000.0,5000.0,5000.0,5020.0,5000.0,5020.0,3000.0,5000.0,5020.0,5000.0,4800.0,5020.0,5000.0,4300.0,5020.0,5000.0,3200.0,5000.0,5000.0,5000.0,5000.0,5000.0,5000.0,5000.0,5000.0,5000.0,4300.0,5000.0,5000.0,5000.0,4300.0,4300.0,4250.0,4500.0,3000.0,4000.0,5000.0,5000.0,5000.0,4300.0,4500.0,5000.0,5000.0,4500.0,5000.0,5000.0,5000.0,5000.0,5080.0,4500.0,5080.0,5000.0,5000.0,3800.0,4250.0,4050.0,5000.0,4300.0,4500.0,4300.0,3800.0,4500.0,4500.0,5000.0,4500.0,4800.0,4500.0,6000.0,4200.0,4500.0,3800.0,4300.0,4000.0,4500.0,4000.0,4500.0,3600.0,4500.0,4000.0,3800.0,4500.0,4000.0,2227.0,3300.0,3300.0,2227.0,3700.0,4500.0,4500.0,4360.0,5000.0,5000.0,5000.0,5000.0,5000.0,5000.0,4500.0,4500.0,4500.0,5000.0,4400.0,5000.0,4400.0,4500.0,4400.0,5000.0,4400.0,4926.0,3000.0,5000.0,2691.0,2815.0,1810.0,3000.0,2942.0,2942.0,2716.0,1960.0,1960.0,1821.0,1821.0,2716.0,4000.0,2942.0,2942.0,2942.0,2942.0,3400.0,2815.0,2815.0,2716.0,2400.0,3000.0,3100.0,3000.0,3000.0,2800.0,2300.0,2600.0,5000.0,3020.0,1624.0,2600.0,3000.0,3000.0,2600.0,3000.0,2400.0,3000.0,3000.0,3300.0,5000.0,3000.0,3000.0,3020.0,3400.0,3400.0,3000.0,3000.0,3000.0,3000.0,3000.0,3100.0,3000.0,3000.0,3000.0,3000.0,3000.0,4000.0,3300.0,3300.0,1960.0,2400.0,3400.0,3000.0,3100.0,5000.0,3400.0,3000.0,3750.0,3000.0,3400.0,4500.0,3000.0,4000.0,3000.0,2800.0,3000.0,3000.0,3100.0,3100.0,3000.0,2800.0,6000.0,5000.0,3500.0,5020.0,5000.0,3300.0,3200.0,5000.0,5000.0,4000.0,3500.0,3500.0,1715.0,1960.0,6000.0,3340.0,3340.0,3340.0,3000.0,5000.0,3000.0,3100.0,3500.0,4000.0,3500.0,3500.0,3600.0,4000.0,5000.0,5020.0,3500.0,3500.0,3500.0,5000.0,3000.0,3000.0,1810.0,1810.0,4000.0,1810.0,5000.0,5000.0,3600.0,5000.0,4000.0,5000.0,3100.0,1810.0,4200.0,3500.0,3500.0,3300.0,4500.0,4000.0,4000.0,3100.0,3100.0,4000.0,4000.0,6000.0,4000.0,4000.0,1810.0,1810.0,1810.0,5000.0,3000.0,3500.0,3400.0,4500.0,5000.0,4000.0,4500.0,4500.0,3400.0,4500.0,4300.0,4030.0,5000.0,3000.0,5000.0,2942.0,5020.0,1810.0,4000.0,4500.0,3600.0,2942.0,2716.0,3600.0,5000.0,4000.0,4200.0,4100.0,4500.0,4500.0,2942.0,3000.0,3300.0,4000.0,4100.0,4500.0,4100.0,4500.0,3000.0,3400.0,3500.0,3400.0,2942.0,3100.0,3500.0,4500.0,4520.0,4200.0,4500.0,2942.0,4200.0,4500.0,4200.0,2942.0,4500.0,4500.0,4500.0,4500.0,4500.0,4500.0,4500.0,4500.0,4200.0,1810.0,4100.0,4000.0,3800.0,4250.0,4250.0,4250.0,4000.0,2942.0,4000.0,4500.0,4000.0,4520.0,4614.0,4500.0,4000.0,1810.0,3110.0,3110.0,4500.0,4500.0,4100.0,4300.0,4500.0,4500.0,4000.0,3110.0,2942.0,3110.0,4500.0,4500.0,4200.0,5000.0,3400.0,3110.0,3110.0,3110.0,2227.0,4300.0,4100.0,4200.0,2227.0,2227.0,4200.0,1810.0,4500.0,3400.0,4614.0,5000.0,4500.0,3046.0,3110.0,3110.0,3110.0,4200.0,4200.0,4800.0,5000.0,2227.0,3110.0,2227.0,2227.0,3110.0,2227.0,3110.0,2227.0,1810.0,4800.0,4800.0,3110.0,3046.0,2227.0,2227.0,3110.0,5000.0,3110.0,2227.0,2227.0,4400.0,2815.0,2815.0,4500.0,3046.0,5000.0,4500.0,5000.0,3300.0,5000.0,3110.0,2227.0,4500.0,4500.0,4000.0,2815.0,2815.0,2227.0,4360.0,4500.0,2815.0,2815.0,2815.0,3046.0,2815.0,2815.0,3687.0,2227.0,3687.0,3687.0,3687.0,3687.0,4400.0,4926.0,4500.0,4500.0,4500.0,3687.0,3687.0,3687.0,2815.0,4400.0,4400.0,2227.0,2815.0,4500.0,4500.0,2815.0,5000.0,3687.0,4400.0,2815.0,4800.0,2227.0,2815.0,3687.0,3687.0,3687.0,3687.0,2815.0,3687.0,2815.0,2815.0,2815.0,2815.0,2815.0,3687.0,3687.0,3687.0,3687.0,3687.0,3687.0,3687.0,3687.0,3687.0,2815.0,2815.0,2815.0,3687.0,3687.0,3687.0,3687.0,3687.0,3687.0,2815.0,2815.0,2815.0,2815.0,2815.0],\"x0\":\" \",\"xaxis\":\"x\",\"y0\":\" \",\"yaxis\":\"y\",\"type\":\"box\",\"fillcolor\":\"#C9A26B\"}],                        {\"template\":{\"data\":{\"histogram2dcontour\":[{\"type\":\"histogram2dcontour\",\"colorbar\":{\"outlinewidth\":0,\"ticks\":\"\"},\"colorscale\":[[0.0,\"#0d0887\"],[0.1111111111111111,\"#46039f\"],[0.2222222222222222,\"#7201a8\"],[0.3333333333333333,\"#9c179e\"],[0.4444444444444444,\"#bd3786\"],[0.5555555555555556,\"#d8576b\"],[0.6666666666666666,\"#ed7953\"],[0.7777777777777778,\"#fb9f3a\"],[0.8888888888888888,\"#fdca26\"],[1.0,\"#f0f921\"]]}],\"choropleth\":[{\"type\":\"choropleth\",\"colorbar\":{\"outlinewidth\":0,\"ticks\":\"\"}}],\"histogram2d\":[{\"type\":\"histogram2d\",\"colorbar\":{\"outlinewidth\":0,\"ticks\":\"\"},\"colorscale\":[[0.0,\"#0d0887\"],[0.1111111111111111,\"#46039f\"],[0.2222222222222222,\"#7201a8\"],[0.3333333333333333,\"#9c179e\"],[0.4444444444444444,\"#bd3786\"],[0.5555555555555556,\"#d8576b\"],[0.6666666666666666,\"#ed7953\"],[0.7777777777777778,\"#fb9f3a\"],[0.8888888888888888,\"#fdca26\"],[1.0,\"#f0f921\"]]}],\"heatmap\":[{\"type\":\"heatmap\",\"colorbar\":{\"outlinewidth\":0,\"ticks\":\"\"},\"colorscale\":[[0.0,\"#0d0887\"],[0.1111111111111111,\"#46039f\"],[0.2222222222222222,\"#7201a8\"],[0.3333333333333333,\"#9c179e\"],[0.4444444444444444,\"#bd3786\"],[0.5555555555555556,\"#d8576b\"],[0.6666666666666666,\"#ed7953\"],[0.7777777777777778,\"#fb9f3a\"],[0.8888888888888888,\"#fdca26\"],[1.0,\"#f0f921\"]]}],\"heatmapgl\":[{\"type\":\"heatmapgl\",\"colorbar\":{\"outlinewidth\":0,\"ticks\":\"\"},\"colorscale\":[[0.0,\"#0d0887\"],[0.1111111111111111,\"#46039f\"],[0.2222222222222222,\"#7201a8\"],[0.3333333333333333,\"#9c179e\"],[0.4444444444444444,\"#bd3786\"],[0.5555555555555556,\"#d8576b\"],[0.6666666666666666,\"#ed7953\"],[0.7777777777777778,\"#fb9f3a\"],[0.8888888888888888,\"#fdca26\"],[1.0,\"#f0f921\"]]}],\"contourcarpet\":[{\"type\":\"contourcarpet\",\"colorbar\":{\"outlinewidth\":0,\"ticks\":\"\"}}],\"contour\":[{\"type\":\"contour\",\"colorbar\":{\"outlinewidth\":0,\"ticks\":\"\"},\"colorscale\":[[0.0,\"#0d0887\"],[0.1111111111111111,\"#46039f\"],[0.2222222222222222,\"#7201a8\"],[0.3333333333333333,\"#9c179e\"],[0.4444444444444444,\"#bd3786\"],[0.5555555555555556,\"#d8576b\"],[0.6666666666666666,\"#ed7953\"],[0.7777777777777778,\"#fb9f3a\"],[0.8888888888888888,\"#fdca26\"],[1.0,\"#f0f921\"]]}],\"surface\":[{\"type\":\"surface\",\"colorbar\":{\"outlinewidth\":0,\"ticks\":\"\"},\"colorscale\":[[0.0,\"#0d0887\"],[0.1111111111111111,\"#46039f\"],[0.2222222222222222,\"#7201a8\"],[0.3333333333333333,\"#9c179e\"],[0.4444444444444444,\"#bd3786\"],[0.5555555555555556,\"#d8576b\"],[0.6666666666666666,\"#ed7953\"],[0.7777777777777778,\"#fb9f3a\"],[0.8888888888888888,\"#fdca26\"],[1.0,\"#f0f921\"]]}],\"mesh3d\":[{\"type\":\"mesh3d\",\"colorbar\":{\"outlinewidth\":0,\"ticks\":\"\"}}],\"scatter\":[{\"fillpattern\":{\"fillmode\":\"overlay\",\"size\":10,\"solidity\":0.2},\"type\":\"scatter\"}],\"parcoords\":[{\"type\":\"parcoords\",\"line\":{\"colorbar\":{\"outlinewidth\":0,\"ticks\":\"\"}}}],\"scatterpolargl\":[{\"type\":\"scatterpolargl\",\"marker\":{\"colorbar\":{\"outlinewidth\":0,\"ticks\":\"\"}}}],\"bar\":[{\"error_x\":{\"color\":\"#2a3f5f\"},\"error_y\":{\"color\":\"#2a3f5f\"},\"marker\":{\"line\":{\"color\":\"#E5ECF6\",\"width\":0.5},\"pattern\":{\"fillmode\":\"overlay\",\"size\":10,\"solidity\":0.2}},\"type\":\"bar\"}],\"scattergeo\":[{\"type\":\"scattergeo\",\"marker\":{\"colorbar\":{\"outlinewidth\":0,\"ticks\":\"\"}}}],\"scatterpolar\":[{\"type\":\"scatterpolar\",\"marker\":{\"colorbar\":{\"outlinewidth\":0,\"ticks\":\"\"}}}],\"histogram\":[{\"marker\":{\"pattern\":{\"fillmode\":\"overlay\",\"size\":10,\"solidity\":0.2}},\"type\":\"histogram\"}],\"scattergl\":[{\"type\":\"scattergl\",\"marker\":{\"colorbar\":{\"outlinewidth\":0,\"ticks\":\"\"}}}],\"scatter3d\":[{\"type\":\"scatter3d\",\"line\":{\"colorbar\":{\"outlinewidth\":0,\"ticks\":\"\"}},\"marker\":{\"colorbar\":{\"outlinewidth\":0,\"ticks\":\"\"}}}],\"scattermapbox\":[{\"type\":\"scattermapbox\",\"marker\":{\"colorbar\":{\"outlinewidth\":0,\"ticks\":\"\"}}}],\"scatterternary\":[{\"type\":\"scatterternary\",\"marker\":{\"colorbar\":{\"outlinewidth\":0,\"ticks\":\"\"}}}],\"scattercarpet\":[{\"type\":\"scattercarpet\",\"marker\":{\"colorbar\":{\"outlinewidth\":0,\"ticks\":\"\"}}}],\"carpet\":[{\"aaxis\":{\"endlinecolor\":\"#2a3f5f\",\"gridcolor\":\"white\",\"linecolor\":\"white\",\"minorgridcolor\":\"white\",\"startlinecolor\":\"#2a3f5f\"},\"baxis\":{\"endlinecolor\":\"#2a3f5f\",\"gridcolor\":\"white\",\"linecolor\":\"white\",\"minorgridcolor\":\"white\",\"startlinecolor\":\"#2a3f5f\"},\"type\":\"carpet\"}],\"table\":[{\"cells\":{\"fill\":{\"color\":\"#EBF0F8\"},\"line\":{\"color\":\"white\"}},\"header\":{\"fill\":{\"color\":\"#C8D4E3\"},\"line\":{\"color\":\"white\"}},\"type\":\"table\"}],\"barpolar\":[{\"marker\":{\"line\":{\"color\":\"#E5ECF6\",\"width\":0.5},\"pattern\":{\"fillmode\":\"overlay\",\"size\":10,\"solidity\":0.2}},\"type\":\"barpolar\"}],\"pie\":[{\"automargin\":true,\"type\":\"pie\"}]},\"layout\":{\"autotypenumbers\":\"strict\",\"colorway\":[\"#636efa\",\"#EF553B\",\"#00cc96\",\"#ab63fa\",\"#FFA15A\",\"#19d3f3\",\"#FF6692\",\"#B6E880\",\"#FF97FF\",\"#FECB52\"],\"font\":{\"color\":\"#2a3f5f\"},\"hovermode\":\"closest\",\"hoverlabel\":{\"align\":\"left\"},\"paper_bgcolor\":\"white\",\"plot_bgcolor\":\"#E5ECF6\",\"polar\":{\"bgcolor\":\"#E5ECF6\",\"angularaxis\":{\"gridcolor\":\"white\",\"linecolor\":\"white\",\"ticks\":\"\"},\"radialaxis\":{\"gridcolor\":\"white\",\"linecolor\":\"white\",\"ticks\":\"\"}},\"ternary\":{\"bgcolor\":\"#E5ECF6\",\"aaxis\":{\"gridcolor\":\"white\",\"linecolor\":\"white\",\"ticks\":\"\"},\"baxis\":{\"gridcolor\":\"white\",\"linecolor\":\"white\",\"ticks\":\"\"},\"caxis\":{\"gridcolor\":\"white\",\"linecolor\":\"white\",\"ticks\":\"\"}},\"coloraxis\":{\"colorbar\":{\"outlinewidth\":0,\"ticks\":\"\"}},\"colorscale\":{\"sequential\":[[0.0,\"#0d0887\"],[0.1111111111111111,\"#46039f\"],[0.2222222222222222,\"#7201a8\"],[0.3333333333333333,\"#9c179e\"],[0.4444444444444444,\"#bd3786\"],[0.5555555555555556,\"#d8576b\"],[0.6666666666666666,\"#ed7953\"],[0.7777777777777778,\"#fb9f3a\"],[0.8888888888888888,\"#fdca26\"],[1.0,\"#f0f921\"]],\"sequentialminus\":[[0.0,\"#0d0887\"],[0.1111111111111111,\"#46039f\"],[0.2222222222222222,\"#7201a8\"],[0.3333333333333333,\"#9c179e\"],[0.4444444444444444,\"#bd3786\"],[0.5555555555555556,\"#d8576b\"],[0.6666666666666666,\"#ed7953\"],[0.7777777777777778,\"#fb9f3a\"],[0.8888888888888888,\"#fdca26\"],[1.0,\"#f0f921\"]],\"diverging\":[[0,\"#8e0152\"],[0.1,\"#c51b7d\"],[0.2,\"#de77ae\"],[0.3,\"#f1b6da\"],[0.4,\"#fde0ef\"],[0.5,\"#f7f7f7\"],[0.6,\"#e6f5d0\"],[0.7,\"#b8e186\"],[0.8,\"#7fbc41\"],[0.9,\"#4d9221\"],[1,\"#276419\"]]},\"xaxis\":{\"gridcolor\":\"white\",\"linecolor\":\"white\",\"ticks\":\"\",\"title\":{\"standoff\":15},\"zerolinecolor\":\"white\",\"automargin\":true,\"zerolinewidth\":2},\"yaxis\":{\"gridcolor\":\"white\",\"linecolor\":\"white\",\"ticks\":\"\",\"title\":{\"standoff\":15},\"zerolinecolor\":\"white\",\"automargin\":true,\"zerolinewidth\":2},\"scene\":{\"xaxis\":{\"backgroundcolor\":\"#E5ECF6\",\"gridcolor\":\"white\",\"linecolor\":\"white\",\"showbackground\":true,\"ticks\":\"\",\"zerolinecolor\":\"white\",\"gridwidth\":2},\"yaxis\":{\"backgroundcolor\":\"#E5ECF6\",\"gridcolor\":\"white\",\"linecolor\":\"white\",\"showbackground\":true,\"ticks\":\"\",\"zerolinecolor\":\"white\",\"gridwidth\":2},\"zaxis\":{\"backgroundcolor\":\"#E5ECF6\",\"gridcolor\":\"white\",\"linecolor\":\"white\",\"showbackground\":true,\"ticks\":\"\",\"zerolinecolor\":\"white\",\"gridwidth\":2}},\"shapedefaults\":{\"line\":{\"color\":\"#2a3f5f\"}},\"annotationdefaults\":{\"arrowcolor\":\"#2a3f5f\",\"arrowhead\":0,\"arrowwidth\":1},\"geo\":{\"bgcolor\":\"white\",\"landcolor\":\"#E5ECF6\",\"subunitcolor\":\"white\",\"showland\":true,\"showlakes\":true,\"lakecolor\":\"white\"},\"title\":{\"x\":0.05},\"mapbox\":{\"style\":\"light\"}}},\"xaxis\":{\"anchor\":\"y\",\"domain\":[0.0,1.0],\"title\":{\"text\":\"Battery(mAh)\"}},\"yaxis\":{\"anchor\":\"x\",\"domain\":[0.0,1.0]},\"legend\":{\"tracegroupgap\":0},\"margin\":{\"t\":60},\"boxmode\":\"group\"},                        {\"responsive\": true}                    ).then(function(){\n",
       "                            \n",
       "var gd = document.getElementById('300e422c-45e8-476c-a97c-23c29a58f0cc');\n",
       "var x = new MutationObserver(function (mutations, observer) {{\n",
       "        var display = window.getComputedStyle(gd).display;\n",
       "        if (!display || display === 'none') {{\n",
       "            console.log([gd, 'removed!']);\n",
       "            Plotly.purge(gd);\n",
       "            observer.disconnect();\n",
       "        }}\n",
       "}});\n",
       "\n",
       "// Listen for the removal of the full notebook cells\n",
       "var notebookContainer = gd.closest('#notebook-container');\n",
       "if (notebookContainer) {{\n",
       "    x.observe(notebookContainer, {childList: true});\n",
       "}}\n",
       "\n",
       "// Listen for the clearing of the current output cell\n",
       "var outputEl = gd.closest('.output');\n",
       "if (outputEl) {{\n",
       "    x.observe(outputEl, {childList: true});\n",
       "}}\n",
       "\n",
       "                        })                };                });            </script>        </div>"
      ]
     },
     "metadata": {},
     "output_type": "display_data"
    },
    {
     "data": {
      "application/vnd.plotly.v1+json": {
       "config": {
        "plotlyServerURL": "https://plot.ly"
       },
       "data": [
        {
         "alignmentgroup": "True",
         "fillcolor": "#C9A26B",
         "hovertemplate": "Taille_ecran(en pouces)=%{x}<extra></extra>",
         "legendgroup": "",
         "marker": {
          "color": "#636efa"
         },
         "name": "",
         "notched": false,
         "offsetgroup": "",
         "orientation": "h",
         "showlegend": false,
         "type": "box",
         "x": [
          6.1,
          6.6,
          6.4,
          6.5,
          6.7,
          6.5,
          6.6,
          6.6,
          6.4,
          6.4,
          6.6,
          6.6,
          6.3,
          6.5,
          6.6,
          6.5,
          6.6,
          6.4,
          6.6,
          6.4,
          6.5,
          6.5,
          5.3,
          6.5,
          6.6,
          6.4,
          4.9,
          6.4,
          6.7,
          6.1,
          6.7,
          6.1,
          6.1,
          6.1,
          6.1,
          6.7,
          6.7,
          6.7,
          6.7,
          6.1,
          6.1,
          6.7,
          6.1,
          6.1,
          6.7,
          6.7,
          6.1,
          6.7,
          6.1,
          6.3,
          6.7,
          6.1,
          6.1,
          4.7,
          6.1,
          6.7,
          6.1,
          6.1,
          5.4,
          6.7,
          6.1,
          6.1,
          6.1,
          6.1,
          6.7,
          6.1,
          6.1,
          6.7,
          6.7,
          6.1,
          6.1,
          6.1,
          6.6,
          6.4,
          6.1,
          6.6,
          6.5,
          6.1,
          4.7,
          6.1,
          6.1,
          6.7,
          6.7,
          6.3,
          6.5,
          6.1,
          6.7,
          6.6,
          6.1,
          6.6,
          6.5,
          6.6,
          6.6,
          6.5,
          6.1,
          6.4,
          6.5,
          6.1,
          6.7,
          6.1,
          6.1,
          6.6,
          6.4,
          6.4,
          5.9,
          6.3,
          5.4,
          6.5,
          6.5,
          4.7,
          6.4,
          6.4,
          6.4,
          6.7,
          6.5,
          6.5,
          6.5,
          6.6,
          6.6,
          5.5,
          6.8,
          6.6,
          6.5,
          6.5,
          6.7,
          6.3,
          6.1,
          6.5,
          6.5,
          6.5,
          6.5,
          6.6,
          6.5,
          6.6,
          6.4,
          6.6,
          6.6,
          6.6,
          6,
          6.5,
          6.6,
          6.4,
          6.6,
          6.6,
          4.7,
          6.6,
          6.7,
          6.6,
          6.6,
          6.7,
          6.7,
          4.7,
          4.7,
          6.7,
          5.9,
          6.7,
          6.7,
          6.7,
          6.7,
          6.1,
          6.1,
          6.1,
          6.7,
          6.7,
          6.7,
          6.7,
          6.1,
          6.1,
          6.1,
          6.1,
          6.5,
          6.7,
          6.7,
          6.1,
          6.1,
          6.5,
          6.7,
          6.7,
          6.7,
          6.1,
          6.1,
          6.1,
          6.1,
          6.1,
          6.7,
          6.7,
          6.1,
          6.1,
          6.1,
          6.1,
          6.1,
          6.1,
          6.1,
          6.7,
          6.7,
          5.4,
          6.1,
          6.6,
          6.1,
          6,
          6.5,
          6.5,
          6.7,
          6.6,
          6.6,
          5.9,
          5.4,
          6.1,
          6.5,
          6.5,
          6.5,
          6.5,
          6.6,
          6,
          5.4,
          6.3,
          6,
          5.9,
          5.4,
          3.26,
          3.26,
          6.7,
          6.5,
          5.4,
          6.6,
          6.4,
          6.4,
          6.6,
          6.4,
          6.3,
          6.5,
          5.4,
          5.4,
          6.6,
          6.5,
          6.5,
          5.5,
          6.5,
          6.5,
          5.5,
          6.5,
          6.5,
          6.5,
          6.5,
          6.5,
          6.5,
          6.5,
          6.5,
          6.5,
          6.7,
          5.5,
          5.5,
          6.7,
          6.5,
          6.5,
          5.5,
          6.7,
          6.5,
          5.5,
          5.5,
          6.7,
          6.5,
          6.5,
          6.6,
          6.5,
          6.4,
          6.4,
          6.5,
          6.4,
          6.5,
          5.4,
          6.5,
          6.7,
          6.5,
          6.7,
          6.5,
          6.5,
          6.6,
          6.6,
          6.6,
          6.5,
          6.6,
          5.5,
          6.6,
          6.6,
          6.6,
          6.5,
          6.7,
          6.6,
          6.6,
          6.5,
          6.7,
          6.4,
          6.7,
          6.7,
          6.4,
          6.6,
          6.6,
          5.3,
          6.5,
          6.5,
          6.7,
          6.6,
          6.7,
          5.4,
          6.6,
          6.7,
          6.6,
          6.8,
          6.7,
          6.6,
          6.4,
          6.7,
          6.5,
          5.7,
          6.6,
          6.7,
          6.4,
          6.4,
          6.4,
          6.4,
          6.4,
          6.4,
          6.4,
          6.4,
          6.7,
          6.7,
          6.6,
          6.4,
          6.4,
          6.6,
          6.4,
          5.2,
          6.3,
          6.6,
          6.5,
          6.5,
          6.4,
          6.4,
          6.6,
          6.7,
          6.4,
          6.5,
          6.5,
          6.5,
          6.5,
          6.6,
          6.5,
          6.6,
          6.5,
          6.7,
          5.4,
          6.5,
          6.3,
          6.5,
          6.6,
          6.5,
          6.6,
          5.4,
          6.7,
          6.5,
          6.6,
          6.5,
          6.7,
          6.5,
          6.7,
          6.4,
          6.5,
          6.1,
          6.5,
          6.2,
          6.4,
          6.2,
          6.4,
          6.1,
          6.4,
          6.2,
          6.5,
          6.5,
          6.2,
          5.4,
          6.7,
          1.9,
          5.4,
          6.1,
          6.7,
          6.7,
          6.6,
          6.7,
          6.8,
          6.8,
          6.8,
          6.8,
          6.8,
          6.6,
          6.6,
          6.6,
          6.8,
          7.6,
          6.8,
          7.6,
          6.5,
          6.2,
          6.8,
          7.6,
          6.7,
          6.1,
          6.5,
          5.5,
          6.1,
          4.7,
          5.8,
          6.1,
          6.1,
          5.8,
          4.7,
          4.7,
          4.7,
          4.7,
          5.8,
          6.5,
          6.1,
          6.1,
          6.1,
          6.1,
          6.1,
          6.1,
          6.1,
          5.8,
          5,
          5.2,
          5.2,
          5.2,
          5.7,
          5,
          4.7,
          5,
          6.5,
          5.4,
          4,
          5,
          5.7,
          5.2,
          5,
          5.2,
          5,
          5.1,
          5.6,
          5.2,
          6.5,
          5.8,
          5.2,
          6.1,
          6.2,
          6.2,
          5.8,
          5.6,
          5.8,
          5.6,
          5.6,
          5.2,
          5.1,
          5.2,
          5.6,
          5.6,
          5.8,
          6.3,
          5.5,
          6,
          4.7,
          5,
          6.2,
          5.1,
          5.9,
          6.3,
          6.2,
          4.6,
          6.3,
          5.8,
          6.2,
          6.5,
          5.8,
          6.3,
          5.2,
          5,
          5.8,
          5.8,
          5.9,
          5.9,
          5.8,
          5,
          6.5,
          6.5,
          6,
          6.5,
          6.5,
          6,
          5.1,
          6.5,
          6.5,
          6.4,
          6.2,
          6.2,
          4.7,
          4.7,
          6.5,
          6.1,
          6.1,
          6.1,
          5.8,
          6.6,
          5.8,
          5.9,
          5,
          6.4,
          6.2,
          6.2,
          5.5,
          6.3,
          6.5,
          6.6,
          6.1,
          6.1,
          6.1,
          6.6,
          5.8,
          5.8,
          4.7,
          4.7,
          6.5,
          4.7,
          6.5,
          6.5,
          5.5,
          6.5,
          6.4,
          6.4,
          5.8,
          4.7,
          6.4,
          6.2,
          6.2,
          6.3,
          6.7,
          6.4,
          6.4,
          5.8,
          5.8,
          6.5,
          6.5,
          6.5,
          6.5,
          6.3,
          4.7,
          4.7,
          4.7,
          6.5,
          5.5,
          6.2,
          6.1,
          6.7,
          6.5,
          6.5,
          6.5,
          6.7,
          6.1,
          6.7,
          6.4,
          6.3,
          6.6,
          5.6,
          6.6,
          6.1,
          6.7,
          4.7,
          6.4,
          6.7,
          6.1,
          6.1,
          5.8,
          6.1,
          6.6,
          6.5,
          6.4,
          6.4,
          6.5,
          6.7,
          6.1,
          5.8,
          6.3,
          6.4,
          6.4,
          6.7,
          6.3,
          6.7,
          6.2,
          6.1,
          6.2,
          6.1,
          6.1,
          5.8,
          6.2,
          6.4,
          6.6,
          6.3,
          6.5,
          6.1,
          6.5,
          6.7,
          6.4,
          6.1,
          6.5,
          6.5,
          6.7,
          6.5,
          6.5,
          6.5,
          6.5,
          6,
          6.3,
          4.7,
          6.4,
          6.4,
          6.1,
          6.6,
          6.5,
          6.6,
          6.2,
          6.1,
          6.2,
          6.5,
          6.2,
          6.6,
          6.4,
          6.6,
          6.2,
          4.7,
          6.1,
          6.1,
          6.5,
          6.5,
          6.3,
          6.8,
          6.7,
          6.7,
          6.2,
          6.1,
          6.1,
          6.1,
          6.7,
          6.7,
          6.5,
          6.6,
          6.1,
          6.1,
          6.1,
          6.1,
          5.4,
          6.8,
          6.3,
          6.5,
          5.4,
          5.4,
          6.4,
          4.7,
          6.4,
          6.1,
          6.4,
          6.9,
          6.7,
          5.8,
          6.1,
          6.1,
          6.1,
          6.4,
          6.4,
          6.7,
          6.9,
          5.4,
          6.1,
          5.4,
          5.4,
          6.1,
          5.4,
          6.1,
          5.4,
          4.7,
          6.7,
          6.7,
          6.1,
          5.8,
          5.4,
          5.4,
          6.1,
          6.8,
          6.1,
          5.4,
          5.4,
          6.7,
          6.1,
          6.1,
          6.9,
          5.8,
          6.8,
          6.1,
          6.8,
          1.9,
          6.8,
          6.1,
          5.4,
          6.9,
          6.9,
          6.9,
          6.1,
          6.1,
          5.4,
          6.6,
          6.6,
          6.1,
          6.1,
          6.1,
          5.8,
          6.1,
          6.1,
          6.7,
          5.4,
          6.7,
          6.7,
          6.7,
          6.7,
          6.7,
          6.7,
          6.6,
          6.6,
          6.6,
          6.7,
          6.7,
          6.7,
          6.1,
          6.2,
          6.2,
          5.4,
          6.1,
          6.9,
          6.9,
          6.1,
          6.8,
          6.7,
          6.2,
          6.1,
          6.7,
          5.4,
          6.1,
          6.7,
          6.7,
          6.7,
          6.7,
          6.1,
          6.7,
          6.1,
          6.1,
          6.1,
          6.1,
          6.1,
          6.7,
          6.7,
          6.7,
          6.7,
          6.7,
          6.7,
          6.7,
          6.7,
          6.7,
          6.1,
          6.1,
          6.1,
          6.7,
          6.7,
          6.7,
          6.7,
          6.7,
          6.7,
          6.1,
          6.1,
          6.1,
          6.1,
          6.1
         ],
         "x0": " ",
         "xaxis": "x",
         "y0": " ",
         "yaxis": "y"
        }
       ],
       "layout": {
        "boxmode": "group",
        "legend": {
         "tracegroupgap": 0
        },
        "margin": {
         "t": 60
        },
        "template": {
         "data": {
          "bar": [
           {
            "error_x": {
             "color": "#2a3f5f"
            },
            "error_y": {
             "color": "#2a3f5f"
            },
            "marker": {
             "line": {
              "color": "#E5ECF6",
              "width": 0.5
             },
             "pattern": {
              "fillmode": "overlay",
              "size": 10,
              "solidity": 0.2
             }
            },
            "type": "bar"
           }
          ],
          "barpolar": [
           {
            "marker": {
             "line": {
              "color": "#E5ECF6",
              "width": 0.5
             },
             "pattern": {
              "fillmode": "overlay",
              "size": 10,
              "solidity": 0.2
             }
            },
            "type": "barpolar"
           }
          ],
          "carpet": [
           {
            "aaxis": {
             "endlinecolor": "#2a3f5f",
             "gridcolor": "white",
             "linecolor": "white",
             "minorgridcolor": "white",
             "startlinecolor": "#2a3f5f"
            },
            "baxis": {
             "endlinecolor": "#2a3f5f",
             "gridcolor": "white",
             "linecolor": "white",
             "minorgridcolor": "white",
             "startlinecolor": "#2a3f5f"
            },
            "type": "carpet"
           }
          ],
          "choropleth": [
           {
            "colorbar": {
             "outlinewidth": 0,
             "ticks": ""
            },
            "type": "choropleth"
           }
          ],
          "contour": [
           {
            "colorbar": {
             "outlinewidth": 0,
             "ticks": ""
            },
            "colorscale": [
             [
              0,
              "#0d0887"
             ],
             [
              0.1111111111111111,
              "#46039f"
             ],
             [
              0.2222222222222222,
              "#7201a8"
             ],
             [
              0.3333333333333333,
              "#9c179e"
             ],
             [
              0.4444444444444444,
              "#bd3786"
             ],
             [
              0.5555555555555556,
              "#d8576b"
             ],
             [
              0.6666666666666666,
              "#ed7953"
             ],
             [
              0.7777777777777778,
              "#fb9f3a"
             ],
             [
              0.8888888888888888,
              "#fdca26"
             ],
             [
              1,
              "#f0f921"
             ]
            ],
            "type": "contour"
           }
          ],
          "contourcarpet": [
           {
            "colorbar": {
             "outlinewidth": 0,
             "ticks": ""
            },
            "type": "contourcarpet"
           }
          ],
          "heatmap": [
           {
            "colorbar": {
             "outlinewidth": 0,
             "ticks": ""
            },
            "colorscale": [
             [
              0,
              "#0d0887"
             ],
             [
              0.1111111111111111,
              "#46039f"
             ],
             [
              0.2222222222222222,
              "#7201a8"
             ],
             [
              0.3333333333333333,
              "#9c179e"
             ],
             [
              0.4444444444444444,
              "#bd3786"
             ],
             [
              0.5555555555555556,
              "#d8576b"
             ],
             [
              0.6666666666666666,
              "#ed7953"
             ],
             [
              0.7777777777777778,
              "#fb9f3a"
             ],
             [
              0.8888888888888888,
              "#fdca26"
             ],
             [
              1,
              "#f0f921"
             ]
            ],
            "type": "heatmap"
           }
          ],
          "heatmapgl": [
           {
            "colorbar": {
             "outlinewidth": 0,
             "ticks": ""
            },
            "colorscale": [
             [
              0,
              "#0d0887"
             ],
             [
              0.1111111111111111,
              "#46039f"
             ],
             [
              0.2222222222222222,
              "#7201a8"
             ],
             [
              0.3333333333333333,
              "#9c179e"
             ],
             [
              0.4444444444444444,
              "#bd3786"
             ],
             [
              0.5555555555555556,
              "#d8576b"
             ],
             [
              0.6666666666666666,
              "#ed7953"
             ],
             [
              0.7777777777777778,
              "#fb9f3a"
             ],
             [
              0.8888888888888888,
              "#fdca26"
             ],
             [
              1,
              "#f0f921"
             ]
            ],
            "type": "heatmapgl"
           }
          ],
          "histogram": [
           {
            "marker": {
             "pattern": {
              "fillmode": "overlay",
              "size": 10,
              "solidity": 0.2
             }
            },
            "type": "histogram"
           }
          ],
          "histogram2d": [
           {
            "colorbar": {
             "outlinewidth": 0,
             "ticks": ""
            },
            "colorscale": [
             [
              0,
              "#0d0887"
             ],
             [
              0.1111111111111111,
              "#46039f"
             ],
             [
              0.2222222222222222,
              "#7201a8"
             ],
             [
              0.3333333333333333,
              "#9c179e"
             ],
             [
              0.4444444444444444,
              "#bd3786"
             ],
             [
              0.5555555555555556,
              "#d8576b"
             ],
             [
              0.6666666666666666,
              "#ed7953"
             ],
             [
              0.7777777777777778,
              "#fb9f3a"
             ],
             [
              0.8888888888888888,
              "#fdca26"
             ],
             [
              1,
              "#f0f921"
             ]
            ],
            "type": "histogram2d"
           }
          ],
          "histogram2dcontour": [
           {
            "colorbar": {
             "outlinewidth": 0,
             "ticks": ""
            },
            "colorscale": [
             [
              0,
              "#0d0887"
             ],
             [
              0.1111111111111111,
              "#46039f"
             ],
             [
              0.2222222222222222,
              "#7201a8"
             ],
             [
              0.3333333333333333,
              "#9c179e"
             ],
             [
              0.4444444444444444,
              "#bd3786"
             ],
             [
              0.5555555555555556,
              "#d8576b"
             ],
             [
              0.6666666666666666,
              "#ed7953"
             ],
             [
              0.7777777777777778,
              "#fb9f3a"
             ],
             [
              0.8888888888888888,
              "#fdca26"
             ],
             [
              1,
              "#f0f921"
             ]
            ],
            "type": "histogram2dcontour"
           }
          ],
          "mesh3d": [
           {
            "colorbar": {
             "outlinewidth": 0,
             "ticks": ""
            },
            "type": "mesh3d"
           }
          ],
          "parcoords": [
           {
            "line": {
             "colorbar": {
              "outlinewidth": 0,
              "ticks": ""
             }
            },
            "type": "parcoords"
           }
          ],
          "pie": [
           {
            "automargin": true,
            "type": "pie"
           }
          ],
          "scatter": [
           {
            "fillpattern": {
             "fillmode": "overlay",
             "size": 10,
             "solidity": 0.2
            },
            "type": "scatter"
           }
          ],
          "scatter3d": [
           {
            "line": {
             "colorbar": {
              "outlinewidth": 0,
              "ticks": ""
             }
            },
            "marker": {
             "colorbar": {
              "outlinewidth": 0,
              "ticks": ""
             }
            },
            "type": "scatter3d"
           }
          ],
          "scattercarpet": [
           {
            "marker": {
             "colorbar": {
              "outlinewidth": 0,
              "ticks": ""
             }
            },
            "type": "scattercarpet"
           }
          ],
          "scattergeo": [
           {
            "marker": {
             "colorbar": {
              "outlinewidth": 0,
              "ticks": ""
             }
            },
            "type": "scattergeo"
           }
          ],
          "scattergl": [
           {
            "marker": {
             "colorbar": {
              "outlinewidth": 0,
              "ticks": ""
             }
            },
            "type": "scattergl"
           }
          ],
          "scattermapbox": [
           {
            "marker": {
             "colorbar": {
              "outlinewidth": 0,
              "ticks": ""
             }
            },
            "type": "scattermapbox"
           }
          ],
          "scatterpolar": [
           {
            "marker": {
             "colorbar": {
              "outlinewidth": 0,
              "ticks": ""
             }
            },
            "type": "scatterpolar"
           }
          ],
          "scatterpolargl": [
           {
            "marker": {
             "colorbar": {
              "outlinewidth": 0,
              "ticks": ""
             }
            },
            "type": "scatterpolargl"
           }
          ],
          "scatterternary": [
           {
            "marker": {
             "colorbar": {
              "outlinewidth": 0,
              "ticks": ""
             }
            },
            "type": "scatterternary"
           }
          ],
          "surface": [
           {
            "colorbar": {
             "outlinewidth": 0,
             "ticks": ""
            },
            "colorscale": [
             [
              0,
              "#0d0887"
             ],
             [
              0.1111111111111111,
              "#46039f"
             ],
             [
              0.2222222222222222,
              "#7201a8"
             ],
             [
              0.3333333333333333,
              "#9c179e"
             ],
             [
              0.4444444444444444,
              "#bd3786"
             ],
             [
              0.5555555555555556,
              "#d8576b"
             ],
             [
              0.6666666666666666,
              "#ed7953"
             ],
             [
              0.7777777777777778,
              "#fb9f3a"
             ],
             [
              0.8888888888888888,
              "#fdca26"
             ],
             [
              1,
              "#f0f921"
             ]
            ],
            "type": "surface"
           }
          ],
          "table": [
           {
            "cells": {
             "fill": {
              "color": "#EBF0F8"
             },
             "line": {
              "color": "white"
             }
            },
            "header": {
             "fill": {
              "color": "#C8D4E3"
             },
             "line": {
              "color": "white"
             }
            },
            "type": "table"
           }
          ]
         },
         "layout": {
          "annotationdefaults": {
           "arrowcolor": "#2a3f5f",
           "arrowhead": 0,
           "arrowwidth": 1
          },
          "autotypenumbers": "strict",
          "coloraxis": {
           "colorbar": {
            "outlinewidth": 0,
            "ticks": ""
           }
          },
          "colorscale": {
           "diverging": [
            [
             0,
             "#8e0152"
            ],
            [
             0.1,
             "#c51b7d"
            ],
            [
             0.2,
             "#de77ae"
            ],
            [
             0.3,
             "#f1b6da"
            ],
            [
             0.4,
             "#fde0ef"
            ],
            [
             0.5,
             "#f7f7f7"
            ],
            [
             0.6,
             "#e6f5d0"
            ],
            [
             0.7,
             "#b8e186"
            ],
            [
             0.8,
             "#7fbc41"
            ],
            [
             0.9,
             "#4d9221"
            ],
            [
             1,
             "#276419"
            ]
           ],
           "sequential": [
            [
             0,
             "#0d0887"
            ],
            [
             0.1111111111111111,
             "#46039f"
            ],
            [
             0.2222222222222222,
             "#7201a8"
            ],
            [
             0.3333333333333333,
             "#9c179e"
            ],
            [
             0.4444444444444444,
             "#bd3786"
            ],
            [
             0.5555555555555556,
             "#d8576b"
            ],
            [
             0.6666666666666666,
             "#ed7953"
            ],
            [
             0.7777777777777778,
             "#fb9f3a"
            ],
            [
             0.8888888888888888,
             "#fdca26"
            ],
            [
             1,
             "#f0f921"
            ]
           ],
           "sequentialminus": [
            [
             0,
             "#0d0887"
            ],
            [
             0.1111111111111111,
             "#46039f"
            ],
            [
             0.2222222222222222,
             "#7201a8"
            ],
            [
             0.3333333333333333,
             "#9c179e"
            ],
            [
             0.4444444444444444,
             "#bd3786"
            ],
            [
             0.5555555555555556,
             "#d8576b"
            ],
            [
             0.6666666666666666,
             "#ed7953"
            ],
            [
             0.7777777777777778,
             "#fb9f3a"
            ],
            [
             0.8888888888888888,
             "#fdca26"
            ],
            [
             1,
             "#f0f921"
            ]
           ]
          },
          "colorway": [
           "#636efa",
           "#EF553B",
           "#00cc96",
           "#ab63fa",
           "#FFA15A",
           "#19d3f3",
           "#FF6692",
           "#B6E880",
           "#FF97FF",
           "#FECB52"
          ],
          "font": {
           "color": "#2a3f5f"
          },
          "geo": {
           "bgcolor": "white",
           "lakecolor": "white",
           "landcolor": "#E5ECF6",
           "showlakes": true,
           "showland": true,
           "subunitcolor": "white"
          },
          "hoverlabel": {
           "align": "left"
          },
          "hovermode": "closest",
          "mapbox": {
           "style": "light"
          },
          "paper_bgcolor": "white",
          "plot_bgcolor": "#E5ECF6",
          "polar": {
           "angularaxis": {
            "gridcolor": "white",
            "linecolor": "white",
            "ticks": ""
           },
           "bgcolor": "#E5ECF6",
           "radialaxis": {
            "gridcolor": "white",
            "linecolor": "white",
            "ticks": ""
           }
          },
          "scene": {
           "xaxis": {
            "backgroundcolor": "#E5ECF6",
            "gridcolor": "white",
            "gridwidth": 2,
            "linecolor": "white",
            "showbackground": true,
            "ticks": "",
            "zerolinecolor": "white"
           },
           "yaxis": {
            "backgroundcolor": "#E5ECF6",
            "gridcolor": "white",
            "gridwidth": 2,
            "linecolor": "white",
            "showbackground": true,
            "ticks": "",
            "zerolinecolor": "white"
           },
           "zaxis": {
            "backgroundcolor": "#E5ECF6",
            "gridcolor": "white",
            "gridwidth": 2,
            "linecolor": "white",
            "showbackground": true,
            "ticks": "",
            "zerolinecolor": "white"
           }
          },
          "shapedefaults": {
           "line": {
            "color": "#2a3f5f"
           }
          },
          "ternary": {
           "aaxis": {
            "gridcolor": "white",
            "linecolor": "white",
            "ticks": ""
           },
           "baxis": {
            "gridcolor": "white",
            "linecolor": "white",
            "ticks": ""
           },
           "bgcolor": "#E5ECF6",
           "caxis": {
            "gridcolor": "white",
            "linecolor": "white",
            "ticks": ""
           }
          },
          "title": {
           "x": 0.05
          },
          "xaxis": {
           "automargin": true,
           "gridcolor": "white",
           "linecolor": "white",
           "ticks": "",
           "title": {
            "standoff": 15
           },
           "zerolinecolor": "white",
           "zerolinewidth": 2
          },
          "yaxis": {
           "automargin": true,
           "gridcolor": "white",
           "linecolor": "white",
           "ticks": "",
           "title": {
            "standoff": 15
           },
           "zerolinecolor": "white",
           "zerolinewidth": 2
          }
         }
        },
        "xaxis": {
         "anchor": "y",
         "domain": [
          0,
          1
         ],
         "title": {
          "text": "Taille_ecran(en pouces)"
         }
        },
        "yaxis": {
         "anchor": "x",
         "domain": [
          0,
          1
         ]
        }
       }
      },
      "text/html": [
       "<div>                            <div id=\"ae30075b-c1dc-47a2-935d-4b12c86cc715\" class=\"plotly-graph-div\" style=\"height:525px; width:100%;\"></div>            <script type=\"text/javascript\">                require([\"plotly\"], function(Plotly) {                    window.PLOTLYENV=window.PLOTLYENV || {};                                    if (document.getElementById(\"ae30075b-c1dc-47a2-935d-4b12c86cc715\")) {                    Plotly.newPlot(                        \"ae30075b-c1dc-47a2-935d-4b12c86cc715\",                        [{\"alignmentgroup\":\"True\",\"hovertemplate\":\"Taille_ecran(en pouces)=%{x}<extra></extra>\",\"legendgroup\":\"\",\"marker\":{\"color\":\"#636efa\"},\"name\":\"\",\"notched\":false,\"offsetgroup\":\"\",\"orientation\":\"h\",\"showlegend\":false,\"x\":[6.1,6.6,6.4,6.5,6.7,6.5,6.6,6.6,6.4,6.4,6.6,6.6,6.3,6.5,6.6,6.5,6.6,6.4,6.6,6.4,6.5,6.5,5.3,6.5,6.6,6.4,4.9,6.4,6.7,6.1,6.7,6.1,6.1,6.1,6.1,6.7,6.7,6.7,6.7,6.1,6.1,6.7,6.1,6.1,6.7,6.7,6.1,6.7,6.1,6.3,6.7,6.1,6.1,4.7,6.1,6.7,6.1,6.1,5.4,6.7,6.1,6.1,6.1,6.1,6.7,6.1,6.1,6.7,6.7,6.1,6.1,6.1,6.6,6.4,6.1,6.6,6.5,6.1,4.7,6.1,6.1,6.7,6.7,6.3,6.5,6.1,6.7,6.6,6.1,6.6,6.5,6.6,6.6,6.5,6.1,6.4,6.5,6.1,6.7,6.1,6.1,6.6,6.4,6.4,5.9,6.3,5.4,6.5,6.5,4.7,6.4,6.4,6.4,6.7,6.5,6.5,6.5,6.6,6.6,5.5,6.8,6.6,6.5,6.5,6.7,6.3,6.1,6.5,6.5,6.5,6.5,6.6,6.5,6.6,6.4,6.6,6.6,6.6,6.0,6.5,6.6,6.4,6.6,6.6,4.7,6.6,6.7,6.6,6.6,6.7,6.7,4.7,4.7,6.7,5.9,6.7,6.7,6.7,6.7,6.1,6.1,6.1,6.7,6.7,6.7,6.7,6.1,6.1,6.1,6.1,6.5,6.7,6.7,6.1,6.1,6.5,6.7,6.7,6.7,6.1,6.1,6.1,6.1,6.1,6.7,6.7,6.1,6.1,6.1,6.1,6.1,6.1,6.1,6.7,6.7,5.4,6.1,6.6,6.1,6.0,6.5,6.5,6.7,6.6,6.6,5.9,5.4,6.1,6.5,6.5,6.5,6.5,6.6,6.0,5.4,6.3,6.0,5.9,5.4,3.26,3.26,6.7,6.5,5.4,6.6,6.4,6.4,6.6,6.4,6.3,6.5,5.4,5.4,6.6,6.5,6.5,5.5,6.5,6.5,5.5,6.5,6.5,6.5,6.5,6.5,6.5,6.5,6.5,6.5,6.7,5.5,5.5,6.7,6.5,6.5,5.5,6.7,6.5,5.5,5.5,6.7,6.5,6.5,6.6,6.5,6.4,6.4,6.5,6.4,6.5,5.4,6.5,6.7,6.5,6.7,6.5,6.5,6.6,6.6,6.6,6.5,6.6,5.5,6.6,6.6,6.6,6.5,6.7,6.6,6.6,6.5,6.7,6.4,6.7,6.7,6.4,6.6,6.6,5.3,6.5,6.5,6.7,6.6,6.7,5.4,6.6,6.7,6.6,6.8,6.7,6.6,6.4,6.7,6.5,5.7,6.6,6.7,6.4,6.4,6.4,6.4,6.4,6.4,6.4,6.4,6.7,6.7,6.6,6.4,6.4,6.6,6.4,5.2,6.3,6.6,6.5,6.5,6.4,6.4,6.6,6.7,6.4,6.5,6.5,6.5,6.5,6.6,6.5,6.6,6.5,6.7,5.4,6.5,6.3,6.5,6.6,6.5,6.6,5.4,6.7,6.5,6.6,6.5,6.7,6.5,6.7,6.4,6.5,6.1,6.5,6.2,6.4,6.2,6.4,6.1,6.4,6.2,6.5,6.5,6.2,5.4,6.7,1.9,5.4,6.1,6.7,6.7,6.6,6.7,6.8,6.8,6.8,6.8,6.8,6.6,6.6,6.6,6.8,7.6,6.8,7.6,6.5,6.2,6.8,7.6,6.7,6.1,6.5,5.5,6.1,4.7,5.8,6.1,6.1,5.8,4.7,4.7,4.7,4.7,5.8,6.5,6.1,6.1,6.1,6.1,6.1,6.1,6.1,5.8,5.0,5.2,5.2,5.2,5.7,5.0,4.7,5.0,6.5,5.4,4.0,5.0,5.7,5.2,5.0,5.2,5.0,5.1,5.6,5.2,6.5,5.8,5.2,6.1,6.2,6.2,5.8,5.6,5.8,5.6,5.6,5.2,5.1,5.2,5.6,5.6,5.8,6.3,5.5,6.0,4.7,5.0,6.2,5.1,5.9,6.3,6.2,4.6,6.3,5.8,6.2,6.5,5.8,6.3,5.2,5.0,5.8,5.8,5.9,5.9,5.8,5.0,6.5,6.5,6.0,6.5,6.5,6.0,5.1,6.5,6.5,6.4,6.2,6.2,4.7,4.7,6.5,6.1,6.1,6.1,5.8,6.6,5.8,5.9,5.0,6.4,6.2,6.2,5.5,6.3,6.5,6.6,6.1,6.1,6.1,6.6,5.8,5.8,4.7,4.7,6.5,4.7,6.5,6.5,5.5,6.5,6.4,6.4,5.8,4.7,6.4,6.2,6.2,6.3,6.7,6.4,6.4,5.8,5.8,6.5,6.5,6.5,6.5,6.3,4.7,4.7,4.7,6.5,5.5,6.2,6.1,6.7,6.5,6.5,6.5,6.7,6.1,6.7,6.4,6.3,6.6,5.6,6.6,6.1,6.7,4.7,6.4,6.7,6.1,6.1,5.8,6.1,6.6,6.5,6.4,6.4,6.5,6.7,6.1,5.8,6.3,6.4,6.4,6.7,6.3,6.7,6.2,6.1,6.2,6.1,6.1,5.8,6.2,6.4,6.6,6.3,6.5,6.1,6.5,6.7,6.4,6.1,6.5,6.5,6.7,6.5,6.5,6.5,6.5,6.0,6.3,4.7,6.4,6.4,6.1,6.6,6.5,6.6,6.2,6.1,6.2,6.5,6.2,6.6,6.4,6.6,6.2,4.7,6.1,6.1,6.5,6.5,6.3,6.8,6.7,6.7,6.2,6.1,6.1,6.1,6.7,6.7,6.5,6.6,6.1,6.1,6.1,6.1,5.4,6.8,6.3,6.5,5.4,5.4,6.4,4.7,6.4,6.1,6.4,6.9,6.7,5.8,6.1,6.1,6.1,6.4,6.4,6.7,6.9,5.4,6.1,5.4,5.4,6.1,5.4,6.1,5.4,4.7,6.7,6.7,6.1,5.8,5.4,5.4,6.1,6.8,6.1,5.4,5.4,6.7,6.1,6.1,6.9,5.8,6.8,6.1,6.8,1.9,6.8,6.1,5.4,6.9,6.9,6.9,6.1,6.1,5.4,6.6,6.6,6.1,6.1,6.1,5.8,6.1,6.1,6.7,5.4,6.7,6.7,6.7,6.7,6.7,6.7,6.6,6.6,6.6,6.7,6.7,6.7,6.1,6.2,6.2,5.4,6.1,6.9,6.9,6.1,6.8,6.7,6.2,6.1,6.7,5.4,6.1,6.7,6.7,6.7,6.7,6.1,6.7,6.1,6.1,6.1,6.1,6.1,6.7,6.7,6.7,6.7,6.7,6.7,6.7,6.7,6.7,6.1,6.1,6.1,6.7,6.7,6.7,6.7,6.7,6.7,6.1,6.1,6.1,6.1,6.1],\"x0\":\" \",\"xaxis\":\"x\",\"y0\":\" \",\"yaxis\":\"y\",\"type\":\"box\",\"fillcolor\":\"#C9A26B\"}],                        {\"template\":{\"data\":{\"histogram2dcontour\":[{\"type\":\"histogram2dcontour\",\"colorbar\":{\"outlinewidth\":0,\"ticks\":\"\"},\"colorscale\":[[0.0,\"#0d0887\"],[0.1111111111111111,\"#46039f\"],[0.2222222222222222,\"#7201a8\"],[0.3333333333333333,\"#9c179e\"],[0.4444444444444444,\"#bd3786\"],[0.5555555555555556,\"#d8576b\"],[0.6666666666666666,\"#ed7953\"],[0.7777777777777778,\"#fb9f3a\"],[0.8888888888888888,\"#fdca26\"],[1.0,\"#f0f921\"]]}],\"choropleth\":[{\"type\":\"choropleth\",\"colorbar\":{\"outlinewidth\":0,\"ticks\":\"\"}}],\"histogram2d\":[{\"type\":\"histogram2d\",\"colorbar\":{\"outlinewidth\":0,\"ticks\":\"\"},\"colorscale\":[[0.0,\"#0d0887\"],[0.1111111111111111,\"#46039f\"],[0.2222222222222222,\"#7201a8\"],[0.3333333333333333,\"#9c179e\"],[0.4444444444444444,\"#bd3786\"],[0.5555555555555556,\"#d8576b\"],[0.6666666666666666,\"#ed7953\"],[0.7777777777777778,\"#fb9f3a\"],[0.8888888888888888,\"#fdca26\"],[1.0,\"#f0f921\"]]}],\"heatmap\":[{\"type\":\"heatmap\",\"colorbar\":{\"outlinewidth\":0,\"ticks\":\"\"},\"colorscale\":[[0.0,\"#0d0887\"],[0.1111111111111111,\"#46039f\"],[0.2222222222222222,\"#7201a8\"],[0.3333333333333333,\"#9c179e\"],[0.4444444444444444,\"#bd3786\"],[0.5555555555555556,\"#d8576b\"],[0.6666666666666666,\"#ed7953\"],[0.7777777777777778,\"#fb9f3a\"],[0.8888888888888888,\"#fdca26\"],[1.0,\"#f0f921\"]]}],\"heatmapgl\":[{\"type\":\"heatmapgl\",\"colorbar\":{\"outlinewidth\":0,\"ticks\":\"\"},\"colorscale\":[[0.0,\"#0d0887\"],[0.1111111111111111,\"#46039f\"],[0.2222222222222222,\"#7201a8\"],[0.3333333333333333,\"#9c179e\"],[0.4444444444444444,\"#bd3786\"],[0.5555555555555556,\"#d8576b\"],[0.6666666666666666,\"#ed7953\"],[0.7777777777777778,\"#fb9f3a\"],[0.8888888888888888,\"#fdca26\"],[1.0,\"#f0f921\"]]}],\"contourcarpet\":[{\"type\":\"contourcarpet\",\"colorbar\":{\"outlinewidth\":0,\"ticks\":\"\"}}],\"contour\":[{\"type\":\"contour\",\"colorbar\":{\"outlinewidth\":0,\"ticks\":\"\"},\"colorscale\":[[0.0,\"#0d0887\"],[0.1111111111111111,\"#46039f\"],[0.2222222222222222,\"#7201a8\"],[0.3333333333333333,\"#9c179e\"],[0.4444444444444444,\"#bd3786\"],[0.5555555555555556,\"#d8576b\"],[0.6666666666666666,\"#ed7953\"],[0.7777777777777778,\"#fb9f3a\"],[0.8888888888888888,\"#fdca26\"],[1.0,\"#f0f921\"]]}],\"surface\":[{\"type\":\"surface\",\"colorbar\":{\"outlinewidth\":0,\"ticks\":\"\"},\"colorscale\":[[0.0,\"#0d0887\"],[0.1111111111111111,\"#46039f\"],[0.2222222222222222,\"#7201a8\"],[0.3333333333333333,\"#9c179e\"],[0.4444444444444444,\"#bd3786\"],[0.5555555555555556,\"#d8576b\"],[0.6666666666666666,\"#ed7953\"],[0.7777777777777778,\"#fb9f3a\"],[0.8888888888888888,\"#fdca26\"],[1.0,\"#f0f921\"]]}],\"mesh3d\":[{\"type\":\"mesh3d\",\"colorbar\":{\"outlinewidth\":0,\"ticks\":\"\"}}],\"scatter\":[{\"fillpattern\":{\"fillmode\":\"overlay\",\"size\":10,\"solidity\":0.2},\"type\":\"scatter\"}],\"parcoords\":[{\"type\":\"parcoords\",\"line\":{\"colorbar\":{\"outlinewidth\":0,\"ticks\":\"\"}}}],\"scatterpolargl\":[{\"type\":\"scatterpolargl\",\"marker\":{\"colorbar\":{\"outlinewidth\":0,\"ticks\":\"\"}}}],\"bar\":[{\"error_x\":{\"color\":\"#2a3f5f\"},\"error_y\":{\"color\":\"#2a3f5f\"},\"marker\":{\"line\":{\"color\":\"#E5ECF6\",\"width\":0.5},\"pattern\":{\"fillmode\":\"overlay\",\"size\":10,\"solidity\":0.2}},\"type\":\"bar\"}],\"scattergeo\":[{\"type\":\"scattergeo\",\"marker\":{\"colorbar\":{\"outlinewidth\":0,\"ticks\":\"\"}}}],\"scatterpolar\":[{\"type\":\"scatterpolar\",\"marker\":{\"colorbar\":{\"outlinewidth\":0,\"ticks\":\"\"}}}],\"histogram\":[{\"marker\":{\"pattern\":{\"fillmode\":\"overlay\",\"size\":10,\"solidity\":0.2}},\"type\":\"histogram\"}],\"scattergl\":[{\"type\":\"scattergl\",\"marker\":{\"colorbar\":{\"outlinewidth\":0,\"ticks\":\"\"}}}],\"scatter3d\":[{\"type\":\"scatter3d\",\"line\":{\"colorbar\":{\"outlinewidth\":0,\"ticks\":\"\"}},\"marker\":{\"colorbar\":{\"outlinewidth\":0,\"ticks\":\"\"}}}],\"scattermapbox\":[{\"type\":\"scattermapbox\",\"marker\":{\"colorbar\":{\"outlinewidth\":0,\"ticks\":\"\"}}}],\"scatterternary\":[{\"type\":\"scatterternary\",\"marker\":{\"colorbar\":{\"outlinewidth\":0,\"ticks\":\"\"}}}],\"scattercarpet\":[{\"type\":\"scattercarpet\",\"marker\":{\"colorbar\":{\"outlinewidth\":0,\"ticks\":\"\"}}}],\"carpet\":[{\"aaxis\":{\"endlinecolor\":\"#2a3f5f\",\"gridcolor\":\"white\",\"linecolor\":\"white\",\"minorgridcolor\":\"white\",\"startlinecolor\":\"#2a3f5f\"},\"baxis\":{\"endlinecolor\":\"#2a3f5f\",\"gridcolor\":\"white\",\"linecolor\":\"white\",\"minorgridcolor\":\"white\",\"startlinecolor\":\"#2a3f5f\"},\"type\":\"carpet\"}],\"table\":[{\"cells\":{\"fill\":{\"color\":\"#EBF0F8\"},\"line\":{\"color\":\"white\"}},\"header\":{\"fill\":{\"color\":\"#C8D4E3\"},\"line\":{\"color\":\"white\"}},\"type\":\"table\"}],\"barpolar\":[{\"marker\":{\"line\":{\"color\":\"#E5ECF6\",\"width\":0.5},\"pattern\":{\"fillmode\":\"overlay\",\"size\":10,\"solidity\":0.2}},\"type\":\"barpolar\"}],\"pie\":[{\"automargin\":true,\"type\":\"pie\"}]},\"layout\":{\"autotypenumbers\":\"strict\",\"colorway\":[\"#636efa\",\"#EF553B\",\"#00cc96\",\"#ab63fa\",\"#FFA15A\",\"#19d3f3\",\"#FF6692\",\"#B6E880\",\"#FF97FF\",\"#FECB52\"],\"font\":{\"color\":\"#2a3f5f\"},\"hovermode\":\"closest\",\"hoverlabel\":{\"align\":\"left\"},\"paper_bgcolor\":\"white\",\"plot_bgcolor\":\"#E5ECF6\",\"polar\":{\"bgcolor\":\"#E5ECF6\",\"angularaxis\":{\"gridcolor\":\"white\",\"linecolor\":\"white\",\"ticks\":\"\"},\"radialaxis\":{\"gridcolor\":\"white\",\"linecolor\":\"white\",\"ticks\":\"\"}},\"ternary\":{\"bgcolor\":\"#E5ECF6\",\"aaxis\":{\"gridcolor\":\"white\",\"linecolor\":\"white\",\"ticks\":\"\"},\"baxis\":{\"gridcolor\":\"white\",\"linecolor\":\"white\",\"ticks\":\"\"},\"caxis\":{\"gridcolor\":\"white\",\"linecolor\":\"white\",\"ticks\":\"\"}},\"coloraxis\":{\"colorbar\":{\"outlinewidth\":0,\"ticks\":\"\"}},\"colorscale\":{\"sequential\":[[0.0,\"#0d0887\"],[0.1111111111111111,\"#46039f\"],[0.2222222222222222,\"#7201a8\"],[0.3333333333333333,\"#9c179e\"],[0.4444444444444444,\"#bd3786\"],[0.5555555555555556,\"#d8576b\"],[0.6666666666666666,\"#ed7953\"],[0.7777777777777778,\"#fb9f3a\"],[0.8888888888888888,\"#fdca26\"],[1.0,\"#f0f921\"]],\"sequentialminus\":[[0.0,\"#0d0887\"],[0.1111111111111111,\"#46039f\"],[0.2222222222222222,\"#7201a8\"],[0.3333333333333333,\"#9c179e\"],[0.4444444444444444,\"#bd3786\"],[0.5555555555555556,\"#d8576b\"],[0.6666666666666666,\"#ed7953\"],[0.7777777777777778,\"#fb9f3a\"],[0.8888888888888888,\"#fdca26\"],[1.0,\"#f0f921\"]],\"diverging\":[[0,\"#8e0152\"],[0.1,\"#c51b7d\"],[0.2,\"#de77ae\"],[0.3,\"#f1b6da\"],[0.4,\"#fde0ef\"],[0.5,\"#f7f7f7\"],[0.6,\"#e6f5d0\"],[0.7,\"#b8e186\"],[0.8,\"#7fbc41\"],[0.9,\"#4d9221\"],[1,\"#276419\"]]},\"xaxis\":{\"gridcolor\":\"white\",\"linecolor\":\"white\",\"ticks\":\"\",\"title\":{\"standoff\":15},\"zerolinecolor\":\"white\",\"automargin\":true,\"zerolinewidth\":2},\"yaxis\":{\"gridcolor\":\"white\",\"linecolor\":\"white\",\"ticks\":\"\",\"title\":{\"standoff\":15},\"zerolinecolor\":\"white\",\"automargin\":true,\"zerolinewidth\":2},\"scene\":{\"xaxis\":{\"backgroundcolor\":\"#E5ECF6\",\"gridcolor\":\"white\",\"linecolor\":\"white\",\"showbackground\":true,\"ticks\":\"\",\"zerolinecolor\":\"white\",\"gridwidth\":2},\"yaxis\":{\"backgroundcolor\":\"#E5ECF6\",\"gridcolor\":\"white\",\"linecolor\":\"white\",\"showbackground\":true,\"ticks\":\"\",\"zerolinecolor\":\"white\",\"gridwidth\":2},\"zaxis\":{\"backgroundcolor\":\"#E5ECF6\",\"gridcolor\":\"white\",\"linecolor\":\"white\",\"showbackground\":true,\"ticks\":\"\",\"zerolinecolor\":\"white\",\"gridwidth\":2}},\"shapedefaults\":{\"line\":{\"color\":\"#2a3f5f\"}},\"annotationdefaults\":{\"arrowcolor\":\"#2a3f5f\",\"arrowhead\":0,\"arrowwidth\":1},\"geo\":{\"bgcolor\":\"white\",\"landcolor\":\"#E5ECF6\",\"subunitcolor\":\"white\",\"showland\":true,\"showlakes\":true,\"lakecolor\":\"white\"},\"title\":{\"x\":0.05},\"mapbox\":{\"style\":\"light\"}}},\"xaxis\":{\"anchor\":\"y\",\"domain\":[0.0,1.0],\"title\":{\"text\":\"Taille_ecran(en pouces)\"}},\"yaxis\":{\"anchor\":\"x\",\"domain\":[0.0,1.0]},\"legend\":{\"tracegroupgap\":0},\"margin\":{\"t\":60},\"boxmode\":\"group\"},                        {\"responsive\": true}                    ).then(function(){\n",
       "                            \n",
       "var gd = document.getElementById('ae30075b-c1dc-47a2-935d-4b12c86cc715');\n",
       "var x = new MutationObserver(function (mutations, observer) {{\n",
       "        var display = window.getComputedStyle(gd).display;\n",
       "        if (!display || display === 'none') {{\n",
       "            console.log([gd, 'removed!']);\n",
       "            Plotly.purge(gd);\n",
       "            observer.disconnect();\n",
       "        }}\n",
       "}});\n",
       "\n",
       "// Listen for the removal of the full notebook cells\n",
       "var notebookContainer = gd.closest('#notebook-container');\n",
       "if (notebookContainer) {{\n",
       "    x.observe(notebookContainer, {childList: true});\n",
       "}}\n",
       "\n",
       "// Listen for the clearing of the current output cell\n",
       "var outputEl = gd.closest('.output');\n",
       "if (outputEl) {{\n",
       "    x.observe(outputEl, {childList: true});\n",
       "}}\n",
       "\n",
       "                        })                };                });            </script>        </div>"
      ]
     },
     "metadata": {},
     "output_type": "display_data"
    },
    {
     "data": {
      "application/vnd.plotly.v1+json": {
       "config": {
        "plotlyServerURL": "https://plot.ly"
       },
       "data": [
        {
         "alignmentgroup": "True",
         "fillcolor": "#C9A26B",
         "hovertemplate": "Stockage(Go)=%{x}<extra></extra>",
         "legendgroup": "",
         "marker": {
          "color": "#636efa"
         },
         "name": "",
         "notched": false,
         "offsetgroup": "",
         "orientation": "h",
         "showlegend": false,
         "type": "box",
         "x": [
          128,
          128,
          128,
          64,
          128,
          32,
          128,
          128,
          256,
          256,
          128,
          128,
          256,
          128,
          64,
          64,
          128,
          128,
          64,
          128,
          32,
          32,
          64,
          64,
          128,
          128,
          32,
          64,
          128,
          128,
          128,
          128,
          128,
          128,
          128,
          128,
          256,
          256,
          128,
          256,
          128,
          128,
          128,
          128,
          128,
          128,
          128,
          128,
          64,
          128,
          512,
          128,
          128,
          64,
          128,
          256,
          256,
          256,
          128,
          128,
          256,
          128,
          256,
          256,
          256,
          256,
          128,
          256,
          512,
          64,
          512,
          256,
          128,
          256,
          128,
          256,
          128,
          256,
          128,
          256,
          256,
          64,
          1000,
          128,
          64,
          64,
          512,
          128,
          512,
          128,
          128,
          256,
          128,
          256,
          512,
          128,
          128,
          256,
          64,
          128,
          128,
          128,
          64,
          128,
          128,
          128,
          128,
          256,
          256,
          128,
          256,
          256,
          64,
          128,
          64,
          128,
          32,
          128,
          128,
          64,
          64,
          128,
          128,
          32,
          256,
          128,
          128,
          32,
          32,
          32,
          64,
          64,
          64,
          64,
          64,
          64,
          128,
          128,
          128,
          128,
          128,
          256,
          128,
          256,
          128,
          256,
          256,
          256,
          256,
          128,
          256,
          256,
          256,
          256,
          256,
          256,
          256,
          256,
          256,
          128,
          256,
          256,
          256,
          256,
          512,
          512,
          512,
          512,
          512,
          512,
          256,
          256,
          256,
          512,
          512,
          256,
          512,
          512,
          512,
          512,
          1000,
          1000,
          1000,
          1000,
          1000,
          1000,
          64,
          128,
          128,
          64,
          128,
          128,
          32,
          128,
          128,
          128,
          128,
          256,
          64,
          128,
          128,
          128,
          256,
          128,
          128,
          256,
          64,
          128,
          64,
          64,
          128,
          128,
          128,
          128,
          64,
          128,
          64,
          128,
          256,
          256,
          256,
          256,
          512,
          128,
          64,
          128,
          128,
          128,
          256,
          256,
          256,
          256,
          256,
          128,
          64,
          128,
          32,
          32,
          32,
          32,
          32,
          32,
          32,
          32,
          32,
          32,
          32,
          32,
          32,
          32,
          64,
          64,
          32,
          32,
          128,
          128,
          64,
          32,
          16,
          128,
          64,
          128,
          64,
          64,
          64,
          128,
          128,
          64,
          128,
          64,
          16,
          32,
          128,
          64,
          128,
          64,
          64,
          128,
          128,
          128,
          128,
          64,
          32,
          64,
          128,
          128,
          128,
          128,
          128,
          128,
          64,
          128,
          128,
          128,
          128,
          128,
          128,
          128,
          64,
          128,
          64,
          128,
          128,
          256,
          16,
          128,
          256,
          128,
          128,
          128,
          128,
          128,
          256,
          64,
          32,
          64,
          128,
          128,
          128,
          128,
          128,
          128,
          128,
          128,
          128,
          128,
          128,
          128,
          128,
          128,
          128,
          128,
          32,
          64,
          128,
          128,
          128,
          128,
          128,
          128,
          128,
          256,
          128,
          128,
          128,
          128,
          128,
          128,
          128,
          128,
          128,
          64,
          128,
          64,
          128,
          128,
          128,
          128,
          32,
          256,
          128,
          256,
          128,
          256,
          128,
          128,
          128,
          128,
          128,
          128,
          128,
          256,
          128,
          256,
          128,
          256,
          128,
          128,
          128,
          128,
          128,
          128,
          128,
          256,
          256,
          128,
          128,
          256,
          256,
          128,
          128,
          128,
          256,
          128,
          128,
          128,
          256,
          256,
          256,
          256,
          256,
          256,
          256,
          512,
          512,
          128,
          32,
          128,
          64,
          64,
          64,
          64,
          64,
          64,
          64,
          32,
          32,
          64,
          256,
          64,
          64,
          64,
          64,
          64,
          64,
          128,
          64,
          64,
          256,
          16,
          16,
          16,
          16,
          16,
          16,
          16,
          8,
          32,
          16,
          32,
          8,
          16,
          16,
          8,
          32,
          16,
          32,
          32,
          32,
          32,
          32,
          32,
          32,
          64,
          64,
          32,
          32,
          32,
          32,
          32,
          16,
          32,
          32,
          32,
          32,
          64,
          64,
          16,
          64,
          32,
          16,
          32,
          32,
          64,
          64,
          32,
          16,
          64,
          64,
          32,
          64,
          64,
          64,
          16,
          32,
          64,
          64,
          64,
          64,
          64,
          16,
          64,
          32,
          32,
          64,
          64,
          64,
          64,
          64,
          64,
          64,
          64,
          64,
          64,
          32,
          64,
          128,
          128,
          128,
          64,
          128,
          64,
          64,
          16,
          64,
          64,
          64,
          32,
          64,
          64,
          128,
          64,
          64,
          64,
          128,
          64,
          64,
          64,
          64,
          128,
          64,
          32,
          32,
          32,
          128,
          128,
          128,
          128,
          64,
          128,
          64,
          64,
          64,
          128,
          128,
          128,
          128,
          128,
          128,
          128,
          128,
          128,
          64,
          128,
          128,
          128,
          128,
          64,
          64,
          128,
          128,
          128,
          128,
          128,
          128,
          128,
          128,
          128,
          128,
          128,
          32,
          128,
          64,
          128,
          64,
          128,
          128,
          128,
          64,
          64,
          128,
          128,
          128,
          128,
          128,
          128,
          128,
          64,
          64,
          64,
          128,
          128,
          128,
          128,
          128,
          64,
          128,
          256,
          128,
          64,
          128,
          64,
          128,
          256,
          128,
          128,
          128,
          256,
          128,
          128,
          128,
          128,
          128,
          128,
          128,
          128,
          128,
          128,
          128,
          128,
          256,
          128,
          128,
          128,
          128,
          128,
          128,
          128,
          128,
          128,
          128,
          128,
          256,
          128,
          128,
          128,
          256,
          64,
          64,
          128,
          128,
          128,
          256,
          128,
          128,
          128,
          64,
          128,
          64,
          128,
          128,
          256,
          256,
          512,
          64,
          64,
          64,
          64,
          256,
          512,
          256,
          64,
          64,
          128,
          256,
          128,
          512,
          128,
          128,
          256,
          64,
          128,
          64,
          128,
          256,
          256,
          128,
          128,
          128,
          64,
          128,
          64,
          128,
          128,
          128,
          64,
          256,
          128,
          128,
          256,
          256,
          128,
          128,
          256,
          128,
          256,
          256,
          256,
          256,
          128,
          128,
          256,
          256,
          256,
          128,
          256,
          128,
          128,
          256,
          256,
          256,
          256,
          256,
          128,
          256,
          256,
          256,
          128,
          256,
          256,
          256,
          512,
          256,
          256,
          256,
          256,
          128,
          128,
          128,
          128,
          256,
          256,
          128,
          256,
          256,
          256,
          256,
          256,
          512,
          512,
          256,
          512,
          512,
          512,
          512,
          128,
          128,
          512,
          256,
          512,
          256,
          512,
          128,
          128,
          128,
          128,
          128,
          128,
          256,
          256,
          256,
          256,
          256,
          512,
          256,
          256,
          256,
          128,
          1000,
          512,
          512,
          512,
          512,
          1000,
          1000,
          512,
          1000,
          1000,
          1000,
          512,
          512,
          512,
          512,
          512,
          1000,
          1000,
          1000
         ],
         "x0": " ",
         "xaxis": "x",
         "y0": " ",
         "yaxis": "y"
        }
       ],
       "layout": {
        "boxmode": "group",
        "legend": {
         "tracegroupgap": 0
        },
        "margin": {
         "t": 60
        },
        "template": {
         "data": {
          "bar": [
           {
            "error_x": {
             "color": "#2a3f5f"
            },
            "error_y": {
             "color": "#2a3f5f"
            },
            "marker": {
             "line": {
              "color": "#E5ECF6",
              "width": 0.5
             },
             "pattern": {
              "fillmode": "overlay",
              "size": 10,
              "solidity": 0.2
             }
            },
            "type": "bar"
           }
          ],
          "barpolar": [
           {
            "marker": {
             "line": {
              "color": "#E5ECF6",
              "width": 0.5
             },
             "pattern": {
              "fillmode": "overlay",
              "size": 10,
              "solidity": 0.2
             }
            },
            "type": "barpolar"
           }
          ],
          "carpet": [
           {
            "aaxis": {
             "endlinecolor": "#2a3f5f",
             "gridcolor": "white",
             "linecolor": "white",
             "minorgridcolor": "white",
             "startlinecolor": "#2a3f5f"
            },
            "baxis": {
             "endlinecolor": "#2a3f5f",
             "gridcolor": "white",
             "linecolor": "white",
             "minorgridcolor": "white",
             "startlinecolor": "#2a3f5f"
            },
            "type": "carpet"
           }
          ],
          "choropleth": [
           {
            "colorbar": {
             "outlinewidth": 0,
             "ticks": ""
            },
            "type": "choropleth"
           }
          ],
          "contour": [
           {
            "colorbar": {
             "outlinewidth": 0,
             "ticks": ""
            },
            "colorscale": [
             [
              0,
              "#0d0887"
             ],
             [
              0.1111111111111111,
              "#46039f"
             ],
             [
              0.2222222222222222,
              "#7201a8"
             ],
             [
              0.3333333333333333,
              "#9c179e"
             ],
             [
              0.4444444444444444,
              "#bd3786"
             ],
             [
              0.5555555555555556,
              "#d8576b"
             ],
             [
              0.6666666666666666,
              "#ed7953"
             ],
             [
              0.7777777777777778,
              "#fb9f3a"
             ],
             [
              0.8888888888888888,
              "#fdca26"
             ],
             [
              1,
              "#f0f921"
             ]
            ],
            "type": "contour"
           }
          ],
          "contourcarpet": [
           {
            "colorbar": {
             "outlinewidth": 0,
             "ticks": ""
            },
            "type": "contourcarpet"
           }
          ],
          "heatmap": [
           {
            "colorbar": {
             "outlinewidth": 0,
             "ticks": ""
            },
            "colorscale": [
             [
              0,
              "#0d0887"
             ],
             [
              0.1111111111111111,
              "#46039f"
             ],
             [
              0.2222222222222222,
              "#7201a8"
             ],
             [
              0.3333333333333333,
              "#9c179e"
             ],
             [
              0.4444444444444444,
              "#bd3786"
             ],
             [
              0.5555555555555556,
              "#d8576b"
             ],
             [
              0.6666666666666666,
              "#ed7953"
             ],
             [
              0.7777777777777778,
              "#fb9f3a"
             ],
             [
              0.8888888888888888,
              "#fdca26"
             ],
             [
              1,
              "#f0f921"
             ]
            ],
            "type": "heatmap"
           }
          ],
          "heatmapgl": [
           {
            "colorbar": {
             "outlinewidth": 0,
             "ticks": ""
            },
            "colorscale": [
             [
              0,
              "#0d0887"
             ],
             [
              0.1111111111111111,
              "#46039f"
             ],
             [
              0.2222222222222222,
              "#7201a8"
             ],
             [
              0.3333333333333333,
              "#9c179e"
             ],
             [
              0.4444444444444444,
              "#bd3786"
             ],
             [
              0.5555555555555556,
              "#d8576b"
             ],
             [
              0.6666666666666666,
              "#ed7953"
             ],
             [
              0.7777777777777778,
              "#fb9f3a"
             ],
             [
              0.8888888888888888,
              "#fdca26"
             ],
             [
              1,
              "#f0f921"
             ]
            ],
            "type": "heatmapgl"
           }
          ],
          "histogram": [
           {
            "marker": {
             "pattern": {
              "fillmode": "overlay",
              "size": 10,
              "solidity": 0.2
             }
            },
            "type": "histogram"
           }
          ],
          "histogram2d": [
           {
            "colorbar": {
             "outlinewidth": 0,
             "ticks": ""
            },
            "colorscale": [
             [
              0,
              "#0d0887"
             ],
             [
              0.1111111111111111,
              "#46039f"
             ],
             [
              0.2222222222222222,
              "#7201a8"
             ],
             [
              0.3333333333333333,
              "#9c179e"
             ],
             [
              0.4444444444444444,
              "#bd3786"
             ],
             [
              0.5555555555555556,
              "#d8576b"
             ],
             [
              0.6666666666666666,
              "#ed7953"
             ],
             [
              0.7777777777777778,
              "#fb9f3a"
             ],
             [
              0.8888888888888888,
              "#fdca26"
             ],
             [
              1,
              "#f0f921"
             ]
            ],
            "type": "histogram2d"
           }
          ],
          "histogram2dcontour": [
           {
            "colorbar": {
             "outlinewidth": 0,
             "ticks": ""
            },
            "colorscale": [
             [
              0,
              "#0d0887"
             ],
             [
              0.1111111111111111,
              "#46039f"
             ],
             [
              0.2222222222222222,
              "#7201a8"
             ],
             [
              0.3333333333333333,
              "#9c179e"
             ],
             [
              0.4444444444444444,
              "#bd3786"
             ],
             [
              0.5555555555555556,
              "#d8576b"
             ],
             [
              0.6666666666666666,
              "#ed7953"
             ],
             [
              0.7777777777777778,
              "#fb9f3a"
             ],
             [
              0.8888888888888888,
              "#fdca26"
             ],
             [
              1,
              "#f0f921"
             ]
            ],
            "type": "histogram2dcontour"
           }
          ],
          "mesh3d": [
           {
            "colorbar": {
             "outlinewidth": 0,
             "ticks": ""
            },
            "type": "mesh3d"
           }
          ],
          "parcoords": [
           {
            "line": {
             "colorbar": {
              "outlinewidth": 0,
              "ticks": ""
             }
            },
            "type": "parcoords"
           }
          ],
          "pie": [
           {
            "automargin": true,
            "type": "pie"
           }
          ],
          "scatter": [
           {
            "fillpattern": {
             "fillmode": "overlay",
             "size": 10,
             "solidity": 0.2
            },
            "type": "scatter"
           }
          ],
          "scatter3d": [
           {
            "line": {
             "colorbar": {
              "outlinewidth": 0,
              "ticks": ""
             }
            },
            "marker": {
             "colorbar": {
              "outlinewidth": 0,
              "ticks": ""
             }
            },
            "type": "scatter3d"
           }
          ],
          "scattercarpet": [
           {
            "marker": {
             "colorbar": {
              "outlinewidth": 0,
              "ticks": ""
             }
            },
            "type": "scattercarpet"
           }
          ],
          "scattergeo": [
           {
            "marker": {
             "colorbar": {
              "outlinewidth": 0,
              "ticks": ""
             }
            },
            "type": "scattergeo"
           }
          ],
          "scattergl": [
           {
            "marker": {
             "colorbar": {
              "outlinewidth": 0,
              "ticks": ""
             }
            },
            "type": "scattergl"
           }
          ],
          "scattermapbox": [
           {
            "marker": {
             "colorbar": {
              "outlinewidth": 0,
              "ticks": ""
             }
            },
            "type": "scattermapbox"
           }
          ],
          "scatterpolar": [
           {
            "marker": {
             "colorbar": {
              "outlinewidth": 0,
              "ticks": ""
             }
            },
            "type": "scatterpolar"
           }
          ],
          "scatterpolargl": [
           {
            "marker": {
             "colorbar": {
              "outlinewidth": 0,
              "ticks": ""
             }
            },
            "type": "scatterpolargl"
           }
          ],
          "scatterternary": [
           {
            "marker": {
             "colorbar": {
              "outlinewidth": 0,
              "ticks": ""
             }
            },
            "type": "scatterternary"
           }
          ],
          "surface": [
           {
            "colorbar": {
             "outlinewidth": 0,
             "ticks": ""
            },
            "colorscale": [
             [
              0,
              "#0d0887"
             ],
             [
              0.1111111111111111,
              "#46039f"
             ],
             [
              0.2222222222222222,
              "#7201a8"
             ],
             [
              0.3333333333333333,
              "#9c179e"
             ],
             [
              0.4444444444444444,
              "#bd3786"
             ],
             [
              0.5555555555555556,
              "#d8576b"
             ],
             [
              0.6666666666666666,
              "#ed7953"
             ],
             [
              0.7777777777777778,
              "#fb9f3a"
             ],
             [
              0.8888888888888888,
              "#fdca26"
             ],
             [
              1,
              "#f0f921"
             ]
            ],
            "type": "surface"
           }
          ],
          "table": [
           {
            "cells": {
             "fill": {
              "color": "#EBF0F8"
             },
             "line": {
              "color": "white"
             }
            },
            "header": {
             "fill": {
              "color": "#C8D4E3"
             },
             "line": {
              "color": "white"
             }
            },
            "type": "table"
           }
          ]
         },
         "layout": {
          "annotationdefaults": {
           "arrowcolor": "#2a3f5f",
           "arrowhead": 0,
           "arrowwidth": 1
          },
          "autotypenumbers": "strict",
          "coloraxis": {
           "colorbar": {
            "outlinewidth": 0,
            "ticks": ""
           }
          },
          "colorscale": {
           "diverging": [
            [
             0,
             "#8e0152"
            ],
            [
             0.1,
             "#c51b7d"
            ],
            [
             0.2,
             "#de77ae"
            ],
            [
             0.3,
             "#f1b6da"
            ],
            [
             0.4,
             "#fde0ef"
            ],
            [
             0.5,
             "#f7f7f7"
            ],
            [
             0.6,
             "#e6f5d0"
            ],
            [
             0.7,
             "#b8e186"
            ],
            [
             0.8,
             "#7fbc41"
            ],
            [
             0.9,
             "#4d9221"
            ],
            [
             1,
             "#276419"
            ]
           ],
           "sequential": [
            [
             0,
             "#0d0887"
            ],
            [
             0.1111111111111111,
             "#46039f"
            ],
            [
             0.2222222222222222,
             "#7201a8"
            ],
            [
             0.3333333333333333,
             "#9c179e"
            ],
            [
             0.4444444444444444,
             "#bd3786"
            ],
            [
             0.5555555555555556,
             "#d8576b"
            ],
            [
             0.6666666666666666,
             "#ed7953"
            ],
            [
             0.7777777777777778,
             "#fb9f3a"
            ],
            [
             0.8888888888888888,
             "#fdca26"
            ],
            [
             1,
             "#f0f921"
            ]
           ],
           "sequentialminus": [
            [
             0,
             "#0d0887"
            ],
            [
             0.1111111111111111,
             "#46039f"
            ],
            [
             0.2222222222222222,
             "#7201a8"
            ],
            [
             0.3333333333333333,
             "#9c179e"
            ],
            [
             0.4444444444444444,
             "#bd3786"
            ],
            [
             0.5555555555555556,
             "#d8576b"
            ],
            [
             0.6666666666666666,
             "#ed7953"
            ],
            [
             0.7777777777777778,
             "#fb9f3a"
            ],
            [
             0.8888888888888888,
             "#fdca26"
            ],
            [
             1,
             "#f0f921"
            ]
           ]
          },
          "colorway": [
           "#636efa",
           "#EF553B",
           "#00cc96",
           "#ab63fa",
           "#FFA15A",
           "#19d3f3",
           "#FF6692",
           "#B6E880",
           "#FF97FF",
           "#FECB52"
          ],
          "font": {
           "color": "#2a3f5f"
          },
          "geo": {
           "bgcolor": "white",
           "lakecolor": "white",
           "landcolor": "#E5ECF6",
           "showlakes": true,
           "showland": true,
           "subunitcolor": "white"
          },
          "hoverlabel": {
           "align": "left"
          },
          "hovermode": "closest",
          "mapbox": {
           "style": "light"
          },
          "paper_bgcolor": "white",
          "plot_bgcolor": "#E5ECF6",
          "polar": {
           "angularaxis": {
            "gridcolor": "white",
            "linecolor": "white",
            "ticks": ""
           },
           "bgcolor": "#E5ECF6",
           "radialaxis": {
            "gridcolor": "white",
            "linecolor": "white",
            "ticks": ""
           }
          },
          "scene": {
           "xaxis": {
            "backgroundcolor": "#E5ECF6",
            "gridcolor": "white",
            "gridwidth": 2,
            "linecolor": "white",
            "showbackground": true,
            "ticks": "",
            "zerolinecolor": "white"
           },
           "yaxis": {
            "backgroundcolor": "#E5ECF6",
            "gridcolor": "white",
            "gridwidth": 2,
            "linecolor": "white",
            "showbackground": true,
            "ticks": "",
            "zerolinecolor": "white"
           },
           "zaxis": {
            "backgroundcolor": "#E5ECF6",
            "gridcolor": "white",
            "gridwidth": 2,
            "linecolor": "white",
            "showbackground": true,
            "ticks": "",
            "zerolinecolor": "white"
           }
          },
          "shapedefaults": {
           "line": {
            "color": "#2a3f5f"
           }
          },
          "ternary": {
           "aaxis": {
            "gridcolor": "white",
            "linecolor": "white",
            "ticks": ""
           },
           "baxis": {
            "gridcolor": "white",
            "linecolor": "white",
            "ticks": ""
           },
           "bgcolor": "#E5ECF6",
           "caxis": {
            "gridcolor": "white",
            "linecolor": "white",
            "ticks": ""
           }
          },
          "title": {
           "x": 0.05
          },
          "xaxis": {
           "automargin": true,
           "gridcolor": "white",
           "linecolor": "white",
           "ticks": "",
           "title": {
            "standoff": 15
           },
           "zerolinecolor": "white",
           "zerolinewidth": 2
          },
          "yaxis": {
           "automargin": true,
           "gridcolor": "white",
           "linecolor": "white",
           "ticks": "",
           "title": {
            "standoff": 15
           },
           "zerolinecolor": "white",
           "zerolinewidth": 2
          }
         }
        },
        "xaxis": {
         "anchor": "y",
         "domain": [
          0,
          1
         ],
         "title": {
          "text": "Stockage(Go)"
         }
        },
        "yaxis": {
         "anchor": "x",
         "domain": [
          0,
          1
         ]
        }
       }
      },
      "text/html": [
       "<div>                            <div id=\"aa16fdd2-6a81-4407-9586-7719d9a37efe\" class=\"plotly-graph-div\" style=\"height:525px; width:100%;\"></div>            <script type=\"text/javascript\">                require([\"plotly\"], function(Plotly) {                    window.PLOTLYENV=window.PLOTLYENV || {};                                    if (document.getElementById(\"aa16fdd2-6a81-4407-9586-7719d9a37efe\")) {                    Plotly.newPlot(                        \"aa16fdd2-6a81-4407-9586-7719d9a37efe\",                        [{\"alignmentgroup\":\"True\",\"hovertemplate\":\"Stockage(Go)=%{x}<extra></extra>\",\"legendgroup\":\"\",\"marker\":{\"color\":\"#636efa\"},\"name\":\"\",\"notched\":false,\"offsetgroup\":\"\",\"orientation\":\"h\",\"showlegend\":false,\"x\":[128.0,128.0,128.0,64.0,128.0,32.0,128.0,128.0,256.0,256.0,128.0,128.0,256.0,128.0,64.0,64.0,128.0,128.0,64.0,128.0,32.0,32.0,64.0,64.0,128.0,128.0,32.0,64.0,128.0,128.0,128.0,128.0,128.0,128.0,128.0,128.0,256.0,256.0,128.0,256.0,128.0,128.0,128.0,128.0,128.0,128.0,128.0,128.0,64.0,128.0,512.0,128.0,128.0,64.0,128.0,256.0,256.0,256.0,128.0,128.0,256.0,128.0,256.0,256.0,256.0,256.0,128.0,256.0,512.0,64.0,512.0,256.0,128.0,256.0,128.0,256.0,128.0,256.0,128.0,256.0,256.0,64.0,1000.0,128.0,64.0,64.0,512.0,128.0,512.0,128.0,128.0,256.0,128.0,256.0,512.0,128.0,128.0,256.0,64.0,128.0,128.0,128.0,64.0,128.0,128.0,128.0,128.0,256.0,256.0,128.0,256.0,256.0,64.0,128.0,64.0,128.0,32.0,128.0,128.0,64.0,64.0,128.0,128.0,32.0,256.0,128.0,128.0,32.0,32.0,32.0,64.0,64.0,64.0,64.0,64.0,64.0,128.0,128.0,128.0,128.0,128.0,256.0,128.0,256.0,128.0,256.0,256.0,256.0,256.0,128.0,256.0,256.0,256.0,256.0,256.0,256.0,256.0,256.0,256.0,128.0,256.0,256.0,256.0,256.0,512.0,512.0,512.0,512.0,512.0,512.0,256.0,256.0,256.0,512.0,512.0,256.0,512.0,512.0,512.0,512.0,1000.0,1000.0,1000.0,1000.0,1000.0,1000.0,64.0,128.0,128.0,64.0,128.0,128.0,32.0,128.0,128.0,128.0,128.0,256.0,64.0,128.0,128.0,128.0,256.0,128.0,128.0,256.0,64.0,128.0,64.0,64.0,128.0,128.0,128.0,128.0,64.0,128.0,64.0,128.0,256.0,256.0,256.0,256.0,512.0,128.0,64.0,128.0,128.0,128.0,256.0,256.0,256.0,256.0,256.0,128.0,64.0,128.0,32.0,32.0,32.0,32.0,32.0,32.0,32.0,32.0,32.0,32.0,32.0,32.0,32.0,32.0,64.0,64.0,32.0,32.0,128.0,128.0,64.0,32.0,16.0,128.0,64.0,128.0,64.0,64.0,64.0,128.0,128.0,64.0,128.0,64.0,16.0,32.0,128.0,64.0,128.0,64.0,64.0,128.0,128.0,128.0,128.0,64.0,32.0,64.0,128.0,128.0,128.0,128.0,128.0,128.0,64.0,128.0,128.0,128.0,128.0,128.0,128.0,128.0,64.0,128.0,64.0,128.0,128.0,256.0,16.0,128.0,256.0,128.0,128.0,128.0,128.0,128.0,256.0,64.0,32.0,64.0,128.0,128.0,128.0,128.0,128.0,128.0,128.0,128.0,128.0,128.0,128.0,128.0,128.0,128.0,128.0,128.0,32.0,64.0,128.0,128.0,128.0,128.0,128.0,128.0,128.0,256.0,128.0,128.0,128.0,128.0,128.0,128.0,128.0,128.0,128.0,64.0,128.0,64.0,128.0,128.0,128.0,128.0,32.0,256.0,128.0,256.0,128.0,256.0,128.0,128.0,128.0,128.0,128.0,128.0,128.0,256.0,128.0,256.0,128.0,256.0,128.0,128.0,128.0,128.0,128.0,128.0,128.0,256.0,256.0,128.0,128.0,256.0,256.0,128.0,128.0,128.0,256.0,128.0,128.0,128.0,256.0,256.0,256.0,256.0,256.0,256.0,256.0,512.0,512.0,128.0,32.0,128.0,64.0,64.0,64.0,64.0,64.0,64.0,64.0,32.0,32.0,64.0,256.0,64.0,64.0,64.0,64.0,64.0,64.0,128.0,64.0,64.0,256.0,16.0,16.0,16.0,16.0,16.0,16.0,16.0,8.0,32.0,16.0,32.0,8.0,16.0,16.0,8.0,32.0,16.0,32.0,32.0,32.0,32.0,32.0,32.0,32.0,64.0,64.0,32.0,32.0,32.0,32.0,32.0,16.0,32.0,32.0,32.0,32.0,64.0,64.0,16.0,64.0,32.0,16.0,32.0,32.0,64.0,64.0,32.0,16.0,64.0,64.0,32.0,64.0,64.0,64.0,16.0,32.0,64.0,64.0,64.0,64.0,64.0,16.0,64.0,32.0,32.0,64.0,64.0,64.0,64.0,64.0,64.0,64.0,64.0,64.0,64.0,32.0,64.0,128.0,128.0,128.0,64.0,128.0,64.0,64.0,16.0,64.0,64.0,64.0,32.0,64.0,64.0,128.0,64.0,64.0,64.0,128.0,64.0,64.0,64.0,64.0,128.0,64.0,32.0,32.0,32.0,128.0,128.0,128.0,128.0,64.0,128.0,64.0,64.0,64.0,128.0,128.0,128.0,128.0,128.0,128.0,128.0,128.0,128.0,64.0,128.0,128.0,128.0,128.0,64.0,64.0,128.0,128.0,128.0,128.0,128.0,128.0,128.0,128.0,128.0,128.0,128.0,32.0,128.0,64.0,128.0,64.0,128.0,128.0,128.0,64.0,64.0,128.0,128.0,128.0,128.0,128.0,128.0,128.0,64.0,64.0,64.0,128.0,128.0,128.0,128.0,128.0,64.0,128.0,256.0,128.0,64.0,128.0,64.0,128.0,256.0,128.0,128.0,128.0,256.0,128.0,128.0,128.0,128.0,128.0,128.0,128.0,128.0,128.0,128.0,128.0,128.0,256.0,128.0,128.0,128.0,128.0,128.0,128.0,128.0,128.0,128.0,128.0,128.0,256.0,128.0,128.0,128.0,256.0,64.0,64.0,128.0,128.0,128.0,256.0,128.0,128.0,128.0,64.0,128.0,64.0,128.0,128.0,256.0,256.0,512.0,64.0,64.0,64.0,64.0,256.0,512.0,256.0,64.0,64.0,128.0,256.0,128.0,512.0,128.0,128.0,256.0,64.0,128.0,64.0,128.0,256.0,256.0,128.0,128.0,128.0,64.0,128.0,64.0,128.0,128.0,128.0,64.0,256.0,128.0,128.0,256.0,256.0,128.0,128.0,256.0,128.0,256.0,256.0,256.0,256.0,128.0,128.0,256.0,256.0,256.0,128.0,256.0,128.0,128.0,256.0,256.0,256.0,256.0,256.0,128.0,256.0,256.0,256.0,128.0,256.0,256.0,256.0,512.0,256.0,256.0,256.0,256.0,128.0,128.0,128.0,128.0,256.0,256.0,128.0,256.0,256.0,256.0,256.0,256.0,512.0,512.0,256.0,512.0,512.0,512.0,512.0,128.0,128.0,512.0,256.0,512.0,256.0,512.0,128.0,128.0,128.0,128.0,128.0,128.0,256.0,256.0,256.0,256.0,256.0,512.0,256.0,256.0,256.0,128.0,1000.0,512.0,512.0,512.0,512.0,1000.0,1000.0,512.0,1000.0,1000.0,1000.0,512.0,512.0,512.0,512.0,512.0,1000.0,1000.0,1000.0],\"x0\":\" \",\"xaxis\":\"x\",\"y0\":\" \",\"yaxis\":\"y\",\"type\":\"box\",\"fillcolor\":\"#C9A26B\"}],                        {\"template\":{\"data\":{\"histogram2dcontour\":[{\"type\":\"histogram2dcontour\",\"colorbar\":{\"outlinewidth\":0,\"ticks\":\"\"},\"colorscale\":[[0.0,\"#0d0887\"],[0.1111111111111111,\"#46039f\"],[0.2222222222222222,\"#7201a8\"],[0.3333333333333333,\"#9c179e\"],[0.4444444444444444,\"#bd3786\"],[0.5555555555555556,\"#d8576b\"],[0.6666666666666666,\"#ed7953\"],[0.7777777777777778,\"#fb9f3a\"],[0.8888888888888888,\"#fdca26\"],[1.0,\"#f0f921\"]]}],\"choropleth\":[{\"type\":\"choropleth\",\"colorbar\":{\"outlinewidth\":0,\"ticks\":\"\"}}],\"histogram2d\":[{\"type\":\"histogram2d\",\"colorbar\":{\"outlinewidth\":0,\"ticks\":\"\"},\"colorscale\":[[0.0,\"#0d0887\"],[0.1111111111111111,\"#46039f\"],[0.2222222222222222,\"#7201a8\"],[0.3333333333333333,\"#9c179e\"],[0.4444444444444444,\"#bd3786\"],[0.5555555555555556,\"#d8576b\"],[0.6666666666666666,\"#ed7953\"],[0.7777777777777778,\"#fb9f3a\"],[0.8888888888888888,\"#fdca26\"],[1.0,\"#f0f921\"]]}],\"heatmap\":[{\"type\":\"heatmap\",\"colorbar\":{\"outlinewidth\":0,\"ticks\":\"\"},\"colorscale\":[[0.0,\"#0d0887\"],[0.1111111111111111,\"#46039f\"],[0.2222222222222222,\"#7201a8\"],[0.3333333333333333,\"#9c179e\"],[0.4444444444444444,\"#bd3786\"],[0.5555555555555556,\"#d8576b\"],[0.6666666666666666,\"#ed7953\"],[0.7777777777777778,\"#fb9f3a\"],[0.8888888888888888,\"#fdca26\"],[1.0,\"#f0f921\"]]}],\"heatmapgl\":[{\"type\":\"heatmapgl\",\"colorbar\":{\"outlinewidth\":0,\"ticks\":\"\"},\"colorscale\":[[0.0,\"#0d0887\"],[0.1111111111111111,\"#46039f\"],[0.2222222222222222,\"#7201a8\"],[0.3333333333333333,\"#9c179e\"],[0.4444444444444444,\"#bd3786\"],[0.5555555555555556,\"#d8576b\"],[0.6666666666666666,\"#ed7953\"],[0.7777777777777778,\"#fb9f3a\"],[0.8888888888888888,\"#fdca26\"],[1.0,\"#f0f921\"]]}],\"contourcarpet\":[{\"type\":\"contourcarpet\",\"colorbar\":{\"outlinewidth\":0,\"ticks\":\"\"}}],\"contour\":[{\"type\":\"contour\",\"colorbar\":{\"outlinewidth\":0,\"ticks\":\"\"},\"colorscale\":[[0.0,\"#0d0887\"],[0.1111111111111111,\"#46039f\"],[0.2222222222222222,\"#7201a8\"],[0.3333333333333333,\"#9c179e\"],[0.4444444444444444,\"#bd3786\"],[0.5555555555555556,\"#d8576b\"],[0.6666666666666666,\"#ed7953\"],[0.7777777777777778,\"#fb9f3a\"],[0.8888888888888888,\"#fdca26\"],[1.0,\"#f0f921\"]]}],\"surface\":[{\"type\":\"surface\",\"colorbar\":{\"outlinewidth\":0,\"ticks\":\"\"},\"colorscale\":[[0.0,\"#0d0887\"],[0.1111111111111111,\"#46039f\"],[0.2222222222222222,\"#7201a8\"],[0.3333333333333333,\"#9c179e\"],[0.4444444444444444,\"#bd3786\"],[0.5555555555555556,\"#d8576b\"],[0.6666666666666666,\"#ed7953\"],[0.7777777777777778,\"#fb9f3a\"],[0.8888888888888888,\"#fdca26\"],[1.0,\"#f0f921\"]]}],\"mesh3d\":[{\"type\":\"mesh3d\",\"colorbar\":{\"outlinewidth\":0,\"ticks\":\"\"}}],\"scatter\":[{\"fillpattern\":{\"fillmode\":\"overlay\",\"size\":10,\"solidity\":0.2},\"type\":\"scatter\"}],\"parcoords\":[{\"type\":\"parcoords\",\"line\":{\"colorbar\":{\"outlinewidth\":0,\"ticks\":\"\"}}}],\"scatterpolargl\":[{\"type\":\"scatterpolargl\",\"marker\":{\"colorbar\":{\"outlinewidth\":0,\"ticks\":\"\"}}}],\"bar\":[{\"error_x\":{\"color\":\"#2a3f5f\"},\"error_y\":{\"color\":\"#2a3f5f\"},\"marker\":{\"line\":{\"color\":\"#E5ECF6\",\"width\":0.5},\"pattern\":{\"fillmode\":\"overlay\",\"size\":10,\"solidity\":0.2}},\"type\":\"bar\"}],\"scattergeo\":[{\"type\":\"scattergeo\",\"marker\":{\"colorbar\":{\"outlinewidth\":0,\"ticks\":\"\"}}}],\"scatterpolar\":[{\"type\":\"scatterpolar\",\"marker\":{\"colorbar\":{\"outlinewidth\":0,\"ticks\":\"\"}}}],\"histogram\":[{\"marker\":{\"pattern\":{\"fillmode\":\"overlay\",\"size\":10,\"solidity\":0.2}},\"type\":\"histogram\"}],\"scattergl\":[{\"type\":\"scattergl\",\"marker\":{\"colorbar\":{\"outlinewidth\":0,\"ticks\":\"\"}}}],\"scatter3d\":[{\"type\":\"scatter3d\",\"line\":{\"colorbar\":{\"outlinewidth\":0,\"ticks\":\"\"}},\"marker\":{\"colorbar\":{\"outlinewidth\":0,\"ticks\":\"\"}}}],\"scattermapbox\":[{\"type\":\"scattermapbox\",\"marker\":{\"colorbar\":{\"outlinewidth\":0,\"ticks\":\"\"}}}],\"scatterternary\":[{\"type\":\"scatterternary\",\"marker\":{\"colorbar\":{\"outlinewidth\":0,\"ticks\":\"\"}}}],\"scattercarpet\":[{\"type\":\"scattercarpet\",\"marker\":{\"colorbar\":{\"outlinewidth\":0,\"ticks\":\"\"}}}],\"carpet\":[{\"aaxis\":{\"endlinecolor\":\"#2a3f5f\",\"gridcolor\":\"white\",\"linecolor\":\"white\",\"minorgridcolor\":\"white\",\"startlinecolor\":\"#2a3f5f\"},\"baxis\":{\"endlinecolor\":\"#2a3f5f\",\"gridcolor\":\"white\",\"linecolor\":\"white\",\"minorgridcolor\":\"white\",\"startlinecolor\":\"#2a3f5f\"},\"type\":\"carpet\"}],\"table\":[{\"cells\":{\"fill\":{\"color\":\"#EBF0F8\"},\"line\":{\"color\":\"white\"}},\"header\":{\"fill\":{\"color\":\"#C8D4E3\"},\"line\":{\"color\":\"white\"}},\"type\":\"table\"}],\"barpolar\":[{\"marker\":{\"line\":{\"color\":\"#E5ECF6\",\"width\":0.5},\"pattern\":{\"fillmode\":\"overlay\",\"size\":10,\"solidity\":0.2}},\"type\":\"barpolar\"}],\"pie\":[{\"automargin\":true,\"type\":\"pie\"}]},\"layout\":{\"autotypenumbers\":\"strict\",\"colorway\":[\"#636efa\",\"#EF553B\",\"#00cc96\",\"#ab63fa\",\"#FFA15A\",\"#19d3f3\",\"#FF6692\",\"#B6E880\",\"#FF97FF\",\"#FECB52\"],\"font\":{\"color\":\"#2a3f5f\"},\"hovermode\":\"closest\",\"hoverlabel\":{\"align\":\"left\"},\"paper_bgcolor\":\"white\",\"plot_bgcolor\":\"#E5ECF6\",\"polar\":{\"bgcolor\":\"#E5ECF6\",\"angularaxis\":{\"gridcolor\":\"white\",\"linecolor\":\"white\",\"ticks\":\"\"},\"radialaxis\":{\"gridcolor\":\"white\",\"linecolor\":\"white\",\"ticks\":\"\"}},\"ternary\":{\"bgcolor\":\"#E5ECF6\",\"aaxis\":{\"gridcolor\":\"white\",\"linecolor\":\"white\",\"ticks\":\"\"},\"baxis\":{\"gridcolor\":\"white\",\"linecolor\":\"white\",\"ticks\":\"\"},\"caxis\":{\"gridcolor\":\"white\",\"linecolor\":\"white\",\"ticks\":\"\"}},\"coloraxis\":{\"colorbar\":{\"outlinewidth\":0,\"ticks\":\"\"}},\"colorscale\":{\"sequential\":[[0.0,\"#0d0887\"],[0.1111111111111111,\"#46039f\"],[0.2222222222222222,\"#7201a8\"],[0.3333333333333333,\"#9c179e\"],[0.4444444444444444,\"#bd3786\"],[0.5555555555555556,\"#d8576b\"],[0.6666666666666666,\"#ed7953\"],[0.7777777777777778,\"#fb9f3a\"],[0.8888888888888888,\"#fdca26\"],[1.0,\"#f0f921\"]],\"sequentialminus\":[[0.0,\"#0d0887\"],[0.1111111111111111,\"#46039f\"],[0.2222222222222222,\"#7201a8\"],[0.3333333333333333,\"#9c179e\"],[0.4444444444444444,\"#bd3786\"],[0.5555555555555556,\"#d8576b\"],[0.6666666666666666,\"#ed7953\"],[0.7777777777777778,\"#fb9f3a\"],[0.8888888888888888,\"#fdca26\"],[1.0,\"#f0f921\"]],\"diverging\":[[0,\"#8e0152\"],[0.1,\"#c51b7d\"],[0.2,\"#de77ae\"],[0.3,\"#f1b6da\"],[0.4,\"#fde0ef\"],[0.5,\"#f7f7f7\"],[0.6,\"#e6f5d0\"],[0.7,\"#b8e186\"],[0.8,\"#7fbc41\"],[0.9,\"#4d9221\"],[1,\"#276419\"]]},\"xaxis\":{\"gridcolor\":\"white\",\"linecolor\":\"white\",\"ticks\":\"\",\"title\":{\"standoff\":15},\"zerolinecolor\":\"white\",\"automargin\":true,\"zerolinewidth\":2},\"yaxis\":{\"gridcolor\":\"white\",\"linecolor\":\"white\",\"ticks\":\"\",\"title\":{\"standoff\":15},\"zerolinecolor\":\"white\",\"automargin\":true,\"zerolinewidth\":2},\"scene\":{\"xaxis\":{\"backgroundcolor\":\"#E5ECF6\",\"gridcolor\":\"white\",\"linecolor\":\"white\",\"showbackground\":true,\"ticks\":\"\",\"zerolinecolor\":\"white\",\"gridwidth\":2},\"yaxis\":{\"backgroundcolor\":\"#E5ECF6\",\"gridcolor\":\"white\",\"linecolor\":\"white\",\"showbackground\":true,\"ticks\":\"\",\"zerolinecolor\":\"white\",\"gridwidth\":2},\"zaxis\":{\"backgroundcolor\":\"#E5ECF6\",\"gridcolor\":\"white\",\"linecolor\":\"white\",\"showbackground\":true,\"ticks\":\"\",\"zerolinecolor\":\"white\",\"gridwidth\":2}},\"shapedefaults\":{\"line\":{\"color\":\"#2a3f5f\"}},\"annotationdefaults\":{\"arrowcolor\":\"#2a3f5f\",\"arrowhead\":0,\"arrowwidth\":1},\"geo\":{\"bgcolor\":\"white\",\"landcolor\":\"#E5ECF6\",\"subunitcolor\":\"white\",\"showland\":true,\"showlakes\":true,\"lakecolor\":\"white\"},\"title\":{\"x\":0.05},\"mapbox\":{\"style\":\"light\"}}},\"xaxis\":{\"anchor\":\"y\",\"domain\":[0.0,1.0],\"title\":{\"text\":\"Stockage(Go)\"}},\"yaxis\":{\"anchor\":\"x\",\"domain\":[0.0,1.0]},\"legend\":{\"tracegroupgap\":0},\"margin\":{\"t\":60},\"boxmode\":\"group\"},                        {\"responsive\": true}                    ).then(function(){\n",
       "                            \n",
       "var gd = document.getElementById('aa16fdd2-6a81-4407-9586-7719d9a37efe');\n",
       "var x = new MutationObserver(function (mutations, observer) {{\n",
       "        var display = window.getComputedStyle(gd).display;\n",
       "        if (!display || display === 'none') {{\n",
       "            console.log([gd, 'removed!']);\n",
       "            Plotly.purge(gd);\n",
       "            observer.disconnect();\n",
       "        }}\n",
       "}});\n",
       "\n",
       "// Listen for the removal of the full notebook cells\n",
       "var notebookContainer = gd.closest('#notebook-container');\n",
       "if (notebookContainer) {{\n",
       "    x.observe(notebookContainer, {childList: true});\n",
       "}}\n",
       "\n",
       "// Listen for the clearing of the current output cell\n",
       "var outputEl = gd.closest('.output');\n",
       "if (outputEl) {{\n",
       "    x.observe(outputEl, {childList: true});\n",
       "}}\n",
       "\n",
       "                        })                };                });            </script>        </div>"
      ]
     },
     "metadata": {},
     "output_type": "display_data"
    },
    {
     "data": {
      "application/vnd.plotly.v1+json": {
       "config": {
        "plotlyServerURL": "https://plot.ly"
       },
       "data": [
        {
         "alignmentgroup": "True",
         "fillcolor": "#C9A26B",
         "hovertemplate": "RAM(Go)=%{x}<extra></extra>",
         "legendgroup": "",
         "marker": {
          "color": "#636efa"
         },
         "name": "",
         "notched": false,
         "offsetgroup": "",
         "orientation": "h",
         "showlegend": false,
         "type": "box",
         "x": [
          8,
          6,
          8,
          4,
          4,
          2,
          8,
          8,
          12,
          12,
          8,
          8,
          8,
          6,
          4,
          4,
          6,
          6,
          4,
          4,
          2,
          2,
          4,
          4,
          6,
          6,
          3,
          4,
          6,
          6,
          6,
          6,
          4,
          4,
          4,
          6,
          6,
          6,
          6,
          6,
          4,
          12,
          6,
          4,
          4,
          4,
          4,
          4,
          4,
          8,
          6,
          6,
          4,
          3,
          4,
          6,
          4,
          4,
          4,
          12,
          4,
          4,
          6,
          4,
          6,
          4,
          8,
          4,
          6,
          4,
          6,
          4,
          6,
          8,
          4,
          8,
          4,
          4,
          3,
          4,
          4,
          3,
          6,
          8,
          4,
          4,
          6,
          6,
          6,
          8,
          6,
          8,
          8,
          12,
          4,
          8,
          4,
          4,
          3,
          8,
          8,
          4,
          4,
          8,
          8,
          8,
          4,
          8,
          8,
          3,
          8,
          12,
          4,
          4,
          4,
          4,
          2,
          6,
          6,
          3,
          4,
          4,
          4,
          2,
          12,
          8,
          4,
          2,
          3,
          2,
          4,
          4,
          4,
          4,
          4,
          4,
          6,
          8,
          6,
          8,
          8,
          8,
          8,
          12,
          3,
          8,
          12,
          8,
          12,
          8,
          8,
          3,
          3,
          12,
          8,
          12,
          12,
          12,
          12,
          8,
          4,
          4,
          12,
          12,
          16,
          16,
          4,
          4,
          4,
          4,
          12,
          4,
          4,
          4,
          4,
          12,
          4,
          4,
          4,
          6,
          6,
          6,
          6,
          6,
          6,
          6,
          4,
          4,
          4,
          4,
          4,
          4,
          2,
          8,
          12,
          4,
          6,
          8,
          4,
          6,
          4,
          8,
          12,
          6,
          8,
          8,
          4,
          6,
          2,
          4,
          4,
          6,
          8,
          6,
          4,
          6,
          4,
          8,
          4,
          8,
          8,
          8,
          12,
          4,
          4,
          4,
          8,
          8,
          8,
          8,
          12,
          4,
          4,
          6,
          4,
          6,
          2,
          2,
          2,
          2,
          2,
          3,
          3,
          2,
          2,
          2,
          2,
          2,
          2,
          3,
          3,
          3,
          3,
          2,
          4,
          4,
          4,
          3,
          2,
          4,
          4,
          4,
          4,
          4,
          4,
          4,
          4,
          4,
          4,
          4,
          2,
          3,
          4,
          4,
          4,
          4,
          4,
          4,
          4,
          4,
          4,
          4,
          3,
          4,
          4,
          4,
          6,
          4,
          4,
          4,
          4,
          6,
          6,
          6,
          6,
          6,
          4,
          8,
          4,
          4,
          4,
          8,
          4,
          8,
          2,
          4,
          8,
          4,
          6,
          8,
          4,
          8,
          8,
          4,
          3,
          4,
          6,
          6,
          6,
          6,
          6,
          6,
          6,
          6,
          6,
          8,
          8,
          4,
          8,
          8,
          8,
          8,
          4,
          4,
          6,
          4,
          4,
          8,
          8,
          6,
          8,
          12,
          6,
          6,
          6,
          6,
          8,
          6,
          8,
          6,
          6,
          4,
          8,
          4,
          6,
          8,
          6,
          8,
          3,
          8,
          6,
          8,
          6,
          8,
          6,
          8,
          12,
          6,
          8,
          8,
          8,
          8,
          8,
          8,
          6,
          8,
          8,
          8,
          6,
          8,
          4,
          8,
          8,
          4,
          8,
          8,
          8,
          8,
          12,
          8,
          12,
          8,
          12,
          8,
          8,
          8,
          8,
          12,
          12,
          12,
          12,
          12,
          12,
          12,
          12,
          12,
          2,
          4,
          3,
          4,
          3,
          4,
          3,
          3,
          3,
          2,
          2,
          2,
          2,
          3,
          4,
          3,
          3,
          3,
          3,
          8,
          4,
          4,
          3,
          2,
          3,
          2,
          3,
          2,
          2,
          1.5,
          1.5,
          2,
          2,
          2,
          1.5,
          2,
          2,
          1.5,
          4,
          2,
          4,
          3,
          3,
          3,
          3,
          4,
          2,
          3,
          3,
          3,
          3,
          3,
          3,
          3,
          2,
          4,
          3,
          4,
          3,
          4,
          4,
          2,
          4,
          2,
          2,
          2,
          4,
          4,
          3,
          2,
          2,
          4,
          4,
          2,
          6,
          4,
          4,
          2,
          3,
          4,
          4,
          4,
          4,
          4,
          2,
          4,
          3,
          3,
          3,
          4,
          4,
          4,
          4,
          4,
          4,
          6,
          6,
          1,
          2,
          4,
          4,
          4,
          4,
          4,
          6,
          4,
          4,
          2,
          4,
          4,
          4,
          4,
          4,
          4,
          6,
          4,
          4,
          4,
          4,
          4,
          4,
          3,
          3,
          4,
          3,
          3,
          3,
          4,
          6,
          4,
          6,
          6,
          3,
          6,
          4,
          4,
          6,
          6,
          4,
          4,
          6,
          6,
          4,
          4,
          4,
          4,
          4,
          3,
          3,
          3,
          4,
          4,
          4,
          8,
          6,
          6,
          4,
          6,
          6,
          8,
          6,
          8,
          6,
          4,
          3,
          4,
          3,
          8,
          3,
          6,
          6,
          6,
          3,
          3,
          6,
          4,
          6,
          8,
          8,
          6,
          6,
          3,
          4,
          6,
          6,
          8,
          6,
          8,
          6,
          4,
          8,
          6,
          8,
          3,
          6,
          6,
          8,
          8,
          6,
          6,
          3,
          8,
          6,
          8,
          3,
          6,
          6,
          6,
          6,
          6,
          6,
          6,
          6,
          6,
          3,
          8,
          6,
          8,
          8,
          8,
          8,
          8,
          3,
          12,
          6,
          12,
          8,
          8,
          6,
          8,
          3,
          4,
          4,
          6,
          6,
          8,
          12,
          12,
          12,
          12,
          4,
          3,
          4,
          8,
          8,
          8,
          8,
          8,
          4,
          4,
          4,
          4,
          12,
          8,
          8,
          4,
          4,
          8,
          3,
          8,
          8,
          8,
          12,
          12,
          4,
          4,
          4,
          4,
          8,
          8,
          8,
          12,
          4,
          4,
          4,
          4,
          4,
          4,
          4,
          4,
          3,
          8,
          8,
          4,
          4,
          4,
          4,
          4,
          12,
          4,
          4,
          4,
          8,
          6,
          6,
          12,
          4,
          12,
          8,
          12,
          8,
          12,
          4,
          4,
          12,
          12,
          8,
          6,
          4,
          4,
          8,
          8,
          4,
          4,
          4,
          4,
          6,
          6,
          6,
          4,
          6,
          6,
          6,
          6,
          8,
          12,
          8,
          8,
          8,
          6,
          6,
          6,
          6,
          12,
          12,
          4,
          6,
          12,
          12,
          6,
          8,
          6,
          12,
          6,
          8,
          4,
          6,
          6,
          6,
          6,
          6,
          6,
          6,
          6,
          6,
          6,
          6,
          6,
          6,
          6,
          6,
          6,
          6,
          6,
          6,
          6,
          6,
          6,
          6,
          6,
          6,
          6,
          6,
          6,
          6,
          6,
          6,
          6,
          6,
          6,
          6
         ],
         "x0": " ",
         "xaxis": "x",
         "y0": " ",
         "yaxis": "y"
        }
       ],
       "layout": {
        "boxmode": "group",
        "legend": {
         "tracegroupgap": 0
        },
        "margin": {
         "t": 60
        },
        "template": {
         "data": {
          "bar": [
           {
            "error_x": {
             "color": "#2a3f5f"
            },
            "error_y": {
             "color": "#2a3f5f"
            },
            "marker": {
             "line": {
              "color": "#E5ECF6",
              "width": 0.5
             },
             "pattern": {
              "fillmode": "overlay",
              "size": 10,
              "solidity": 0.2
             }
            },
            "type": "bar"
           }
          ],
          "barpolar": [
           {
            "marker": {
             "line": {
              "color": "#E5ECF6",
              "width": 0.5
             },
             "pattern": {
              "fillmode": "overlay",
              "size": 10,
              "solidity": 0.2
             }
            },
            "type": "barpolar"
           }
          ],
          "carpet": [
           {
            "aaxis": {
             "endlinecolor": "#2a3f5f",
             "gridcolor": "white",
             "linecolor": "white",
             "minorgridcolor": "white",
             "startlinecolor": "#2a3f5f"
            },
            "baxis": {
             "endlinecolor": "#2a3f5f",
             "gridcolor": "white",
             "linecolor": "white",
             "minorgridcolor": "white",
             "startlinecolor": "#2a3f5f"
            },
            "type": "carpet"
           }
          ],
          "choropleth": [
           {
            "colorbar": {
             "outlinewidth": 0,
             "ticks": ""
            },
            "type": "choropleth"
           }
          ],
          "contour": [
           {
            "colorbar": {
             "outlinewidth": 0,
             "ticks": ""
            },
            "colorscale": [
             [
              0,
              "#0d0887"
             ],
             [
              0.1111111111111111,
              "#46039f"
             ],
             [
              0.2222222222222222,
              "#7201a8"
             ],
             [
              0.3333333333333333,
              "#9c179e"
             ],
             [
              0.4444444444444444,
              "#bd3786"
             ],
             [
              0.5555555555555556,
              "#d8576b"
             ],
             [
              0.6666666666666666,
              "#ed7953"
             ],
             [
              0.7777777777777778,
              "#fb9f3a"
             ],
             [
              0.8888888888888888,
              "#fdca26"
             ],
             [
              1,
              "#f0f921"
             ]
            ],
            "type": "contour"
           }
          ],
          "contourcarpet": [
           {
            "colorbar": {
             "outlinewidth": 0,
             "ticks": ""
            },
            "type": "contourcarpet"
           }
          ],
          "heatmap": [
           {
            "colorbar": {
             "outlinewidth": 0,
             "ticks": ""
            },
            "colorscale": [
             [
              0,
              "#0d0887"
             ],
             [
              0.1111111111111111,
              "#46039f"
             ],
             [
              0.2222222222222222,
              "#7201a8"
             ],
             [
              0.3333333333333333,
              "#9c179e"
             ],
             [
              0.4444444444444444,
              "#bd3786"
             ],
             [
              0.5555555555555556,
              "#d8576b"
             ],
             [
              0.6666666666666666,
              "#ed7953"
             ],
             [
              0.7777777777777778,
              "#fb9f3a"
             ],
             [
              0.8888888888888888,
              "#fdca26"
             ],
             [
              1,
              "#f0f921"
             ]
            ],
            "type": "heatmap"
           }
          ],
          "heatmapgl": [
           {
            "colorbar": {
             "outlinewidth": 0,
             "ticks": ""
            },
            "colorscale": [
             [
              0,
              "#0d0887"
             ],
             [
              0.1111111111111111,
              "#46039f"
             ],
             [
              0.2222222222222222,
              "#7201a8"
             ],
             [
              0.3333333333333333,
              "#9c179e"
             ],
             [
              0.4444444444444444,
              "#bd3786"
             ],
             [
              0.5555555555555556,
              "#d8576b"
             ],
             [
              0.6666666666666666,
              "#ed7953"
             ],
             [
              0.7777777777777778,
              "#fb9f3a"
             ],
             [
              0.8888888888888888,
              "#fdca26"
             ],
             [
              1,
              "#f0f921"
             ]
            ],
            "type": "heatmapgl"
           }
          ],
          "histogram": [
           {
            "marker": {
             "pattern": {
              "fillmode": "overlay",
              "size": 10,
              "solidity": 0.2
             }
            },
            "type": "histogram"
           }
          ],
          "histogram2d": [
           {
            "colorbar": {
             "outlinewidth": 0,
             "ticks": ""
            },
            "colorscale": [
             [
              0,
              "#0d0887"
             ],
             [
              0.1111111111111111,
              "#46039f"
             ],
             [
              0.2222222222222222,
              "#7201a8"
             ],
             [
              0.3333333333333333,
              "#9c179e"
             ],
             [
              0.4444444444444444,
              "#bd3786"
             ],
             [
              0.5555555555555556,
              "#d8576b"
             ],
             [
              0.6666666666666666,
              "#ed7953"
             ],
             [
              0.7777777777777778,
              "#fb9f3a"
             ],
             [
              0.8888888888888888,
              "#fdca26"
             ],
             [
              1,
              "#f0f921"
             ]
            ],
            "type": "histogram2d"
           }
          ],
          "histogram2dcontour": [
           {
            "colorbar": {
             "outlinewidth": 0,
             "ticks": ""
            },
            "colorscale": [
             [
              0,
              "#0d0887"
             ],
             [
              0.1111111111111111,
              "#46039f"
             ],
             [
              0.2222222222222222,
              "#7201a8"
             ],
             [
              0.3333333333333333,
              "#9c179e"
             ],
             [
              0.4444444444444444,
              "#bd3786"
             ],
             [
              0.5555555555555556,
              "#d8576b"
             ],
             [
              0.6666666666666666,
              "#ed7953"
             ],
             [
              0.7777777777777778,
              "#fb9f3a"
             ],
             [
              0.8888888888888888,
              "#fdca26"
             ],
             [
              1,
              "#f0f921"
             ]
            ],
            "type": "histogram2dcontour"
           }
          ],
          "mesh3d": [
           {
            "colorbar": {
             "outlinewidth": 0,
             "ticks": ""
            },
            "type": "mesh3d"
           }
          ],
          "parcoords": [
           {
            "line": {
             "colorbar": {
              "outlinewidth": 0,
              "ticks": ""
             }
            },
            "type": "parcoords"
           }
          ],
          "pie": [
           {
            "automargin": true,
            "type": "pie"
           }
          ],
          "scatter": [
           {
            "fillpattern": {
             "fillmode": "overlay",
             "size": 10,
             "solidity": 0.2
            },
            "type": "scatter"
           }
          ],
          "scatter3d": [
           {
            "line": {
             "colorbar": {
              "outlinewidth": 0,
              "ticks": ""
             }
            },
            "marker": {
             "colorbar": {
              "outlinewidth": 0,
              "ticks": ""
             }
            },
            "type": "scatter3d"
           }
          ],
          "scattercarpet": [
           {
            "marker": {
             "colorbar": {
              "outlinewidth": 0,
              "ticks": ""
             }
            },
            "type": "scattercarpet"
           }
          ],
          "scattergeo": [
           {
            "marker": {
             "colorbar": {
              "outlinewidth": 0,
              "ticks": ""
             }
            },
            "type": "scattergeo"
           }
          ],
          "scattergl": [
           {
            "marker": {
             "colorbar": {
              "outlinewidth": 0,
              "ticks": ""
             }
            },
            "type": "scattergl"
           }
          ],
          "scattermapbox": [
           {
            "marker": {
             "colorbar": {
              "outlinewidth": 0,
              "ticks": ""
             }
            },
            "type": "scattermapbox"
           }
          ],
          "scatterpolar": [
           {
            "marker": {
             "colorbar": {
              "outlinewidth": 0,
              "ticks": ""
             }
            },
            "type": "scatterpolar"
           }
          ],
          "scatterpolargl": [
           {
            "marker": {
             "colorbar": {
              "outlinewidth": 0,
              "ticks": ""
             }
            },
            "type": "scatterpolargl"
           }
          ],
          "scatterternary": [
           {
            "marker": {
             "colorbar": {
              "outlinewidth": 0,
              "ticks": ""
             }
            },
            "type": "scatterternary"
           }
          ],
          "surface": [
           {
            "colorbar": {
             "outlinewidth": 0,
             "ticks": ""
            },
            "colorscale": [
             [
              0,
              "#0d0887"
             ],
             [
              0.1111111111111111,
              "#46039f"
             ],
             [
              0.2222222222222222,
              "#7201a8"
             ],
             [
              0.3333333333333333,
              "#9c179e"
             ],
             [
              0.4444444444444444,
              "#bd3786"
             ],
             [
              0.5555555555555556,
              "#d8576b"
             ],
             [
              0.6666666666666666,
              "#ed7953"
             ],
             [
              0.7777777777777778,
              "#fb9f3a"
             ],
             [
              0.8888888888888888,
              "#fdca26"
             ],
             [
              1,
              "#f0f921"
             ]
            ],
            "type": "surface"
           }
          ],
          "table": [
           {
            "cells": {
             "fill": {
              "color": "#EBF0F8"
             },
             "line": {
              "color": "white"
             }
            },
            "header": {
             "fill": {
              "color": "#C8D4E3"
             },
             "line": {
              "color": "white"
             }
            },
            "type": "table"
           }
          ]
         },
         "layout": {
          "annotationdefaults": {
           "arrowcolor": "#2a3f5f",
           "arrowhead": 0,
           "arrowwidth": 1
          },
          "autotypenumbers": "strict",
          "coloraxis": {
           "colorbar": {
            "outlinewidth": 0,
            "ticks": ""
           }
          },
          "colorscale": {
           "diverging": [
            [
             0,
             "#8e0152"
            ],
            [
             0.1,
             "#c51b7d"
            ],
            [
             0.2,
             "#de77ae"
            ],
            [
             0.3,
             "#f1b6da"
            ],
            [
             0.4,
             "#fde0ef"
            ],
            [
             0.5,
             "#f7f7f7"
            ],
            [
             0.6,
             "#e6f5d0"
            ],
            [
             0.7,
             "#b8e186"
            ],
            [
             0.8,
             "#7fbc41"
            ],
            [
             0.9,
             "#4d9221"
            ],
            [
             1,
             "#276419"
            ]
           ],
           "sequential": [
            [
             0,
             "#0d0887"
            ],
            [
             0.1111111111111111,
             "#46039f"
            ],
            [
             0.2222222222222222,
             "#7201a8"
            ],
            [
             0.3333333333333333,
             "#9c179e"
            ],
            [
             0.4444444444444444,
             "#bd3786"
            ],
            [
             0.5555555555555556,
             "#d8576b"
            ],
            [
             0.6666666666666666,
             "#ed7953"
            ],
            [
             0.7777777777777778,
             "#fb9f3a"
            ],
            [
             0.8888888888888888,
             "#fdca26"
            ],
            [
             1,
             "#f0f921"
            ]
           ],
           "sequentialminus": [
            [
             0,
             "#0d0887"
            ],
            [
             0.1111111111111111,
             "#46039f"
            ],
            [
             0.2222222222222222,
             "#7201a8"
            ],
            [
             0.3333333333333333,
             "#9c179e"
            ],
            [
             0.4444444444444444,
             "#bd3786"
            ],
            [
             0.5555555555555556,
             "#d8576b"
            ],
            [
             0.6666666666666666,
             "#ed7953"
            ],
            [
             0.7777777777777778,
             "#fb9f3a"
            ],
            [
             0.8888888888888888,
             "#fdca26"
            ],
            [
             1,
             "#f0f921"
            ]
           ]
          },
          "colorway": [
           "#636efa",
           "#EF553B",
           "#00cc96",
           "#ab63fa",
           "#FFA15A",
           "#19d3f3",
           "#FF6692",
           "#B6E880",
           "#FF97FF",
           "#FECB52"
          ],
          "font": {
           "color": "#2a3f5f"
          },
          "geo": {
           "bgcolor": "white",
           "lakecolor": "white",
           "landcolor": "#E5ECF6",
           "showlakes": true,
           "showland": true,
           "subunitcolor": "white"
          },
          "hoverlabel": {
           "align": "left"
          },
          "hovermode": "closest",
          "mapbox": {
           "style": "light"
          },
          "paper_bgcolor": "white",
          "plot_bgcolor": "#E5ECF6",
          "polar": {
           "angularaxis": {
            "gridcolor": "white",
            "linecolor": "white",
            "ticks": ""
           },
           "bgcolor": "#E5ECF6",
           "radialaxis": {
            "gridcolor": "white",
            "linecolor": "white",
            "ticks": ""
           }
          },
          "scene": {
           "xaxis": {
            "backgroundcolor": "#E5ECF6",
            "gridcolor": "white",
            "gridwidth": 2,
            "linecolor": "white",
            "showbackground": true,
            "ticks": "",
            "zerolinecolor": "white"
           },
           "yaxis": {
            "backgroundcolor": "#E5ECF6",
            "gridcolor": "white",
            "gridwidth": 2,
            "linecolor": "white",
            "showbackground": true,
            "ticks": "",
            "zerolinecolor": "white"
           },
           "zaxis": {
            "backgroundcolor": "#E5ECF6",
            "gridcolor": "white",
            "gridwidth": 2,
            "linecolor": "white",
            "showbackground": true,
            "ticks": "",
            "zerolinecolor": "white"
           }
          },
          "shapedefaults": {
           "line": {
            "color": "#2a3f5f"
           }
          },
          "ternary": {
           "aaxis": {
            "gridcolor": "white",
            "linecolor": "white",
            "ticks": ""
           },
           "baxis": {
            "gridcolor": "white",
            "linecolor": "white",
            "ticks": ""
           },
           "bgcolor": "#E5ECF6",
           "caxis": {
            "gridcolor": "white",
            "linecolor": "white",
            "ticks": ""
           }
          },
          "title": {
           "x": 0.05
          },
          "xaxis": {
           "automargin": true,
           "gridcolor": "white",
           "linecolor": "white",
           "ticks": "",
           "title": {
            "standoff": 15
           },
           "zerolinecolor": "white",
           "zerolinewidth": 2
          },
          "yaxis": {
           "automargin": true,
           "gridcolor": "white",
           "linecolor": "white",
           "ticks": "",
           "title": {
            "standoff": 15
           },
           "zerolinecolor": "white",
           "zerolinewidth": 2
          }
         }
        },
        "xaxis": {
         "anchor": "y",
         "domain": [
          0,
          1
         ],
         "title": {
          "text": "RAM(Go)"
         }
        },
        "yaxis": {
         "anchor": "x",
         "domain": [
          0,
          1
         ]
        }
       }
      },
      "text/html": [
       "<div>                            <div id=\"3df8a635-4d61-49e5-a192-d8af2b214388\" class=\"plotly-graph-div\" style=\"height:525px; width:100%;\"></div>            <script type=\"text/javascript\">                require([\"plotly\"], function(Plotly) {                    window.PLOTLYENV=window.PLOTLYENV || {};                                    if (document.getElementById(\"3df8a635-4d61-49e5-a192-d8af2b214388\")) {                    Plotly.newPlot(                        \"3df8a635-4d61-49e5-a192-d8af2b214388\",                        [{\"alignmentgroup\":\"True\",\"hovertemplate\":\"RAM(Go)=%{x}<extra></extra>\",\"legendgroup\":\"\",\"marker\":{\"color\":\"#636efa\"},\"name\":\"\",\"notched\":false,\"offsetgroup\":\"\",\"orientation\":\"h\",\"showlegend\":false,\"x\":[8.0,6.0,8.0,4.0,4.0,2.0,8.0,8.0,12.0,12.0,8.0,8.0,8.0,6.0,4.0,4.0,6.0,6.0,4.0,4.0,2.0,2.0,4.0,4.0,6.0,6.0,3.0,4.0,6.0,6.0,6.0,6.0,4.0,4.0,4.0,6.0,6.0,6.0,6.0,6.0,4.0,12.0,6.0,4.0,4.0,4.0,4.0,4.0,4.0,8.0,6.0,6.0,4.0,3.0,4.0,6.0,4.0,4.0,4.0,12.0,4.0,4.0,6.0,4.0,6.0,4.0,8.0,4.0,6.0,4.0,6.0,4.0,6.0,8.0,4.0,8.0,4.0,4.0,3.0,4.0,4.0,3.0,6.0,8.0,4.0,4.0,6.0,6.0,6.0,8.0,6.0,8.0,8.0,12.0,4.0,8.0,4.0,4.0,3.0,8.0,8.0,4.0,4.0,8.0,8.0,8.0,4.0,8.0,8.0,3.0,8.0,12.0,4.0,4.0,4.0,4.0,2.0,6.0,6.0,3.0,4.0,4.0,4.0,2.0,12.0,8.0,4.0,2.0,3.0,2.0,4.0,4.0,4.0,4.0,4.0,4.0,6.0,8.0,6.0,8.0,8.0,8.0,8.0,12.0,3.0,8.0,12.0,8.0,12.0,8.0,8.0,3.0,3.0,12.0,8.0,12.0,12.0,12.0,12.0,8.0,4.0,4.0,12.0,12.0,16.0,16.0,4.0,4.0,4.0,4.0,12.0,4.0,4.0,4.0,4.0,12.0,4.0,4.0,4.0,6.0,6.0,6.0,6.0,6.0,6.0,6.0,4.0,4.0,4.0,4.0,4.0,4.0,2.0,8.0,12.0,4.0,6.0,8.0,4.0,6.0,4.0,8.0,12.0,6.0,8.0,8.0,4.0,6.0,2.0,4.0,4.0,6.0,8.0,6.0,4.0,6.0,4.0,8.0,4.0,8.0,8.0,8.0,12.0,4.0,4.0,4.0,8.0,8.0,8.0,8.0,12.0,4.0,4.0,6.0,4.0,6.0,2.0,2.0,2.0,2.0,2.0,3.0,3.0,2.0,2.0,2.0,2.0,2.0,2.0,3.0,3.0,3.0,3.0,2.0,4.0,4.0,4.0,3.0,2.0,4.0,4.0,4.0,4.0,4.0,4.0,4.0,4.0,4.0,4.0,4.0,2.0,3.0,4.0,4.0,4.0,4.0,4.0,4.0,4.0,4.0,4.0,4.0,3.0,4.0,4.0,4.0,6.0,4.0,4.0,4.0,4.0,6.0,6.0,6.0,6.0,6.0,4.0,8.0,4.0,4.0,4.0,8.0,4.0,8.0,2.0,4.0,8.0,4.0,6.0,8.0,4.0,8.0,8.0,4.0,3.0,4.0,6.0,6.0,6.0,6.0,6.0,6.0,6.0,6.0,6.0,8.0,8.0,4.0,8.0,8.0,8.0,8.0,4.0,4.0,6.0,4.0,4.0,8.0,8.0,6.0,8.0,12.0,6.0,6.0,6.0,6.0,8.0,6.0,8.0,6.0,6.0,4.0,8.0,4.0,6.0,8.0,6.0,8.0,3.0,8.0,6.0,8.0,6.0,8.0,6.0,8.0,12.0,6.0,8.0,8.0,8.0,8.0,8.0,8.0,6.0,8.0,8.0,8.0,6.0,8.0,4.0,8.0,8.0,4.0,8.0,8.0,8.0,8.0,12.0,8.0,12.0,8.0,12.0,8.0,8.0,8.0,8.0,12.0,12.0,12.0,12.0,12.0,12.0,12.0,12.0,12.0,2.0,4.0,3.0,4.0,3.0,4.0,3.0,3.0,3.0,2.0,2.0,2.0,2.0,3.0,4.0,3.0,3.0,3.0,3.0,8.0,4.0,4.0,3.0,2.0,3.0,2.0,3.0,2.0,2.0,1.5,1.5,2.0,2.0,2.0,1.5,2.0,2.0,1.5,4.0,2.0,4.0,3.0,3.0,3.0,3.0,4.0,2.0,3.0,3.0,3.0,3.0,3.0,3.0,3.0,2.0,4.0,3.0,4.0,3.0,4.0,4.0,2.0,4.0,2.0,2.0,2.0,4.0,4.0,3.0,2.0,2.0,4.0,4.0,2.0,6.0,4.0,4.0,2.0,3.0,4.0,4.0,4.0,4.0,4.0,2.0,4.0,3.0,3.0,3.0,4.0,4.0,4.0,4.0,4.0,4.0,6.0,6.0,1.0,2.0,4.0,4.0,4.0,4.0,4.0,6.0,4.0,4.0,2.0,4.0,4.0,4.0,4.0,4.0,4.0,6.0,4.0,4.0,4.0,4.0,4.0,4.0,3.0,3.0,4.0,3.0,3.0,3.0,4.0,6.0,4.0,6.0,6.0,3.0,6.0,4.0,4.0,6.0,6.0,4.0,4.0,6.0,6.0,4.0,4.0,4.0,4.0,4.0,3.0,3.0,3.0,4.0,4.0,4.0,8.0,6.0,6.0,4.0,6.0,6.0,8.0,6.0,8.0,6.0,4.0,3.0,4.0,3.0,8.0,3.0,6.0,6.0,6.0,3.0,3.0,6.0,4.0,6.0,8.0,8.0,6.0,6.0,3.0,4.0,6.0,6.0,8.0,6.0,8.0,6.0,4.0,8.0,6.0,8.0,3.0,6.0,6.0,8.0,8.0,6.0,6.0,3.0,8.0,6.0,8.0,3.0,6.0,6.0,6.0,6.0,6.0,6.0,6.0,6.0,6.0,3.0,8.0,6.0,8.0,8.0,8.0,8.0,8.0,3.0,12.0,6.0,12.0,8.0,8.0,6.0,8.0,3.0,4.0,4.0,6.0,6.0,8.0,12.0,12.0,12.0,12.0,4.0,3.0,4.0,8.0,8.0,8.0,8.0,8.0,4.0,4.0,4.0,4.0,12.0,8.0,8.0,4.0,4.0,8.0,3.0,8.0,8.0,8.0,12.0,12.0,4.0,4.0,4.0,4.0,8.0,8.0,8.0,12.0,4.0,4.0,4.0,4.0,4.0,4.0,4.0,4.0,3.0,8.0,8.0,4.0,4.0,4.0,4.0,4.0,12.0,4.0,4.0,4.0,8.0,6.0,6.0,12.0,4.0,12.0,8.0,12.0,8.0,12.0,4.0,4.0,12.0,12.0,8.0,6.0,4.0,4.0,8.0,8.0,4.0,4.0,4.0,4.0,6.0,6.0,6.0,4.0,6.0,6.0,6.0,6.0,8.0,12.0,8.0,8.0,8.0,6.0,6.0,6.0,6.0,12.0,12.0,4.0,6.0,12.0,12.0,6.0,8.0,6.0,12.0,6.0,8.0,4.0,6.0,6.0,6.0,6.0,6.0,6.0,6.0,6.0,6.0,6.0,6.0,6.0,6.0,6.0,6.0,6.0,6.0,6.0,6.0,6.0,6.0,6.0,6.0,6.0,6.0,6.0,6.0,6.0,6.0,6.0,6.0,6.0,6.0,6.0,6.0],\"x0\":\" \",\"xaxis\":\"x\",\"y0\":\" \",\"yaxis\":\"y\",\"type\":\"box\",\"fillcolor\":\"#C9A26B\"}],                        {\"template\":{\"data\":{\"histogram2dcontour\":[{\"type\":\"histogram2dcontour\",\"colorbar\":{\"outlinewidth\":0,\"ticks\":\"\"},\"colorscale\":[[0.0,\"#0d0887\"],[0.1111111111111111,\"#46039f\"],[0.2222222222222222,\"#7201a8\"],[0.3333333333333333,\"#9c179e\"],[0.4444444444444444,\"#bd3786\"],[0.5555555555555556,\"#d8576b\"],[0.6666666666666666,\"#ed7953\"],[0.7777777777777778,\"#fb9f3a\"],[0.8888888888888888,\"#fdca26\"],[1.0,\"#f0f921\"]]}],\"choropleth\":[{\"type\":\"choropleth\",\"colorbar\":{\"outlinewidth\":0,\"ticks\":\"\"}}],\"histogram2d\":[{\"type\":\"histogram2d\",\"colorbar\":{\"outlinewidth\":0,\"ticks\":\"\"},\"colorscale\":[[0.0,\"#0d0887\"],[0.1111111111111111,\"#46039f\"],[0.2222222222222222,\"#7201a8\"],[0.3333333333333333,\"#9c179e\"],[0.4444444444444444,\"#bd3786\"],[0.5555555555555556,\"#d8576b\"],[0.6666666666666666,\"#ed7953\"],[0.7777777777777778,\"#fb9f3a\"],[0.8888888888888888,\"#fdca26\"],[1.0,\"#f0f921\"]]}],\"heatmap\":[{\"type\":\"heatmap\",\"colorbar\":{\"outlinewidth\":0,\"ticks\":\"\"},\"colorscale\":[[0.0,\"#0d0887\"],[0.1111111111111111,\"#46039f\"],[0.2222222222222222,\"#7201a8\"],[0.3333333333333333,\"#9c179e\"],[0.4444444444444444,\"#bd3786\"],[0.5555555555555556,\"#d8576b\"],[0.6666666666666666,\"#ed7953\"],[0.7777777777777778,\"#fb9f3a\"],[0.8888888888888888,\"#fdca26\"],[1.0,\"#f0f921\"]]}],\"heatmapgl\":[{\"type\":\"heatmapgl\",\"colorbar\":{\"outlinewidth\":0,\"ticks\":\"\"},\"colorscale\":[[0.0,\"#0d0887\"],[0.1111111111111111,\"#46039f\"],[0.2222222222222222,\"#7201a8\"],[0.3333333333333333,\"#9c179e\"],[0.4444444444444444,\"#bd3786\"],[0.5555555555555556,\"#d8576b\"],[0.6666666666666666,\"#ed7953\"],[0.7777777777777778,\"#fb9f3a\"],[0.8888888888888888,\"#fdca26\"],[1.0,\"#f0f921\"]]}],\"contourcarpet\":[{\"type\":\"contourcarpet\",\"colorbar\":{\"outlinewidth\":0,\"ticks\":\"\"}}],\"contour\":[{\"type\":\"contour\",\"colorbar\":{\"outlinewidth\":0,\"ticks\":\"\"},\"colorscale\":[[0.0,\"#0d0887\"],[0.1111111111111111,\"#46039f\"],[0.2222222222222222,\"#7201a8\"],[0.3333333333333333,\"#9c179e\"],[0.4444444444444444,\"#bd3786\"],[0.5555555555555556,\"#d8576b\"],[0.6666666666666666,\"#ed7953\"],[0.7777777777777778,\"#fb9f3a\"],[0.8888888888888888,\"#fdca26\"],[1.0,\"#f0f921\"]]}],\"surface\":[{\"type\":\"surface\",\"colorbar\":{\"outlinewidth\":0,\"ticks\":\"\"},\"colorscale\":[[0.0,\"#0d0887\"],[0.1111111111111111,\"#46039f\"],[0.2222222222222222,\"#7201a8\"],[0.3333333333333333,\"#9c179e\"],[0.4444444444444444,\"#bd3786\"],[0.5555555555555556,\"#d8576b\"],[0.6666666666666666,\"#ed7953\"],[0.7777777777777778,\"#fb9f3a\"],[0.8888888888888888,\"#fdca26\"],[1.0,\"#f0f921\"]]}],\"mesh3d\":[{\"type\":\"mesh3d\",\"colorbar\":{\"outlinewidth\":0,\"ticks\":\"\"}}],\"scatter\":[{\"fillpattern\":{\"fillmode\":\"overlay\",\"size\":10,\"solidity\":0.2},\"type\":\"scatter\"}],\"parcoords\":[{\"type\":\"parcoords\",\"line\":{\"colorbar\":{\"outlinewidth\":0,\"ticks\":\"\"}}}],\"scatterpolargl\":[{\"type\":\"scatterpolargl\",\"marker\":{\"colorbar\":{\"outlinewidth\":0,\"ticks\":\"\"}}}],\"bar\":[{\"error_x\":{\"color\":\"#2a3f5f\"},\"error_y\":{\"color\":\"#2a3f5f\"},\"marker\":{\"line\":{\"color\":\"#E5ECF6\",\"width\":0.5},\"pattern\":{\"fillmode\":\"overlay\",\"size\":10,\"solidity\":0.2}},\"type\":\"bar\"}],\"scattergeo\":[{\"type\":\"scattergeo\",\"marker\":{\"colorbar\":{\"outlinewidth\":0,\"ticks\":\"\"}}}],\"scatterpolar\":[{\"type\":\"scatterpolar\",\"marker\":{\"colorbar\":{\"outlinewidth\":0,\"ticks\":\"\"}}}],\"histogram\":[{\"marker\":{\"pattern\":{\"fillmode\":\"overlay\",\"size\":10,\"solidity\":0.2}},\"type\":\"histogram\"}],\"scattergl\":[{\"type\":\"scattergl\",\"marker\":{\"colorbar\":{\"outlinewidth\":0,\"ticks\":\"\"}}}],\"scatter3d\":[{\"type\":\"scatter3d\",\"line\":{\"colorbar\":{\"outlinewidth\":0,\"ticks\":\"\"}},\"marker\":{\"colorbar\":{\"outlinewidth\":0,\"ticks\":\"\"}}}],\"scattermapbox\":[{\"type\":\"scattermapbox\",\"marker\":{\"colorbar\":{\"outlinewidth\":0,\"ticks\":\"\"}}}],\"scatterternary\":[{\"type\":\"scatterternary\",\"marker\":{\"colorbar\":{\"outlinewidth\":0,\"ticks\":\"\"}}}],\"scattercarpet\":[{\"type\":\"scattercarpet\",\"marker\":{\"colorbar\":{\"outlinewidth\":0,\"ticks\":\"\"}}}],\"carpet\":[{\"aaxis\":{\"endlinecolor\":\"#2a3f5f\",\"gridcolor\":\"white\",\"linecolor\":\"white\",\"minorgridcolor\":\"white\",\"startlinecolor\":\"#2a3f5f\"},\"baxis\":{\"endlinecolor\":\"#2a3f5f\",\"gridcolor\":\"white\",\"linecolor\":\"white\",\"minorgridcolor\":\"white\",\"startlinecolor\":\"#2a3f5f\"},\"type\":\"carpet\"}],\"table\":[{\"cells\":{\"fill\":{\"color\":\"#EBF0F8\"},\"line\":{\"color\":\"white\"}},\"header\":{\"fill\":{\"color\":\"#C8D4E3\"},\"line\":{\"color\":\"white\"}},\"type\":\"table\"}],\"barpolar\":[{\"marker\":{\"line\":{\"color\":\"#E5ECF6\",\"width\":0.5},\"pattern\":{\"fillmode\":\"overlay\",\"size\":10,\"solidity\":0.2}},\"type\":\"barpolar\"}],\"pie\":[{\"automargin\":true,\"type\":\"pie\"}]},\"layout\":{\"autotypenumbers\":\"strict\",\"colorway\":[\"#636efa\",\"#EF553B\",\"#00cc96\",\"#ab63fa\",\"#FFA15A\",\"#19d3f3\",\"#FF6692\",\"#B6E880\",\"#FF97FF\",\"#FECB52\"],\"font\":{\"color\":\"#2a3f5f\"},\"hovermode\":\"closest\",\"hoverlabel\":{\"align\":\"left\"},\"paper_bgcolor\":\"white\",\"plot_bgcolor\":\"#E5ECF6\",\"polar\":{\"bgcolor\":\"#E5ECF6\",\"angularaxis\":{\"gridcolor\":\"white\",\"linecolor\":\"white\",\"ticks\":\"\"},\"radialaxis\":{\"gridcolor\":\"white\",\"linecolor\":\"white\",\"ticks\":\"\"}},\"ternary\":{\"bgcolor\":\"#E5ECF6\",\"aaxis\":{\"gridcolor\":\"white\",\"linecolor\":\"white\",\"ticks\":\"\"},\"baxis\":{\"gridcolor\":\"white\",\"linecolor\":\"white\",\"ticks\":\"\"},\"caxis\":{\"gridcolor\":\"white\",\"linecolor\":\"white\",\"ticks\":\"\"}},\"coloraxis\":{\"colorbar\":{\"outlinewidth\":0,\"ticks\":\"\"}},\"colorscale\":{\"sequential\":[[0.0,\"#0d0887\"],[0.1111111111111111,\"#46039f\"],[0.2222222222222222,\"#7201a8\"],[0.3333333333333333,\"#9c179e\"],[0.4444444444444444,\"#bd3786\"],[0.5555555555555556,\"#d8576b\"],[0.6666666666666666,\"#ed7953\"],[0.7777777777777778,\"#fb9f3a\"],[0.8888888888888888,\"#fdca26\"],[1.0,\"#f0f921\"]],\"sequentialminus\":[[0.0,\"#0d0887\"],[0.1111111111111111,\"#46039f\"],[0.2222222222222222,\"#7201a8\"],[0.3333333333333333,\"#9c179e\"],[0.4444444444444444,\"#bd3786\"],[0.5555555555555556,\"#d8576b\"],[0.6666666666666666,\"#ed7953\"],[0.7777777777777778,\"#fb9f3a\"],[0.8888888888888888,\"#fdca26\"],[1.0,\"#f0f921\"]],\"diverging\":[[0,\"#8e0152\"],[0.1,\"#c51b7d\"],[0.2,\"#de77ae\"],[0.3,\"#f1b6da\"],[0.4,\"#fde0ef\"],[0.5,\"#f7f7f7\"],[0.6,\"#e6f5d0\"],[0.7,\"#b8e186\"],[0.8,\"#7fbc41\"],[0.9,\"#4d9221\"],[1,\"#276419\"]]},\"xaxis\":{\"gridcolor\":\"white\",\"linecolor\":\"white\",\"ticks\":\"\",\"title\":{\"standoff\":15},\"zerolinecolor\":\"white\",\"automargin\":true,\"zerolinewidth\":2},\"yaxis\":{\"gridcolor\":\"white\",\"linecolor\":\"white\",\"ticks\":\"\",\"title\":{\"standoff\":15},\"zerolinecolor\":\"white\",\"automargin\":true,\"zerolinewidth\":2},\"scene\":{\"xaxis\":{\"backgroundcolor\":\"#E5ECF6\",\"gridcolor\":\"white\",\"linecolor\":\"white\",\"showbackground\":true,\"ticks\":\"\",\"zerolinecolor\":\"white\",\"gridwidth\":2},\"yaxis\":{\"backgroundcolor\":\"#E5ECF6\",\"gridcolor\":\"white\",\"linecolor\":\"white\",\"showbackground\":true,\"ticks\":\"\",\"zerolinecolor\":\"white\",\"gridwidth\":2},\"zaxis\":{\"backgroundcolor\":\"#E5ECF6\",\"gridcolor\":\"white\",\"linecolor\":\"white\",\"showbackground\":true,\"ticks\":\"\",\"zerolinecolor\":\"white\",\"gridwidth\":2}},\"shapedefaults\":{\"line\":{\"color\":\"#2a3f5f\"}},\"annotationdefaults\":{\"arrowcolor\":\"#2a3f5f\",\"arrowhead\":0,\"arrowwidth\":1},\"geo\":{\"bgcolor\":\"white\",\"landcolor\":\"#E5ECF6\",\"subunitcolor\":\"white\",\"showland\":true,\"showlakes\":true,\"lakecolor\":\"white\"},\"title\":{\"x\":0.05},\"mapbox\":{\"style\":\"light\"}}},\"xaxis\":{\"anchor\":\"y\",\"domain\":[0.0,1.0],\"title\":{\"text\":\"RAM(Go)\"}},\"yaxis\":{\"anchor\":\"x\",\"domain\":[0.0,1.0]},\"legend\":{\"tracegroupgap\":0},\"margin\":{\"t\":60},\"boxmode\":\"group\"},                        {\"responsive\": true}                    ).then(function(){\n",
       "                            \n",
       "var gd = document.getElementById('3df8a635-4d61-49e5-a192-d8af2b214388');\n",
       "var x = new MutationObserver(function (mutations, observer) {{\n",
       "        var display = window.getComputedStyle(gd).display;\n",
       "        if (!display || display === 'none') {{\n",
       "            console.log([gd, 'removed!']);\n",
       "            Plotly.purge(gd);\n",
       "            observer.disconnect();\n",
       "        }}\n",
       "}});\n",
       "\n",
       "// Listen for the removal of the full notebook cells\n",
       "var notebookContainer = gd.closest('#notebook-container');\n",
       "if (notebookContainer) {{\n",
       "    x.observe(notebookContainer, {childList: true});\n",
       "}}\n",
       "\n",
       "// Listen for the clearing of the current output cell\n",
       "var outputEl = gd.closest('.output');\n",
       "if (outputEl) {{\n",
       "    x.observe(outputEl, {childList: true});\n",
       "}}\n",
       "\n",
       "                        })                };                });            </script>        </div>"
      ]
     },
     "metadata": {},
     "output_type": "display_data"
    },
    {
     "data": {
      "application/vnd.plotly.v1+json": {
       "config": {
        "plotlyServerURL": "https://plot.ly"
       },
       "data": [
        {
         "alignmentgroup": "True",
         "fillcolor": "#C9A26B",
         "hovertemplate": "nb_capteur_ph=%{x}<extra></extra>",
         "legendgroup": "",
         "marker": {
          "color": "#636efa"
         },
         "name": "",
         "notched": false,
         "offsetgroup": "",
         "orientation": "h",
         "showlegend": false,
         "type": "box",
         "x": [
          3,
          4,
          3,
          3,
          4,
          2,
          3,
          3,
          1,
          1,
          3,
          3,
          3,
          4,
          4,
          4,
          4,
          4,
          3,
          4,
          2,
          2,
          null,
          2,
          4,
          4,
          1,
          4,
          3,
          3,
          3,
          3,
          2,
          2,
          2,
          3,
          3,
          3,
          3,
          3,
          2,
          4,
          3,
          2,
          null,
          null,
          2,
          null,
          2,
          3,
          3,
          2,
          2,
          1,
          2,
          3,
          2,
          2,
          2,
          4,
          2,
          2,
          3,
          2,
          3,
          2,
          2,
          null,
          3,
          2,
          3,
          2,
          3,
          3,
          2,
          3,
          4,
          2,
          1,
          2,
          2,
          2,
          3,
          2,
          4,
          2,
          3,
          4,
          3,
          3,
          3,
          3,
          2,
          3,
          2,
          3,
          4,
          2,
          2,
          3,
          3,
          3,
          4,
          3,
          2,
          2,
          2,
          3,
          3,
          1,
          3,
          3,
          4,
          2,
          2,
          2,
          2,
          4,
          1,
          1,
          4,
          3,
          2,
          2,
          3,
          3,
          2,
          2,
          1,
          2,
          2,
          3,
          4,
          3,
          4,
          3,
          1,
          3,
          3,
          3,
          3,
          3,
          3,
          3,
          1,
          3,
          3,
          3,
          3,
          3,
          3,
          1,
          1,
          3,
          2,
          3,
          3,
          3,
          3,
          3,
          2,
          2,
          3,
          3,
          3,
          3,
          2,
          2,
          2,
          2,
          3,
          null,
          null,
          2,
          2,
          3,
          null,
          null,
          null,
          3,
          3,
          3,
          3,
          3,
          3,
          3,
          2,
          2,
          2,
          2,
          2,
          2,
          3,
          2,
          3,
          2,
          2,
          4,
          2,
          3,
          2,
          3,
          3,
          3,
          3,
          2,
          2,
          2,
          1,
          2,
          2,
          3,
          3,
          3,
          1,
          1,
          1,
          2,
          2,
          2,
          2,
          2,
          3,
          2,
          3,
          4,
          4,
          3,
          3,
          2,
          4,
          2,
          2,
          4,
          3,
          4,
          null,
          null,
          null,
          null,
          null,
          3,
          null,
          null,
          null,
          1,
          1,
          null,
          null,
          null,
          null,
          null,
          null,
          null,
          null,
          null,
          null,
          3,
          1,
          null,
          null,
          null,
          1,
          null,
          3,
          null,
          null,
          null,
          null,
          null,
          1,
          3,
          4,
          null,
          4,
          4,
          4,
          null,
          null,
          null,
          null,
          null,
          null,
          null,
          null,
          null,
          null,
          2,
          null,
          null,
          3,
          4,
          4,
          null,
          null,
          4,
          null,
          2,
          null,
          3,
          3,
          null,
          null,
          null,
          1,
          null,
          null,
          3,
          3,
          null,
          3,
          4,
          null,
          4,
          1,
          null,
          null,
          4,
          4,
          4,
          null,
          null,
          null,
          null,
          null,
          null,
          null,
          3,
          3,
          3,
          3,
          null,
          null,
          3,
          3,
          3,
          4,
          4,
          null,
          4,
          null,
          3,
          4,
          null,
          null,
          4,
          null,
          null,
          null,
          null,
          null,
          1,
          3,
          2,
          null,
          null,
          4,
          null,
          1,
          null,
          null,
          3,
          null,
          null,
          null,
          2,
          null,
          3,
          3,
          3,
          null,
          3,
          3,
          null,
          3,
          null,
          null,
          null,
          3,
          3,
          2,
          null,
          2,
          2,
          null,
          null,
          3,
          4,
          null,
          null,
          null,
          null,
          null,
          null,
          null,
          null,
          null,
          null,
          null,
          null,
          null,
          3,
          3,
          null,
          null,
          4,
          3,
          2,
          1,
          2,
          1,
          1,
          1,
          1,
          1,
          1,
          1,
          1,
          1,
          1,
          4,
          1,
          1,
          1,
          1,
          3,
          2,
          2,
          1,
          null,
          null,
          null,
          null,
          null,
          null,
          null,
          null,
          2,
          null,
          null,
          null,
          null,
          null,
          null,
          null,
          null,
          null,
          null,
          null,
          3,
          2,
          null,
          1,
          2,
          2,
          2,
          null,
          2,
          null,
          null,
          null,
          null,
          null,
          null,
          null,
          null,
          null,
          null,
          null,
          1,
          null,
          1,
          null,
          null,
          3,
          null,
          null,
          null,
          null,
          null,
          null,
          null,
          null,
          null,
          1,
          null,
          null,
          null,
          null,
          null,
          null,
          4,
          4,
          null,
          4,
          4,
          null,
          null,
          4,
          4,
          3,
          null,
          null,
          1,
          1,
          4,
          3,
          3,
          null,
          null,
          3,
          null,
          null,
          null,
          3,
          null,
          null,
          null,
          null,
          4,
          4,
          3,
          3,
          3,
          3,
          null,
          2,
          1,
          1,
          4,
          1,
          4,
          4,
          null,
          4,
          null,
          3,
          null,
          1,
          4,
          null,
          null,
          null,
          null,
          null,
          null,
          2,
          null,
          4,
          null,
          4,
          null,
          4,
          1,
          1,
          1,
          4,
          null,
          null,
          3,
          4,
          4,
          4,
          4,
          null,
          null,
          null,
          4,
          null,
          4,
          null,
          4,
          1,
          4,
          1,
          null,
          4,
          3,
          1,
          1,
          3,
          4,
          4,
          null,
          3,
          4,
          3,
          1,
          2,
          null,
          null,
          3,
          4,
          3,
          4,
          2,
          3,
          null,
          null,
          1,
          null,
          null,
          3,
          4,
          null,
          4,
          1,
          4,
          3,
          3,
          1,
          3,
          3,
          3,
          3,
          3,
          3,
          3,
          3,
          null,
          1,
          3,
          null,
          3,
          3,
          3,
          3,
          3,
          1,
          3,
          3,
          3,
          4,
          2,
          3,
          3,
          1,
          2,
          2,
          3,
          3,
          null,
          null,
          3,
          3,
          3,
          2,
          1,
          2,
          3,
          3,
          4,
          3,
          null,
          2,
          2,
          2,
          2,
          null,
          null,
          4,
          2,
          2,
          3,
          1,
          3,
          3,
          2,
          3,
          4,
          3,
          2,
          2,
          2,
          null,
          3,
          3,
          3,
          2,
          2,
          2,
          2,
          2,
          2,
          2,
          2,
          1,
          3,
          3,
          2,
          3,
          2,
          2,
          2,
          4,
          2,
          2,
          2,
          3,
          3,
          3,
          3,
          3,
          4,
          3,
          4,
          2,
          4,
          2,
          2,
          3,
          3,
          3,
          3,
          2,
          2,
          4,
          3,
          2,
          2,
          2,
          3,
          3,
          3,
          3,
          2,
          3,
          3,
          3,
          3,
          3,
          4,
          3,
          3,
          3,
          3,
          3,
          3,
          3,
          3,
          3,
          2,
          3,
          3,
          3,
          3,
          null,
          3,
          3,
          3,
          null,
          2,
          3,
          3,
          3,
          3,
          3,
          3,
          3,
          3,
          3,
          3,
          3,
          3,
          3,
          3,
          3,
          3,
          3,
          3,
          3,
          3,
          3,
          3,
          3,
          3,
          3,
          3,
          3,
          3,
          3,
          3,
          3,
          3,
          3,
          3,
          3
         ],
         "x0": " ",
         "xaxis": "x",
         "y0": " ",
         "yaxis": "y"
        }
       ],
       "layout": {
        "boxmode": "group",
        "legend": {
         "tracegroupgap": 0
        },
        "margin": {
         "t": 60
        },
        "template": {
         "data": {
          "bar": [
           {
            "error_x": {
             "color": "#2a3f5f"
            },
            "error_y": {
             "color": "#2a3f5f"
            },
            "marker": {
             "line": {
              "color": "#E5ECF6",
              "width": 0.5
             },
             "pattern": {
              "fillmode": "overlay",
              "size": 10,
              "solidity": 0.2
             }
            },
            "type": "bar"
           }
          ],
          "barpolar": [
           {
            "marker": {
             "line": {
              "color": "#E5ECF6",
              "width": 0.5
             },
             "pattern": {
              "fillmode": "overlay",
              "size": 10,
              "solidity": 0.2
             }
            },
            "type": "barpolar"
           }
          ],
          "carpet": [
           {
            "aaxis": {
             "endlinecolor": "#2a3f5f",
             "gridcolor": "white",
             "linecolor": "white",
             "minorgridcolor": "white",
             "startlinecolor": "#2a3f5f"
            },
            "baxis": {
             "endlinecolor": "#2a3f5f",
             "gridcolor": "white",
             "linecolor": "white",
             "minorgridcolor": "white",
             "startlinecolor": "#2a3f5f"
            },
            "type": "carpet"
           }
          ],
          "choropleth": [
           {
            "colorbar": {
             "outlinewidth": 0,
             "ticks": ""
            },
            "type": "choropleth"
           }
          ],
          "contour": [
           {
            "colorbar": {
             "outlinewidth": 0,
             "ticks": ""
            },
            "colorscale": [
             [
              0,
              "#0d0887"
             ],
             [
              0.1111111111111111,
              "#46039f"
             ],
             [
              0.2222222222222222,
              "#7201a8"
             ],
             [
              0.3333333333333333,
              "#9c179e"
             ],
             [
              0.4444444444444444,
              "#bd3786"
             ],
             [
              0.5555555555555556,
              "#d8576b"
             ],
             [
              0.6666666666666666,
              "#ed7953"
             ],
             [
              0.7777777777777778,
              "#fb9f3a"
             ],
             [
              0.8888888888888888,
              "#fdca26"
             ],
             [
              1,
              "#f0f921"
             ]
            ],
            "type": "contour"
           }
          ],
          "contourcarpet": [
           {
            "colorbar": {
             "outlinewidth": 0,
             "ticks": ""
            },
            "type": "contourcarpet"
           }
          ],
          "heatmap": [
           {
            "colorbar": {
             "outlinewidth": 0,
             "ticks": ""
            },
            "colorscale": [
             [
              0,
              "#0d0887"
             ],
             [
              0.1111111111111111,
              "#46039f"
             ],
             [
              0.2222222222222222,
              "#7201a8"
             ],
             [
              0.3333333333333333,
              "#9c179e"
             ],
             [
              0.4444444444444444,
              "#bd3786"
             ],
             [
              0.5555555555555556,
              "#d8576b"
             ],
             [
              0.6666666666666666,
              "#ed7953"
             ],
             [
              0.7777777777777778,
              "#fb9f3a"
             ],
             [
              0.8888888888888888,
              "#fdca26"
             ],
             [
              1,
              "#f0f921"
             ]
            ],
            "type": "heatmap"
           }
          ],
          "heatmapgl": [
           {
            "colorbar": {
             "outlinewidth": 0,
             "ticks": ""
            },
            "colorscale": [
             [
              0,
              "#0d0887"
             ],
             [
              0.1111111111111111,
              "#46039f"
             ],
             [
              0.2222222222222222,
              "#7201a8"
             ],
             [
              0.3333333333333333,
              "#9c179e"
             ],
             [
              0.4444444444444444,
              "#bd3786"
             ],
             [
              0.5555555555555556,
              "#d8576b"
             ],
             [
              0.6666666666666666,
              "#ed7953"
             ],
             [
              0.7777777777777778,
              "#fb9f3a"
             ],
             [
              0.8888888888888888,
              "#fdca26"
             ],
             [
              1,
              "#f0f921"
             ]
            ],
            "type": "heatmapgl"
           }
          ],
          "histogram": [
           {
            "marker": {
             "pattern": {
              "fillmode": "overlay",
              "size": 10,
              "solidity": 0.2
             }
            },
            "type": "histogram"
           }
          ],
          "histogram2d": [
           {
            "colorbar": {
             "outlinewidth": 0,
             "ticks": ""
            },
            "colorscale": [
             [
              0,
              "#0d0887"
             ],
             [
              0.1111111111111111,
              "#46039f"
             ],
             [
              0.2222222222222222,
              "#7201a8"
             ],
             [
              0.3333333333333333,
              "#9c179e"
             ],
             [
              0.4444444444444444,
              "#bd3786"
             ],
             [
              0.5555555555555556,
              "#d8576b"
             ],
             [
              0.6666666666666666,
              "#ed7953"
             ],
             [
              0.7777777777777778,
              "#fb9f3a"
             ],
             [
              0.8888888888888888,
              "#fdca26"
             ],
             [
              1,
              "#f0f921"
             ]
            ],
            "type": "histogram2d"
           }
          ],
          "histogram2dcontour": [
           {
            "colorbar": {
             "outlinewidth": 0,
             "ticks": ""
            },
            "colorscale": [
             [
              0,
              "#0d0887"
             ],
             [
              0.1111111111111111,
              "#46039f"
             ],
             [
              0.2222222222222222,
              "#7201a8"
             ],
             [
              0.3333333333333333,
              "#9c179e"
             ],
             [
              0.4444444444444444,
              "#bd3786"
             ],
             [
              0.5555555555555556,
              "#d8576b"
             ],
             [
              0.6666666666666666,
              "#ed7953"
             ],
             [
              0.7777777777777778,
              "#fb9f3a"
             ],
             [
              0.8888888888888888,
              "#fdca26"
             ],
             [
              1,
              "#f0f921"
             ]
            ],
            "type": "histogram2dcontour"
           }
          ],
          "mesh3d": [
           {
            "colorbar": {
             "outlinewidth": 0,
             "ticks": ""
            },
            "type": "mesh3d"
           }
          ],
          "parcoords": [
           {
            "line": {
             "colorbar": {
              "outlinewidth": 0,
              "ticks": ""
             }
            },
            "type": "parcoords"
           }
          ],
          "pie": [
           {
            "automargin": true,
            "type": "pie"
           }
          ],
          "scatter": [
           {
            "fillpattern": {
             "fillmode": "overlay",
             "size": 10,
             "solidity": 0.2
            },
            "type": "scatter"
           }
          ],
          "scatter3d": [
           {
            "line": {
             "colorbar": {
              "outlinewidth": 0,
              "ticks": ""
             }
            },
            "marker": {
             "colorbar": {
              "outlinewidth": 0,
              "ticks": ""
             }
            },
            "type": "scatter3d"
           }
          ],
          "scattercarpet": [
           {
            "marker": {
             "colorbar": {
              "outlinewidth": 0,
              "ticks": ""
             }
            },
            "type": "scattercarpet"
           }
          ],
          "scattergeo": [
           {
            "marker": {
             "colorbar": {
              "outlinewidth": 0,
              "ticks": ""
             }
            },
            "type": "scattergeo"
           }
          ],
          "scattergl": [
           {
            "marker": {
             "colorbar": {
              "outlinewidth": 0,
              "ticks": ""
             }
            },
            "type": "scattergl"
           }
          ],
          "scattermapbox": [
           {
            "marker": {
             "colorbar": {
              "outlinewidth": 0,
              "ticks": ""
             }
            },
            "type": "scattermapbox"
           }
          ],
          "scatterpolar": [
           {
            "marker": {
             "colorbar": {
              "outlinewidth": 0,
              "ticks": ""
             }
            },
            "type": "scatterpolar"
           }
          ],
          "scatterpolargl": [
           {
            "marker": {
             "colorbar": {
              "outlinewidth": 0,
              "ticks": ""
             }
            },
            "type": "scatterpolargl"
           }
          ],
          "scatterternary": [
           {
            "marker": {
             "colorbar": {
              "outlinewidth": 0,
              "ticks": ""
             }
            },
            "type": "scatterternary"
           }
          ],
          "surface": [
           {
            "colorbar": {
             "outlinewidth": 0,
             "ticks": ""
            },
            "colorscale": [
             [
              0,
              "#0d0887"
             ],
             [
              0.1111111111111111,
              "#46039f"
             ],
             [
              0.2222222222222222,
              "#7201a8"
             ],
             [
              0.3333333333333333,
              "#9c179e"
             ],
             [
              0.4444444444444444,
              "#bd3786"
             ],
             [
              0.5555555555555556,
              "#d8576b"
             ],
             [
              0.6666666666666666,
              "#ed7953"
             ],
             [
              0.7777777777777778,
              "#fb9f3a"
             ],
             [
              0.8888888888888888,
              "#fdca26"
             ],
             [
              1,
              "#f0f921"
             ]
            ],
            "type": "surface"
           }
          ],
          "table": [
           {
            "cells": {
             "fill": {
              "color": "#EBF0F8"
             },
             "line": {
              "color": "white"
             }
            },
            "header": {
             "fill": {
              "color": "#C8D4E3"
             },
             "line": {
              "color": "white"
             }
            },
            "type": "table"
           }
          ]
         },
         "layout": {
          "annotationdefaults": {
           "arrowcolor": "#2a3f5f",
           "arrowhead": 0,
           "arrowwidth": 1
          },
          "autotypenumbers": "strict",
          "coloraxis": {
           "colorbar": {
            "outlinewidth": 0,
            "ticks": ""
           }
          },
          "colorscale": {
           "diverging": [
            [
             0,
             "#8e0152"
            ],
            [
             0.1,
             "#c51b7d"
            ],
            [
             0.2,
             "#de77ae"
            ],
            [
             0.3,
             "#f1b6da"
            ],
            [
             0.4,
             "#fde0ef"
            ],
            [
             0.5,
             "#f7f7f7"
            ],
            [
             0.6,
             "#e6f5d0"
            ],
            [
             0.7,
             "#b8e186"
            ],
            [
             0.8,
             "#7fbc41"
            ],
            [
             0.9,
             "#4d9221"
            ],
            [
             1,
             "#276419"
            ]
           ],
           "sequential": [
            [
             0,
             "#0d0887"
            ],
            [
             0.1111111111111111,
             "#46039f"
            ],
            [
             0.2222222222222222,
             "#7201a8"
            ],
            [
             0.3333333333333333,
             "#9c179e"
            ],
            [
             0.4444444444444444,
             "#bd3786"
            ],
            [
             0.5555555555555556,
             "#d8576b"
            ],
            [
             0.6666666666666666,
             "#ed7953"
            ],
            [
             0.7777777777777778,
             "#fb9f3a"
            ],
            [
             0.8888888888888888,
             "#fdca26"
            ],
            [
             1,
             "#f0f921"
            ]
           ],
           "sequentialminus": [
            [
             0,
             "#0d0887"
            ],
            [
             0.1111111111111111,
             "#46039f"
            ],
            [
             0.2222222222222222,
             "#7201a8"
            ],
            [
             0.3333333333333333,
             "#9c179e"
            ],
            [
             0.4444444444444444,
             "#bd3786"
            ],
            [
             0.5555555555555556,
             "#d8576b"
            ],
            [
             0.6666666666666666,
             "#ed7953"
            ],
            [
             0.7777777777777778,
             "#fb9f3a"
            ],
            [
             0.8888888888888888,
             "#fdca26"
            ],
            [
             1,
             "#f0f921"
            ]
           ]
          },
          "colorway": [
           "#636efa",
           "#EF553B",
           "#00cc96",
           "#ab63fa",
           "#FFA15A",
           "#19d3f3",
           "#FF6692",
           "#B6E880",
           "#FF97FF",
           "#FECB52"
          ],
          "font": {
           "color": "#2a3f5f"
          },
          "geo": {
           "bgcolor": "white",
           "lakecolor": "white",
           "landcolor": "#E5ECF6",
           "showlakes": true,
           "showland": true,
           "subunitcolor": "white"
          },
          "hoverlabel": {
           "align": "left"
          },
          "hovermode": "closest",
          "mapbox": {
           "style": "light"
          },
          "paper_bgcolor": "white",
          "plot_bgcolor": "#E5ECF6",
          "polar": {
           "angularaxis": {
            "gridcolor": "white",
            "linecolor": "white",
            "ticks": ""
           },
           "bgcolor": "#E5ECF6",
           "radialaxis": {
            "gridcolor": "white",
            "linecolor": "white",
            "ticks": ""
           }
          },
          "scene": {
           "xaxis": {
            "backgroundcolor": "#E5ECF6",
            "gridcolor": "white",
            "gridwidth": 2,
            "linecolor": "white",
            "showbackground": true,
            "ticks": "",
            "zerolinecolor": "white"
           },
           "yaxis": {
            "backgroundcolor": "#E5ECF6",
            "gridcolor": "white",
            "gridwidth": 2,
            "linecolor": "white",
            "showbackground": true,
            "ticks": "",
            "zerolinecolor": "white"
           },
           "zaxis": {
            "backgroundcolor": "#E5ECF6",
            "gridcolor": "white",
            "gridwidth": 2,
            "linecolor": "white",
            "showbackground": true,
            "ticks": "",
            "zerolinecolor": "white"
           }
          },
          "shapedefaults": {
           "line": {
            "color": "#2a3f5f"
           }
          },
          "ternary": {
           "aaxis": {
            "gridcolor": "white",
            "linecolor": "white",
            "ticks": ""
           },
           "baxis": {
            "gridcolor": "white",
            "linecolor": "white",
            "ticks": ""
           },
           "bgcolor": "#E5ECF6",
           "caxis": {
            "gridcolor": "white",
            "linecolor": "white",
            "ticks": ""
           }
          },
          "title": {
           "x": 0.05
          },
          "xaxis": {
           "automargin": true,
           "gridcolor": "white",
           "linecolor": "white",
           "ticks": "",
           "title": {
            "standoff": 15
           },
           "zerolinecolor": "white",
           "zerolinewidth": 2
          },
          "yaxis": {
           "automargin": true,
           "gridcolor": "white",
           "linecolor": "white",
           "ticks": "",
           "title": {
            "standoff": 15
           },
           "zerolinecolor": "white",
           "zerolinewidth": 2
          }
         }
        },
        "xaxis": {
         "anchor": "y",
         "domain": [
          0,
          1
         ],
         "title": {
          "text": "nb_capteur_ph"
         }
        },
        "yaxis": {
         "anchor": "x",
         "domain": [
          0,
          1
         ]
        }
       }
      },
      "text/html": [
       "<div>                            <div id=\"23c331c1-92c3-4322-b0fe-53e1050eb8e5\" class=\"plotly-graph-div\" style=\"height:525px; width:100%;\"></div>            <script type=\"text/javascript\">                require([\"plotly\"], function(Plotly) {                    window.PLOTLYENV=window.PLOTLYENV || {};                                    if (document.getElementById(\"23c331c1-92c3-4322-b0fe-53e1050eb8e5\")) {                    Plotly.newPlot(                        \"23c331c1-92c3-4322-b0fe-53e1050eb8e5\",                        [{\"alignmentgroup\":\"True\",\"hovertemplate\":\"nb_capteur_ph=%{x}<extra></extra>\",\"legendgroup\":\"\",\"marker\":{\"color\":\"#636efa\"},\"name\":\"\",\"notched\":false,\"offsetgroup\":\"\",\"orientation\":\"h\",\"showlegend\":false,\"x\":[3.0,4.0,3.0,3.0,4.0,2.0,3.0,3.0,1.0,1.0,3.0,3.0,3.0,4.0,4.0,4.0,4.0,4.0,3.0,4.0,2.0,2.0,null,2.0,4.0,4.0,1.0,4.0,3.0,3.0,3.0,3.0,2.0,2.0,2.0,3.0,3.0,3.0,3.0,3.0,2.0,4.0,3.0,2.0,null,null,2.0,null,2.0,3.0,3.0,2.0,2.0,1.0,2.0,3.0,2.0,2.0,2.0,4.0,2.0,2.0,3.0,2.0,3.0,2.0,2.0,null,3.0,2.0,3.0,2.0,3.0,3.0,2.0,3.0,4.0,2.0,1.0,2.0,2.0,2.0,3.0,2.0,4.0,2.0,3.0,4.0,3.0,3.0,3.0,3.0,2.0,3.0,2.0,3.0,4.0,2.0,2.0,3.0,3.0,3.0,4.0,3.0,2.0,2.0,2.0,3.0,3.0,1.0,3.0,3.0,4.0,2.0,2.0,2.0,2.0,4.0,1.0,1.0,4.0,3.0,2.0,2.0,3.0,3.0,2.0,2.0,1.0,2.0,2.0,3.0,4.0,3.0,4.0,3.0,1.0,3.0,3.0,3.0,3.0,3.0,3.0,3.0,1.0,3.0,3.0,3.0,3.0,3.0,3.0,1.0,1.0,3.0,2.0,3.0,3.0,3.0,3.0,3.0,2.0,2.0,3.0,3.0,3.0,3.0,2.0,2.0,2.0,2.0,3.0,null,null,2.0,2.0,3.0,null,null,null,3.0,3.0,3.0,3.0,3.0,3.0,3.0,2.0,2.0,2.0,2.0,2.0,2.0,3.0,2.0,3.0,2.0,2.0,4.0,2.0,3.0,2.0,3.0,3.0,3.0,3.0,2.0,2.0,2.0,1.0,2.0,2.0,3.0,3.0,3.0,1.0,1.0,1.0,2.0,2.0,2.0,2.0,2.0,3.0,2.0,3.0,4.0,4.0,3.0,3.0,2.0,4.0,2.0,2.0,4.0,3.0,4.0,null,null,null,null,null,3.0,null,null,null,1.0,1.0,null,null,null,null,null,null,null,null,null,null,3.0,1.0,null,null,null,1.0,null,3.0,null,null,null,null,null,1.0,3.0,4.0,null,4.0,4.0,4.0,null,null,null,null,null,null,null,null,null,null,2.0,null,null,3.0,4.0,4.0,null,null,4.0,null,2.0,null,3.0,3.0,null,null,null,1.0,null,null,3.0,3.0,null,3.0,4.0,null,4.0,1.0,null,null,4.0,4.0,4.0,null,null,null,null,null,null,null,3.0,3.0,3.0,3.0,null,null,3.0,3.0,3.0,4.0,4.0,null,4.0,null,3.0,4.0,null,null,4.0,null,null,null,null,null,1.0,3.0,2.0,null,null,4.0,null,1.0,null,null,3.0,null,null,null,2.0,null,3.0,3.0,3.0,null,3.0,3.0,null,3.0,null,null,null,3.0,3.0,2.0,null,2.0,2.0,null,null,3.0,4.0,null,null,null,null,null,null,null,null,null,null,null,null,null,3.0,3.0,null,null,4.0,3.0,2.0,1.0,2.0,1.0,1.0,1.0,1.0,1.0,1.0,1.0,1.0,1.0,1.0,4.0,1.0,1.0,1.0,1.0,3.0,2.0,2.0,1.0,null,null,null,null,null,null,null,null,2.0,null,null,null,null,null,null,null,null,null,null,null,3.0,2.0,null,1.0,2.0,2.0,2.0,null,2.0,null,null,null,null,null,null,null,null,null,null,null,1.0,null,1.0,null,null,3.0,null,null,null,null,null,null,null,null,null,1.0,null,null,null,null,null,null,4.0,4.0,null,4.0,4.0,null,null,4.0,4.0,3.0,null,null,1.0,1.0,4.0,3.0,3.0,null,null,3.0,null,null,null,3.0,null,null,null,null,4.0,4.0,3.0,3.0,3.0,3.0,null,2.0,1.0,1.0,4.0,1.0,4.0,4.0,null,4.0,null,3.0,null,1.0,4.0,null,null,null,null,null,null,2.0,null,4.0,null,4.0,null,4.0,1.0,1.0,1.0,4.0,null,null,3.0,4.0,4.0,4.0,4.0,null,null,null,4.0,null,4.0,null,4.0,1.0,4.0,1.0,null,4.0,3.0,1.0,1.0,3.0,4.0,4.0,null,3.0,4.0,3.0,1.0,2.0,null,null,3.0,4.0,3.0,4.0,2.0,3.0,null,null,1.0,null,null,3.0,4.0,null,4.0,1.0,4.0,3.0,3.0,1.0,3.0,3.0,3.0,3.0,3.0,3.0,3.0,3.0,null,1.0,3.0,null,3.0,3.0,3.0,3.0,3.0,1.0,3.0,3.0,3.0,4.0,2.0,3.0,3.0,1.0,2.0,2.0,3.0,3.0,null,null,3.0,3.0,3.0,2.0,1.0,2.0,3.0,3.0,4.0,3.0,null,2.0,2.0,2.0,2.0,null,null,4.0,2.0,2.0,3.0,1.0,3.0,3.0,2.0,3.0,4.0,3.0,2.0,2.0,2.0,null,3.0,3.0,3.0,2.0,2.0,2.0,2.0,2.0,2.0,2.0,2.0,1.0,3.0,3.0,2.0,3.0,2.0,2.0,2.0,4.0,2.0,2.0,2.0,3.0,3.0,3.0,3.0,3.0,4.0,3.0,4.0,2.0,4.0,2.0,2.0,3.0,3.0,3.0,3.0,2.0,2.0,4.0,3.0,2.0,2.0,2.0,3.0,3.0,3.0,3.0,2.0,3.0,3.0,3.0,3.0,3.0,4.0,3.0,3.0,3.0,3.0,3.0,3.0,3.0,3.0,3.0,2.0,3.0,3.0,3.0,3.0,null,3.0,3.0,3.0,null,2.0,3.0,3.0,3.0,3.0,3.0,3.0,3.0,3.0,3.0,3.0,3.0,3.0,3.0,3.0,3.0,3.0,3.0,3.0,3.0,3.0,3.0,3.0,3.0,3.0,3.0,3.0,3.0,3.0,3.0,3.0,3.0,3.0,3.0,3.0,3.0],\"x0\":\" \",\"xaxis\":\"x\",\"y0\":\" \",\"yaxis\":\"y\",\"type\":\"box\",\"fillcolor\":\"#C9A26B\"}],                        {\"template\":{\"data\":{\"histogram2dcontour\":[{\"type\":\"histogram2dcontour\",\"colorbar\":{\"outlinewidth\":0,\"ticks\":\"\"},\"colorscale\":[[0.0,\"#0d0887\"],[0.1111111111111111,\"#46039f\"],[0.2222222222222222,\"#7201a8\"],[0.3333333333333333,\"#9c179e\"],[0.4444444444444444,\"#bd3786\"],[0.5555555555555556,\"#d8576b\"],[0.6666666666666666,\"#ed7953\"],[0.7777777777777778,\"#fb9f3a\"],[0.8888888888888888,\"#fdca26\"],[1.0,\"#f0f921\"]]}],\"choropleth\":[{\"type\":\"choropleth\",\"colorbar\":{\"outlinewidth\":0,\"ticks\":\"\"}}],\"histogram2d\":[{\"type\":\"histogram2d\",\"colorbar\":{\"outlinewidth\":0,\"ticks\":\"\"},\"colorscale\":[[0.0,\"#0d0887\"],[0.1111111111111111,\"#46039f\"],[0.2222222222222222,\"#7201a8\"],[0.3333333333333333,\"#9c179e\"],[0.4444444444444444,\"#bd3786\"],[0.5555555555555556,\"#d8576b\"],[0.6666666666666666,\"#ed7953\"],[0.7777777777777778,\"#fb9f3a\"],[0.8888888888888888,\"#fdca26\"],[1.0,\"#f0f921\"]]}],\"heatmap\":[{\"type\":\"heatmap\",\"colorbar\":{\"outlinewidth\":0,\"ticks\":\"\"},\"colorscale\":[[0.0,\"#0d0887\"],[0.1111111111111111,\"#46039f\"],[0.2222222222222222,\"#7201a8\"],[0.3333333333333333,\"#9c179e\"],[0.4444444444444444,\"#bd3786\"],[0.5555555555555556,\"#d8576b\"],[0.6666666666666666,\"#ed7953\"],[0.7777777777777778,\"#fb9f3a\"],[0.8888888888888888,\"#fdca26\"],[1.0,\"#f0f921\"]]}],\"heatmapgl\":[{\"type\":\"heatmapgl\",\"colorbar\":{\"outlinewidth\":0,\"ticks\":\"\"},\"colorscale\":[[0.0,\"#0d0887\"],[0.1111111111111111,\"#46039f\"],[0.2222222222222222,\"#7201a8\"],[0.3333333333333333,\"#9c179e\"],[0.4444444444444444,\"#bd3786\"],[0.5555555555555556,\"#d8576b\"],[0.6666666666666666,\"#ed7953\"],[0.7777777777777778,\"#fb9f3a\"],[0.8888888888888888,\"#fdca26\"],[1.0,\"#f0f921\"]]}],\"contourcarpet\":[{\"type\":\"contourcarpet\",\"colorbar\":{\"outlinewidth\":0,\"ticks\":\"\"}}],\"contour\":[{\"type\":\"contour\",\"colorbar\":{\"outlinewidth\":0,\"ticks\":\"\"},\"colorscale\":[[0.0,\"#0d0887\"],[0.1111111111111111,\"#46039f\"],[0.2222222222222222,\"#7201a8\"],[0.3333333333333333,\"#9c179e\"],[0.4444444444444444,\"#bd3786\"],[0.5555555555555556,\"#d8576b\"],[0.6666666666666666,\"#ed7953\"],[0.7777777777777778,\"#fb9f3a\"],[0.8888888888888888,\"#fdca26\"],[1.0,\"#f0f921\"]]}],\"surface\":[{\"type\":\"surface\",\"colorbar\":{\"outlinewidth\":0,\"ticks\":\"\"},\"colorscale\":[[0.0,\"#0d0887\"],[0.1111111111111111,\"#46039f\"],[0.2222222222222222,\"#7201a8\"],[0.3333333333333333,\"#9c179e\"],[0.4444444444444444,\"#bd3786\"],[0.5555555555555556,\"#d8576b\"],[0.6666666666666666,\"#ed7953\"],[0.7777777777777778,\"#fb9f3a\"],[0.8888888888888888,\"#fdca26\"],[1.0,\"#f0f921\"]]}],\"mesh3d\":[{\"type\":\"mesh3d\",\"colorbar\":{\"outlinewidth\":0,\"ticks\":\"\"}}],\"scatter\":[{\"fillpattern\":{\"fillmode\":\"overlay\",\"size\":10,\"solidity\":0.2},\"type\":\"scatter\"}],\"parcoords\":[{\"type\":\"parcoords\",\"line\":{\"colorbar\":{\"outlinewidth\":0,\"ticks\":\"\"}}}],\"scatterpolargl\":[{\"type\":\"scatterpolargl\",\"marker\":{\"colorbar\":{\"outlinewidth\":0,\"ticks\":\"\"}}}],\"bar\":[{\"error_x\":{\"color\":\"#2a3f5f\"},\"error_y\":{\"color\":\"#2a3f5f\"},\"marker\":{\"line\":{\"color\":\"#E5ECF6\",\"width\":0.5},\"pattern\":{\"fillmode\":\"overlay\",\"size\":10,\"solidity\":0.2}},\"type\":\"bar\"}],\"scattergeo\":[{\"type\":\"scattergeo\",\"marker\":{\"colorbar\":{\"outlinewidth\":0,\"ticks\":\"\"}}}],\"scatterpolar\":[{\"type\":\"scatterpolar\",\"marker\":{\"colorbar\":{\"outlinewidth\":0,\"ticks\":\"\"}}}],\"histogram\":[{\"marker\":{\"pattern\":{\"fillmode\":\"overlay\",\"size\":10,\"solidity\":0.2}},\"type\":\"histogram\"}],\"scattergl\":[{\"type\":\"scattergl\",\"marker\":{\"colorbar\":{\"outlinewidth\":0,\"ticks\":\"\"}}}],\"scatter3d\":[{\"type\":\"scatter3d\",\"line\":{\"colorbar\":{\"outlinewidth\":0,\"ticks\":\"\"}},\"marker\":{\"colorbar\":{\"outlinewidth\":0,\"ticks\":\"\"}}}],\"scattermapbox\":[{\"type\":\"scattermapbox\",\"marker\":{\"colorbar\":{\"outlinewidth\":0,\"ticks\":\"\"}}}],\"scatterternary\":[{\"type\":\"scatterternary\",\"marker\":{\"colorbar\":{\"outlinewidth\":0,\"ticks\":\"\"}}}],\"scattercarpet\":[{\"type\":\"scattercarpet\",\"marker\":{\"colorbar\":{\"outlinewidth\":0,\"ticks\":\"\"}}}],\"carpet\":[{\"aaxis\":{\"endlinecolor\":\"#2a3f5f\",\"gridcolor\":\"white\",\"linecolor\":\"white\",\"minorgridcolor\":\"white\",\"startlinecolor\":\"#2a3f5f\"},\"baxis\":{\"endlinecolor\":\"#2a3f5f\",\"gridcolor\":\"white\",\"linecolor\":\"white\",\"minorgridcolor\":\"white\",\"startlinecolor\":\"#2a3f5f\"},\"type\":\"carpet\"}],\"table\":[{\"cells\":{\"fill\":{\"color\":\"#EBF0F8\"},\"line\":{\"color\":\"white\"}},\"header\":{\"fill\":{\"color\":\"#C8D4E3\"},\"line\":{\"color\":\"white\"}},\"type\":\"table\"}],\"barpolar\":[{\"marker\":{\"line\":{\"color\":\"#E5ECF6\",\"width\":0.5},\"pattern\":{\"fillmode\":\"overlay\",\"size\":10,\"solidity\":0.2}},\"type\":\"barpolar\"}],\"pie\":[{\"automargin\":true,\"type\":\"pie\"}]},\"layout\":{\"autotypenumbers\":\"strict\",\"colorway\":[\"#636efa\",\"#EF553B\",\"#00cc96\",\"#ab63fa\",\"#FFA15A\",\"#19d3f3\",\"#FF6692\",\"#B6E880\",\"#FF97FF\",\"#FECB52\"],\"font\":{\"color\":\"#2a3f5f\"},\"hovermode\":\"closest\",\"hoverlabel\":{\"align\":\"left\"},\"paper_bgcolor\":\"white\",\"plot_bgcolor\":\"#E5ECF6\",\"polar\":{\"bgcolor\":\"#E5ECF6\",\"angularaxis\":{\"gridcolor\":\"white\",\"linecolor\":\"white\",\"ticks\":\"\"},\"radialaxis\":{\"gridcolor\":\"white\",\"linecolor\":\"white\",\"ticks\":\"\"}},\"ternary\":{\"bgcolor\":\"#E5ECF6\",\"aaxis\":{\"gridcolor\":\"white\",\"linecolor\":\"white\",\"ticks\":\"\"},\"baxis\":{\"gridcolor\":\"white\",\"linecolor\":\"white\",\"ticks\":\"\"},\"caxis\":{\"gridcolor\":\"white\",\"linecolor\":\"white\",\"ticks\":\"\"}},\"coloraxis\":{\"colorbar\":{\"outlinewidth\":0,\"ticks\":\"\"}},\"colorscale\":{\"sequential\":[[0.0,\"#0d0887\"],[0.1111111111111111,\"#46039f\"],[0.2222222222222222,\"#7201a8\"],[0.3333333333333333,\"#9c179e\"],[0.4444444444444444,\"#bd3786\"],[0.5555555555555556,\"#d8576b\"],[0.6666666666666666,\"#ed7953\"],[0.7777777777777778,\"#fb9f3a\"],[0.8888888888888888,\"#fdca26\"],[1.0,\"#f0f921\"]],\"sequentialminus\":[[0.0,\"#0d0887\"],[0.1111111111111111,\"#46039f\"],[0.2222222222222222,\"#7201a8\"],[0.3333333333333333,\"#9c179e\"],[0.4444444444444444,\"#bd3786\"],[0.5555555555555556,\"#d8576b\"],[0.6666666666666666,\"#ed7953\"],[0.7777777777777778,\"#fb9f3a\"],[0.8888888888888888,\"#fdca26\"],[1.0,\"#f0f921\"]],\"diverging\":[[0,\"#8e0152\"],[0.1,\"#c51b7d\"],[0.2,\"#de77ae\"],[0.3,\"#f1b6da\"],[0.4,\"#fde0ef\"],[0.5,\"#f7f7f7\"],[0.6,\"#e6f5d0\"],[0.7,\"#b8e186\"],[0.8,\"#7fbc41\"],[0.9,\"#4d9221\"],[1,\"#276419\"]]},\"xaxis\":{\"gridcolor\":\"white\",\"linecolor\":\"white\",\"ticks\":\"\",\"title\":{\"standoff\":15},\"zerolinecolor\":\"white\",\"automargin\":true,\"zerolinewidth\":2},\"yaxis\":{\"gridcolor\":\"white\",\"linecolor\":\"white\",\"ticks\":\"\",\"title\":{\"standoff\":15},\"zerolinecolor\":\"white\",\"automargin\":true,\"zerolinewidth\":2},\"scene\":{\"xaxis\":{\"backgroundcolor\":\"#E5ECF6\",\"gridcolor\":\"white\",\"linecolor\":\"white\",\"showbackground\":true,\"ticks\":\"\",\"zerolinecolor\":\"white\",\"gridwidth\":2},\"yaxis\":{\"backgroundcolor\":\"#E5ECF6\",\"gridcolor\":\"white\",\"linecolor\":\"white\",\"showbackground\":true,\"ticks\":\"\",\"zerolinecolor\":\"white\",\"gridwidth\":2},\"zaxis\":{\"backgroundcolor\":\"#E5ECF6\",\"gridcolor\":\"white\",\"linecolor\":\"white\",\"showbackground\":true,\"ticks\":\"\",\"zerolinecolor\":\"white\",\"gridwidth\":2}},\"shapedefaults\":{\"line\":{\"color\":\"#2a3f5f\"}},\"annotationdefaults\":{\"arrowcolor\":\"#2a3f5f\",\"arrowhead\":0,\"arrowwidth\":1},\"geo\":{\"bgcolor\":\"white\",\"landcolor\":\"#E5ECF6\",\"subunitcolor\":\"white\",\"showland\":true,\"showlakes\":true,\"lakecolor\":\"white\"},\"title\":{\"x\":0.05},\"mapbox\":{\"style\":\"light\"}}},\"xaxis\":{\"anchor\":\"y\",\"domain\":[0.0,1.0],\"title\":{\"text\":\"nb_capteur_ph\"}},\"yaxis\":{\"anchor\":\"x\",\"domain\":[0.0,1.0]},\"legend\":{\"tracegroupgap\":0},\"margin\":{\"t\":60},\"boxmode\":\"group\"},                        {\"responsive\": true}                    ).then(function(){\n",
       "                            \n",
       "var gd = document.getElementById('23c331c1-92c3-4322-b0fe-53e1050eb8e5');\n",
       "var x = new MutationObserver(function (mutations, observer) {{\n",
       "        var display = window.getComputedStyle(gd).display;\n",
       "        if (!display || display === 'none') {{\n",
       "            console.log([gd, 'removed!']);\n",
       "            Plotly.purge(gd);\n",
       "            observer.disconnect();\n",
       "        }}\n",
       "}});\n",
       "\n",
       "// Listen for the removal of the full notebook cells\n",
       "var notebookContainer = gd.closest('#notebook-container');\n",
       "if (notebookContainer) {{\n",
       "    x.observe(notebookContainer, {childList: true});\n",
       "}}\n",
       "\n",
       "// Listen for the clearing of the current output cell\n",
       "var outputEl = gd.closest('.output');\n",
       "if (outputEl) {{\n",
       "    x.observe(outputEl, {childList: true});\n",
       "}}\n",
       "\n",
       "                        })                };                });            </script>        </div>"
      ]
     },
     "metadata": {},
     "output_type": "display_data"
    },
    {
     "data": {
      "application/vnd.plotly.v1+json": {
       "config": {
        "plotlyServerURL": "https://plot.ly"
       },
       "data": [
        {
         "alignmentgroup": "True",
         "fillcolor": "#C9A26B",
         "hovertemplate": "Selfie(mégapixels)=%{x}<extra></extra>",
         "legendgroup": "",
         "marker": {
          "color": "#636efa"
         },
         "name": "",
         "notched": false,
         "offsetgroup": "",
         "orientation": "h",
         "showlegend": false,
         "type": "box",
         "x": [
          10,
          16,
          16,
          8,
          8,
          5,
          16,
          16,
          50,
          50,
          8,
          16,
          32,
          32,
          8,
          5,
          16,
          16,
          8,
          13,
          5,
          5,
          null,
          5,
          16,
          16,
          2,
          13,
          12,
          12,
          12,
          12,
          12,
          12,
          12,
          12,
          12,
          12,
          12,
          12,
          12,
          10.8,
          12,
          12,
          null,
          null,
          12,
          null,
          12,
          10.8,
          12,
          8,
          12,
          7,
          12,
          12,
          12,
          12,
          12,
          10.8,
          12,
          12,
          12,
          12,
          12,
          12,
          10,
          null,
          12,
          12,
          12,
          12,
          16,
          32,
          12,
          20,
          8,
          12,
          7,
          12,
          12,
          5,
          12,
          32,
          8,
          12,
          12,
          16,
          12,
          16,
          32,
          20,
          16,
          12,
          12,
          16,
          8,
          12,
          5,
          12,
          12,
          8,
          13,
          16,
          12,
          32,
          12,
          32,
          32,
          7,
          32,
          32,
          13,
          5,
          8,
          5,
          5,
          16,
          16,
          7,
          13,
          8,
          5,
          5,
          32,
          10.8,
          12,
          5,
          5,
          5,
          8,
          8,
          16,
          16,
          13,
          16,
          16,
          16,
          8,
          32,
          16,
          32,
          16,
          16,
          7,
          16,
          16,
          20,
          50,
          32,
          32,
          7,
          7,
          32,
          12,
          32,
          32,
          60,
          32,
          12,
          12,
          12,
          12,
          12,
          12,
          12,
          12,
          12,
          12,
          12,
          12,
          null,
          null,
          12,
          12,
          12,
          null,
          null,
          null,
          12,
          12,
          12,
          12,
          12,
          12,
          12,
          12,
          12,
          12,
          12,
          12,
          12,
          5,
          10,
          12,
          12,
          8,
          16,
          12,
          8,
          8,
          16,
          32,
          16,
          32,
          12,
          13,
          8,
          5,
          5,
          8,
          16,
          32,
          8,
          8,
          25,
          8,
          12,
          12,
          32,
          32,
          32,
          8,
          12,
          8,
          13,
          16,
          16,
          32,
          32,
          32,
          12,
          12,
          16,
          8,
          32,
          null,
          null,
          null,
          null,
          null,
          5,
          null,
          null,
          null,
          5,
          5,
          null,
          null,
          null,
          null,
          null,
          null,
          null,
          null,
          null,
          null,
          8,
          2,
          null,
          null,
          null,
          2,
          null,
          5,
          null,
          null,
          null,
          null,
          null,
          5,
          5,
          8,
          null,
          8,
          8,
          8,
          null,
          null,
          null,
          null,
          null,
          null,
          null,
          null,
          null,
          null,
          5,
          null,
          null,
          8,
          16,
          13,
          null,
          null,
          13,
          null,
          16,
          null,
          8,
          8,
          null,
          null,
          null,
          5,
          null,
          null,
          16,
          16,
          null,
          8,
          32,
          null,
          16,
          null,
          null,
          null,
          13,
          13,
          13,
          null,
          null,
          null,
          null,
          null,
          null,
          null,
          8,
          32,
          32,
          8,
          null,
          null,
          13,
          16,
          13,
          13,
          16,
          null,
          16,
          null,
          32,
          32,
          null,
          null,
          32,
          null,
          null,
          null,
          null,
          null,
          8,
          20,
          13,
          null,
          null,
          32,
          null,
          8,
          null,
          null,
          16,
          null,
          null,
          null,
          16,
          null,
          32,
          32,
          32,
          null,
          32,
          10,
          null,
          32,
          null,
          null,
          null,
          32,
          10,
          12,
          null,
          10,
          12,
          null,
          null,
          10,
          13,
          null,
          null,
          null,
          null,
          null,
          null,
          null,
          null,
          null,
          null,
          null,
          null,
          null,
          8,
          10,
          null,
          null,
          10.8,
          5,
          8,
          7,
          12,
          7,
          8,
          7,
          7,
          7,
          7,
          7,
          7,
          7,
          7,
          32,
          7,
          7,
          7,
          7,
          10,
          12,
          12,
          7,
          null,
          null,
          null,
          null,
          null,
          null,
          null,
          null,
          5,
          null,
          null,
          null,
          null,
          null,
          null,
          null,
          null,
          null,
          null,
          null,
          5,
          8,
          null,
          8,
          8,
          8,
          8,
          null,
          8,
          null,
          null,
          null,
          null,
          null,
          null,
          null,
          null,
          null,
          null,
          null,
          7,
          null,
          5,
          null,
          null,
          8,
          null,
          null,
          null,
          null,
          null,
          null,
          null,
          null,
          null,
          5,
          null,
          null,
          null,
          null,
          null,
          null,
          8,
          13,
          null,
          13,
          8,
          null,
          null,
          8,
          8,
          8,
          null,
          null,
          5,
          7,
          8,
          24,
          24,
          null,
          null,
          20,
          null,
          null,
          null,
          8,
          null,
          null,
          null,
          null,
          16,
          16,
          25,
          25,
          25,
          8,
          null,
          8,
          7,
          7,
          32,
          7,
          13,
          13,
          null,
          16,
          null,
          16,
          null,
          7,
          16,
          null,
          null,
          null,
          null,
          null,
          null,
          10,
          null,
          32,
          null,
          8,
          null,
          13,
          7,
          7,
          7,
          8,
          null,
          null,
          10,
          32,
          16,
          32,
          32,
          null,
          null,
          null,
          32,
          null,
          20,
          null,
          20,
          7,
          16,
          7,
          null,
          32,
          32,
          7,
          7,
          32,
          20,
          16,
          null,
          10,
          32,
          32,
          7,
          8,
          null,
          null,
          10,
          32,
          10,
          32,
          8,
          10,
          null,
          null,
          7,
          null,
          null,
          32,
          20,
          null,
          32,
          7,
          32,
          32,
          32,
          7,
          32,
          32,
          32,
          32,
          32,
          32,
          32,
          12,
          null,
          7,
          10,
          null,
          32,
          8,
          20,
          8,
          10,
          7,
          10,
          32,
          10,
          20,
          8,
          16,
          10,
          7,
          12,
          12,
          32,
          32,
          null,
          null,
          10,
          10,
          10,
          12,
          7,
          12,
          10,
          10,
          32,
          16,
          null,
          12,
          12,
          12,
          12,
          null,
          null,
          32,
          12,
          12,
          32,
          7,
          32,
          10,
          8,
          40,
          32,
          12,
          12,
          12,
          12,
          null,
          32,
          10,
          40,
          12,
          12,
          12,
          12,
          12,
          12,
          12,
          12,
          7,
          10,
          10,
          12,
          12,
          12,
          12,
          12,
          40,
          12,
          12,
          12,
          13,
          12,
          12,
          10,
          12,
          40,
          8,
          40,
          10,
          40,
          12,
          12,
          10,
          10,
          10,
          12,
          12,
          12,
          13,
          10,
          12,
          12,
          12,
          12,
          12,
          12,
          12,
          12,
          12,
          12,
          12,
          12,
          13,
          10.8,
          10,
          10,
          10,
          12,
          12,
          12,
          12,
          10,
          10,
          12,
          12,
          10,
          10,
          12,
          null,
          12,
          10,
          12,
          null,
          12,
          12,
          12,
          12,
          12,
          12,
          12,
          12,
          12,
          12,
          12,
          12,
          12,
          12,
          12,
          12,
          12,
          12,
          12,
          12,
          12,
          12,
          12,
          12,
          12,
          12,
          12,
          12,
          12,
          12,
          12,
          12,
          12,
          12,
          12,
          12
         ],
         "x0": " ",
         "xaxis": "x",
         "y0": " ",
         "yaxis": "y"
        }
       ],
       "layout": {
        "boxmode": "group",
        "legend": {
         "tracegroupgap": 0
        },
        "margin": {
         "t": 60
        },
        "template": {
         "data": {
          "bar": [
           {
            "error_x": {
             "color": "#2a3f5f"
            },
            "error_y": {
             "color": "#2a3f5f"
            },
            "marker": {
             "line": {
              "color": "#E5ECF6",
              "width": 0.5
             },
             "pattern": {
              "fillmode": "overlay",
              "size": 10,
              "solidity": 0.2
             }
            },
            "type": "bar"
           }
          ],
          "barpolar": [
           {
            "marker": {
             "line": {
              "color": "#E5ECF6",
              "width": 0.5
             },
             "pattern": {
              "fillmode": "overlay",
              "size": 10,
              "solidity": 0.2
             }
            },
            "type": "barpolar"
           }
          ],
          "carpet": [
           {
            "aaxis": {
             "endlinecolor": "#2a3f5f",
             "gridcolor": "white",
             "linecolor": "white",
             "minorgridcolor": "white",
             "startlinecolor": "#2a3f5f"
            },
            "baxis": {
             "endlinecolor": "#2a3f5f",
             "gridcolor": "white",
             "linecolor": "white",
             "minorgridcolor": "white",
             "startlinecolor": "#2a3f5f"
            },
            "type": "carpet"
           }
          ],
          "choropleth": [
           {
            "colorbar": {
             "outlinewidth": 0,
             "ticks": ""
            },
            "type": "choropleth"
           }
          ],
          "contour": [
           {
            "colorbar": {
             "outlinewidth": 0,
             "ticks": ""
            },
            "colorscale": [
             [
              0,
              "#0d0887"
             ],
             [
              0.1111111111111111,
              "#46039f"
             ],
             [
              0.2222222222222222,
              "#7201a8"
             ],
             [
              0.3333333333333333,
              "#9c179e"
             ],
             [
              0.4444444444444444,
              "#bd3786"
             ],
             [
              0.5555555555555556,
              "#d8576b"
             ],
             [
              0.6666666666666666,
              "#ed7953"
             ],
             [
              0.7777777777777778,
              "#fb9f3a"
             ],
             [
              0.8888888888888888,
              "#fdca26"
             ],
             [
              1,
              "#f0f921"
             ]
            ],
            "type": "contour"
           }
          ],
          "contourcarpet": [
           {
            "colorbar": {
             "outlinewidth": 0,
             "ticks": ""
            },
            "type": "contourcarpet"
           }
          ],
          "heatmap": [
           {
            "colorbar": {
             "outlinewidth": 0,
             "ticks": ""
            },
            "colorscale": [
             [
              0,
              "#0d0887"
             ],
             [
              0.1111111111111111,
              "#46039f"
             ],
             [
              0.2222222222222222,
              "#7201a8"
             ],
             [
              0.3333333333333333,
              "#9c179e"
             ],
             [
              0.4444444444444444,
              "#bd3786"
             ],
             [
              0.5555555555555556,
              "#d8576b"
             ],
             [
              0.6666666666666666,
              "#ed7953"
             ],
             [
              0.7777777777777778,
              "#fb9f3a"
             ],
             [
              0.8888888888888888,
              "#fdca26"
             ],
             [
              1,
              "#f0f921"
             ]
            ],
            "type": "heatmap"
           }
          ],
          "heatmapgl": [
           {
            "colorbar": {
             "outlinewidth": 0,
             "ticks": ""
            },
            "colorscale": [
             [
              0,
              "#0d0887"
             ],
             [
              0.1111111111111111,
              "#46039f"
             ],
             [
              0.2222222222222222,
              "#7201a8"
             ],
             [
              0.3333333333333333,
              "#9c179e"
             ],
             [
              0.4444444444444444,
              "#bd3786"
             ],
             [
              0.5555555555555556,
              "#d8576b"
             ],
             [
              0.6666666666666666,
              "#ed7953"
             ],
             [
              0.7777777777777778,
              "#fb9f3a"
             ],
             [
              0.8888888888888888,
              "#fdca26"
             ],
             [
              1,
              "#f0f921"
             ]
            ],
            "type": "heatmapgl"
           }
          ],
          "histogram": [
           {
            "marker": {
             "pattern": {
              "fillmode": "overlay",
              "size": 10,
              "solidity": 0.2
             }
            },
            "type": "histogram"
           }
          ],
          "histogram2d": [
           {
            "colorbar": {
             "outlinewidth": 0,
             "ticks": ""
            },
            "colorscale": [
             [
              0,
              "#0d0887"
             ],
             [
              0.1111111111111111,
              "#46039f"
             ],
             [
              0.2222222222222222,
              "#7201a8"
             ],
             [
              0.3333333333333333,
              "#9c179e"
             ],
             [
              0.4444444444444444,
              "#bd3786"
             ],
             [
              0.5555555555555556,
              "#d8576b"
             ],
             [
              0.6666666666666666,
              "#ed7953"
             ],
             [
              0.7777777777777778,
              "#fb9f3a"
             ],
             [
              0.8888888888888888,
              "#fdca26"
             ],
             [
              1,
              "#f0f921"
             ]
            ],
            "type": "histogram2d"
           }
          ],
          "histogram2dcontour": [
           {
            "colorbar": {
             "outlinewidth": 0,
             "ticks": ""
            },
            "colorscale": [
             [
              0,
              "#0d0887"
             ],
             [
              0.1111111111111111,
              "#46039f"
             ],
             [
              0.2222222222222222,
              "#7201a8"
             ],
             [
              0.3333333333333333,
              "#9c179e"
             ],
             [
              0.4444444444444444,
              "#bd3786"
             ],
             [
              0.5555555555555556,
              "#d8576b"
             ],
             [
              0.6666666666666666,
              "#ed7953"
             ],
             [
              0.7777777777777778,
              "#fb9f3a"
             ],
             [
              0.8888888888888888,
              "#fdca26"
             ],
             [
              1,
              "#f0f921"
             ]
            ],
            "type": "histogram2dcontour"
           }
          ],
          "mesh3d": [
           {
            "colorbar": {
             "outlinewidth": 0,
             "ticks": ""
            },
            "type": "mesh3d"
           }
          ],
          "parcoords": [
           {
            "line": {
             "colorbar": {
              "outlinewidth": 0,
              "ticks": ""
             }
            },
            "type": "parcoords"
           }
          ],
          "pie": [
           {
            "automargin": true,
            "type": "pie"
           }
          ],
          "scatter": [
           {
            "fillpattern": {
             "fillmode": "overlay",
             "size": 10,
             "solidity": 0.2
            },
            "type": "scatter"
           }
          ],
          "scatter3d": [
           {
            "line": {
             "colorbar": {
              "outlinewidth": 0,
              "ticks": ""
             }
            },
            "marker": {
             "colorbar": {
              "outlinewidth": 0,
              "ticks": ""
             }
            },
            "type": "scatter3d"
           }
          ],
          "scattercarpet": [
           {
            "marker": {
             "colorbar": {
              "outlinewidth": 0,
              "ticks": ""
             }
            },
            "type": "scattercarpet"
           }
          ],
          "scattergeo": [
           {
            "marker": {
             "colorbar": {
              "outlinewidth": 0,
              "ticks": ""
             }
            },
            "type": "scattergeo"
           }
          ],
          "scattergl": [
           {
            "marker": {
             "colorbar": {
              "outlinewidth": 0,
              "ticks": ""
             }
            },
            "type": "scattergl"
           }
          ],
          "scattermapbox": [
           {
            "marker": {
             "colorbar": {
              "outlinewidth": 0,
              "ticks": ""
             }
            },
            "type": "scattermapbox"
           }
          ],
          "scatterpolar": [
           {
            "marker": {
             "colorbar": {
              "outlinewidth": 0,
              "ticks": ""
             }
            },
            "type": "scatterpolar"
           }
          ],
          "scatterpolargl": [
           {
            "marker": {
             "colorbar": {
              "outlinewidth": 0,
              "ticks": ""
             }
            },
            "type": "scatterpolargl"
           }
          ],
          "scatterternary": [
           {
            "marker": {
             "colorbar": {
              "outlinewidth": 0,
              "ticks": ""
             }
            },
            "type": "scatterternary"
           }
          ],
          "surface": [
           {
            "colorbar": {
             "outlinewidth": 0,
             "ticks": ""
            },
            "colorscale": [
             [
              0,
              "#0d0887"
             ],
             [
              0.1111111111111111,
              "#46039f"
             ],
             [
              0.2222222222222222,
              "#7201a8"
             ],
             [
              0.3333333333333333,
              "#9c179e"
             ],
             [
              0.4444444444444444,
              "#bd3786"
             ],
             [
              0.5555555555555556,
              "#d8576b"
             ],
             [
              0.6666666666666666,
              "#ed7953"
             ],
             [
              0.7777777777777778,
              "#fb9f3a"
             ],
             [
              0.8888888888888888,
              "#fdca26"
             ],
             [
              1,
              "#f0f921"
             ]
            ],
            "type": "surface"
           }
          ],
          "table": [
           {
            "cells": {
             "fill": {
              "color": "#EBF0F8"
             },
             "line": {
              "color": "white"
             }
            },
            "header": {
             "fill": {
              "color": "#C8D4E3"
             },
             "line": {
              "color": "white"
             }
            },
            "type": "table"
           }
          ]
         },
         "layout": {
          "annotationdefaults": {
           "arrowcolor": "#2a3f5f",
           "arrowhead": 0,
           "arrowwidth": 1
          },
          "autotypenumbers": "strict",
          "coloraxis": {
           "colorbar": {
            "outlinewidth": 0,
            "ticks": ""
           }
          },
          "colorscale": {
           "diverging": [
            [
             0,
             "#8e0152"
            ],
            [
             0.1,
             "#c51b7d"
            ],
            [
             0.2,
             "#de77ae"
            ],
            [
             0.3,
             "#f1b6da"
            ],
            [
             0.4,
             "#fde0ef"
            ],
            [
             0.5,
             "#f7f7f7"
            ],
            [
             0.6,
             "#e6f5d0"
            ],
            [
             0.7,
             "#b8e186"
            ],
            [
             0.8,
             "#7fbc41"
            ],
            [
             0.9,
             "#4d9221"
            ],
            [
             1,
             "#276419"
            ]
           ],
           "sequential": [
            [
             0,
             "#0d0887"
            ],
            [
             0.1111111111111111,
             "#46039f"
            ],
            [
             0.2222222222222222,
             "#7201a8"
            ],
            [
             0.3333333333333333,
             "#9c179e"
            ],
            [
             0.4444444444444444,
             "#bd3786"
            ],
            [
             0.5555555555555556,
             "#d8576b"
            ],
            [
             0.6666666666666666,
             "#ed7953"
            ],
            [
             0.7777777777777778,
             "#fb9f3a"
            ],
            [
             0.8888888888888888,
             "#fdca26"
            ],
            [
             1,
             "#f0f921"
            ]
           ],
           "sequentialminus": [
            [
             0,
             "#0d0887"
            ],
            [
             0.1111111111111111,
             "#46039f"
            ],
            [
             0.2222222222222222,
             "#7201a8"
            ],
            [
             0.3333333333333333,
             "#9c179e"
            ],
            [
             0.4444444444444444,
             "#bd3786"
            ],
            [
             0.5555555555555556,
             "#d8576b"
            ],
            [
             0.6666666666666666,
             "#ed7953"
            ],
            [
             0.7777777777777778,
             "#fb9f3a"
            ],
            [
             0.8888888888888888,
             "#fdca26"
            ],
            [
             1,
             "#f0f921"
            ]
           ]
          },
          "colorway": [
           "#636efa",
           "#EF553B",
           "#00cc96",
           "#ab63fa",
           "#FFA15A",
           "#19d3f3",
           "#FF6692",
           "#B6E880",
           "#FF97FF",
           "#FECB52"
          ],
          "font": {
           "color": "#2a3f5f"
          },
          "geo": {
           "bgcolor": "white",
           "lakecolor": "white",
           "landcolor": "#E5ECF6",
           "showlakes": true,
           "showland": true,
           "subunitcolor": "white"
          },
          "hoverlabel": {
           "align": "left"
          },
          "hovermode": "closest",
          "mapbox": {
           "style": "light"
          },
          "paper_bgcolor": "white",
          "plot_bgcolor": "#E5ECF6",
          "polar": {
           "angularaxis": {
            "gridcolor": "white",
            "linecolor": "white",
            "ticks": ""
           },
           "bgcolor": "#E5ECF6",
           "radialaxis": {
            "gridcolor": "white",
            "linecolor": "white",
            "ticks": ""
           }
          },
          "scene": {
           "xaxis": {
            "backgroundcolor": "#E5ECF6",
            "gridcolor": "white",
            "gridwidth": 2,
            "linecolor": "white",
            "showbackground": true,
            "ticks": "",
            "zerolinecolor": "white"
           },
           "yaxis": {
            "backgroundcolor": "#E5ECF6",
            "gridcolor": "white",
            "gridwidth": 2,
            "linecolor": "white",
            "showbackground": true,
            "ticks": "",
            "zerolinecolor": "white"
           },
           "zaxis": {
            "backgroundcolor": "#E5ECF6",
            "gridcolor": "white",
            "gridwidth": 2,
            "linecolor": "white",
            "showbackground": true,
            "ticks": "",
            "zerolinecolor": "white"
           }
          },
          "shapedefaults": {
           "line": {
            "color": "#2a3f5f"
           }
          },
          "ternary": {
           "aaxis": {
            "gridcolor": "white",
            "linecolor": "white",
            "ticks": ""
           },
           "baxis": {
            "gridcolor": "white",
            "linecolor": "white",
            "ticks": ""
           },
           "bgcolor": "#E5ECF6",
           "caxis": {
            "gridcolor": "white",
            "linecolor": "white",
            "ticks": ""
           }
          },
          "title": {
           "x": 0.05
          },
          "xaxis": {
           "automargin": true,
           "gridcolor": "white",
           "linecolor": "white",
           "ticks": "",
           "title": {
            "standoff": 15
           },
           "zerolinecolor": "white",
           "zerolinewidth": 2
          },
          "yaxis": {
           "automargin": true,
           "gridcolor": "white",
           "linecolor": "white",
           "ticks": "",
           "title": {
            "standoff": 15
           },
           "zerolinecolor": "white",
           "zerolinewidth": 2
          }
         }
        },
        "xaxis": {
         "anchor": "y",
         "domain": [
          0,
          1
         ],
         "title": {
          "text": "Selfie(mégapixels)"
         }
        },
        "yaxis": {
         "anchor": "x",
         "domain": [
          0,
          1
         ]
        }
       }
      },
      "text/html": [
       "<div>                            <div id=\"9616de9e-50fe-4e39-b417-8164c5c12fe0\" class=\"plotly-graph-div\" style=\"height:525px; width:100%;\"></div>            <script type=\"text/javascript\">                require([\"plotly\"], function(Plotly) {                    window.PLOTLYENV=window.PLOTLYENV || {};                                    if (document.getElementById(\"9616de9e-50fe-4e39-b417-8164c5c12fe0\")) {                    Plotly.newPlot(                        \"9616de9e-50fe-4e39-b417-8164c5c12fe0\",                        [{\"alignmentgroup\":\"True\",\"hovertemplate\":\"Selfie(m\\u00e9gapixels)=%{x}<extra></extra>\",\"legendgroup\":\"\",\"marker\":{\"color\":\"#636efa\"},\"name\":\"\",\"notched\":false,\"offsetgroup\":\"\",\"orientation\":\"h\",\"showlegend\":false,\"x\":[10.0,16.0,16.0,8.0,8.0,5.0,16.0,16.0,50.0,50.0,8.0,16.0,32.0,32.0,8.0,5.0,16.0,16.0,8.0,13.0,5.0,5.0,null,5.0,16.0,16.0,2.0,13.0,12.0,12.0,12.0,12.0,12.0,12.0,12.0,12.0,12.0,12.0,12.0,12.0,12.0,10.8,12.0,12.0,null,null,12.0,null,12.0,10.8,12.0,8.0,12.0,7.0,12.0,12.0,12.0,12.0,12.0,10.8,12.0,12.0,12.0,12.0,12.0,12.0,10.0,null,12.0,12.0,12.0,12.0,16.0,32.0,12.0,20.0,8.0,12.0,7.0,12.0,12.0,5.0,12.0,32.0,8.0,12.0,12.0,16.0,12.0,16.0,32.0,20.0,16.0,12.0,12.0,16.0,8.0,12.0,5.0,12.0,12.0,8.0,13.0,16.0,12.0,32.0,12.0,32.0,32.0,7.0,32.0,32.0,13.0,5.0,8.0,5.0,5.0,16.0,16.0,7.0,13.0,8.0,5.0,5.0,32.0,10.8,12.0,5.0,5.0,5.0,8.0,8.0,16.0,16.0,13.0,16.0,16.0,16.0,8.0,32.0,16.0,32.0,16.0,16.0,7.0,16.0,16.0,20.0,50.0,32.0,32.0,7.0,7.0,32.0,12.0,32.0,32.0,60.0,32.0,12.0,12.0,12.0,12.0,12.0,12.0,12.0,12.0,12.0,12.0,12.0,12.0,null,null,12.0,12.0,12.0,null,null,null,12.0,12.0,12.0,12.0,12.0,12.0,12.0,12.0,12.0,12.0,12.0,12.0,12.0,5.0,10.0,12.0,12.0,8.0,16.0,12.0,8.0,8.0,16.0,32.0,16.0,32.0,12.0,13.0,8.0,5.0,5.0,8.0,16.0,32.0,8.0,8.0,25.0,8.0,12.0,12.0,32.0,32.0,32.0,8.0,12.0,8.0,13.0,16.0,16.0,32.0,32.0,32.0,12.0,12.0,16.0,8.0,32.0,null,null,null,null,null,5.0,null,null,null,5.0,5.0,null,null,null,null,null,null,null,null,null,null,8.0,2.0,null,null,null,2.0,null,5.0,null,null,null,null,null,5.0,5.0,8.0,null,8.0,8.0,8.0,null,null,null,null,null,null,null,null,null,null,5.0,null,null,8.0,16.0,13.0,null,null,13.0,null,16.0,null,8.0,8.0,null,null,null,5.0,null,null,16.0,16.0,null,8.0,32.0,null,16.0,null,null,null,13.0,13.0,13.0,null,null,null,null,null,null,null,8.0,32.0,32.0,8.0,null,null,13.0,16.0,13.0,13.0,16.0,null,16.0,null,32.0,32.0,null,null,32.0,null,null,null,null,null,8.0,20.0,13.0,null,null,32.0,null,8.0,null,null,16.0,null,null,null,16.0,null,32.0,32.0,32.0,null,32.0,10.0,null,32.0,null,null,null,32.0,10.0,12.0,null,10.0,12.0,null,null,10.0,13.0,null,null,null,null,null,null,null,null,null,null,null,null,null,8.0,10.0,null,null,10.8,5.0,8.0,7.0,12.0,7.0,8.0,7.0,7.0,7.0,7.0,7.0,7.0,7.0,7.0,32.0,7.0,7.0,7.0,7.0,10.0,12.0,12.0,7.0,null,null,null,null,null,null,null,null,5.0,null,null,null,null,null,null,null,null,null,null,null,5.0,8.0,null,8.0,8.0,8.0,8.0,null,8.0,null,null,null,null,null,null,null,null,null,null,null,7.0,null,5.0,null,null,8.0,null,null,null,null,null,null,null,null,null,5.0,null,null,null,null,null,null,8.0,13.0,null,13.0,8.0,null,null,8.0,8.0,8.0,null,null,5.0,7.0,8.0,24.0,24.0,null,null,20.0,null,null,null,8.0,null,null,null,null,16.0,16.0,25.0,25.0,25.0,8.0,null,8.0,7.0,7.0,32.0,7.0,13.0,13.0,null,16.0,null,16.0,null,7.0,16.0,null,null,null,null,null,null,10.0,null,32.0,null,8.0,null,13.0,7.0,7.0,7.0,8.0,null,null,10.0,32.0,16.0,32.0,32.0,null,null,null,32.0,null,20.0,null,20.0,7.0,16.0,7.0,null,32.0,32.0,7.0,7.0,32.0,20.0,16.0,null,10.0,32.0,32.0,7.0,8.0,null,null,10.0,32.0,10.0,32.0,8.0,10.0,null,null,7.0,null,null,32.0,20.0,null,32.0,7.0,32.0,32.0,32.0,7.0,32.0,32.0,32.0,32.0,32.0,32.0,32.0,12.0,null,7.0,10.0,null,32.0,8.0,20.0,8.0,10.0,7.0,10.0,32.0,10.0,20.0,8.0,16.0,10.0,7.0,12.0,12.0,32.0,32.0,null,null,10.0,10.0,10.0,12.0,7.0,12.0,10.0,10.0,32.0,16.0,null,12.0,12.0,12.0,12.0,null,null,32.0,12.0,12.0,32.0,7.0,32.0,10.0,8.0,40.0,32.0,12.0,12.0,12.0,12.0,null,32.0,10.0,40.0,12.0,12.0,12.0,12.0,12.0,12.0,12.0,12.0,7.0,10.0,10.0,12.0,12.0,12.0,12.0,12.0,40.0,12.0,12.0,12.0,13.0,12.0,12.0,10.0,12.0,40.0,8.0,40.0,10.0,40.0,12.0,12.0,10.0,10.0,10.0,12.0,12.0,12.0,13.0,10.0,12.0,12.0,12.0,12.0,12.0,12.0,12.0,12.0,12.0,12.0,12.0,12.0,13.0,10.8,10.0,10.0,10.0,12.0,12.0,12.0,12.0,10.0,10.0,12.0,12.0,10.0,10.0,12.0,null,12.0,10.0,12.0,null,12.0,12.0,12.0,12.0,12.0,12.0,12.0,12.0,12.0,12.0,12.0,12.0,12.0,12.0,12.0,12.0,12.0,12.0,12.0,12.0,12.0,12.0,12.0,12.0,12.0,12.0,12.0,12.0,12.0,12.0,12.0,12.0,12.0,12.0,12.0,12.0],\"x0\":\" \",\"xaxis\":\"x\",\"y0\":\" \",\"yaxis\":\"y\",\"type\":\"box\",\"fillcolor\":\"#C9A26B\"}],                        {\"template\":{\"data\":{\"histogram2dcontour\":[{\"type\":\"histogram2dcontour\",\"colorbar\":{\"outlinewidth\":0,\"ticks\":\"\"},\"colorscale\":[[0.0,\"#0d0887\"],[0.1111111111111111,\"#46039f\"],[0.2222222222222222,\"#7201a8\"],[0.3333333333333333,\"#9c179e\"],[0.4444444444444444,\"#bd3786\"],[0.5555555555555556,\"#d8576b\"],[0.6666666666666666,\"#ed7953\"],[0.7777777777777778,\"#fb9f3a\"],[0.8888888888888888,\"#fdca26\"],[1.0,\"#f0f921\"]]}],\"choropleth\":[{\"type\":\"choropleth\",\"colorbar\":{\"outlinewidth\":0,\"ticks\":\"\"}}],\"histogram2d\":[{\"type\":\"histogram2d\",\"colorbar\":{\"outlinewidth\":0,\"ticks\":\"\"},\"colorscale\":[[0.0,\"#0d0887\"],[0.1111111111111111,\"#46039f\"],[0.2222222222222222,\"#7201a8\"],[0.3333333333333333,\"#9c179e\"],[0.4444444444444444,\"#bd3786\"],[0.5555555555555556,\"#d8576b\"],[0.6666666666666666,\"#ed7953\"],[0.7777777777777778,\"#fb9f3a\"],[0.8888888888888888,\"#fdca26\"],[1.0,\"#f0f921\"]]}],\"heatmap\":[{\"type\":\"heatmap\",\"colorbar\":{\"outlinewidth\":0,\"ticks\":\"\"},\"colorscale\":[[0.0,\"#0d0887\"],[0.1111111111111111,\"#46039f\"],[0.2222222222222222,\"#7201a8\"],[0.3333333333333333,\"#9c179e\"],[0.4444444444444444,\"#bd3786\"],[0.5555555555555556,\"#d8576b\"],[0.6666666666666666,\"#ed7953\"],[0.7777777777777778,\"#fb9f3a\"],[0.8888888888888888,\"#fdca26\"],[1.0,\"#f0f921\"]]}],\"heatmapgl\":[{\"type\":\"heatmapgl\",\"colorbar\":{\"outlinewidth\":0,\"ticks\":\"\"},\"colorscale\":[[0.0,\"#0d0887\"],[0.1111111111111111,\"#46039f\"],[0.2222222222222222,\"#7201a8\"],[0.3333333333333333,\"#9c179e\"],[0.4444444444444444,\"#bd3786\"],[0.5555555555555556,\"#d8576b\"],[0.6666666666666666,\"#ed7953\"],[0.7777777777777778,\"#fb9f3a\"],[0.8888888888888888,\"#fdca26\"],[1.0,\"#f0f921\"]]}],\"contourcarpet\":[{\"type\":\"contourcarpet\",\"colorbar\":{\"outlinewidth\":0,\"ticks\":\"\"}}],\"contour\":[{\"type\":\"contour\",\"colorbar\":{\"outlinewidth\":0,\"ticks\":\"\"},\"colorscale\":[[0.0,\"#0d0887\"],[0.1111111111111111,\"#46039f\"],[0.2222222222222222,\"#7201a8\"],[0.3333333333333333,\"#9c179e\"],[0.4444444444444444,\"#bd3786\"],[0.5555555555555556,\"#d8576b\"],[0.6666666666666666,\"#ed7953\"],[0.7777777777777778,\"#fb9f3a\"],[0.8888888888888888,\"#fdca26\"],[1.0,\"#f0f921\"]]}],\"surface\":[{\"type\":\"surface\",\"colorbar\":{\"outlinewidth\":0,\"ticks\":\"\"},\"colorscale\":[[0.0,\"#0d0887\"],[0.1111111111111111,\"#46039f\"],[0.2222222222222222,\"#7201a8\"],[0.3333333333333333,\"#9c179e\"],[0.4444444444444444,\"#bd3786\"],[0.5555555555555556,\"#d8576b\"],[0.6666666666666666,\"#ed7953\"],[0.7777777777777778,\"#fb9f3a\"],[0.8888888888888888,\"#fdca26\"],[1.0,\"#f0f921\"]]}],\"mesh3d\":[{\"type\":\"mesh3d\",\"colorbar\":{\"outlinewidth\":0,\"ticks\":\"\"}}],\"scatter\":[{\"fillpattern\":{\"fillmode\":\"overlay\",\"size\":10,\"solidity\":0.2},\"type\":\"scatter\"}],\"parcoords\":[{\"type\":\"parcoords\",\"line\":{\"colorbar\":{\"outlinewidth\":0,\"ticks\":\"\"}}}],\"scatterpolargl\":[{\"type\":\"scatterpolargl\",\"marker\":{\"colorbar\":{\"outlinewidth\":0,\"ticks\":\"\"}}}],\"bar\":[{\"error_x\":{\"color\":\"#2a3f5f\"},\"error_y\":{\"color\":\"#2a3f5f\"},\"marker\":{\"line\":{\"color\":\"#E5ECF6\",\"width\":0.5},\"pattern\":{\"fillmode\":\"overlay\",\"size\":10,\"solidity\":0.2}},\"type\":\"bar\"}],\"scattergeo\":[{\"type\":\"scattergeo\",\"marker\":{\"colorbar\":{\"outlinewidth\":0,\"ticks\":\"\"}}}],\"scatterpolar\":[{\"type\":\"scatterpolar\",\"marker\":{\"colorbar\":{\"outlinewidth\":0,\"ticks\":\"\"}}}],\"histogram\":[{\"marker\":{\"pattern\":{\"fillmode\":\"overlay\",\"size\":10,\"solidity\":0.2}},\"type\":\"histogram\"}],\"scattergl\":[{\"type\":\"scattergl\",\"marker\":{\"colorbar\":{\"outlinewidth\":0,\"ticks\":\"\"}}}],\"scatter3d\":[{\"type\":\"scatter3d\",\"line\":{\"colorbar\":{\"outlinewidth\":0,\"ticks\":\"\"}},\"marker\":{\"colorbar\":{\"outlinewidth\":0,\"ticks\":\"\"}}}],\"scattermapbox\":[{\"type\":\"scattermapbox\",\"marker\":{\"colorbar\":{\"outlinewidth\":0,\"ticks\":\"\"}}}],\"scatterternary\":[{\"type\":\"scatterternary\",\"marker\":{\"colorbar\":{\"outlinewidth\":0,\"ticks\":\"\"}}}],\"scattercarpet\":[{\"type\":\"scattercarpet\",\"marker\":{\"colorbar\":{\"outlinewidth\":0,\"ticks\":\"\"}}}],\"carpet\":[{\"aaxis\":{\"endlinecolor\":\"#2a3f5f\",\"gridcolor\":\"white\",\"linecolor\":\"white\",\"minorgridcolor\":\"white\",\"startlinecolor\":\"#2a3f5f\"},\"baxis\":{\"endlinecolor\":\"#2a3f5f\",\"gridcolor\":\"white\",\"linecolor\":\"white\",\"minorgridcolor\":\"white\",\"startlinecolor\":\"#2a3f5f\"},\"type\":\"carpet\"}],\"table\":[{\"cells\":{\"fill\":{\"color\":\"#EBF0F8\"},\"line\":{\"color\":\"white\"}},\"header\":{\"fill\":{\"color\":\"#C8D4E3\"},\"line\":{\"color\":\"white\"}},\"type\":\"table\"}],\"barpolar\":[{\"marker\":{\"line\":{\"color\":\"#E5ECF6\",\"width\":0.5},\"pattern\":{\"fillmode\":\"overlay\",\"size\":10,\"solidity\":0.2}},\"type\":\"barpolar\"}],\"pie\":[{\"automargin\":true,\"type\":\"pie\"}]},\"layout\":{\"autotypenumbers\":\"strict\",\"colorway\":[\"#636efa\",\"#EF553B\",\"#00cc96\",\"#ab63fa\",\"#FFA15A\",\"#19d3f3\",\"#FF6692\",\"#B6E880\",\"#FF97FF\",\"#FECB52\"],\"font\":{\"color\":\"#2a3f5f\"},\"hovermode\":\"closest\",\"hoverlabel\":{\"align\":\"left\"},\"paper_bgcolor\":\"white\",\"plot_bgcolor\":\"#E5ECF6\",\"polar\":{\"bgcolor\":\"#E5ECF6\",\"angularaxis\":{\"gridcolor\":\"white\",\"linecolor\":\"white\",\"ticks\":\"\"},\"radialaxis\":{\"gridcolor\":\"white\",\"linecolor\":\"white\",\"ticks\":\"\"}},\"ternary\":{\"bgcolor\":\"#E5ECF6\",\"aaxis\":{\"gridcolor\":\"white\",\"linecolor\":\"white\",\"ticks\":\"\"},\"baxis\":{\"gridcolor\":\"white\",\"linecolor\":\"white\",\"ticks\":\"\"},\"caxis\":{\"gridcolor\":\"white\",\"linecolor\":\"white\",\"ticks\":\"\"}},\"coloraxis\":{\"colorbar\":{\"outlinewidth\":0,\"ticks\":\"\"}},\"colorscale\":{\"sequential\":[[0.0,\"#0d0887\"],[0.1111111111111111,\"#46039f\"],[0.2222222222222222,\"#7201a8\"],[0.3333333333333333,\"#9c179e\"],[0.4444444444444444,\"#bd3786\"],[0.5555555555555556,\"#d8576b\"],[0.6666666666666666,\"#ed7953\"],[0.7777777777777778,\"#fb9f3a\"],[0.8888888888888888,\"#fdca26\"],[1.0,\"#f0f921\"]],\"sequentialminus\":[[0.0,\"#0d0887\"],[0.1111111111111111,\"#46039f\"],[0.2222222222222222,\"#7201a8\"],[0.3333333333333333,\"#9c179e\"],[0.4444444444444444,\"#bd3786\"],[0.5555555555555556,\"#d8576b\"],[0.6666666666666666,\"#ed7953\"],[0.7777777777777778,\"#fb9f3a\"],[0.8888888888888888,\"#fdca26\"],[1.0,\"#f0f921\"]],\"diverging\":[[0,\"#8e0152\"],[0.1,\"#c51b7d\"],[0.2,\"#de77ae\"],[0.3,\"#f1b6da\"],[0.4,\"#fde0ef\"],[0.5,\"#f7f7f7\"],[0.6,\"#e6f5d0\"],[0.7,\"#b8e186\"],[0.8,\"#7fbc41\"],[0.9,\"#4d9221\"],[1,\"#276419\"]]},\"xaxis\":{\"gridcolor\":\"white\",\"linecolor\":\"white\",\"ticks\":\"\",\"title\":{\"standoff\":15},\"zerolinecolor\":\"white\",\"automargin\":true,\"zerolinewidth\":2},\"yaxis\":{\"gridcolor\":\"white\",\"linecolor\":\"white\",\"ticks\":\"\",\"title\":{\"standoff\":15},\"zerolinecolor\":\"white\",\"automargin\":true,\"zerolinewidth\":2},\"scene\":{\"xaxis\":{\"backgroundcolor\":\"#E5ECF6\",\"gridcolor\":\"white\",\"linecolor\":\"white\",\"showbackground\":true,\"ticks\":\"\",\"zerolinecolor\":\"white\",\"gridwidth\":2},\"yaxis\":{\"backgroundcolor\":\"#E5ECF6\",\"gridcolor\":\"white\",\"linecolor\":\"white\",\"showbackground\":true,\"ticks\":\"\",\"zerolinecolor\":\"white\",\"gridwidth\":2},\"zaxis\":{\"backgroundcolor\":\"#E5ECF6\",\"gridcolor\":\"white\",\"linecolor\":\"white\",\"showbackground\":true,\"ticks\":\"\",\"zerolinecolor\":\"white\",\"gridwidth\":2}},\"shapedefaults\":{\"line\":{\"color\":\"#2a3f5f\"}},\"annotationdefaults\":{\"arrowcolor\":\"#2a3f5f\",\"arrowhead\":0,\"arrowwidth\":1},\"geo\":{\"bgcolor\":\"white\",\"landcolor\":\"#E5ECF6\",\"subunitcolor\":\"white\",\"showland\":true,\"showlakes\":true,\"lakecolor\":\"white\"},\"title\":{\"x\":0.05},\"mapbox\":{\"style\":\"light\"}}},\"xaxis\":{\"anchor\":\"y\",\"domain\":[0.0,1.0],\"title\":{\"text\":\"Selfie(m\\u00e9gapixels)\"}},\"yaxis\":{\"anchor\":\"x\",\"domain\":[0.0,1.0]},\"legend\":{\"tracegroupgap\":0},\"margin\":{\"t\":60},\"boxmode\":\"group\"},                        {\"responsive\": true}                    ).then(function(){\n",
       "                            \n",
       "var gd = document.getElementById('9616de9e-50fe-4e39-b417-8164c5c12fe0');\n",
       "var x = new MutationObserver(function (mutations, observer) {{\n",
       "        var display = window.getComputedStyle(gd).display;\n",
       "        if (!display || display === 'none') {{\n",
       "            console.log([gd, 'removed!']);\n",
       "            Plotly.purge(gd);\n",
       "            observer.disconnect();\n",
       "        }}\n",
       "}});\n",
       "\n",
       "// Listen for the removal of the full notebook cells\n",
       "var notebookContainer = gd.closest('#notebook-container');\n",
       "if (notebookContainer) {{\n",
       "    x.observe(notebookContainer, {childList: true});\n",
       "}}\n",
       "\n",
       "// Listen for the clearing of the current output cell\n",
       "var outputEl = gd.closest('.output');\n",
       "if (outputEl) {{\n",
       "    x.observe(outputEl, {childList: true});\n",
       "}}\n",
       "\n",
       "                        })                };                });            </script>        </div>"
      ]
     },
     "metadata": {},
     "output_type": "display_data"
    },
    {
     "data": {
      "application/vnd.plotly.v1+json": {
       "config": {
        "plotlyServerURL": "https://plot.ly"
       },
       "data": [
        {
         "alignmentgroup": "True",
         "fillcolor": "#C9A26B",
         "hovertemplate": "Price(€)=%{x}<extra></extra>",
         "legendgroup": "",
         "marker": {
          "color": "#636efa"
         },
         "name": "",
         "notched": false,
         "offsetgroup": "",
         "orientation": "h",
         "showlegend": false,
         "type": "box",
         "x": [
          749,
          249,
          419,
          299,
          229,
          129,
          299,
          299,
          449,
          449,
          269,
          349,
          599,
          459,
          199,
          249,
          339,
          249,
          279,
          229,
          114.99,
          119,
          299,
          179,
          329,
          249,
          329,
          199,
          1379,
          1229,
          1379,
          1229,
          969,
          859,
          969,
          1379,
          1509,
          1509,
          1379,
          1359,
          969,
          799,
          1229,
          969,
          1119,
          1119,
          859,
          1119,
          759,
          649,
          1769,
          349,
          859,
          559,
          859,
          1509,
          979,
          979,
          759,
          799,
          1099,
          809,
          1359,
          1099,
          1509,
          1099,
          749,
          1249,
          1769,
          759,
          1619,
          979,
          379,
          549,
          809,
          699,
          199,
          1099,
          629,
          979,
          979,
          149,
          2029,
          299,
          179,
          759,
          1769,
          339,
          1619,
          199,
          659,
          649,
          269,
          1398.98,
          1359,
          319,
          199,
          1099,
          149,
          1049,
          927.69,
          219,
          199,
          319,
          799,
          299,
          759,
          699,
          699,
          629,
          549,
          522.74,
          199,
          189,
          179,
          179,
          149,
          349,
          319,
          299,
          249,
          249,
          179,
          149,
          899,
          649,
          809,
          119,
          139,
          149,
          179,
          185.86,
          189,
          200.53,
          219,
          241.46,
          315.23,
          319,
          443.75,
          499,
          549,
          549,
          549,
          599,
          629,
          699,
          699,
          699,
          746.85,
          749,
          749,
          759,
          759,
          788.4,
          849,
          849,
          899,
          899,
          899,
          927.69,
          929,
          929,
          929,
          929,
          1049,
          1049,
          1209,
          1209,
          1209,
          1209,
          1237.32,
          1249,
          1249,
          1359,
          1359,
          1399,
          1509,
          1509,
          1509,
          1619,
          1879,
          1879,
          1879,
          1879,
          2029,
          2029,
          529,
          599,
          859,
          529,
          599,
          809,
          229,
          975.23,
          599,
          759,
          335.9,
          279,
          759,
          499,
          249,
          319,
          899,
          379,
          479,
          849,
          469,
          334.88,
          129,
          179,
          199,
          299,
          479,
          499,
          549,
          579,
          799,
          799,
          879,
          1099,
          1099,
          1199,
          1499,
          715,
          279,
          216.39,
          229,
          349,
          499,
          649,
          799,
          879,
          879,
          303.25,
          187.36,
          385.71,
          100.94,
          102.06,
          102.29,
          102.38,
          102.6,
          106.32,
          107.66,
          107.66,
          109.01,
          109.1,
          109.4,
          114.38,
          126.98,
          136.81,
          137.36,
          138.21,
          139.62,
          144,
          147.9,
          148.94,
          155.06,
          156,
          157,
          158.08,
          158.33,
          162.94,
          169.1,
          171.42,
          174,
          175.03,
          175.98,
          176.13,
          180.42,
          181.74,
          186.58,
          187,
          191.57,
          193.11,
          193.82,
          194.9,
          199.5,
          199.78,
          201.54,
          201.62,
          210.27,
          214.04,
          218.25,
          219.28,
          223.17,
          225.33,
          225.72,
          227,
          228,
          233.7,
          235.95,
          239.31,
          241.59,
          242.97,
          242.97,
          246.34,
          246.69,
          249.14,
          256.77,
          260,
          263,
          264.59,
          267.82,
          268.8,
          269,
          270.58,
          276.99,
          278,
          278.63,
          280.04,
          282,
          284.38,
          288.46,
          290.84,
          292.62,
          297.4,
          297.83,
          303.15,
          303.15,
          303.15,
          304.05,
          306.38,
          306.38,
          309.21,
          309.52,
          313.74,
          316.23,
          318,
          318.27,
          324.1,
          337.36,
          344.77,
          347.24,
          349,
          351.89,
          352.9,
          352.9,
          354,
          356.18,
          363.68,
          368,
          373.46,
          383.78,
          385.71,
          385.71,
          385.71,
          386.34,
          388.84,
          393.78,
          396.78,
          398.4,
          404,
          409.8,
          410.2,
          416.24,
          427.48,
          427.5,
          427.48,
          436.1,
          444.33,
          445.58,
          456.97,
          471.37,
          476.62,
          476.62,
          489.99,
          498.42,
          502.5,
          515.72,
          528,
          549.74,
          580,
          605.7,
          608.48,
          626.9,
          639.51,
          645.13,
          653.55,
          676,
          700,
          734,
          752.7,
          752.7,
          772,
          781.34,
          799.5,
          799.5,
          805.54,
          952.65,
          988.14,
          1070.6,
          1072,
          1106.18,
          1115.85,
          1155,
          1156,
          1174.5,
          1174.65,
          1185.51,
          1188.55,
          1287.79,
          1332.49,
          1408.2,
          1417.71,
          1457.06,
          799,
          189,
          249,
          279,
          699,
          289,
          259,
          379,
          349,
          349,
          189,
          199,
          249,
          289,
          319,
          319,
          349,
          359,
          379,
          379,
          379,
          699,
          699,
          389,
          85,
          92,
          94,
          96.72,
          98,
          99,
          104,
          104,
          104,
          104.87,
          109,
          110,
          116,
          117,
          118,
          119.9,
          127,
          130,
          135,
          138,
          139,
          141,
          142,
          142,
          144,
          144,
          145,
          145,
          145,
          145,
          146,
          147,
          150,
          150,
          150,
          150,
          150,
          151,
          154,
          154,
          155,
          155,
          158.9,
          159,
          159,
          159,
          159.9,
          159.99,
          163.9,
          164,
          165,
          167.51,
          168,
          169,
          169,
          170,
          170,
          170,
          170,
          170,
          171,
          175,
          172.47,
          176,
          178,
          184,
          184,
          184,
          184,
          184,
          189.9,
          190,
          190,
          190,
          191,
          191,
          192,
          194,
          194,
          194,
          199,
          199,
          199,
          200,
          200,
          201,
          203,
          203,
          203,
          207,
          209,
          209,
          215,
          215,
          215,
          218.9,
          219,
          219,
          220,
          220,
          220,
          220,
          220,
          220,
          221.9,
          222.7,
          223,
          228.09,
          236,
          239,
          239.9,
          244,
          244,
          247,
          249,
          250,
          250,
          251,
          251,
          251.9,
          251.9,
          251.9,
          251.9,
          254,
          254,
          255,
          255,
          256,
          256,
          258,
          259,
          259,
          259.9,
          260,
          263.78,
          264.9,
          265,
          265,
          268,
          269,
          269,
          269,
          269,
          270,
          277,
          279,
          279,
          279,
          279,
          279,
          280,
          280,
          280,
          283.9,
          284.9,
          289,
          292.86,
          294,
          295.9,
          297,
          297,
          299,
          300,
          300,
          300,
          300,
          300.9,
          304,
          304,
          305,
          309,
          316,
          316,
          319.9,
          320,
          323,
          334,
          335,
          343.91,
          300,
          339,
          339.9,
          340,
          340,
          300,
          340,
          340,
          340,
          345,
          350.9,
          352,
          355,
          359,
          366,
          368,
          369.9,
          369.9,
          369.9,
          370,
          370.9,
          375,
          379,
          380,
          380,
          381.73,
          383.9,
          388,
          389,
          389,
          389.9,
          390,
          390,
          395,
          419,
          399,
          399,
          400,
          404.9,
          405,
          405,
          410,
          410,
          416.9,
          416.9,
          417,
          419,
          419,
          419.9,
          430,
          400,
          438,
          438.9,
          440,
          440,
          442,
          446,
          446,
          372,
          480.76,
          467,
          469,
          469.9,
          470,
          469.99,
          470,
          471.9,
          471.9,
          474,
          489,
          499,
          500,
          500,
          503,
          504.9,
          508,
          518,
          440,
          519,
          529,
          529,
          550,
          579,
          613,
          613,
          614.9,
          630,
          635,
          639,
          639,
          658.9,
          669,
          669,
          675,
          686,
          797,
          700,
          690,
          700,
          705,
          709,
          722,
          735.9,
          735.9,
          735.9,
          738.9,
          743,
          743,
          757.9,
          757.9,
          773,
          777,
          777,
          779,
          779,
          779.9,
          780,
          782,
          789,
          760,
          789,
          789,
          791.9,
          807.9,
          839.9,
          845.9,
          845.9,
          849,
          849,
          859,
          870.9,
          889,
          928,
          946,
          954,
          955.9,
          955.9,
          958,
          983,
          1123,
          1022,
          1026,
          1037,
          1048,
          1083,
          1085,
          1085,
          1088,
          1088,
          1109,
          1179,
          1211,
          1264,
          1264,
          1264,
          1264,
          1299,
          1299,
          1299,
          1308,
          1323.9,
          1399,
          1399,
          1399,
          1399,
          1437,
          1452.19,
          1463.9,
          1499,
          1499,
          1499,
          1528,
          1528,
          1528,
          1620,
          1620,
          1908,
          1908,
          1908
         ],
         "x0": " ",
         "xaxis": "x",
         "y0": " ",
         "yaxis": "y"
        }
       ],
       "layout": {
        "boxmode": "group",
        "legend": {
         "tracegroupgap": 0
        },
        "margin": {
         "t": 60
        },
        "template": {
         "data": {
          "bar": [
           {
            "error_x": {
             "color": "#2a3f5f"
            },
            "error_y": {
             "color": "#2a3f5f"
            },
            "marker": {
             "line": {
              "color": "#E5ECF6",
              "width": 0.5
             },
             "pattern": {
              "fillmode": "overlay",
              "size": 10,
              "solidity": 0.2
             }
            },
            "type": "bar"
           }
          ],
          "barpolar": [
           {
            "marker": {
             "line": {
              "color": "#E5ECF6",
              "width": 0.5
             },
             "pattern": {
              "fillmode": "overlay",
              "size": 10,
              "solidity": 0.2
             }
            },
            "type": "barpolar"
           }
          ],
          "carpet": [
           {
            "aaxis": {
             "endlinecolor": "#2a3f5f",
             "gridcolor": "white",
             "linecolor": "white",
             "minorgridcolor": "white",
             "startlinecolor": "#2a3f5f"
            },
            "baxis": {
             "endlinecolor": "#2a3f5f",
             "gridcolor": "white",
             "linecolor": "white",
             "minorgridcolor": "white",
             "startlinecolor": "#2a3f5f"
            },
            "type": "carpet"
           }
          ],
          "choropleth": [
           {
            "colorbar": {
             "outlinewidth": 0,
             "ticks": ""
            },
            "type": "choropleth"
           }
          ],
          "contour": [
           {
            "colorbar": {
             "outlinewidth": 0,
             "ticks": ""
            },
            "colorscale": [
             [
              0,
              "#0d0887"
             ],
             [
              0.1111111111111111,
              "#46039f"
             ],
             [
              0.2222222222222222,
              "#7201a8"
             ],
             [
              0.3333333333333333,
              "#9c179e"
             ],
             [
              0.4444444444444444,
              "#bd3786"
             ],
             [
              0.5555555555555556,
              "#d8576b"
             ],
             [
              0.6666666666666666,
              "#ed7953"
             ],
             [
              0.7777777777777778,
              "#fb9f3a"
             ],
             [
              0.8888888888888888,
              "#fdca26"
             ],
             [
              1,
              "#f0f921"
             ]
            ],
            "type": "contour"
           }
          ],
          "contourcarpet": [
           {
            "colorbar": {
             "outlinewidth": 0,
             "ticks": ""
            },
            "type": "contourcarpet"
           }
          ],
          "heatmap": [
           {
            "colorbar": {
             "outlinewidth": 0,
             "ticks": ""
            },
            "colorscale": [
             [
              0,
              "#0d0887"
             ],
             [
              0.1111111111111111,
              "#46039f"
             ],
             [
              0.2222222222222222,
              "#7201a8"
             ],
             [
              0.3333333333333333,
              "#9c179e"
             ],
             [
              0.4444444444444444,
              "#bd3786"
             ],
             [
              0.5555555555555556,
              "#d8576b"
             ],
             [
              0.6666666666666666,
              "#ed7953"
             ],
             [
              0.7777777777777778,
              "#fb9f3a"
             ],
             [
              0.8888888888888888,
              "#fdca26"
             ],
             [
              1,
              "#f0f921"
             ]
            ],
            "type": "heatmap"
           }
          ],
          "heatmapgl": [
           {
            "colorbar": {
             "outlinewidth": 0,
             "ticks": ""
            },
            "colorscale": [
             [
              0,
              "#0d0887"
             ],
             [
              0.1111111111111111,
              "#46039f"
             ],
             [
              0.2222222222222222,
              "#7201a8"
             ],
             [
              0.3333333333333333,
              "#9c179e"
             ],
             [
              0.4444444444444444,
              "#bd3786"
             ],
             [
              0.5555555555555556,
              "#d8576b"
             ],
             [
              0.6666666666666666,
              "#ed7953"
             ],
             [
              0.7777777777777778,
              "#fb9f3a"
             ],
             [
              0.8888888888888888,
              "#fdca26"
             ],
             [
              1,
              "#f0f921"
             ]
            ],
            "type": "heatmapgl"
           }
          ],
          "histogram": [
           {
            "marker": {
             "pattern": {
              "fillmode": "overlay",
              "size": 10,
              "solidity": 0.2
             }
            },
            "type": "histogram"
           }
          ],
          "histogram2d": [
           {
            "colorbar": {
             "outlinewidth": 0,
             "ticks": ""
            },
            "colorscale": [
             [
              0,
              "#0d0887"
             ],
             [
              0.1111111111111111,
              "#46039f"
             ],
             [
              0.2222222222222222,
              "#7201a8"
             ],
             [
              0.3333333333333333,
              "#9c179e"
             ],
             [
              0.4444444444444444,
              "#bd3786"
             ],
             [
              0.5555555555555556,
              "#d8576b"
             ],
             [
              0.6666666666666666,
              "#ed7953"
             ],
             [
              0.7777777777777778,
              "#fb9f3a"
             ],
             [
              0.8888888888888888,
              "#fdca26"
             ],
             [
              1,
              "#f0f921"
             ]
            ],
            "type": "histogram2d"
           }
          ],
          "histogram2dcontour": [
           {
            "colorbar": {
             "outlinewidth": 0,
             "ticks": ""
            },
            "colorscale": [
             [
              0,
              "#0d0887"
             ],
             [
              0.1111111111111111,
              "#46039f"
             ],
             [
              0.2222222222222222,
              "#7201a8"
             ],
             [
              0.3333333333333333,
              "#9c179e"
             ],
             [
              0.4444444444444444,
              "#bd3786"
             ],
             [
              0.5555555555555556,
              "#d8576b"
             ],
             [
              0.6666666666666666,
              "#ed7953"
             ],
             [
              0.7777777777777778,
              "#fb9f3a"
             ],
             [
              0.8888888888888888,
              "#fdca26"
             ],
             [
              1,
              "#f0f921"
             ]
            ],
            "type": "histogram2dcontour"
           }
          ],
          "mesh3d": [
           {
            "colorbar": {
             "outlinewidth": 0,
             "ticks": ""
            },
            "type": "mesh3d"
           }
          ],
          "parcoords": [
           {
            "line": {
             "colorbar": {
              "outlinewidth": 0,
              "ticks": ""
             }
            },
            "type": "parcoords"
           }
          ],
          "pie": [
           {
            "automargin": true,
            "type": "pie"
           }
          ],
          "scatter": [
           {
            "fillpattern": {
             "fillmode": "overlay",
             "size": 10,
             "solidity": 0.2
            },
            "type": "scatter"
           }
          ],
          "scatter3d": [
           {
            "line": {
             "colorbar": {
              "outlinewidth": 0,
              "ticks": ""
             }
            },
            "marker": {
             "colorbar": {
              "outlinewidth": 0,
              "ticks": ""
             }
            },
            "type": "scatter3d"
           }
          ],
          "scattercarpet": [
           {
            "marker": {
             "colorbar": {
              "outlinewidth": 0,
              "ticks": ""
             }
            },
            "type": "scattercarpet"
           }
          ],
          "scattergeo": [
           {
            "marker": {
             "colorbar": {
              "outlinewidth": 0,
              "ticks": ""
             }
            },
            "type": "scattergeo"
           }
          ],
          "scattergl": [
           {
            "marker": {
             "colorbar": {
              "outlinewidth": 0,
              "ticks": ""
             }
            },
            "type": "scattergl"
           }
          ],
          "scattermapbox": [
           {
            "marker": {
             "colorbar": {
              "outlinewidth": 0,
              "ticks": ""
             }
            },
            "type": "scattermapbox"
           }
          ],
          "scatterpolar": [
           {
            "marker": {
             "colorbar": {
              "outlinewidth": 0,
              "ticks": ""
             }
            },
            "type": "scatterpolar"
           }
          ],
          "scatterpolargl": [
           {
            "marker": {
             "colorbar": {
              "outlinewidth": 0,
              "ticks": ""
             }
            },
            "type": "scatterpolargl"
           }
          ],
          "scatterternary": [
           {
            "marker": {
             "colorbar": {
              "outlinewidth": 0,
              "ticks": ""
             }
            },
            "type": "scatterternary"
           }
          ],
          "surface": [
           {
            "colorbar": {
             "outlinewidth": 0,
             "ticks": ""
            },
            "colorscale": [
             [
              0,
              "#0d0887"
             ],
             [
              0.1111111111111111,
              "#46039f"
             ],
             [
              0.2222222222222222,
              "#7201a8"
             ],
             [
              0.3333333333333333,
              "#9c179e"
             ],
             [
              0.4444444444444444,
              "#bd3786"
             ],
             [
              0.5555555555555556,
              "#d8576b"
             ],
             [
              0.6666666666666666,
              "#ed7953"
             ],
             [
              0.7777777777777778,
              "#fb9f3a"
             ],
             [
              0.8888888888888888,
              "#fdca26"
             ],
             [
              1,
              "#f0f921"
             ]
            ],
            "type": "surface"
           }
          ],
          "table": [
           {
            "cells": {
             "fill": {
              "color": "#EBF0F8"
             },
             "line": {
              "color": "white"
             }
            },
            "header": {
             "fill": {
              "color": "#C8D4E3"
             },
             "line": {
              "color": "white"
             }
            },
            "type": "table"
           }
          ]
         },
         "layout": {
          "annotationdefaults": {
           "arrowcolor": "#2a3f5f",
           "arrowhead": 0,
           "arrowwidth": 1
          },
          "autotypenumbers": "strict",
          "coloraxis": {
           "colorbar": {
            "outlinewidth": 0,
            "ticks": ""
           }
          },
          "colorscale": {
           "diverging": [
            [
             0,
             "#8e0152"
            ],
            [
             0.1,
             "#c51b7d"
            ],
            [
             0.2,
             "#de77ae"
            ],
            [
             0.3,
             "#f1b6da"
            ],
            [
             0.4,
             "#fde0ef"
            ],
            [
             0.5,
             "#f7f7f7"
            ],
            [
             0.6,
             "#e6f5d0"
            ],
            [
             0.7,
             "#b8e186"
            ],
            [
             0.8,
             "#7fbc41"
            ],
            [
             0.9,
             "#4d9221"
            ],
            [
             1,
             "#276419"
            ]
           ],
           "sequential": [
            [
             0,
             "#0d0887"
            ],
            [
             0.1111111111111111,
             "#46039f"
            ],
            [
             0.2222222222222222,
             "#7201a8"
            ],
            [
             0.3333333333333333,
             "#9c179e"
            ],
            [
             0.4444444444444444,
             "#bd3786"
            ],
            [
             0.5555555555555556,
             "#d8576b"
            ],
            [
             0.6666666666666666,
             "#ed7953"
            ],
            [
             0.7777777777777778,
             "#fb9f3a"
            ],
            [
             0.8888888888888888,
             "#fdca26"
            ],
            [
             1,
             "#f0f921"
            ]
           ],
           "sequentialminus": [
            [
             0,
             "#0d0887"
            ],
            [
             0.1111111111111111,
             "#46039f"
            ],
            [
             0.2222222222222222,
             "#7201a8"
            ],
            [
             0.3333333333333333,
             "#9c179e"
            ],
            [
             0.4444444444444444,
             "#bd3786"
            ],
            [
             0.5555555555555556,
             "#d8576b"
            ],
            [
             0.6666666666666666,
             "#ed7953"
            ],
            [
             0.7777777777777778,
             "#fb9f3a"
            ],
            [
             0.8888888888888888,
             "#fdca26"
            ],
            [
             1,
             "#f0f921"
            ]
           ]
          },
          "colorway": [
           "#636efa",
           "#EF553B",
           "#00cc96",
           "#ab63fa",
           "#FFA15A",
           "#19d3f3",
           "#FF6692",
           "#B6E880",
           "#FF97FF",
           "#FECB52"
          ],
          "font": {
           "color": "#2a3f5f"
          },
          "geo": {
           "bgcolor": "white",
           "lakecolor": "white",
           "landcolor": "#E5ECF6",
           "showlakes": true,
           "showland": true,
           "subunitcolor": "white"
          },
          "hoverlabel": {
           "align": "left"
          },
          "hovermode": "closest",
          "mapbox": {
           "style": "light"
          },
          "paper_bgcolor": "white",
          "plot_bgcolor": "#E5ECF6",
          "polar": {
           "angularaxis": {
            "gridcolor": "white",
            "linecolor": "white",
            "ticks": ""
           },
           "bgcolor": "#E5ECF6",
           "radialaxis": {
            "gridcolor": "white",
            "linecolor": "white",
            "ticks": ""
           }
          },
          "scene": {
           "xaxis": {
            "backgroundcolor": "#E5ECF6",
            "gridcolor": "white",
            "gridwidth": 2,
            "linecolor": "white",
            "showbackground": true,
            "ticks": "",
            "zerolinecolor": "white"
           },
           "yaxis": {
            "backgroundcolor": "#E5ECF6",
            "gridcolor": "white",
            "gridwidth": 2,
            "linecolor": "white",
            "showbackground": true,
            "ticks": "",
            "zerolinecolor": "white"
           },
           "zaxis": {
            "backgroundcolor": "#E5ECF6",
            "gridcolor": "white",
            "gridwidth": 2,
            "linecolor": "white",
            "showbackground": true,
            "ticks": "",
            "zerolinecolor": "white"
           }
          },
          "shapedefaults": {
           "line": {
            "color": "#2a3f5f"
           }
          },
          "ternary": {
           "aaxis": {
            "gridcolor": "white",
            "linecolor": "white",
            "ticks": ""
           },
           "baxis": {
            "gridcolor": "white",
            "linecolor": "white",
            "ticks": ""
           },
           "bgcolor": "#E5ECF6",
           "caxis": {
            "gridcolor": "white",
            "linecolor": "white",
            "ticks": ""
           }
          },
          "title": {
           "x": 0.05
          },
          "xaxis": {
           "automargin": true,
           "gridcolor": "white",
           "linecolor": "white",
           "ticks": "",
           "title": {
            "standoff": 15
           },
           "zerolinecolor": "white",
           "zerolinewidth": 2
          },
          "yaxis": {
           "automargin": true,
           "gridcolor": "white",
           "linecolor": "white",
           "ticks": "",
           "title": {
            "standoff": 15
           },
           "zerolinecolor": "white",
           "zerolinewidth": 2
          }
         }
        },
        "xaxis": {
         "anchor": "y",
         "domain": [
          0,
          1
         ],
         "title": {
          "text": "Price(€)"
         }
        },
        "yaxis": {
         "anchor": "x",
         "domain": [
          0,
          1
         ]
        }
       }
      },
      "text/html": [
       "<div>                            <div id=\"36490223-0ceb-458b-8a0d-f91de96c03c3\" class=\"plotly-graph-div\" style=\"height:525px; width:100%;\"></div>            <script type=\"text/javascript\">                require([\"plotly\"], function(Plotly) {                    window.PLOTLYENV=window.PLOTLYENV || {};                                    if (document.getElementById(\"36490223-0ceb-458b-8a0d-f91de96c03c3\")) {                    Plotly.newPlot(                        \"36490223-0ceb-458b-8a0d-f91de96c03c3\",                        [{\"alignmentgroup\":\"True\",\"hovertemplate\":\"Price(\\u20ac)=%{x}<extra></extra>\",\"legendgroup\":\"\",\"marker\":{\"color\":\"#636efa\"},\"name\":\"\",\"notched\":false,\"offsetgroup\":\"\",\"orientation\":\"h\",\"showlegend\":false,\"x\":[749.0,249.0,419.0,299.0,229.0,129.0,299.0,299.0,449.0,449.0,269.0,349.0,599.0,459.0,199.0,249.0,339.0,249.0,279.0,229.0,114.99,119.0,299.0,179.0,329.0,249.0,329.0,199.0,1379.0,1229.0,1379.0,1229.0,969.0,859.0,969.0,1379.0,1509.0,1509.0,1379.0,1359.0,969.0,799.0,1229.0,969.0,1119.0,1119.0,859.0,1119.0,759.0,649.0,1769.0,349.0,859.0,559.0,859.0,1509.0,979.0,979.0,759.0,799.0,1099.0,809.0,1359.0,1099.0,1509.0,1099.0,749.0,1249.0,1769.0,759.0,1619.0,979.0,379.0,549.0,809.0,699.0,199.0,1099.0,629.0,979.0,979.0,149.0,2029.0,299.0,179.0,759.0,1769.0,339.0,1619.0,199.0,659.0,649.0,269.0,1398.98,1359.0,319.0,199.0,1099.0,149.0,1049.0,927.69,219.0,199.0,319.0,799.0,299.0,759.0,699.0,699.0,629.0,549.0,522.74,199.0,189.0,179.0,179.0,149.0,349.0,319.0,299.0,249.0,249.0,179.0,149.0,899.0,649.0,809.0,119.0,139.0,149.0,179.0,185.86,189.0,200.53,219.0,241.46,315.23,319.0,443.75,499.0,549.0,549.0,549.0,599.0,629.0,699.0,699.0,699.0,746.85,749.0,749.0,759.0,759.0,788.4,849.0,849.0,899.0,899.0,899.0,927.69,929.0,929.0,929.0,929.0,1049.0,1049.0,1209.0,1209.0,1209.0,1209.0,1237.32,1249.0,1249.0,1359.0,1359.0,1399.0,1509.0,1509.0,1509.0,1619.0,1879.0,1879.0,1879.0,1879.0,2029.0,2029.0,529.0,599.0,859.0,529.0,599.0,809.0,229.0,975.23,599.0,759.0,335.9,279.0,759.0,499.0,249.0,319.0,899.0,379.0,479.0,849.0,469.0,334.88,129.0,179.0,199.0,299.0,479.0,499.0,549.0,579.0,799.0,799.0,879.0,1099.0,1099.0,1199.0,1499.0,715.0,279.0,216.39,229.0,349.0,499.0,649.0,799.0,879.0,879.0,303.25,187.36,385.71,100.94,102.06,102.29,102.38,102.6,106.32,107.66,107.66,109.01,109.1,109.4,114.38,126.98,136.81,137.36,138.21,139.62,144.0,147.9,148.94,155.06,156.0,157.0,158.08,158.33,162.94,169.1,171.42,174.0,175.03,175.98,176.13,180.42,181.74,186.58,187.0,191.57,193.11,193.82,194.9,199.5,199.78,201.54,201.62,210.27,214.04,218.25,219.28,223.17,225.33,225.72,227.0,228.0,233.7,235.95,239.31,241.59,242.97,242.97,246.34,246.69,249.14,256.77,260.0,263.0,264.59,267.82,268.8,269.0,270.58,276.99,278.0,278.63,280.04,282.0,284.38,288.46,290.84,292.62,297.4,297.83,303.15,303.15,303.15,304.05,306.38,306.38,309.21,309.52,313.74,316.23,318.0,318.27,324.1,337.36,344.77,347.24,349.0,351.89,352.9,352.9,354.0,356.18,363.68,368.0,373.46,383.78,385.71,385.71,385.71,386.34,388.84,393.78,396.78,398.4,404.0,409.8,410.2,416.24,427.48,427.5,427.48,436.1,444.33,445.58,456.97,471.37,476.62,476.62,489.99,498.42,502.5,515.72,528.0,549.74,580.0,605.7,608.48,626.9,639.51,645.13,653.55,676.0,700.0,734.0,752.7,752.7,772.0,781.34,799.5,799.5,805.54,952.65,988.14,1070.6,1072.0,1106.18,1115.85,1155.0,1156.0,1174.5,1174.65,1185.51,1188.55,1287.79,1332.49,1408.2,1417.71,1457.06,799.0,189.0,249.0,279.0,699.0,289.0,259.0,379.0,349.0,349.0,189.0,199.0,249.0,289.0,319.0,319.0,349.0,359.0,379.0,379.0,379.0,699.0,699.0,389.0,85.0,92.0,94.0,96.72,98.0,99.0,104.0,104.0,104.0,104.87,109.0,110.0,116.0,117.0,118.0,119.9,127.0,130.0,135.0,138.0,139.0,141.0,142.0,142.0,144.0,144.0,145.0,145.0,145.0,145.0,146.0,147.0,150.0,150.0,150.0,150.0,150.0,151.0,154.0,154.0,155.0,155.0,158.9,159.0,159.0,159.0,159.9,159.99,163.9,164.0,165.0,167.51,168.0,169.0,169.0,170.0,170.0,170.0,170.0,170.0,171.0,175.0,172.47,176.0,178.0,184.0,184.0,184.0,184.0,184.0,189.9,190.0,190.0,190.0,191.0,191.0,192.0,194.0,194.0,194.0,199.0,199.0,199.0,200.0,200.0,201.0,203.0,203.0,203.0,207.0,209.0,209.0,215.0,215.0,215.0,218.9,219.0,219.0,220.0,220.0,220.0,220.0,220.0,220.0,221.9,222.7,223.0,228.09,236.0,239.0,239.9,244.0,244.0,247.0,249.0,250.0,250.0,251.0,251.0,251.9,251.9,251.9,251.9,254.0,254.0,255.0,255.0,256.0,256.0,258.0,259.0,259.0,259.9,260.0,263.78,264.9,265.0,265.0,268.0,269.0,269.0,269.0,269.0,270.0,277.0,279.0,279.0,279.0,279.0,279.0,280.0,280.0,280.0,283.9,284.9,289.0,292.86,294.0,295.9,297.0,297.0,299.0,300.0,300.0,300.0,300.0,300.9,304.0,304.0,305.0,309.0,316.0,316.0,319.9,320.0,323.0,334.0,335.0,343.91,300.0,339.0,339.9,340.0,340.0,300.0,340.0,340.0,340.0,345.0,350.9,352.0,355.0,359.0,366.0,368.0,369.9,369.9,369.9,370.0,370.9,375.0,379.0,380.0,380.0,381.73,383.9,388.0,389.0,389.0,389.9,390.0,390.0,395.0,419.0,399.0,399.0,400.0,404.9,405.0,405.0,410.0,410.0,416.9,416.9,417.0,419.0,419.0,419.9,430.0,400.0,438.0,438.9,440.0,440.0,442.0,446.0,446.0,372.0,480.76,467.0,469.0,469.9,470.0,469.99,470.0,471.9,471.9,474.0,489.0,499.0,500.0,500.0,503.0,504.9,508.0,518.0,440.0,519.0,529.0,529.0,550.0,579.0,613.0,613.0,614.9,630.0,635.0,639.0,639.0,658.9,669.0,669.0,675.0,686.0,797.0,700.0,690.0,700.0,705.0,709.0,722.0,735.9,735.9,735.9,738.9,743.0,743.0,757.9,757.9,773.0,777.0,777.0,779.0,779.0,779.9,780.0,782.0,789.0,760.0,789.0,789.0,791.9,807.9,839.9,845.9,845.9,849.0,849.0,859.0,870.9,889.0,928.0,946.0,954.0,955.9,955.9,958.0,983.0,1123.0,1022.0,1026.0,1037.0,1048.0,1083.0,1085.0,1085.0,1088.0,1088.0,1109.0,1179.0,1211.0,1264.0,1264.0,1264.0,1264.0,1299.0,1299.0,1299.0,1308.0,1323.9,1399.0,1399.0,1399.0,1399.0,1437.0,1452.19,1463.9,1499.0,1499.0,1499.0,1528.0,1528.0,1528.0,1620.0,1620.0,1908.0,1908.0,1908.0],\"x0\":\" \",\"xaxis\":\"x\",\"y0\":\" \",\"yaxis\":\"y\",\"type\":\"box\",\"fillcolor\":\"#C9A26B\"}],                        {\"template\":{\"data\":{\"histogram2dcontour\":[{\"type\":\"histogram2dcontour\",\"colorbar\":{\"outlinewidth\":0,\"ticks\":\"\"},\"colorscale\":[[0.0,\"#0d0887\"],[0.1111111111111111,\"#46039f\"],[0.2222222222222222,\"#7201a8\"],[0.3333333333333333,\"#9c179e\"],[0.4444444444444444,\"#bd3786\"],[0.5555555555555556,\"#d8576b\"],[0.6666666666666666,\"#ed7953\"],[0.7777777777777778,\"#fb9f3a\"],[0.8888888888888888,\"#fdca26\"],[1.0,\"#f0f921\"]]}],\"choropleth\":[{\"type\":\"choropleth\",\"colorbar\":{\"outlinewidth\":0,\"ticks\":\"\"}}],\"histogram2d\":[{\"type\":\"histogram2d\",\"colorbar\":{\"outlinewidth\":0,\"ticks\":\"\"},\"colorscale\":[[0.0,\"#0d0887\"],[0.1111111111111111,\"#46039f\"],[0.2222222222222222,\"#7201a8\"],[0.3333333333333333,\"#9c179e\"],[0.4444444444444444,\"#bd3786\"],[0.5555555555555556,\"#d8576b\"],[0.6666666666666666,\"#ed7953\"],[0.7777777777777778,\"#fb9f3a\"],[0.8888888888888888,\"#fdca26\"],[1.0,\"#f0f921\"]]}],\"heatmap\":[{\"type\":\"heatmap\",\"colorbar\":{\"outlinewidth\":0,\"ticks\":\"\"},\"colorscale\":[[0.0,\"#0d0887\"],[0.1111111111111111,\"#46039f\"],[0.2222222222222222,\"#7201a8\"],[0.3333333333333333,\"#9c179e\"],[0.4444444444444444,\"#bd3786\"],[0.5555555555555556,\"#d8576b\"],[0.6666666666666666,\"#ed7953\"],[0.7777777777777778,\"#fb9f3a\"],[0.8888888888888888,\"#fdca26\"],[1.0,\"#f0f921\"]]}],\"heatmapgl\":[{\"type\":\"heatmapgl\",\"colorbar\":{\"outlinewidth\":0,\"ticks\":\"\"},\"colorscale\":[[0.0,\"#0d0887\"],[0.1111111111111111,\"#46039f\"],[0.2222222222222222,\"#7201a8\"],[0.3333333333333333,\"#9c179e\"],[0.4444444444444444,\"#bd3786\"],[0.5555555555555556,\"#d8576b\"],[0.6666666666666666,\"#ed7953\"],[0.7777777777777778,\"#fb9f3a\"],[0.8888888888888888,\"#fdca26\"],[1.0,\"#f0f921\"]]}],\"contourcarpet\":[{\"type\":\"contourcarpet\",\"colorbar\":{\"outlinewidth\":0,\"ticks\":\"\"}}],\"contour\":[{\"type\":\"contour\",\"colorbar\":{\"outlinewidth\":0,\"ticks\":\"\"},\"colorscale\":[[0.0,\"#0d0887\"],[0.1111111111111111,\"#46039f\"],[0.2222222222222222,\"#7201a8\"],[0.3333333333333333,\"#9c179e\"],[0.4444444444444444,\"#bd3786\"],[0.5555555555555556,\"#d8576b\"],[0.6666666666666666,\"#ed7953\"],[0.7777777777777778,\"#fb9f3a\"],[0.8888888888888888,\"#fdca26\"],[1.0,\"#f0f921\"]]}],\"surface\":[{\"type\":\"surface\",\"colorbar\":{\"outlinewidth\":0,\"ticks\":\"\"},\"colorscale\":[[0.0,\"#0d0887\"],[0.1111111111111111,\"#46039f\"],[0.2222222222222222,\"#7201a8\"],[0.3333333333333333,\"#9c179e\"],[0.4444444444444444,\"#bd3786\"],[0.5555555555555556,\"#d8576b\"],[0.6666666666666666,\"#ed7953\"],[0.7777777777777778,\"#fb9f3a\"],[0.8888888888888888,\"#fdca26\"],[1.0,\"#f0f921\"]]}],\"mesh3d\":[{\"type\":\"mesh3d\",\"colorbar\":{\"outlinewidth\":0,\"ticks\":\"\"}}],\"scatter\":[{\"fillpattern\":{\"fillmode\":\"overlay\",\"size\":10,\"solidity\":0.2},\"type\":\"scatter\"}],\"parcoords\":[{\"type\":\"parcoords\",\"line\":{\"colorbar\":{\"outlinewidth\":0,\"ticks\":\"\"}}}],\"scatterpolargl\":[{\"type\":\"scatterpolargl\",\"marker\":{\"colorbar\":{\"outlinewidth\":0,\"ticks\":\"\"}}}],\"bar\":[{\"error_x\":{\"color\":\"#2a3f5f\"},\"error_y\":{\"color\":\"#2a3f5f\"},\"marker\":{\"line\":{\"color\":\"#E5ECF6\",\"width\":0.5},\"pattern\":{\"fillmode\":\"overlay\",\"size\":10,\"solidity\":0.2}},\"type\":\"bar\"}],\"scattergeo\":[{\"type\":\"scattergeo\",\"marker\":{\"colorbar\":{\"outlinewidth\":0,\"ticks\":\"\"}}}],\"scatterpolar\":[{\"type\":\"scatterpolar\",\"marker\":{\"colorbar\":{\"outlinewidth\":0,\"ticks\":\"\"}}}],\"histogram\":[{\"marker\":{\"pattern\":{\"fillmode\":\"overlay\",\"size\":10,\"solidity\":0.2}},\"type\":\"histogram\"}],\"scattergl\":[{\"type\":\"scattergl\",\"marker\":{\"colorbar\":{\"outlinewidth\":0,\"ticks\":\"\"}}}],\"scatter3d\":[{\"type\":\"scatter3d\",\"line\":{\"colorbar\":{\"outlinewidth\":0,\"ticks\":\"\"}},\"marker\":{\"colorbar\":{\"outlinewidth\":0,\"ticks\":\"\"}}}],\"scattermapbox\":[{\"type\":\"scattermapbox\",\"marker\":{\"colorbar\":{\"outlinewidth\":0,\"ticks\":\"\"}}}],\"scatterternary\":[{\"type\":\"scatterternary\",\"marker\":{\"colorbar\":{\"outlinewidth\":0,\"ticks\":\"\"}}}],\"scattercarpet\":[{\"type\":\"scattercarpet\",\"marker\":{\"colorbar\":{\"outlinewidth\":0,\"ticks\":\"\"}}}],\"carpet\":[{\"aaxis\":{\"endlinecolor\":\"#2a3f5f\",\"gridcolor\":\"white\",\"linecolor\":\"white\",\"minorgridcolor\":\"white\",\"startlinecolor\":\"#2a3f5f\"},\"baxis\":{\"endlinecolor\":\"#2a3f5f\",\"gridcolor\":\"white\",\"linecolor\":\"white\",\"minorgridcolor\":\"white\",\"startlinecolor\":\"#2a3f5f\"},\"type\":\"carpet\"}],\"table\":[{\"cells\":{\"fill\":{\"color\":\"#EBF0F8\"},\"line\":{\"color\":\"white\"}},\"header\":{\"fill\":{\"color\":\"#C8D4E3\"},\"line\":{\"color\":\"white\"}},\"type\":\"table\"}],\"barpolar\":[{\"marker\":{\"line\":{\"color\":\"#E5ECF6\",\"width\":0.5},\"pattern\":{\"fillmode\":\"overlay\",\"size\":10,\"solidity\":0.2}},\"type\":\"barpolar\"}],\"pie\":[{\"automargin\":true,\"type\":\"pie\"}]},\"layout\":{\"autotypenumbers\":\"strict\",\"colorway\":[\"#636efa\",\"#EF553B\",\"#00cc96\",\"#ab63fa\",\"#FFA15A\",\"#19d3f3\",\"#FF6692\",\"#B6E880\",\"#FF97FF\",\"#FECB52\"],\"font\":{\"color\":\"#2a3f5f\"},\"hovermode\":\"closest\",\"hoverlabel\":{\"align\":\"left\"},\"paper_bgcolor\":\"white\",\"plot_bgcolor\":\"#E5ECF6\",\"polar\":{\"bgcolor\":\"#E5ECF6\",\"angularaxis\":{\"gridcolor\":\"white\",\"linecolor\":\"white\",\"ticks\":\"\"},\"radialaxis\":{\"gridcolor\":\"white\",\"linecolor\":\"white\",\"ticks\":\"\"}},\"ternary\":{\"bgcolor\":\"#E5ECF6\",\"aaxis\":{\"gridcolor\":\"white\",\"linecolor\":\"white\",\"ticks\":\"\"},\"baxis\":{\"gridcolor\":\"white\",\"linecolor\":\"white\",\"ticks\":\"\"},\"caxis\":{\"gridcolor\":\"white\",\"linecolor\":\"white\",\"ticks\":\"\"}},\"coloraxis\":{\"colorbar\":{\"outlinewidth\":0,\"ticks\":\"\"}},\"colorscale\":{\"sequential\":[[0.0,\"#0d0887\"],[0.1111111111111111,\"#46039f\"],[0.2222222222222222,\"#7201a8\"],[0.3333333333333333,\"#9c179e\"],[0.4444444444444444,\"#bd3786\"],[0.5555555555555556,\"#d8576b\"],[0.6666666666666666,\"#ed7953\"],[0.7777777777777778,\"#fb9f3a\"],[0.8888888888888888,\"#fdca26\"],[1.0,\"#f0f921\"]],\"sequentialminus\":[[0.0,\"#0d0887\"],[0.1111111111111111,\"#46039f\"],[0.2222222222222222,\"#7201a8\"],[0.3333333333333333,\"#9c179e\"],[0.4444444444444444,\"#bd3786\"],[0.5555555555555556,\"#d8576b\"],[0.6666666666666666,\"#ed7953\"],[0.7777777777777778,\"#fb9f3a\"],[0.8888888888888888,\"#fdca26\"],[1.0,\"#f0f921\"]],\"diverging\":[[0,\"#8e0152\"],[0.1,\"#c51b7d\"],[0.2,\"#de77ae\"],[0.3,\"#f1b6da\"],[0.4,\"#fde0ef\"],[0.5,\"#f7f7f7\"],[0.6,\"#e6f5d0\"],[0.7,\"#b8e186\"],[0.8,\"#7fbc41\"],[0.9,\"#4d9221\"],[1,\"#276419\"]]},\"xaxis\":{\"gridcolor\":\"white\",\"linecolor\":\"white\",\"ticks\":\"\",\"title\":{\"standoff\":15},\"zerolinecolor\":\"white\",\"automargin\":true,\"zerolinewidth\":2},\"yaxis\":{\"gridcolor\":\"white\",\"linecolor\":\"white\",\"ticks\":\"\",\"title\":{\"standoff\":15},\"zerolinecolor\":\"white\",\"automargin\":true,\"zerolinewidth\":2},\"scene\":{\"xaxis\":{\"backgroundcolor\":\"#E5ECF6\",\"gridcolor\":\"white\",\"linecolor\":\"white\",\"showbackground\":true,\"ticks\":\"\",\"zerolinecolor\":\"white\",\"gridwidth\":2},\"yaxis\":{\"backgroundcolor\":\"#E5ECF6\",\"gridcolor\":\"white\",\"linecolor\":\"white\",\"showbackground\":true,\"ticks\":\"\",\"zerolinecolor\":\"white\",\"gridwidth\":2},\"zaxis\":{\"backgroundcolor\":\"#E5ECF6\",\"gridcolor\":\"white\",\"linecolor\":\"white\",\"showbackground\":true,\"ticks\":\"\",\"zerolinecolor\":\"white\",\"gridwidth\":2}},\"shapedefaults\":{\"line\":{\"color\":\"#2a3f5f\"}},\"annotationdefaults\":{\"arrowcolor\":\"#2a3f5f\",\"arrowhead\":0,\"arrowwidth\":1},\"geo\":{\"bgcolor\":\"white\",\"landcolor\":\"#E5ECF6\",\"subunitcolor\":\"white\",\"showland\":true,\"showlakes\":true,\"lakecolor\":\"white\"},\"title\":{\"x\":0.05},\"mapbox\":{\"style\":\"light\"}}},\"xaxis\":{\"anchor\":\"y\",\"domain\":[0.0,1.0],\"title\":{\"text\":\"Price(\\u20ac)\"}},\"yaxis\":{\"anchor\":\"x\",\"domain\":[0.0,1.0]},\"legend\":{\"tracegroupgap\":0},\"margin\":{\"t\":60},\"boxmode\":\"group\"},                        {\"responsive\": true}                    ).then(function(){\n",
       "                            \n",
       "var gd = document.getElementById('36490223-0ceb-458b-8a0d-f91de96c03c3');\n",
       "var x = new MutationObserver(function (mutations, observer) {{\n",
       "        var display = window.getComputedStyle(gd).display;\n",
       "        if (!display || display === 'none') {{\n",
       "            console.log([gd, 'removed!']);\n",
       "            Plotly.purge(gd);\n",
       "            observer.disconnect();\n",
       "        }}\n",
       "}});\n",
       "\n",
       "// Listen for the removal of the full notebook cells\n",
       "var notebookContainer = gd.closest('#notebook-container');\n",
       "if (notebookContainer) {{\n",
       "    x.observe(notebookContainer, {childList: true});\n",
       "}}\n",
       "\n",
       "// Listen for the clearing of the current output cell\n",
       "var outputEl = gd.closest('.output');\n",
       "if (outputEl) {{\n",
       "    x.observe(outputEl, {childList: true});\n",
       "}}\n",
       "\n",
       "                        })                };                });            </script>        </div>"
      ]
     },
     "metadata": {},
     "output_type": "display_data"
    }
   ],
   "source": [
    "for i in num_col:\n",
    "    fig = px.box(df, x = df[i])\n",
    "    fig.update_traces(fillcolor = '#C9A26B')\n",
    "    fig.show()"
   ]
  },
  {
   "cell_type": "code",
   "execution_count": 134,
   "id": "442be70a",
   "metadata": {
    "scrolled": true
   },
   "outputs": [
    {
     "name": "stderr",
     "output_type": "stream",
     "text": [
      "C:\\Users\\asus\\AppData\\Local\\Temp\\ipykernel_16676\\588235079.py:11: SettingWithCopyWarning:\n",
      "\n",
      "\n",
      "A value is trying to be set on a copy of a slice from a DataFrame\n",
      "\n",
      "See the caveats in the documentation: https://pandas.pydata.org/pandas-docs/stable/user_guide/indexing.html#returning-a-view-versus-a-copy\n",
      "\n"
     ]
    }
   ],
   "source": [
    "import numpy as np\n",
    "# calculer Q1 et Q3\n",
    "q1 = df['Taille_ecran(en pouces)'].quantile(0.25)\n",
    "q3 = df['Taille_ecran(en pouces)'].quantile(0.75)\n",
    "iqr =  q3 - q1\n",
    "lower = q1-(1.5*iqr)\n",
    "upper = q3+(1.5*iqr)\n",
    "# calculer la moyenne des valeurs non-aberrantes\n",
    "mean = np.mean(df['Taille_ecran(en pouces)'][(df['Taille_ecran(en pouces)'] >= lower)& (df['Taille_ecran(en pouces)'] <= upper)])\n",
    "# remplacer les valeurs aberrantes par la moyenne\n",
    "df['Taille_ecran(en pouces)'][(df['Taille_ecran(en pouces)'] < lower)| (df['Taille_ecran(en pouces)'] > upper)]= mean\n"
   ]
  },
  {
   "cell_type": "code",
   "execution_count": 138,
   "id": "11217f7b",
   "metadata": {},
   "outputs": [
    {
     "name": "stderr",
     "output_type": "stream",
     "text": [
      "C:\\Users\\asus\\AppData\\Local\\Temp\\ipykernel_16676\\1869401922.py:10: SettingWithCopyWarning:\n",
      "\n",
      "\n",
      "A value is trying to be set on a copy of a slice from a DataFrame\n",
      "\n",
      "See the caveats in the documentation: https://pandas.pydata.org/pandas-docs/stable/user_guide/indexing.html#returning-a-view-versus-a-copy\n",
      "\n"
     ]
    }
   ],
   "source": [
    "q1 = df['Selfie(mégapixels)'].quantile(0.25)\n",
    "q3 = df['Selfie(mégapixels)'].quantile(0.75)\n",
    "iqr =  q3 - q1\n",
    "lower = q1-(1.5*iqr)\n",
    "upper = q3+(1.5*iqr)\n",
    "# calculer la moyenne des valeurs non-aberrantes\n",
    "mean = np.mean(df['Selfie(mégapixels)'][(df['Selfie(mégapixels)'] >= lower)& (df['Selfie(mégapixels)'] <= upper)])\n",
    "\n",
    "# remplacer les valeurs aberrantes par la moyenne\n",
    "df['Selfie(mégapixels)'][(df['Selfie(mégapixels)'] < lower)| (df['Selfie(mégapixels)'] > upper)]= mean\n"
   ]
  },
  {
   "cell_type": "code",
   "execution_count": 140,
   "id": "a1a21d53",
   "metadata": {},
   "outputs": [
    {
     "data": {
      "text/plain": [
       "26"
      ]
     },
     "execution_count": 140,
     "metadata": {},
     "output_type": "execute_result"
    }
   ],
   "source": [
    "s1 = df.shape\n",
    "for i in num_col.columns:\n",
    "    q1 = df[i].quantile(0.25)\n",
    "    q3 = df[i].quantile(0.75)\n",
    "    iqr =  q3 - q1\n",
    "    lower = q1-(1.5*iqr)\n",
    "    upper = q3+(1.5*iqr)\n",
    "    min_in = df[df[i]<lower].index\n",
    "    max_in = df[df[i]>upper].index\n",
    "    df.drop(min_in, inplace = True)\n",
    "    df.drop(max_in, inplace = True)\n",
    "s2 = df.shape\n",
    "outliers = s1[0] - s2[0]\n",
    "outliers"
   ]
  },
  {
   "cell_type": "code",
   "execution_count": 141,
   "id": "da16c9b8",
   "metadata": {},
   "outputs": [
    {
     "data": {
      "application/vnd.plotly.v1+json": {
       "config": {
        "plotlyServerURL": "https://plot.ly"
       },
       "data": [
        {
         "alignmentgroup": "True",
         "fillcolor": "#C9A26B",
         "hovertemplate": "Battery(mAh)=%{x}<extra></extra>",
         "legendgroup": "",
         "marker": {
          "color": "#636efa"
         },
         "name": "",
         "notched": false,
         "offsetgroup": "",
         "orientation": "h",
         "showlegend": false,
         "type": "box",
         "x": [
          3700,
          5020,
          4500,
          5000,
          5330,
          4020,
          4100,
          4100,
          4200,
          4200,
          4250,
          5000,
          4500,
          5000,
          5000,
          5000,
          5000,
          5000,
          5000,
          5000,
          4000,
          5000,
          3000,
          5000,
          5000,
          5000,
          4000,
          5000,
          4323,
          3200,
          4323,
          3200,
          3279,
          2815,
          3279,
          4323,
          4323,
          4323,
          4323,
          3200,
          3279,
          4926,
          3200,
          3279,
          4323,
          4323,
          2815,
          4323,
          2815,
          4270,
          4300,
          2815,
          1810,
          2815,
          4323,
          2815,
          2815,
          2227,
          4926,
          3279,
          2815,
          3200,
          3279,
          4323,
          3279,
          3700,
          4323,
          2815,
          2815,
          5100,
          4500,
          2815,
          5000,
          5000,
          3279,
          1810,
          2815,
          2815,
          5000,
          4020,
          5000,
          2815,
          5000,
          5000,
          4500,
          5000,
          5000,
          5000,
          3279,
          4500,
          5000,
          3279,
          5000,
          5000,
          5000,
          5000,
          5000,
          4500,
          4300,
          4020,
          2227,
          4800,
          4800,
          1810,
          4500,
          4500,
          5000,
          5000,
          5000,
          5000,
          5000,
          5000,
          5000,
          2691,
          5000,
          5000,
          5000,
          5000,
          5000,
          4270,
          2815,
          5000,
          5000,
          5000,
          5000,
          5000,
          5000,
          5000,
          5000,
          5000,
          5000,
          5000,
          5000,
          5000,
          5000,
          4500,
          5000,
          5000,
          1810,
          5000,
          5000,
          5000,
          4800,
          5000,
          4500,
          1810,
          1810,
          5000,
          4300,
          5000,
          5000,
          4610,
          4600,
          5000,
          2815,
          2815,
          6000,
          6000,
          2815,
          2815,
          2815,
          2815,
          5000,
          4323,
          4323,
          3279,
          3279,
          5000,
          4323,
          4323,
          4323,
          3110,
          3110,
          2815,
          3110,
          3110,
          2815,
          3000,
          3300,
          5000,
          2227,
          4300,
          5020,
          2815,
          5000,
          5000,
          5000,
          4600,
          5100,
          4800,
          4300,
          3850,
          4300,
          5000,
          5000,
          5000,
          5000,
          4800,
          5000,
          5000,
          3905,
          4950,
          4300,
          2227,
          4300,
          4300,
          3500,
          4500,
          2227,
          5000,
          5000,
          4300,
          5000,
          4500,
          4500,
          4500,
          2227,
          2227,
          5000,
          5000,
          5000,
          5000,
          5000,
          5000,
          5000,
          5000,
          5000,
          5000,
          5000,
          5000,
          5000,
          5000,
          5000,
          5000,
          6000,
          5000,
          5000,
          6000,
          5000,
          5000,
          5000,
          6000,
          5000,
          3000,
          5000,
          6000,
          4500,
          5020,
          5000,
          5000,
          5000,
          5000,
          5000,
          5000,
          5000,
          3000,
          5000,
          5000,
          5000,
          5000,
          5000,
          6000,
          5000,
          5000,
          5000,
          5000,
          5000,
          4200,
          5000,
          5000,
          5000,
          5000,
          5000,
          5000,
          5000,
          5000,
          4000,
          5000,
          5000,
          5000,
          5000,
          5000,
          5000,
          3000,
          5000,
          5000,
          5020,
          5000,
          5020,
          3000,
          5000,
          5020,
          5000,
          4800,
          5020,
          5000,
          4300,
          5020,
          5000,
          3200,
          5000,
          5000,
          5000,
          5000,
          5000,
          5000,
          5000,
          5000,
          5000,
          4300,
          5000,
          5000,
          5000,
          4300,
          4300,
          4250,
          4500,
          3000,
          4000,
          5000,
          5000,
          5000,
          4300,
          4500,
          5000,
          5000,
          4500,
          5000,
          5000,
          5000,
          5000,
          5080,
          4500,
          5080,
          5000,
          5000,
          3800,
          4250,
          4050,
          5000,
          4300,
          4500,
          4300,
          3800,
          4500,
          4500,
          5000,
          4500,
          4800,
          4500,
          6000,
          4200,
          4500,
          3800,
          4300,
          4000,
          4500,
          4000,
          4500,
          3600,
          4500,
          4000,
          3800,
          4500,
          4000,
          2227,
          3300,
          3300,
          2227,
          3700,
          4500,
          4500,
          4360,
          5000,
          5000,
          5000,
          5000,
          5000,
          5000,
          4500,
          4500,
          4500,
          5000,
          4400,
          5000,
          4400,
          4500,
          4400,
          5000,
          4400,
          4926,
          3000,
          5000,
          2691,
          2815,
          1810,
          3000,
          2942,
          2942,
          2716,
          1960,
          1960,
          1821,
          1821,
          2716,
          4000,
          2942,
          2942,
          2942,
          2942,
          3400,
          2815,
          2815,
          2716,
          2400,
          3000,
          3100,
          3000,
          3000,
          2800,
          2300,
          2600,
          5000,
          3020,
          1624,
          2600,
          3000,
          3000,
          2600,
          3000,
          2400,
          3000,
          3000,
          3300,
          5000,
          3000,
          3000,
          3020,
          3400,
          3400,
          3000,
          3000,
          3000,
          3000,
          3000,
          3100,
          3000,
          3000,
          3000,
          3000,
          3000,
          4000,
          3300,
          3300,
          1960,
          2400,
          3400,
          3000,
          3100,
          5000,
          3400,
          3000,
          3750,
          3000,
          3400,
          4500,
          3000,
          4000,
          3000,
          2800,
          3000,
          3000,
          3100,
          3100,
          3000,
          2800,
          6000,
          5000,
          3500,
          5020,
          5000,
          3300,
          3200,
          5000,
          5000,
          4000,
          3500,
          3500,
          1715,
          1960,
          6000,
          3340,
          3340,
          3340,
          3000,
          5000,
          3000,
          3100,
          3500,
          4000,
          3500,
          3500,
          3600,
          4000,
          5000,
          5020,
          3500,
          3500,
          3500,
          5000,
          3000,
          3000,
          1810,
          1810,
          4000,
          1810,
          5000,
          5000,
          3600,
          5000,
          4000,
          5000,
          3100,
          1810,
          4200,
          3500,
          3500,
          3300,
          4500,
          4000,
          4000,
          3100,
          3100,
          4000,
          4000,
          6000,
          4000,
          4000,
          1810,
          1810,
          1810,
          5000,
          3000,
          3500,
          3400,
          4500,
          5000,
          4000,
          4500,
          4500,
          3400,
          4500,
          4300,
          4030,
          5000,
          3000,
          5000,
          2942,
          5020,
          1810,
          4000,
          4500,
          3600,
          2942,
          2716,
          3600,
          5000,
          4000,
          4200,
          4100,
          4500,
          4500,
          2942,
          3000,
          3300,
          4000,
          4100,
          4500,
          4100,
          4500,
          3000,
          3400,
          3500,
          3400,
          2942,
          3100,
          3500,
          4500,
          4520,
          4200,
          4500,
          2942,
          4200,
          4500,
          4200,
          2942,
          4500,
          4500,
          4500,
          4500,
          4500,
          4500,
          4500,
          4500,
          4200,
          1810,
          4100,
          4000,
          3800,
          4250,
          4250,
          4250,
          4000,
          2942,
          4000,
          4500,
          4000,
          4520,
          4614,
          4500,
          4000,
          1810,
          3110,
          3110,
          4500,
          4500,
          4100,
          4300,
          4500,
          4500,
          4000,
          3110,
          2942,
          3110,
          4500,
          4500,
          4200,
          5000,
          3400,
          3110,
          3110,
          3110,
          2227,
          4300,
          4100,
          4200,
          2227,
          2227,
          4200,
          1810,
          4500,
          3400,
          4614,
          5000,
          4500,
          3046,
          3110,
          3110,
          3110,
          4200,
          4200,
          4800,
          5000,
          2227,
          3110,
          2227,
          2227,
          3110,
          2227,
          3110,
          2227,
          1810,
          4800,
          4800,
          3110,
          3046,
          2227,
          2227,
          3110,
          5000,
          3110,
          2227,
          2227,
          4400,
          2815,
          2815,
          4500,
          3046,
          5000,
          4500,
          5000,
          3300,
          5000,
          3110,
          2227,
          4500,
          4500,
          4000,
          2815,
          2815,
          2227,
          4360,
          4500,
          2815,
          2815,
          2815,
          3046,
          2815,
          2815,
          3687,
          2227,
          3687,
          3687,
          3687,
          3687,
          4400,
          4926,
          4500,
          4500,
          4500,
          3687,
          3687,
          3687,
          2815,
          4400,
          4400,
          2227,
          2815,
          4500,
          4500,
          2815,
          5000,
          3687,
          4400,
          2815,
          4800,
          2227,
          2815,
          3687,
          3687,
          3687,
          3687,
          2815,
          3687,
          2815,
          2815,
          2815,
          2815,
          2815,
          3687,
          3687,
          3687,
          3687,
          3687,
          3687,
          3687,
          3687,
          2815,
          3687,
          3687,
          3687
         ],
         "x0": " ",
         "xaxis": "x",
         "y0": " ",
         "yaxis": "y"
        }
       ],
       "layout": {
        "boxmode": "group",
        "legend": {
         "tracegroupgap": 0
        },
        "margin": {
         "t": 60
        },
        "template": {
         "data": {
          "bar": [
           {
            "error_x": {
             "color": "#2a3f5f"
            },
            "error_y": {
             "color": "#2a3f5f"
            },
            "marker": {
             "line": {
              "color": "#E5ECF6",
              "width": 0.5
             },
             "pattern": {
              "fillmode": "overlay",
              "size": 10,
              "solidity": 0.2
             }
            },
            "type": "bar"
           }
          ],
          "barpolar": [
           {
            "marker": {
             "line": {
              "color": "#E5ECF6",
              "width": 0.5
             },
             "pattern": {
              "fillmode": "overlay",
              "size": 10,
              "solidity": 0.2
             }
            },
            "type": "barpolar"
           }
          ],
          "carpet": [
           {
            "aaxis": {
             "endlinecolor": "#2a3f5f",
             "gridcolor": "white",
             "linecolor": "white",
             "minorgridcolor": "white",
             "startlinecolor": "#2a3f5f"
            },
            "baxis": {
             "endlinecolor": "#2a3f5f",
             "gridcolor": "white",
             "linecolor": "white",
             "minorgridcolor": "white",
             "startlinecolor": "#2a3f5f"
            },
            "type": "carpet"
           }
          ],
          "choropleth": [
           {
            "colorbar": {
             "outlinewidth": 0,
             "ticks": ""
            },
            "type": "choropleth"
           }
          ],
          "contour": [
           {
            "colorbar": {
             "outlinewidth": 0,
             "ticks": ""
            },
            "colorscale": [
             [
              0,
              "#0d0887"
             ],
             [
              0.1111111111111111,
              "#46039f"
             ],
             [
              0.2222222222222222,
              "#7201a8"
             ],
             [
              0.3333333333333333,
              "#9c179e"
             ],
             [
              0.4444444444444444,
              "#bd3786"
             ],
             [
              0.5555555555555556,
              "#d8576b"
             ],
             [
              0.6666666666666666,
              "#ed7953"
             ],
             [
              0.7777777777777778,
              "#fb9f3a"
             ],
             [
              0.8888888888888888,
              "#fdca26"
             ],
             [
              1,
              "#f0f921"
             ]
            ],
            "type": "contour"
           }
          ],
          "contourcarpet": [
           {
            "colorbar": {
             "outlinewidth": 0,
             "ticks": ""
            },
            "type": "contourcarpet"
           }
          ],
          "heatmap": [
           {
            "colorbar": {
             "outlinewidth": 0,
             "ticks": ""
            },
            "colorscale": [
             [
              0,
              "#0d0887"
             ],
             [
              0.1111111111111111,
              "#46039f"
             ],
             [
              0.2222222222222222,
              "#7201a8"
             ],
             [
              0.3333333333333333,
              "#9c179e"
             ],
             [
              0.4444444444444444,
              "#bd3786"
             ],
             [
              0.5555555555555556,
              "#d8576b"
             ],
             [
              0.6666666666666666,
              "#ed7953"
             ],
             [
              0.7777777777777778,
              "#fb9f3a"
             ],
             [
              0.8888888888888888,
              "#fdca26"
             ],
             [
              1,
              "#f0f921"
             ]
            ],
            "type": "heatmap"
           }
          ],
          "heatmapgl": [
           {
            "colorbar": {
             "outlinewidth": 0,
             "ticks": ""
            },
            "colorscale": [
             [
              0,
              "#0d0887"
             ],
             [
              0.1111111111111111,
              "#46039f"
             ],
             [
              0.2222222222222222,
              "#7201a8"
             ],
             [
              0.3333333333333333,
              "#9c179e"
             ],
             [
              0.4444444444444444,
              "#bd3786"
             ],
             [
              0.5555555555555556,
              "#d8576b"
             ],
             [
              0.6666666666666666,
              "#ed7953"
             ],
             [
              0.7777777777777778,
              "#fb9f3a"
             ],
             [
              0.8888888888888888,
              "#fdca26"
             ],
             [
              1,
              "#f0f921"
             ]
            ],
            "type": "heatmapgl"
           }
          ],
          "histogram": [
           {
            "marker": {
             "pattern": {
              "fillmode": "overlay",
              "size": 10,
              "solidity": 0.2
             }
            },
            "type": "histogram"
           }
          ],
          "histogram2d": [
           {
            "colorbar": {
             "outlinewidth": 0,
             "ticks": ""
            },
            "colorscale": [
             [
              0,
              "#0d0887"
             ],
             [
              0.1111111111111111,
              "#46039f"
             ],
             [
              0.2222222222222222,
              "#7201a8"
             ],
             [
              0.3333333333333333,
              "#9c179e"
             ],
             [
              0.4444444444444444,
              "#bd3786"
             ],
             [
              0.5555555555555556,
              "#d8576b"
             ],
             [
              0.6666666666666666,
              "#ed7953"
             ],
             [
              0.7777777777777778,
              "#fb9f3a"
             ],
             [
              0.8888888888888888,
              "#fdca26"
             ],
             [
              1,
              "#f0f921"
             ]
            ],
            "type": "histogram2d"
           }
          ],
          "histogram2dcontour": [
           {
            "colorbar": {
             "outlinewidth": 0,
             "ticks": ""
            },
            "colorscale": [
             [
              0,
              "#0d0887"
             ],
             [
              0.1111111111111111,
              "#46039f"
             ],
             [
              0.2222222222222222,
              "#7201a8"
             ],
             [
              0.3333333333333333,
              "#9c179e"
             ],
             [
              0.4444444444444444,
              "#bd3786"
             ],
             [
              0.5555555555555556,
              "#d8576b"
             ],
             [
              0.6666666666666666,
              "#ed7953"
             ],
             [
              0.7777777777777778,
              "#fb9f3a"
             ],
             [
              0.8888888888888888,
              "#fdca26"
             ],
             [
              1,
              "#f0f921"
             ]
            ],
            "type": "histogram2dcontour"
           }
          ],
          "mesh3d": [
           {
            "colorbar": {
             "outlinewidth": 0,
             "ticks": ""
            },
            "type": "mesh3d"
           }
          ],
          "parcoords": [
           {
            "line": {
             "colorbar": {
              "outlinewidth": 0,
              "ticks": ""
             }
            },
            "type": "parcoords"
           }
          ],
          "pie": [
           {
            "automargin": true,
            "type": "pie"
           }
          ],
          "scatter": [
           {
            "fillpattern": {
             "fillmode": "overlay",
             "size": 10,
             "solidity": 0.2
            },
            "type": "scatter"
           }
          ],
          "scatter3d": [
           {
            "line": {
             "colorbar": {
              "outlinewidth": 0,
              "ticks": ""
             }
            },
            "marker": {
             "colorbar": {
              "outlinewidth": 0,
              "ticks": ""
             }
            },
            "type": "scatter3d"
           }
          ],
          "scattercarpet": [
           {
            "marker": {
             "colorbar": {
              "outlinewidth": 0,
              "ticks": ""
             }
            },
            "type": "scattercarpet"
           }
          ],
          "scattergeo": [
           {
            "marker": {
             "colorbar": {
              "outlinewidth": 0,
              "ticks": ""
             }
            },
            "type": "scattergeo"
           }
          ],
          "scattergl": [
           {
            "marker": {
             "colorbar": {
              "outlinewidth": 0,
              "ticks": ""
             }
            },
            "type": "scattergl"
           }
          ],
          "scattermapbox": [
           {
            "marker": {
             "colorbar": {
              "outlinewidth": 0,
              "ticks": ""
             }
            },
            "type": "scattermapbox"
           }
          ],
          "scatterpolar": [
           {
            "marker": {
             "colorbar": {
              "outlinewidth": 0,
              "ticks": ""
             }
            },
            "type": "scatterpolar"
           }
          ],
          "scatterpolargl": [
           {
            "marker": {
             "colorbar": {
              "outlinewidth": 0,
              "ticks": ""
             }
            },
            "type": "scatterpolargl"
           }
          ],
          "scatterternary": [
           {
            "marker": {
             "colorbar": {
              "outlinewidth": 0,
              "ticks": ""
             }
            },
            "type": "scatterternary"
           }
          ],
          "surface": [
           {
            "colorbar": {
             "outlinewidth": 0,
             "ticks": ""
            },
            "colorscale": [
             [
              0,
              "#0d0887"
             ],
             [
              0.1111111111111111,
              "#46039f"
             ],
             [
              0.2222222222222222,
              "#7201a8"
             ],
             [
              0.3333333333333333,
              "#9c179e"
             ],
             [
              0.4444444444444444,
              "#bd3786"
             ],
             [
              0.5555555555555556,
              "#d8576b"
             ],
             [
              0.6666666666666666,
              "#ed7953"
             ],
             [
              0.7777777777777778,
              "#fb9f3a"
             ],
             [
              0.8888888888888888,
              "#fdca26"
             ],
             [
              1,
              "#f0f921"
             ]
            ],
            "type": "surface"
           }
          ],
          "table": [
           {
            "cells": {
             "fill": {
              "color": "#EBF0F8"
             },
             "line": {
              "color": "white"
             }
            },
            "header": {
             "fill": {
              "color": "#C8D4E3"
             },
             "line": {
              "color": "white"
             }
            },
            "type": "table"
           }
          ]
         },
         "layout": {
          "annotationdefaults": {
           "arrowcolor": "#2a3f5f",
           "arrowhead": 0,
           "arrowwidth": 1
          },
          "autotypenumbers": "strict",
          "coloraxis": {
           "colorbar": {
            "outlinewidth": 0,
            "ticks": ""
           }
          },
          "colorscale": {
           "diverging": [
            [
             0,
             "#8e0152"
            ],
            [
             0.1,
             "#c51b7d"
            ],
            [
             0.2,
             "#de77ae"
            ],
            [
             0.3,
             "#f1b6da"
            ],
            [
             0.4,
             "#fde0ef"
            ],
            [
             0.5,
             "#f7f7f7"
            ],
            [
             0.6,
             "#e6f5d0"
            ],
            [
             0.7,
             "#b8e186"
            ],
            [
             0.8,
             "#7fbc41"
            ],
            [
             0.9,
             "#4d9221"
            ],
            [
             1,
             "#276419"
            ]
           ],
           "sequential": [
            [
             0,
             "#0d0887"
            ],
            [
             0.1111111111111111,
             "#46039f"
            ],
            [
             0.2222222222222222,
             "#7201a8"
            ],
            [
             0.3333333333333333,
             "#9c179e"
            ],
            [
             0.4444444444444444,
             "#bd3786"
            ],
            [
             0.5555555555555556,
             "#d8576b"
            ],
            [
             0.6666666666666666,
             "#ed7953"
            ],
            [
             0.7777777777777778,
             "#fb9f3a"
            ],
            [
             0.8888888888888888,
             "#fdca26"
            ],
            [
             1,
             "#f0f921"
            ]
           ],
           "sequentialminus": [
            [
             0,
             "#0d0887"
            ],
            [
             0.1111111111111111,
             "#46039f"
            ],
            [
             0.2222222222222222,
             "#7201a8"
            ],
            [
             0.3333333333333333,
             "#9c179e"
            ],
            [
             0.4444444444444444,
             "#bd3786"
            ],
            [
             0.5555555555555556,
             "#d8576b"
            ],
            [
             0.6666666666666666,
             "#ed7953"
            ],
            [
             0.7777777777777778,
             "#fb9f3a"
            ],
            [
             0.8888888888888888,
             "#fdca26"
            ],
            [
             1,
             "#f0f921"
            ]
           ]
          },
          "colorway": [
           "#636efa",
           "#EF553B",
           "#00cc96",
           "#ab63fa",
           "#FFA15A",
           "#19d3f3",
           "#FF6692",
           "#B6E880",
           "#FF97FF",
           "#FECB52"
          ],
          "font": {
           "color": "#2a3f5f"
          },
          "geo": {
           "bgcolor": "white",
           "lakecolor": "white",
           "landcolor": "#E5ECF6",
           "showlakes": true,
           "showland": true,
           "subunitcolor": "white"
          },
          "hoverlabel": {
           "align": "left"
          },
          "hovermode": "closest",
          "mapbox": {
           "style": "light"
          },
          "paper_bgcolor": "white",
          "plot_bgcolor": "#E5ECF6",
          "polar": {
           "angularaxis": {
            "gridcolor": "white",
            "linecolor": "white",
            "ticks": ""
           },
           "bgcolor": "#E5ECF6",
           "radialaxis": {
            "gridcolor": "white",
            "linecolor": "white",
            "ticks": ""
           }
          },
          "scene": {
           "xaxis": {
            "backgroundcolor": "#E5ECF6",
            "gridcolor": "white",
            "gridwidth": 2,
            "linecolor": "white",
            "showbackground": true,
            "ticks": "",
            "zerolinecolor": "white"
           },
           "yaxis": {
            "backgroundcolor": "#E5ECF6",
            "gridcolor": "white",
            "gridwidth": 2,
            "linecolor": "white",
            "showbackground": true,
            "ticks": "",
            "zerolinecolor": "white"
           },
           "zaxis": {
            "backgroundcolor": "#E5ECF6",
            "gridcolor": "white",
            "gridwidth": 2,
            "linecolor": "white",
            "showbackground": true,
            "ticks": "",
            "zerolinecolor": "white"
           }
          },
          "shapedefaults": {
           "line": {
            "color": "#2a3f5f"
           }
          },
          "ternary": {
           "aaxis": {
            "gridcolor": "white",
            "linecolor": "white",
            "ticks": ""
           },
           "baxis": {
            "gridcolor": "white",
            "linecolor": "white",
            "ticks": ""
           },
           "bgcolor": "#E5ECF6",
           "caxis": {
            "gridcolor": "white",
            "linecolor": "white",
            "ticks": ""
           }
          },
          "title": {
           "x": 0.05
          },
          "xaxis": {
           "automargin": true,
           "gridcolor": "white",
           "linecolor": "white",
           "ticks": "",
           "title": {
            "standoff": 15
           },
           "zerolinecolor": "white",
           "zerolinewidth": 2
          },
          "yaxis": {
           "automargin": true,
           "gridcolor": "white",
           "linecolor": "white",
           "ticks": "",
           "title": {
            "standoff": 15
           },
           "zerolinecolor": "white",
           "zerolinewidth": 2
          }
         }
        },
        "xaxis": {
         "anchor": "y",
         "domain": [
          0,
          1
         ],
         "title": {
          "text": "Battery(mAh)"
         }
        },
        "yaxis": {
         "anchor": "x",
         "domain": [
          0,
          1
         ]
        }
       }
      },
      "text/html": [
       "<div>                            <div id=\"275b036e-e32c-4fde-85bc-1edd412054ba\" class=\"plotly-graph-div\" style=\"height:525px; width:100%;\"></div>            <script type=\"text/javascript\">                require([\"plotly\"], function(Plotly) {                    window.PLOTLYENV=window.PLOTLYENV || {};                                    if (document.getElementById(\"275b036e-e32c-4fde-85bc-1edd412054ba\")) {                    Plotly.newPlot(                        \"275b036e-e32c-4fde-85bc-1edd412054ba\",                        [{\"alignmentgroup\":\"True\",\"hovertemplate\":\"Battery(mAh)=%{x}<extra></extra>\",\"legendgroup\":\"\",\"marker\":{\"color\":\"#636efa\"},\"name\":\"\",\"notched\":false,\"offsetgroup\":\"\",\"orientation\":\"h\",\"showlegend\":false,\"x\":[3700.0,5020.0,4500.0,5000.0,5330.0,4020.0,4100.0,4100.0,4200.0,4200.0,4250.0,5000.0,4500.0,5000.0,5000.0,5000.0,5000.0,5000.0,5000.0,5000.0,4000.0,5000.0,3000.0,5000.0,5000.0,5000.0,4000.0,5000.0,4323.0,3200.0,4323.0,3200.0,3279.0,2815.0,3279.0,4323.0,4323.0,4323.0,4323.0,3200.0,3279.0,4926.0,3200.0,3279.0,4323.0,4323.0,2815.0,4323.0,2815.0,4270.0,4300.0,2815.0,1810.0,2815.0,4323.0,2815.0,2815.0,2227.0,4926.0,3279.0,2815.0,3200.0,3279.0,4323.0,3279.0,3700.0,4323.0,2815.0,2815.0,5100.0,4500.0,2815.0,5000.0,5000.0,3279.0,1810.0,2815.0,2815.0,5000.0,4020.0,5000.0,2815.0,5000.0,5000.0,4500.0,5000.0,5000.0,5000.0,3279.0,4500.0,5000.0,3279.0,5000.0,5000.0,5000.0,5000.0,5000.0,4500.0,4300.0,4020.0,2227.0,4800.0,4800.0,1810.0,4500.0,4500.0,5000.0,5000.0,5000.0,5000.0,5000.0,5000.0,5000.0,2691.0,5000.0,5000.0,5000.0,5000.0,5000.0,4270.0,2815.0,5000.0,5000.0,5000.0,5000.0,5000.0,5000.0,5000.0,5000.0,5000.0,5000.0,5000.0,5000.0,5000.0,5000.0,4500.0,5000.0,5000.0,1810.0,5000.0,5000.0,5000.0,4800.0,5000.0,4500.0,1810.0,1810.0,5000.0,4300.0,5000.0,5000.0,4610.0,4600.0,5000.0,2815.0,2815.0,6000.0,6000.0,2815.0,2815.0,2815.0,2815.0,5000.0,4323.0,4323.0,3279.0,3279.0,5000.0,4323.0,4323.0,4323.0,3110.0,3110.0,2815.0,3110.0,3110.0,2815.0,3000.0,3300.0,5000.0,2227.0,4300.0,5020.0,2815.0,5000.0,5000.0,5000.0,4600.0,5100.0,4800.0,4300.0,3850.0,4300.0,5000.0,5000.0,5000.0,5000.0,4800.0,5000.0,5000.0,3905.0,4950.0,4300.0,2227.0,4300.0,4300.0,3500.0,4500.0,2227.0,5000.0,5000.0,4300.0,5000.0,4500.0,4500.0,4500.0,2227.0,2227.0,5000.0,5000.0,5000.0,5000.0,5000.0,5000.0,5000.0,5000.0,5000.0,5000.0,5000.0,5000.0,5000.0,5000.0,5000.0,5000.0,6000.0,5000.0,5000.0,6000.0,5000.0,5000.0,5000.0,6000.0,5000.0,3000.0,5000.0,6000.0,4500.0,5020.0,5000.0,5000.0,5000.0,5000.0,5000.0,5000.0,5000.0,3000.0,5000.0,5000.0,5000.0,5000.0,5000.0,6000.0,5000.0,5000.0,5000.0,5000.0,5000.0,4200.0,5000.0,5000.0,5000.0,5000.0,5000.0,5000.0,5000.0,5000.0,4000.0,5000.0,5000.0,5000.0,5000.0,5000.0,5000.0,3000.0,5000.0,5000.0,5020.0,5000.0,5020.0,3000.0,5000.0,5020.0,5000.0,4800.0,5020.0,5000.0,4300.0,5020.0,5000.0,3200.0,5000.0,5000.0,5000.0,5000.0,5000.0,5000.0,5000.0,5000.0,5000.0,4300.0,5000.0,5000.0,5000.0,4300.0,4300.0,4250.0,4500.0,3000.0,4000.0,5000.0,5000.0,5000.0,4300.0,4500.0,5000.0,5000.0,4500.0,5000.0,5000.0,5000.0,5000.0,5080.0,4500.0,5080.0,5000.0,5000.0,3800.0,4250.0,4050.0,5000.0,4300.0,4500.0,4300.0,3800.0,4500.0,4500.0,5000.0,4500.0,4800.0,4500.0,6000.0,4200.0,4500.0,3800.0,4300.0,4000.0,4500.0,4000.0,4500.0,3600.0,4500.0,4000.0,3800.0,4500.0,4000.0,2227.0,3300.0,3300.0,2227.0,3700.0,4500.0,4500.0,4360.0,5000.0,5000.0,5000.0,5000.0,5000.0,5000.0,4500.0,4500.0,4500.0,5000.0,4400.0,5000.0,4400.0,4500.0,4400.0,5000.0,4400.0,4926.0,3000.0,5000.0,2691.0,2815.0,1810.0,3000.0,2942.0,2942.0,2716.0,1960.0,1960.0,1821.0,1821.0,2716.0,4000.0,2942.0,2942.0,2942.0,2942.0,3400.0,2815.0,2815.0,2716.0,2400.0,3000.0,3100.0,3000.0,3000.0,2800.0,2300.0,2600.0,5000.0,3020.0,1624.0,2600.0,3000.0,3000.0,2600.0,3000.0,2400.0,3000.0,3000.0,3300.0,5000.0,3000.0,3000.0,3020.0,3400.0,3400.0,3000.0,3000.0,3000.0,3000.0,3000.0,3100.0,3000.0,3000.0,3000.0,3000.0,3000.0,4000.0,3300.0,3300.0,1960.0,2400.0,3400.0,3000.0,3100.0,5000.0,3400.0,3000.0,3750.0,3000.0,3400.0,4500.0,3000.0,4000.0,3000.0,2800.0,3000.0,3000.0,3100.0,3100.0,3000.0,2800.0,6000.0,5000.0,3500.0,5020.0,5000.0,3300.0,3200.0,5000.0,5000.0,4000.0,3500.0,3500.0,1715.0,1960.0,6000.0,3340.0,3340.0,3340.0,3000.0,5000.0,3000.0,3100.0,3500.0,4000.0,3500.0,3500.0,3600.0,4000.0,5000.0,5020.0,3500.0,3500.0,3500.0,5000.0,3000.0,3000.0,1810.0,1810.0,4000.0,1810.0,5000.0,5000.0,3600.0,5000.0,4000.0,5000.0,3100.0,1810.0,4200.0,3500.0,3500.0,3300.0,4500.0,4000.0,4000.0,3100.0,3100.0,4000.0,4000.0,6000.0,4000.0,4000.0,1810.0,1810.0,1810.0,5000.0,3000.0,3500.0,3400.0,4500.0,5000.0,4000.0,4500.0,4500.0,3400.0,4500.0,4300.0,4030.0,5000.0,3000.0,5000.0,2942.0,5020.0,1810.0,4000.0,4500.0,3600.0,2942.0,2716.0,3600.0,5000.0,4000.0,4200.0,4100.0,4500.0,4500.0,2942.0,3000.0,3300.0,4000.0,4100.0,4500.0,4100.0,4500.0,3000.0,3400.0,3500.0,3400.0,2942.0,3100.0,3500.0,4500.0,4520.0,4200.0,4500.0,2942.0,4200.0,4500.0,4200.0,2942.0,4500.0,4500.0,4500.0,4500.0,4500.0,4500.0,4500.0,4500.0,4200.0,1810.0,4100.0,4000.0,3800.0,4250.0,4250.0,4250.0,4000.0,2942.0,4000.0,4500.0,4000.0,4520.0,4614.0,4500.0,4000.0,1810.0,3110.0,3110.0,4500.0,4500.0,4100.0,4300.0,4500.0,4500.0,4000.0,3110.0,2942.0,3110.0,4500.0,4500.0,4200.0,5000.0,3400.0,3110.0,3110.0,3110.0,2227.0,4300.0,4100.0,4200.0,2227.0,2227.0,4200.0,1810.0,4500.0,3400.0,4614.0,5000.0,4500.0,3046.0,3110.0,3110.0,3110.0,4200.0,4200.0,4800.0,5000.0,2227.0,3110.0,2227.0,2227.0,3110.0,2227.0,3110.0,2227.0,1810.0,4800.0,4800.0,3110.0,3046.0,2227.0,2227.0,3110.0,5000.0,3110.0,2227.0,2227.0,4400.0,2815.0,2815.0,4500.0,3046.0,5000.0,4500.0,5000.0,3300.0,5000.0,3110.0,2227.0,4500.0,4500.0,4000.0,2815.0,2815.0,2227.0,4360.0,4500.0,2815.0,2815.0,2815.0,3046.0,2815.0,2815.0,3687.0,2227.0,3687.0,3687.0,3687.0,3687.0,4400.0,4926.0,4500.0,4500.0,4500.0,3687.0,3687.0,3687.0,2815.0,4400.0,4400.0,2227.0,2815.0,4500.0,4500.0,2815.0,5000.0,3687.0,4400.0,2815.0,4800.0,2227.0,2815.0,3687.0,3687.0,3687.0,3687.0,2815.0,3687.0,2815.0,2815.0,2815.0,2815.0,2815.0,3687.0,3687.0,3687.0,3687.0,3687.0,3687.0,3687.0,3687.0,2815.0,3687.0,3687.0,3687.0],\"x0\":\" \",\"xaxis\":\"x\",\"y0\":\" \",\"yaxis\":\"y\",\"type\":\"box\",\"fillcolor\":\"#C9A26B\"}],                        {\"template\":{\"data\":{\"histogram2dcontour\":[{\"type\":\"histogram2dcontour\",\"colorbar\":{\"outlinewidth\":0,\"ticks\":\"\"},\"colorscale\":[[0.0,\"#0d0887\"],[0.1111111111111111,\"#46039f\"],[0.2222222222222222,\"#7201a8\"],[0.3333333333333333,\"#9c179e\"],[0.4444444444444444,\"#bd3786\"],[0.5555555555555556,\"#d8576b\"],[0.6666666666666666,\"#ed7953\"],[0.7777777777777778,\"#fb9f3a\"],[0.8888888888888888,\"#fdca26\"],[1.0,\"#f0f921\"]]}],\"choropleth\":[{\"type\":\"choropleth\",\"colorbar\":{\"outlinewidth\":0,\"ticks\":\"\"}}],\"histogram2d\":[{\"type\":\"histogram2d\",\"colorbar\":{\"outlinewidth\":0,\"ticks\":\"\"},\"colorscale\":[[0.0,\"#0d0887\"],[0.1111111111111111,\"#46039f\"],[0.2222222222222222,\"#7201a8\"],[0.3333333333333333,\"#9c179e\"],[0.4444444444444444,\"#bd3786\"],[0.5555555555555556,\"#d8576b\"],[0.6666666666666666,\"#ed7953\"],[0.7777777777777778,\"#fb9f3a\"],[0.8888888888888888,\"#fdca26\"],[1.0,\"#f0f921\"]]}],\"heatmap\":[{\"type\":\"heatmap\",\"colorbar\":{\"outlinewidth\":0,\"ticks\":\"\"},\"colorscale\":[[0.0,\"#0d0887\"],[0.1111111111111111,\"#46039f\"],[0.2222222222222222,\"#7201a8\"],[0.3333333333333333,\"#9c179e\"],[0.4444444444444444,\"#bd3786\"],[0.5555555555555556,\"#d8576b\"],[0.6666666666666666,\"#ed7953\"],[0.7777777777777778,\"#fb9f3a\"],[0.8888888888888888,\"#fdca26\"],[1.0,\"#f0f921\"]]}],\"heatmapgl\":[{\"type\":\"heatmapgl\",\"colorbar\":{\"outlinewidth\":0,\"ticks\":\"\"},\"colorscale\":[[0.0,\"#0d0887\"],[0.1111111111111111,\"#46039f\"],[0.2222222222222222,\"#7201a8\"],[0.3333333333333333,\"#9c179e\"],[0.4444444444444444,\"#bd3786\"],[0.5555555555555556,\"#d8576b\"],[0.6666666666666666,\"#ed7953\"],[0.7777777777777778,\"#fb9f3a\"],[0.8888888888888888,\"#fdca26\"],[1.0,\"#f0f921\"]]}],\"contourcarpet\":[{\"type\":\"contourcarpet\",\"colorbar\":{\"outlinewidth\":0,\"ticks\":\"\"}}],\"contour\":[{\"type\":\"contour\",\"colorbar\":{\"outlinewidth\":0,\"ticks\":\"\"},\"colorscale\":[[0.0,\"#0d0887\"],[0.1111111111111111,\"#46039f\"],[0.2222222222222222,\"#7201a8\"],[0.3333333333333333,\"#9c179e\"],[0.4444444444444444,\"#bd3786\"],[0.5555555555555556,\"#d8576b\"],[0.6666666666666666,\"#ed7953\"],[0.7777777777777778,\"#fb9f3a\"],[0.8888888888888888,\"#fdca26\"],[1.0,\"#f0f921\"]]}],\"surface\":[{\"type\":\"surface\",\"colorbar\":{\"outlinewidth\":0,\"ticks\":\"\"},\"colorscale\":[[0.0,\"#0d0887\"],[0.1111111111111111,\"#46039f\"],[0.2222222222222222,\"#7201a8\"],[0.3333333333333333,\"#9c179e\"],[0.4444444444444444,\"#bd3786\"],[0.5555555555555556,\"#d8576b\"],[0.6666666666666666,\"#ed7953\"],[0.7777777777777778,\"#fb9f3a\"],[0.8888888888888888,\"#fdca26\"],[1.0,\"#f0f921\"]]}],\"mesh3d\":[{\"type\":\"mesh3d\",\"colorbar\":{\"outlinewidth\":0,\"ticks\":\"\"}}],\"scatter\":[{\"fillpattern\":{\"fillmode\":\"overlay\",\"size\":10,\"solidity\":0.2},\"type\":\"scatter\"}],\"parcoords\":[{\"type\":\"parcoords\",\"line\":{\"colorbar\":{\"outlinewidth\":0,\"ticks\":\"\"}}}],\"scatterpolargl\":[{\"type\":\"scatterpolargl\",\"marker\":{\"colorbar\":{\"outlinewidth\":0,\"ticks\":\"\"}}}],\"bar\":[{\"error_x\":{\"color\":\"#2a3f5f\"},\"error_y\":{\"color\":\"#2a3f5f\"},\"marker\":{\"line\":{\"color\":\"#E5ECF6\",\"width\":0.5},\"pattern\":{\"fillmode\":\"overlay\",\"size\":10,\"solidity\":0.2}},\"type\":\"bar\"}],\"scattergeo\":[{\"type\":\"scattergeo\",\"marker\":{\"colorbar\":{\"outlinewidth\":0,\"ticks\":\"\"}}}],\"scatterpolar\":[{\"type\":\"scatterpolar\",\"marker\":{\"colorbar\":{\"outlinewidth\":0,\"ticks\":\"\"}}}],\"histogram\":[{\"marker\":{\"pattern\":{\"fillmode\":\"overlay\",\"size\":10,\"solidity\":0.2}},\"type\":\"histogram\"}],\"scattergl\":[{\"type\":\"scattergl\",\"marker\":{\"colorbar\":{\"outlinewidth\":0,\"ticks\":\"\"}}}],\"scatter3d\":[{\"type\":\"scatter3d\",\"line\":{\"colorbar\":{\"outlinewidth\":0,\"ticks\":\"\"}},\"marker\":{\"colorbar\":{\"outlinewidth\":0,\"ticks\":\"\"}}}],\"scattermapbox\":[{\"type\":\"scattermapbox\",\"marker\":{\"colorbar\":{\"outlinewidth\":0,\"ticks\":\"\"}}}],\"scatterternary\":[{\"type\":\"scatterternary\",\"marker\":{\"colorbar\":{\"outlinewidth\":0,\"ticks\":\"\"}}}],\"scattercarpet\":[{\"type\":\"scattercarpet\",\"marker\":{\"colorbar\":{\"outlinewidth\":0,\"ticks\":\"\"}}}],\"carpet\":[{\"aaxis\":{\"endlinecolor\":\"#2a3f5f\",\"gridcolor\":\"white\",\"linecolor\":\"white\",\"minorgridcolor\":\"white\",\"startlinecolor\":\"#2a3f5f\"},\"baxis\":{\"endlinecolor\":\"#2a3f5f\",\"gridcolor\":\"white\",\"linecolor\":\"white\",\"minorgridcolor\":\"white\",\"startlinecolor\":\"#2a3f5f\"},\"type\":\"carpet\"}],\"table\":[{\"cells\":{\"fill\":{\"color\":\"#EBF0F8\"},\"line\":{\"color\":\"white\"}},\"header\":{\"fill\":{\"color\":\"#C8D4E3\"},\"line\":{\"color\":\"white\"}},\"type\":\"table\"}],\"barpolar\":[{\"marker\":{\"line\":{\"color\":\"#E5ECF6\",\"width\":0.5},\"pattern\":{\"fillmode\":\"overlay\",\"size\":10,\"solidity\":0.2}},\"type\":\"barpolar\"}],\"pie\":[{\"automargin\":true,\"type\":\"pie\"}]},\"layout\":{\"autotypenumbers\":\"strict\",\"colorway\":[\"#636efa\",\"#EF553B\",\"#00cc96\",\"#ab63fa\",\"#FFA15A\",\"#19d3f3\",\"#FF6692\",\"#B6E880\",\"#FF97FF\",\"#FECB52\"],\"font\":{\"color\":\"#2a3f5f\"},\"hovermode\":\"closest\",\"hoverlabel\":{\"align\":\"left\"},\"paper_bgcolor\":\"white\",\"plot_bgcolor\":\"#E5ECF6\",\"polar\":{\"bgcolor\":\"#E5ECF6\",\"angularaxis\":{\"gridcolor\":\"white\",\"linecolor\":\"white\",\"ticks\":\"\"},\"radialaxis\":{\"gridcolor\":\"white\",\"linecolor\":\"white\",\"ticks\":\"\"}},\"ternary\":{\"bgcolor\":\"#E5ECF6\",\"aaxis\":{\"gridcolor\":\"white\",\"linecolor\":\"white\",\"ticks\":\"\"},\"baxis\":{\"gridcolor\":\"white\",\"linecolor\":\"white\",\"ticks\":\"\"},\"caxis\":{\"gridcolor\":\"white\",\"linecolor\":\"white\",\"ticks\":\"\"}},\"coloraxis\":{\"colorbar\":{\"outlinewidth\":0,\"ticks\":\"\"}},\"colorscale\":{\"sequential\":[[0.0,\"#0d0887\"],[0.1111111111111111,\"#46039f\"],[0.2222222222222222,\"#7201a8\"],[0.3333333333333333,\"#9c179e\"],[0.4444444444444444,\"#bd3786\"],[0.5555555555555556,\"#d8576b\"],[0.6666666666666666,\"#ed7953\"],[0.7777777777777778,\"#fb9f3a\"],[0.8888888888888888,\"#fdca26\"],[1.0,\"#f0f921\"]],\"sequentialminus\":[[0.0,\"#0d0887\"],[0.1111111111111111,\"#46039f\"],[0.2222222222222222,\"#7201a8\"],[0.3333333333333333,\"#9c179e\"],[0.4444444444444444,\"#bd3786\"],[0.5555555555555556,\"#d8576b\"],[0.6666666666666666,\"#ed7953\"],[0.7777777777777778,\"#fb9f3a\"],[0.8888888888888888,\"#fdca26\"],[1.0,\"#f0f921\"]],\"diverging\":[[0,\"#8e0152\"],[0.1,\"#c51b7d\"],[0.2,\"#de77ae\"],[0.3,\"#f1b6da\"],[0.4,\"#fde0ef\"],[0.5,\"#f7f7f7\"],[0.6,\"#e6f5d0\"],[0.7,\"#b8e186\"],[0.8,\"#7fbc41\"],[0.9,\"#4d9221\"],[1,\"#276419\"]]},\"xaxis\":{\"gridcolor\":\"white\",\"linecolor\":\"white\",\"ticks\":\"\",\"title\":{\"standoff\":15},\"zerolinecolor\":\"white\",\"automargin\":true,\"zerolinewidth\":2},\"yaxis\":{\"gridcolor\":\"white\",\"linecolor\":\"white\",\"ticks\":\"\",\"title\":{\"standoff\":15},\"zerolinecolor\":\"white\",\"automargin\":true,\"zerolinewidth\":2},\"scene\":{\"xaxis\":{\"backgroundcolor\":\"#E5ECF6\",\"gridcolor\":\"white\",\"linecolor\":\"white\",\"showbackground\":true,\"ticks\":\"\",\"zerolinecolor\":\"white\",\"gridwidth\":2},\"yaxis\":{\"backgroundcolor\":\"#E5ECF6\",\"gridcolor\":\"white\",\"linecolor\":\"white\",\"showbackground\":true,\"ticks\":\"\",\"zerolinecolor\":\"white\",\"gridwidth\":2},\"zaxis\":{\"backgroundcolor\":\"#E5ECF6\",\"gridcolor\":\"white\",\"linecolor\":\"white\",\"showbackground\":true,\"ticks\":\"\",\"zerolinecolor\":\"white\",\"gridwidth\":2}},\"shapedefaults\":{\"line\":{\"color\":\"#2a3f5f\"}},\"annotationdefaults\":{\"arrowcolor\":\"#2a3f5f\",\"arrowhead\":0,\"arrowwidth\":1},\"geo\":{\"bgcolor\":\"white\",\"landcolor\":\"#E5ECF6\",\"subunitcolor\":\"white\",\"showland\":true,\"showlakes\":true,\"lakecolor\":\"white\"},\"title\":{\"x\":0.05},\"mapbox\":{\"style\":\"light\"}}},\"xaxis\":{\"anchor\":\"y\",\"domain\":[0.0,1.0],\"title\":{\"text\":\"Battery(mAh)\"}},\"yaxis\":{\"anchor\":\"x\",\"domain\":[0.0,1.0]},\"legend\":{\"tracegroupgap\":0},\"margin\":{\"t\":60},\"boxmode\":\"group\"},                        {\"responsive\": true}                    ).then(function(){\n",
       "                            \n",
       "var gd = document.getElementById('275b036e-e32c-4fde-85bc-1edd412054ba');\n",
       "var x = new MutationObserver(function (mutations, observer) {{\n",
       "        var display = window.getComputedStyle(gd).display;\n",
       "        if (!display || display === 'none') {{\n",
       "            console.log([gd, 'removed!']);\n",
       "            Plotly.purge(gd);\n",
       "            observer.disconnect();\n",
       "        }}\n",
       "}});\n",
       "\n",
       "// Listen for the removal of the full notebook cells\n",
       "var notebookContainer = gd.closest('#notebook-container');\n",
       "if (notebookContainer) {{\n",
       "    x.observe(notebookContainer, {childList: true});\n",
       "}}\n",
       "\n",
       "// Listen for the clearing of the current output cell\n",
       "var outputEl = gd.closest('.output');\n",
       "if (outputEl) {{\n",
       "    x.observe(outputEl, {childList: true});\n",
       "}}\n",
       "\n",
       "                        })                };                });            </script>        </div>"
      ]
     },
     "metadata": {},
     "output_type": "display_data"
    },
    {
     "data": {
      "application/vnd.plotly.v1+json": {
       "config": {
        "plotlyServerURL": "https://plot.ly"
       },
       "data": [
        {
         "alignmentgroup": "True",
         "fillcolor": "#C9A26B",
         "hovertemplate": "Taille_ecran(en pouces)=%{x}<extra></extra>",
         "legendgroup": "",
         "marker": {
          "color": "#636efa"
         },
         "name": "",
         "notched": false,
         "offsetgroup": "",
         "orientation": "h",
         "showlegend": false,
         "type": "box",
         "x": [
          6.1,
          6.6,
          6.4,
          6.5,
          6.7,
          6.5,
          6.6,
          6.6,
          6.4,
          6.4,
          6.6,
          6.6,
          6.3,
          6.5,
          6.6,
          6.5,
          6.6,
          6.4,
          6.6,
          6.4,
          6.5,
          6.5,
          6.330705394190872,
          6.5,
          6.6,
          6.4,
          6.330705394190872,
          6.4,
          6.7,
          6.1,
          6.7,
          6.1,
          6.1,
          6.1,
          6.1,
          6.7,
          6.7,
          6.7,
          6.7,
          6.1,
          6.1,
          6.7,
          6.1,
          6.1,
          6.7,
          6.7,
          6.1,
          6.7,
          6.1,
          6.3,
          6.1,
          6.1,
          6.330705394190872,
          6.1,
          6.7,
          6.1,
          6.1,
          5.4,
          6.7,
          6.1,
          6.1,
          6.1,
          6.1,
          6.7,
          6.1,
          6.1,
          6.7,
          6.1,
          6.1,
          6.6,
          6.4,
          6.1,
          6.6,
          6.5,
          6.1,
          6.330705394190872,
          6.1,
          6.1,
          6.7,
          6.3,
          6.5,
          6.1,
          6.6,
          6.6,
          6.5,
          6.6,
          6.6,
          6.5,
          6.1,
          6.4,
          6.5,
          6.1,
          6.7,
          6.1,
          6.1,
          6.6,
          6.4,
          6.4,
          5.9,
          6.3,
          5.4,
          6.5,
          6.5,
          6.330705394190872,
          6.4,
          6.4,
          6.4,
          6.7,
          6.5,
          6.5,
          6.5,
          6.6,
          6.6,
          5.5,
          6.8,
          6.6,
          6.5,
          6.5,
          6.7,
          6.3,
          6.1,
          6.5,
          6.5,
          6.5,
          6.5,
          6.6,
          6.5,
          6.6,
          6.4,
          6.6,
          6.6,
          6.6,
          6,
          6.5,
          6.6,
          6.4,
          6.6,
          6.6,
          6.330705394190872,
          6.6,
          6.7,
          6.6,
          6.6,
          6.7,
          6.7,
          6.330705394190872,
          6.330705394190872,
          6.7,
          5.9,
          6.7,
          6.7,
          6.7,
          6.7,
          6.1,
          6.1,
          6.1,
          6.7,
          6.7,
          6.1,
          6.1,
          6.1,
          6.1,
          6.5,
          6.7,
          6.7,
          6.1,
          6.1,
          6.5,
          6.7,
          6.7,
          6.7,
          6.1,
          6.1,
          6.1,
          6.1,
          6.1,
          6.1,
          6.1,
          6.7,
          6.7,
          5.4,
          6.1,
          6.6,
          6.1,
          6,
          6.5,
          6.5,
          6.7,
          6.6,
          6.6,
          5.9,
          5.4,
          6.1,
          6.5,
          6.5,
          6.5,
          6.5,
          6.6,
          6,
          5.4,
          6.3,
          6,
          5.9,
          5.4,
          6.330705394190872,
          6.330705394190872,
          6.7,
          6.5,
          5.4,
          6.6,
          6.4,
          6.4,
          6.6,
          6.4,
          6.3,
          6.5,
          5.4,
          5.4,
          6.6,
          6.5,
          6.5,
          5.5,
          6.5,
          6.5,
          5.5,
          6.5,
          6.5,
          6.5,
          6.5,
          6.5,
          6.5,
          6.5,
          6.5,
          6.5,
          6.7,
          5.5,
          5.5,
          6.7,
          6.5,
          6.5,
          5.5,
          6.7,
          6.5,
          5.5,
          5.5,
          6.7,
          6.5,
          6.5,
          6.6,
          6.5,
          6.4,
          6.4,
          6.5,
          6.4,
          6.5,
          5.4,
          6.5,
          6.7,
          6.5,
          6.7,
          6.5,
          6.5,
          6.6,
          6.6,
          6.6,
          6.5,
          6.6,
          5.5,
          6.6,
          6.6,
          6.6,
          6.5,
          6.7,
          6.6,
          6.6,
          6.5,
          6.7,
          6.4,
          6.7,
          6.7,
          6.4,
          6.6,
          6.6,
          6.330705394190872,
          6.5,
          6.5,
          6.7,
          6.6,
          6.7,
          5.4,
          6.6,
          6.7,
          6.6,
          6.8,
          6.7,
          6.6,
          6.4,
          6.7,
          6.5,
          5.7,
          6.6,
          6.7,
          6.4,
          6.4,
          6.4,
          6.4,
          6.4,
          6.4,
          6.4,
          6.4,
          6.7,
          6.7,
          6.6,
          6.4,
          6.4,
          6.6,
          6.4,
          6.330705394190872,
          6.3,
          6.6,
          6.5,
          6.5,
          6.4,
          6.4,
          6.6,
          6.7,
          6.4,
          6.5,
          6.5,
          6.5,
          6.5,
          6.6,
          6.5,
          6.6,
          6.5,
          6.7,
          5.4,
          6.5,
          6.3,
          6.5,
          6.6,
          6.5,
          6.6,
          5.4,
          6.7,
          6.5,
          6.6,
          6.5,
          6.7,
          6.5,
          6.7,
          6.4,
          6.5,
          6.1,
          6.5,
          6.2,
          6.4,
          6.2,
          6.4,
          6.1,
          6.4,
          6.2,
          6.5,
          6.5,
          6.2,
          5.4,
          6.7,
          6.330705394190872,
          5.4,
          6.1,
          6.7,
          6.7,
          6.6,
          6.7,
          6.8,
          6.8,
          6.8,
          6.8,
          6.8,
          6.6,
          6.6,
          6.6,
          6.8,
          6.330705394190872,
          6.8,
          6.330705394190872,
          6.5,
          6.2,
          6.8,
          6.330705394190872,
          6.7,
          6.1,
          6.5,
          5.5,
          6.1,
          6.330705394190872,
          5.8,
          6.1,
          6.1,
          5.8,
          6.330705394190872,
          6.330705394190872,
          6.330705394190872,
          6.330705394190872,
          5.8,
          6.5,
          6.1,
          6.1,
          6.1,
          6.1,
          6.1,
          6.1,
          6.1,
          5.8,
          6.330705394190872,
          6.330705394190872,
          6.330705394190872,
          6.330705394190872,
          5.7,
          6.330705394190872,
          6.330705394190872,
          6.330705394190872,
          6.5,
          5.4,
          6.330705394190872,
          6.330705394190872,
          5.7,
          6.330705394190872,
          6.330705394190872,
          6.330705394190872,
          6.330705394190872,
          6.330705394190872,
          5.6,
          6.330705394190872,
          6.5,
          5.8,
          6.330705394190872,
          6.1,
          6.2,
          6.2,
          5.8,
          5.6,
          5.8,
          5.6,
          5.6,
          6.330705394190872,
          6.330705394190872,
          6.330705394190872,
          5.6,
          5.6,
          5.8,
          6.3,
          5.5,
          6,
          6.330705394190872,
          6.330705394190872,
          6.2,
          6.330705394190872,
          5.9,
          6.3,
          6.2,
          6.330705394190872,
          6.3,
          5.8,
          6.2,
          6.5,
          5.8,
          6.3,
          6.330705394190872,
          6.330705394190872,
          5.8,
          5.8,
          5.9,
          5.9,
          5.8,
          6.330705394190872,
          6.5,
          6.5,
          6,
          6.5,
          6.5,
          6,
          6.330705394190872,
          6.5,
          6.5,
          6.4,
          6.2,
          6.2,
          6.330705394190872,
          6.330705394190872,
          6.5,
          6.1,
          6.1,
          6.1,
          5.8,
          6.6,
          5.8,
          5.9,
          6.330705394190872,
          6.4,
          6.2,
          6.2,
          5.5,
          6.3,
          6.5,
          6.6,
          6.1,
          6.1,
          6.1,
          6.6,
          5.8,
          5.8,
          6.330705394190872,
          6.330705394190872,
          6.5,
          6.330705394190872,
          6.5,
          6.5,
          5.5,
          6.5,
          6.4,
          6.4,
          5.8,
          6.330705394190872,
          6.4,
          6.2,
          6.2,
          6.3,
          6.7,
          6.4,
          6.4,
          5.8,
          5.8,
          6.5,
          6.5,
          6.5,
          6.5,
          6.3,
          6.330705394190872,
          6.330705394190872,
          6.330705394190872,
          6.5,
          5.5,
          6.2,
          6.1,
          6.7,
          6.5,
          6.5,
          6.5,
          6.7,
          6.1,
          6.7,
          6.4,
          6.3,
          6.6,
          5.6,
          6.6,
          6.1,
          6.7,
          6.330705394190872,
          6.4,
          6.7,
          6.1,
          6.1,
          5.8,
          6.1,
          6.6,
          6.5,
          6.4,
          6.4,
          6.5,
          6.7,
          6.1,
          5.8,
          6.3,
          6.4,
          6.4,
          6.7,
          6.3,
          6.7,
          6.2,
          6.1,
          6.2,
          6.1,
          6.1,
          5.8,
          6.2,
          6.4,
          6.6,
          6.3,
          6.5,
          6.1,
          6.5,
          6.7,
          6.4,
          6.1,
          6.5,
          6.5,
          6.7,
          6.5,
          6.5,
          6.5,
          6.5,
          6,
          6.3,
          6.330705394190872,
          6.4,
          6.4,
          6.1,
          6.6,
          6.5,
          6.6,
          6.2,
          6.1,
          6.2,
          6.5,
          6.2,
          6.6,
          6.4,
          6.6,
          6.2,
          6.330705394190872,
          6.1,
          6.1,
          6.5,
          6.5,
          6.3,
          6.8,
          6.7,
          6.7,
          6.2,
          6.1,
          6.1,
          6.1,
          6.7,
          6.7,
          6.5,
          6.6,
          6.1,
          6.1,
          6.1,
          6.1,
          5.4,
          6.8,
          6.3,
          6.5,
          5.4,
          5.4,
          6.4,
          6.330705394190872,
          6.4,
          6.1,
          6.4,
          6.9,
          6.7,
          5.8,
          6.1,
          6.1,
          6.1,
          6.4,
          6.4,
          6.7,
          6.9,
          5.4,
          6.1,
          5.4,
          5.4,
          6.1,
          5.4,
          6.1,
          5.4,
          6.330705394190872,
          6.7,
          6.7,
          6.1,
          5.8,
          5.4,
          5.4,
          6.1,
          6.8,
          6.1,
          5.4,
          5.4,
          6.7,
          6.1,
          6.1,
          6.9,
          5.8,
          6.8,
          6.1,
          6.8,
          6.330705394190872,
          6.8,
          6.1,
          5.4,
          6.9,
          6.9,
          6.9,
          6.1,
          6.1,
          5.4,
          6.6,
          6.6,
          6.1,
          6.1,
          6.1,
          5.8,
          6.1,
          6.1,
          6.7,
          5.4,
          6.7,
          6.7,
          6.7,
          6.7,
          6.7,
          6.7,
          6.6,
          6.6,
          6.6,
          6.7,
          6.7,
          6.7,
          6.1,
          6.2,
          6.2,
          5.4,
          6.1,
          6.9,
          6.9,
          6.1,
          6.8,
          6.7,
          6.2,
          6.1,
          6.7,
          5.4,
          6.1,
          6.7,
          6.7,
          6.7,
          6.7,
          6.1,
          6.7,
          6.1,
          6.1,
          6.1,
          6.1,
          6.1,
          6.7,
          6.7,
          6.7,
          6.7,
          6.7,
          6.7,
          6.7,
          6.7,
          6.1,
          6.7,
          6.7,
          6.7
         ],
         "x0": " ",
         "xaxis": "x",
         "y0": " ",
         "yaxis": "y"
        }
       ],
       "layout": {
        "boxmode": "group",
        "legend": {
         "tracegroupgap": 0
        },
        "margin": {
         "t": 60
        },
        "template": {
         "data": {
          "bar": [
           {
            "error_x": {
             "color": "#2a3f5f"
            },
            "error_y": {
             "color": "#2a3f5f"
            },
            "marker": {
             "line": {
              "color": "#E5ECF6",
              "width": 0.5
             },
             "pattern": {
              "fillmode": "overlay",
              "size": 10,
              "solidity": 0.2
             }
            },
            "type": "bar"
           }
          ],
          "barpolar": [
           {
            "marker": {
             "line": {
              "color": "#E5ECF6",
              "width": 0.5
             },
             "pattern": {
              "fillmode": "overlay",
              "size": 10,
              "solidity": 0.2
             }
            },
            "type": "barpolar"
           }
          ],
          "carpet": [
           {
            "aaxis": {
             "endlinecolor": "#2a3f5f",
             "gridcolor": "white",
             "linecolor": "white",
             "minorgridcolor": "white",
             "startlinecolor": "#2a3f5f"
            },
            "baxis": {
             "endlinecolor": "#2a3f5f",
             "gridcolor": "white",
             "linecolor": "white",
             "minorgridcolor": "white",
             "startlinecolor": "#2a3f5f"
            },
            "type": "carpet"
           }
          ],
          "choropleth": [
           {
            "colorbar": {
             "outlinewidth": 0,
             "ticks": ""
            },
            "type": "choropleth"
           }
          ],
          "contour": [
           {
            "colorbar": {
             "outlinewidth": 0,
             "ticks": ""
            },
            "colorscale": [
             [
              0,
              "#0d0887"
             ],
             [
              0.1111111111111111,
              "#46039f"
             ],
             [
              0.2222222222222222,
              "#7201a8"
             ],
             [
              0.3333333333333333,
              "#9c179e"
             ],
             [
              0.4444444444444444,
              "#bd3786"
             ],
             [
              0.5555555555555556,
              "#d8576b"
             ],
             [
              0.6666666666666666,
              "#ed7953"
             ],
             [
              0.7777777777777778,
              "#fb9f3a"
             ],
             [
              0.8888888888888888,
              "#fdca26"
             ],
             [
              1,
              "#f0f921"
             ]
            ],
            "type": "contour"
           }
          ],
          "contourcarpet": [
           {
            "colorbar": {
             "outlinewidth": 0,
             "ticks": ""
            },
            "type": "contourcarpet"
           }
          ],
          "heatmap": [
           {
            "colorbar": {
             "outlinewidth": 0,
             "ticks": ""
            },
            "colorscale": [
             [
              0,
              "#0d0887"
             ],
             [
              0.1111111111111111,
              "#46039f"
             ],
             [
              0.2222222222222222,
              "#7201a8"
             ],
             [
              0.3333333333333333,
              "#9c179e"
             ],
             [
              0.4444444444444444,
              "#bd3786"
             ],
             [
              0.5555555555555556,
              "#d8576b"
             ],
             [
              0.6666666666666666,
              "#ed7953"
             ],
             [
              0.7777777777777778,
              "#fb9f3a"
             ],
             [
              0.8888888888888888,
              "#fdca26"
             ],
             [
              1,
              "#f0f921"
             ]
            ],
            "type": "heatmap"
           }
          ],
          "heatmapgl": [
           {
            "colorbar": {
             "outlinewidth": 0,
             "ticks": ""
            },
            "colorscale": [
             [
              0,
              "#0d0887"
             ],
             [
              0.1111111111111111,
              "#46039f"
             ],
             [
              0.2222222222222222,
              "#7201a8"
             ],
             [
              0.3333333333333333,
              "#9c179e"
             ],
             [
              0.4444444444444444,
              "#bd3786"
             ],
             [
              0.5555555555555556,
              "#d8576b"
             ],
             [
              0.6666666666666666,
              "#ed7953"
             ],
             [
              0.7777777777777778,
              "#fb9f3a"
             ],
             [
              0.8888888888888888,
              "#fdca26"
             ],
             [
              1,
              "#f0f921"
             ]
            ],
            "type": "heatmapgl"
           }
          ],
          "histogram": [
           {
            "marker": {
             "pattern": {
              "fillmode": "overlay",
              "size": 10,
              "solidity": 0.2
             }
            },
            "type": "histogram"
           }
          ],
          "histogram2d": [
           {
            "colorbar": {
             "outlinewidth": 0,
             "ticks": ""
            },
            "colorscale": [
             [
              0,
              "#0d0887"
             ],
             [
              0.1111111111111111,
              "#46039f"
             ],
             [
              0.2222222222222222,
              "#7201a8"
             ],
             [
              0.3333333333333333,
              "#9c179e"
             ],
             [
              0.4444444444444444,
              "#bd3786"
             ],
             [
              0.5555555555555556,
              "#d8576b"
             ],
             [
              0.6666666666666666,
              "#ed7953"
             ],
             [
              0.7777777777777778,
              "#fb9f3a"
             ],
             [
              0.8888888888888888,
              "#fdca26"
             ],
             [
              1,
              "#f0f921"
             ]
            ],
            "type": "histogram2d"
           }
          ],
          "histogram2dcontour": [
           {
            "colorbar": {
             "outlinewidth": 0,
             "ticks": ""
            },
            "colorscale": [
             [
              0,
              "#0d0887"
             ],
             [
              0.1111111111111111,
              "#46039f"
             ],
             [
              0.2222222222222222,
              "#7201a8"
             ],
             [
              0.3333333333333333,
              "#9c179e"
             ],
             [
              0.4444444444444444,
              "#bd3786"
             ],
             [
              0.5555555555555556,
              "#d8576b"
             ],
             [
              0.6666666666666666,
              "#ed7953"
             ],
             [
              0.7777777777777778,
              "#fb9f3a"
             ],
             [
              0.8888888888888888,
              "#fdca26"
             ],
             [
              1,
              "#f0f921"
             ]
            ],
            "type": "histogram2dcontour"
           }
          ],
          "mesh3d": [
           {
            "colorbar": {
             "outlinewidth": 0,
             "ticks": ""
            },
            "type": "mesh3d"
           }
          ],
          "parcoords": [
           {
            "line": {
             "colorbar": {
              "outlinewidth": 0,
              "ticks": ""
             }
            },
            "type": "parcoords"
           }
          ],
          "pie": [
           {
            "automargin": true,
            "type": "pie"
           }
          ],
          "scatter": [
           {
            "fillpattern": {
             "fillmode": "overlay",
             "size": 10,
             "solidity": 0.2
            },
            "type": "scatter"
           }
          ],
          "scatter3d": [
           {
            "line": {
             "colorbar": {
              "outlinewidth": 0,
              "ticks": ""
             }
            },
            "marker": {
             "colorbar": {
              "outlinewidth": 0,
              "ticks": ""
             }
            },
            "type": "scatter3d"
           }
          ],
          "scattercarpet": [
           {
            "marker": {
             "colorbar": {
              "outlinewidth": 0,
              "ticks": ""
             }
            },
            "type": "scattercarpet"
           }
          ],
          "scattergeo": [
           {
            "marker": {
             "colorbar": {
              "outlinewidth": 0,
              "ticks": ""
             }
            },
            "type": "scattergeo"
           }
          ],
          "scattergl": [
           {
            "marker": {
             "colorbar": {
              "outlinewidth": 0,
              "ticks": ""
             }
            },
            "type": "scattergl"
           }
          ],
          "scattermapbox": [
           {
            "marker": {
             "colorbar": {
              "outlinewidth": 0,
              "ticks": ""
             }
            },
            "type": "scattermapbox"
           }
          ],
          "scatterpolar": [
           {
            "marker": {
             "colorbar": {
              "outlinewidth": 0,
              "ticks": ""
             }
            },
            "type": "scatterpolar"
           }
          ],
          "scatterpolargl": [
           {
            "marker": {
             "colorbar": {
              "outlinewidth": 0,
              "ticks": ""
             }
            },
            "type": "scatterpolargl"
           }
          ],
          "scatterternary": [
           {
            "marker": {
             "colorbar": {
              "outlinewidth": 0,
              "ticks": ""
             }
            },
            "type": "scatterternary"
           }
          ],
          "surface": [
           {
            "colorbar": {
             "outlinewidth": 0,
             "ticks": ""
            },
            "colorscale": [
             [
              0,
              "#0d0887"
             ],
             [
              0.1111111111111111,
              "#46039f"
             ],
             [
              0.2222222222222222,
              "#7201a8"
             ],
             [
              0.3333333333333333,
              "#9c179e"
             ],
             [
              0.4444444444444444,
              "#bd3786"
             ],
             [
              0.5555555555555556,
              "#d8576b"
             ],
             [
              0.6666666666666666,
              "#ed7953"
             ],
             [
              0.7777777777777778,
              "#fb9f3a"
             ],
             [
              0.8888888888888888,
              "#fdca26"
             ],
             [
              1,
              "#f0f921"
             ]
            ],
            "type": "surface"
           }
          ],
          "table": [
           {
            "cells": {
             "fill": {
              "color": "#EBF0F8"
             },
             "line": {
              "color": "white"
             }
            },
            "header": {
             "fill": {
              "color": "#C8D4E3"
             },
             "line": {
              "color": "white"
             }
            },
            "type": "table"
           }
          ]
         },
         "layout": {
          "annotationdefaults": {
           "arrowcolor": "#2a3f5f",
           "arrowhead": 0,
           "arrowwidth": 1
          },
          "autotypenumbers": "strict",
          "coloraxis": {
           "colorbar": {
            "outlinewidth": 0,
            "ticks": ""
           }
          },
          "colorscale": {
           "diverging": [
            [
             0,
             "#8e0152"
            ],
            [
             0.1,
             "#c51b7d"
            ],
            [
             0.2,
             "#de77ae"
            ],
            [
             0.3,
             "#f1b6da"
            ],
            [
             0.4,
             "#fde0ef"
            ],
            [
             0.5,
             "#f7f7f7"
            ],
            [
             0.6,
             "#e6f5d0"
            ],
            [
             0.7,
             "#b8e186"
            ],
            [
             0.8,
             "#7fbc41"
            ],
            [
             0.9,
             "#4d9221"
            ],
            [
             1,
             "#276419"
            ]
           ],
           "sequential": [
            [
             0,
             "#0d0887"
            ],
            [
             0.1111111111111111,
             "#46039f"
            ],
            [
             0.2222222222222222,
             "#7201a8"
            ],
            [
             0.3333333333333333,
             "#9c179e"
            ],
            [
             0.4444444444444444,
             "#bd3786"
            ],
            [
             0.5555555555555556,
             "#d8576b"
            ],
            [
             0.6666666666666666,
             "#ed7953"
            ],
            [
             0.7777777777777778,
             "#fb9f3a"
            ],
            [
             0.8888888888888888,
             "#fdca26"
            ],
            [
             1,
             "#f0f921"
            ]
           ],
           "sequentialminus": [
            [
             0,
             "#0d0887"
            ],
            [
             0.1111111111111111,
             "#46039f"
            ],
            [
             0.2222222222222222,
             "#7201a8"
            ],
            [
             0.3333333333333333,
             "#9c179e"
            ],
            [
             0.4444444444444444,
             "#bd3786"
            ],
            [
             0.5555555555555556,
             "#d8576b"
            ],
            [
             0.6666666666666666,
             "#ed7953"
            ],
            [
             0.7777777777777778,
             "#fb9f3a"
            ],
            [
             0.8888888888888888,
             "#fdca26"
            ],
            [
             1,
             "#f0f921"
            ]
           ]
          },
          "colorway": [
           "#636efa",
           "#EF553B",
           "#00cc96",
           "#ab63fa",
           "#FFA15A",
           "#19d3f3",
           "#FF6692",
           "#B6E880",
           "#FF97FF",
           "#FECB52"
          ],
          "font": {
           "color": "#2a3f5f"
          },
          "geo": {
           "bgcolor": "white",
           "lakecolor": "white",
           "landcolor": "#E5ECF6",
           "showlakes": true,
           "showland": true,
           "subunitcolor": "white"
          },
          "hoverlabel": {
           "align": "left"
          },
          "hovermode": "closest",
          "mapbox": {
           "style": "light"
          },
          "paper_bgcolor": "white",
          "plot_bgcolor": "#E5ECF6",
          "polar": {
           "angularaxis": {
            "gridcolor": "white",
            "linecolor": "white",
            "ticks": ""
           },
           "bgcolor": "#E5ECF6",
           "radialaxis": {
            "gridcolor": "white",
            "linecolor": "white",
            "ticks": ""
           }
          },
          "scene": {
           "xaxis": {
            "backgroundcolor": "#E5ECF6",
            "gridcolor": "white",
            "gridwidth": 2,
            "linecolor": "white",
            "showbackground": true,
            "ticks": "",
            "zerolinecolor": "white"
           },
           "yaxis": {
            "backgroundcolor": "#E5ECF6",
            "gridcolor": "white",
            "gridwidth": 2,
            "linecolor": "white",
            "showbackground": true,
            "ticks": "",
            "zerolinecolor": "white"
           },
           "zaxis": {
            "backgroundcolor": "#E5ECF6",
            "gridcolor": "white",
            "gridwidth": 2,
            "linecolor": "white",
            "showbackground": true,
            "ticks": "",
            "zerolinecolor": "white"
           }
          },
          "shapedefaults": {
           "line": {
            "color": "#2a3f5f"
           }
          },
          "ternary": {
           "aaxis": {
            "gridcolor": "white",
            "linecolor": "white",
            "ticks": ""
           },
           "baxis": {
            "gridcolor": "white",
            "linecolor": "white",
            "ticks": ""
           },
           "bgcolor": "#E5ECF6",
           "caxis": {
            "gridcolor": "white",
            "linecolor": "white",
            "ticks": ""
           }
          },
          "title": {
           "x": 0.05
          },
          "xaxis": {
           "automargin": true,
           "gridcolor": "white",
           "linecolor": "white",
           "ticks": "",
           "title": {
            "standoff": 15
           },
           "zerolinecolor": "white",
           "zerolinewidth": 2
          },
          "yaxis": {
           "automargin": true,
           "gridcolor": "white",
           "linecolor": "white",
           "ticks": "",
           "title": {
            "standoff": 15
           },
           "zerolinecolor": "white",
           "zerolinewidth": 2
          }
         }
        },
        "xaxis": {
         "anchor": "y",
         "domain": [
          0,
          1
         ],
         "title": {
          "text": "Taille_ecran(en pouces)"
         }
        },
        "yaxis": {
         "anchor": "x",
         "domain": [
          0,
          1
         ]
        }
       }
      },
      "text/html": [
       "<div>                            <div id=\"ee4229a8-77b6-4b1c-bc57-411219aea56b\" class=\"plotly-graph-div\" style=\"height:525px; width:100%;\"></div>            <script type=\"text/javascript\">                require([\"plotly\"], function(Plotly) {                    window.PLOTLYENV=window.PLOTLYENV || {};                                    if (document.getElementById(\"ee4229a8-77b6-4b1c-bc57-411219aea56b\")) {                    Plotly.newPlot(                        \"ee4229a8-77b6-4b1c-bc57-411219aea56b\",                        [{\"alignmentgroup\":\"True\",\"hovertemplate\":\"Taille_ecran(en pouces)=%{x}<extra></extra>\",\"legendgroup\":\"\",\"marker\":{\"color\":\"#636efa\"},\"name\":\"\",\"notched\":false,\"offsetgroup\":\"\",\"orientation\":\"h\",\"showlegend\":false,\"x\":[6.1,6.6,6.4,6.5,6.7,6.5,6.6,6.6,6.4,6.4,6.6,6.6,6.3,6.5,6.6,6.5,6.6,6.4,6.6,6.4,6.5,6.5,6.330705394190872,6.5,6.6,6.4,6.330705394190872,6.4,6.7,6.1,6.7,6.1,6.1,6.1,6.1,6.7,6.7,6.7,6.7,6.1,6.1,6.7,6.1,6.1,6.7,6.7,6.1,6.7,6.1,6.3,6.1,6.1,6.330705394190872,6.1,6.7,6.1,6.1,5.4,6.7,6.1,6.1,6.1,6.1,6.7,6.1,6.1,6.7,6.1,6.1,6.6,6.4,6.1,6.6,6.5,6.1,6.330705394190872,6.1,6.1,6.7,6.3,6.5,6.1,6.6,6.6,6.5,6.6,6.6,6.5,6.1,6.4,6.5,6.1,6.7,6.1,6.1,6.6,6.4,6.4,5.9,6.3,5.4,6.5,6.5,6.330705394190872,6.4,6.4,6.4,6.7,6.5,6.5,6.5,6.6,6.6,5.5,6.8,6.6,6.5,6.5,6.7,6.3,6.1,6.5,6.5,6.5,6.5,6.6,6.5,6.6,6.4,6.6,6.6,6.6,6.0,6.5,6.6,6.4,6.6,6.6,6.330705394190872,6.6,6.7,6.6,6.6,6.7,6.7,6.330705394190872,6.330705394190872,6.7,5.9,6.7,6.7,6.7,6.7,6.1,6.1,6.1,6.7,6.7,6.1,6.1,6.1,6.1,6.5,6.7,6.7,6.1,6.1,6.5,6.7,6.7,6.7,6.1,6.1,6.1,6.1,6.1,6.1,6.1,6.7,6.7,5.4,6.1,6.6,6.1,6.0,6.5,6.5,6.7,6.6,6.6,5.9,5.4,6.1,6.5,6.5,6.5,6.5,6.6,6.0,5.4,6.3,6.0,5.9,5.4,6.330705394190872,6.330705394190872,6.7,6.5,5.4,6.6,6.4,6.4,6.6,6.4,6.3,6.5,5.4,5.4,6.6,6.5,6.5,5.5,6.5,6.5,5.5,6.5,6.5,6.5,6.5,6.5,6.5,6.5,6.5,6.5,6.7,5.5,5.5,6.7,6.5,6.5,5.5,6.7,6.5,5.5,5.5,6.7,6.5,6.5,6.6,6.5,6.4,6.4,6.5,6.4,6.5,5.4,6.5,6.7,6.5,6.7,6.5,6.5,6.6,6.6,6.6,6.5,6.6,5.5,6.6,6.6,6.6,6.5,6.7,6.6,6.6,6.5,6.7,6.4,6.7,6.7,6.4,6.6,6.6,6.330705394190872,6.5,6.5,6.7,6.6,6.7,5.4,6.6,6.7,6.6,6.8,6.7,6.6,6.4,6.7,6.5,5.7,6.6,6.7,6.4,6.4,6.4,6.4,6.4,6.4,6.4,6.4,6.7,6.7,6.6,6.4,6.4,6.6,6.4,6.330705394190872,6.3,6.6,6.5,6.5,6.4,6.4,6.6,6.7,6.4,6.5,6.5,6.5,6.5,6.6,6.5,6.6,6.5,6.7,5.4,6.5,6.3,6.5,6.6,6.5,6.6,5.4,6.7,6.5,6.6,6.5,6.7,6.5,6.7,6.4,6.5,6.1,6.5,6.2,6.4,6.2,6.4,6.1,6.4,6.2,6.5,6.5,6.2,5.4,6.7,6.330705394190872,5.4,6.1,6.7,6.7,6.6,6.7,6.8,6.8,6.8,6.8,6.8,6.6,6.6,6.6,6.8,6.330705394190872,6.8,6.330705394190872,6.5,6.2,6.8,6.330705394190872,6.7,6.1,6.5,5.5,6.1,6.330705394190872,5.8,6.1,6.1,5.8,6.330705394190872,6.330705394190872,6.330705394190872,6.330705394190872,5.8,6.5,6.1,6.1,6.1,6.1,6.1,6.1,6.1,5.8,6.330705394190872,6.330705394190872,6.330705394190872,6.330705394190872,5.7,6.330705394190872,6.330705394190872,6.330705394190872,6.5,5.4,6.330705394190872,6.330705394190872,5.7,6.330705394190872,6.330705394190872,6.330705394190872,6.330705394190872,6.330705394190872,5.6,6.330705394190872,6.5,5.8,6.330705394190872,6.1,6.2,6.2,5.8,5.6,5.8,5.6,5.6,6.330705394190872,6.330705394190872,6.330705394190872,5.6,5.6,5.8,6.3,5.5,6.0,6.330705394190872,6.330705394190872,6.2,6.330705394190872,5.9,6.3,6.2,6.330705394190872,6.3,5.8,6.2,6.5,5.8,6.3,6.330705394190872,6.330705394190872,5.8,5.8,5.9,5.9,5.8,6.330705394190872,6.5,6.5,6.0,6.5,6.5,6.0,6.330705394190872,6.5,6.5,6.4,6.2,6.2,6.330705394190872,6.330705394190872,6.5,6.1,6.1,6.1,5.8,6.6,5.8,5.9,6.330705394190872,6.4,6.2,6.2,5.5,6.3,6.5,6.6,6.1,6.1,6.1,6.6,5.8,5.8,6.330705394190872,6.330705394190872,6.5,6.330705394190872,6.5,6.5,5.5,6.5,6.4,6.4,5.8,6.330705394190872,6.4,6.2,6.2,6.3,6.7,6.4,6.4,5.8,5.8,6.5,6.5,6.5,6.5,6.3,6.330705394190872,6.330705394190872,6.330705394190872,6.5,5.5,6.2,6.1,6.7,6.5,6.5,6.5,6.7,6.1,6.7,6.4,6.3,6.6,5.6,6.6,6.1,6.7,6.330705394190872,6.4,6.7,6.1,6.1,5.8,6.1,6.6,6.5,6.4,6.4,6.5,6.7,6.1,5.8,6.3,6.4,6.4,6.7,6.3,6.7,6.2,6.1,6.2,6.1,6.1,5.8,6.2,6.4,6.6,6.3,6.5,6.1,6.5,6.7,6.4,6.1,6.5,6.5,6.7,6.5,6.5,6.5,6.5,6.0,6.3,6.330705394190872,6.4,6.4,6.1,6.6,6.5,6.6,6.2,6.1,6.2,6.5,6.2,6.6,6.4,6.6,6.2,6.330705394190872,6.1,6.1,6.5,6.5,6.3,6.8,6.7,6.7,6.2,6.1,6.1,6.1,6.7,6.7,6.5,6.6,6.1,6.1,6.1,6.1,5.4,6.8,6.3,6.5,5.4,5.4,6.4,6.330705394190872,6.4,6.1,6.4,6.9,6.7,5.8,6.1,6.1,6.1,6.4,6.4,6.7,6.9,5.4,6.1,5.4,5.4,6.1,5.4,6.1,5.4,6.330705394190872,6.7,6.7,6.1,5.8,5.4,5.4,6.1,6.8,6.1,5.4,5.4,6.7,6.1,6.1,6.9,5.8,6.8,6.1,6.8,6.330705394190872,6.8,6.1,5.4,6.9,6.9,6.9,6.1,6.1,5.4,6.6,6.6,6.1,6.1,6.1,5.8,6.1,6.1,6.7,5.4,6.7,6.7,6.7,6.7,6.7,6.7,6.6,6.6,6.6,6.7,6.7,6.7,6.1,6.2,6.2,5.4,6.1,6.9,6.9,6.1,6.8,6.7,6.2,6.1,6.7,5.4,6.1,6.7,6.7,6.7,6.7,6.1,6.7,6.1,6.1,6.1,6.1,6.1,6.7,6.7,6.7,6.7,6.7,6.7,6.7,6.7,6.1,6.7,6.7,6.7],\"x0\":\" \",\"xaxis\":\"x\",\"y0\":\" \",\"yaxis\":\"y\",\"type\":\"box\",\"fillcolor\":\"#C9A26B\"}],                        {\"template\":{\"data\":{\"histogram2dcontour\":[{\"type\":\"histogram2dcontour\",\"colorbar\":{\"outlinewidth\":0,\"ticks\":\"\"},\"colorscale\":[[0.0,\"#0d0887\"],[0.1111111111111111,\"#46039f\"],[0.2222222222222222,\"#7201a8\"],[0.3333333333333333,\"#9c179e\"],[0.4444444444444444,\"#bd3786\"],[0.5555555555555556,\"#d8576b\"],[0.6666666666666666,\"#ed7953\"],[0.7777777777777778,\"#fb9f3a\"],[0.8888888888888888,\"#fdca26\"],[1.0,\"#f0f921\"]]}],\"choropleth\":[{\"type\":\"choropleth\",\"colorbar\":{\"outlinewidth\":0,\"ticks\":\"\"}}],\"histogram2d\":[{\"type\":\"histogram2d\",\"colorbar\":{\"outlinewidth\":0,\"ticks\":\"\"},\"colorscale\":[[0.0,\"#0d0887\"],[0.1111111111111111,\"#46039f\"],[0.2222222222222222,\"#7201a8\"],[0.3333333333333333,\"#9c179e\"],[0.4444444444444444,\"#bd3786\"],[0.5555555555555556,\"#d8576b\"],[0.6666666666666666,\"#ed7953\"],[0.7777777777777778,\"#fb9f3a\"],[0.8888888888888888,\"#fdca26\"],[1.0,\"#f0f921\"]]}],\"heatmap\":[{\"type\":\"heatmap\",\"colorbar\":{\"outlinewidth\":0,\"ticks\":\"\"},\"colorscale\":[[0.0,\"#0d0887\"],[0.1111111111111111,\"#46039f\"],[0.2222222222222222,\"#7201a8\"],[0.3333333333333333,\"#9c179e\"],[0.4444444444444444,\"#bd3786\"],[0.5555555555555556,\"#d8576b\"],[0.6666666666666666,\"#ed7953\"],[0.7777777777777778,\"#fb9f3a\"],[0.8888888888888888,\"#fdca26\"],[1.0,\"#f0f921\"]]}],\"heatmapgl\":[{\"type\":\"heatmapgl\",\"colorbar\":{\"outlinewidth\":0,\"ticks\":\"\"},\"colorscale\":[[0.0,\"#0d0887\"],[0.1111111111111111,\"#46039f\"],[0.2222222222222222,\"#7201a8\"],[0.3333333333333333,\"#9c179e\"],[0.4444444444444444,\"#bd3786\"],[0.5555555555555556,\"#d8576b\"],[0.6666666666666666,\"#ed7953\"],[0.7777777777777778,\"#fb9f3a\"],[0.8888888888888888,\"#fdca26\"],[1.0,\"#f0f921\"]]}],\"contourcarpet\":[{\"type\":\"contourcarpet\",\"colorbar\":{\"outlinewidth\":0,\"ticks\":\"\"}}],\"contour\":[{\"type\":\"contour\",\"colorbar\":{\"outlinewidth\":0,\"ticks\":\"\"},\"colorscale\":[[0.0,\"#0d0887\"],[0.1111111111111111,\"#46039f\"],[0.2222222222222222,\"#7201a8\"],[0.3333333333333333,\"#9c179e\"],[0.4444444444444444,\"#bd3786\"],[0.5555555555555556,\"#d8576b\"],[0.6666666666666666,\"#ed7953\"],[0.7777777777777778,\"#fb9f3a\"],[0.8888888888888888,\"#fdca26\"],[1.0,\"#f0f921\"]]}],\"surface\":[{\"type\":\"surface\",\"colorbar\":{\"outlinewidth\":0,\"ticks\":\"\"},\"colorscale\":[[0.0,\"#0d0887\"],[0.1111111111111111,\"#46039f\"],[0.2222222222222222,\"#7201a8\"],[0.3333333333333333,\"#9c179e\"],[0.4444444444444444,\"#bd3786\"],[0.5555555555555556,\"#d8576b\"],[0.6666666666666666,\"#ed7953\"],[0.7777777777777778,\"#fb9f3a\"],[0.8888888888888888,\"#fdca26\"],[1.0,\"#f0f921\"]]}],\"mesh3d\":[{\"type\":\"mesh3d\",\"colorbar\":{\"outlinewidth\":0,\"ticks\":\"\"}}],\"scatter\":[{\"fillpattern\":{\"fillmode\":\"overlay\",\"size\":10,\"solidity\":0.2},\"type\":\"scatter\"}],\"parcoords\":[{\"type\":\"parcoords\",\"line\":{\"colorbar\":{\"outlinewidth\":0,\"ticks\":\"\"}}}],\"scatterpolargl\":[{\"type\":\"scatterpolargl\",\"marker\":{\"colorbar\":{\"outlinewidth\":0,\"ticks\":\"\"}}}],\"bar\":[{\"error_x\":{\"color\":\"#2a3f5f\"},\"error_y\":{\"color\":\"#2a3f5f\"},\"marker\":{\"line\":{\"color\":\"#E5ECF6\",\"width\":0.5},\"pattern\":{\"fillmode\":\"overlay\",\"size\":10,\"solidity\":0.2}},\"type\":\"bar\"}],\"scattergeo\":[{\"type\":\"scattergeo\",\"marker\":{\"colorbar\":{\"outlinewidth\":0,\"ticks\":\"\"}}}],\"scatterpolar\":[{\"type\":\"scatterpolar\",\"marker\":{\"colorbar\":{\"outlinewidth\":0,\"ticks\":\"\"}}}],\"histogram\":[{\"marker\":{\"pattern\":{\"fillmode\":\"overlay\",\"size\":10,\"solidity\":0.2}},\"type\":\"histogram\"}],\"scattergl\":[{\"type\":\"scattergl\",\"marker\":{\"colorbar\":{\"outlinewidth\":0,\"ticks\":\"\"}}}],\"scatter3d\":[{\"type\":\"scatter3d\",\"line\":{\"colorbar\":{\"outlinewidth\":0,\"ticks\":\"\"}},\"marker\":{\"colorbar\":{\"outlinewidth\":0,\"ticks\":\"\"}}}],\"scattermapbox\":[{\"type\":\"scattermapbox\",\"marker\":{\"colorbar\":{\"outlinewidth\":0,\"ticks\":\"\"}}}],\"scatterternary\":[{\"type\":\"scatterternary\",\"marker\":{\"colorbar\":{\"outlinewidth\":0,\"ticks\":\"\"}}}],\"scattercarpet\":[{\"type\":\"scattercarpet\",\"marker\":{\"colorbar\":{\"outlinewidth\":0,\"ticks\":\"\"}}}],\"carpet\":[{\"aaxis\":{\"endlinecolor\":\"#2a3f5f\",\"gridcolor\":\"white\",\"linecolor\":\"white\",\"minorgridcolor\":\"white\",\"startlinecolor\":\"#2a3f5f\"},\"baxis\":{\"endlinecolor\":\"#2a3f5f\",\"gridcolor\":\"white\",\"linecolor\":\"white\",\"minorgridcolor\":\"white\",\"startlinecolor\":\"#2a3f5f\"},\"type\":\"carpet\"}],\"table\":[{\"cells\":{\"fill\":{\"color\":\"#EBF0F8\"},\"line\":{\"color\":\"white\"}},\"header\":{\"fill\":{\"color\":\"#C8D4E3\"},\"line\":{\"color\":\"white\"}},\"type\":\"table\"}],\"barpolar\":[{\"marker\":{\"line\":{\"color\":\"#E5ECF6\",\"width\":0.5},\"pattern\":{\"fillmode\":\"overlay\",\"size\":10,\"solidity\":0.2}},\"type\":\"barpolar\"}],\"pie\":[{\"automargin\":true,\"type\":\"pie\"}]},\"layout\":{\"autotypenumbers\":\"strict\",\"colorway\":[\"#636efa\",\"#EF553B\",\"#00cc96\",\"#ab63fa\",\"#FFA15A\",\"#19d3f3\",\"#FF6692\",\"#B6E880\",\"#FF97FF\",\"#FECB52\"],\"font\":{\"color\":\"#2a3f5f\"},\"hovermode\":\"closest\",\"hoverlabel\":{\"align\":\"left\"},\"paper_bgcolor\":\"white\",\"plot_bgcolor\":\"#E5ECF6\",\"polar\":{\"bgcolor\":\"#E5ECF6\",\"angularaxis\":{\"gridcolor\":\"white\",\"linecolor\":\"white\",\"ticks\":\"\"},\"radialaxis\":{\"gridcolor\":\"white\",\"linecolor\":\"white\",\"ticks\":\"\"}},\"ternary\":{\"bgcolor\":\"#E5ECF6\",\"aaxis\":{\"gridcolor\":\"white\",\"linecolor\":\"white\",\"ticks\":\"\"},\"baxis\":{\"gridcolor\":\"white\",\"linecolor\":\"white\",\"ticks\":\"\"},\"caxis\":{\"gridcolor\":\"white\",\"linecolor\":\"white\",\"ticks\":\"\"}},\"coloraxis\":{\"colorbar\":{\"outlinewidth\":0,\"ticks\":\"\"}},\"colorscale\":{\"sequential\":[[0.0,\"#0d0887\"],[0.1111111111111111,\"#46039f\"],[0.2222222222222222,\"#7201a8\"],[0.3333333333333333,\"#9c179e\"],[0.4444444444444444,\"#bd3786\"],[0.5555555555555556,\"#d8576b\"],[0.6666666666666666,\"#ed7953\"],[0.7777777777777778,\"#fb9f3a\"],[0.8888888888888888,\"#fdca26\"],[1.0,\"#f0f921\"]],\"sequentialminus\":[[0.0,\"#0d0887\"],[0.1111111111111111,\"#46039f\"],[0.2222222222222222,\"#7201a8\"],[0.3333333333333333,\"#9c179e\"],[0.4444444444444444,\"#bd3786\"],[0.5555555555555556,\"#d8576b\"],[0.6666666666666666,\"#ed7953\"],[0.7777777777777778,\"#fb9f3a\"],[0.8888888888888888,\"#fdca26\"],[1.0,\"#f0f921\"]],\"diverging\":[[0,\"#8e0152\"],[0.1,\"#c51b7d\"],[0.2,\"#de77ae\"],[0.3,\"#f1b6da\"],[0.4,\"#fde0ef\"],[0.5,\"#f7f7f7\"],[0.6,\"#e6f5d0\"],[0.7,\"#b8e186\"],[0.8,\"#7fbc41\"],[0.9,\"#4d9221\"],[1,\"#276419\"]]},\"xaxis\":{\"gridcolor\":\"white\",\"linecolor\":\"white\",\"ticks\":\"\",\"title\":{\"standoff\":15},\"zerolinecolor\":\"white\",\"automargin\":true,\"zerolinewidth\":2},\"yaxis\":{\"gridcolor\":\"white\",\"linecolor\":\"white\",\"ticks\":\"\",\"title\":{\"standoff\":15},\"zerolinecolor\":\"white\",\"automargin\":true,\"zerolinewidth\":2},\"scene\":{\"xaxis\":{\"backgroundcolor\":\"#E5ECF6\",\"gridcolor\":\"white\",\"linecolor\":\"white\",\"showbackground\":true,\"ticks\":\"\",\"zerolinecolor\":\"white\",\"gridwidth\":2},\"yaxis\":{\"backgroundcolor\":\"#E5ECF6\",\"gridcolor\":\"white\",\"linecolor\":\"white\",\"showbackground\":true,\"ticks\":\"\",\"zerolinecolor\":\"white\",\"gridwidth\":2},\"zaxis\":{\"backgroundcolor\":\"#E5ECF6\",\"gridcolor\":\"white\",\"linecolor\":\"white\",\"showbackground\":true,\"ticks\":\"\",\"zerolinecolor\":\"white\",\"gridwidth\":2}},\"shapedefaults\":{\"line\":{\"color\":\"#2a3f5f\"}},\"annotationdefaults\":{\"arrowcolor\":\"#2a3f5f\",\"arrowhead\":0,\"arrowwidth\":1},\"geo\":{\"bgcolor\":\"white\",\"landcolor\":\"#E5ECF6\",\"subunitcolor\":\"white\",\"showland\":true,\"showlakes\":true,\"lakecolor\":\"white\"},\"title\":{\"x\":0.05},\"mapbox\":{\"style\":\"light\"}}},\"xaxis\":{\"anchor\":\"y\",\"domain\":[0.0,1.0],\"title\":{\"text\":\"Taille_ecran(en pouces)\"}},\"yaxis\":{\"anchor\":\"x\",\"domain\":[0.0,1.0]},\"legend\":{\"tracegroupgap\":0},\"margin\":{\"t\":60},\"boxmode\":\"group\"},                        {\"responsive\": true}                    ).then(function(){\n",
       "                            \n",
       "var gd = document.getElementById('ee4229a8-77b6-4b1c-bc57-411219aea56b');\n",
       "var x = new MutationObserver(function (mutations, observer) {{\n",
       "        var display = window.getComputedStyle(gd).display;\n",
       "        if (!display || display === 'none') {{\n",
       "            console.log([gd, 'removed!']);\n",
       "            Plotly.purge(gd);\n",
       "            observer.disconnect();\n",
       "        }}\n",
       "}});\n",
       "\n",
       "// Listen for the removal of the full notebook cells\n",
       "var notebookContainer = gd.closest('#notebook-container');\n",
       "if (notebookContainer) {{\n",
       "    x.observe(notebookContainer, {childList: true});\n",
       "}}\n",
       "\n",
       "// Listen for the clearing of the current output cell\n",
       "var outputEl = gd.closest('.output');\n",
       "if (outputEl) {{\n",
       "    x.observe(outputEl, {childList: true});\n",
       "}}\n",
       "\n",
       "                        })                };                });            </script>        </div>"
      ]
     },
     "metadata": {},
     "output_type": "display_data"
    },
    {
     "data": {
      "application/vnd.plotly.v1+json": {
       "config": {
        "plotlyServerURL": "https://plot.ly"
       },
       "data": [
        {
         "alignmentgroup": "True",
         "fillcolor": "#C9A26B",
         "hovertemplate": "Stockage(Go)=%{x}<extra></extra>",
         "legendgroup": "",
         "marker": {
          "color": "#636efa"
         },
         "name": "",
         "notched": false,
         "offsetgroup": "",
         "orientation": "h",
         "showlegend": false,
         "type": "box",
         "x": [
          128,
          128,
          128,
          64,
          128,
          32,
          128,
          128,
          256,
          256,
          128,
          128,
          256,
          128,
          64,
          64,
          128,
          128,
          64,
          128,
          32,
          32,
          64,
          64,
          128,
          128,
          32,
          64,
          128,
          128,
          128,
          128,
          128,
          128,
          128,
          128,
          256,
          256,
          128,
          256,
          128,
          128,
          128,
          128,
          128,
          128,
          128,
          128,
          64,
          128,
          128,
          128,
          64,
          128,
          256,
          256,
          256,
          128,
          128,
          256,
          128,
          256,
          256,
          256,
          256,
          128,
          256,
          64,
          256,
          128,
          256,
          128,
          256,
          128,
          256,
          128,
          256,
          256,
          64,
          128,
          64,
          64,
          128,
          128,
          128,
          256,
          128,
          256,
          512,
          128,
          128,
          256,
          64,
          128,
          128,
          128,
          64,
          128,
          128,
          128,
          128,
          256,
          256,
          128,
          256,
          256,
          64,
          128,
          64,
          128,
          32,
          128,
          128,
          64,
          64,
          128,
          128,
          32,
          256,
          128,
          128,
          32,
          32,
          32,
          64,
          64,
          64,
          64,
          64,
          64,
          128,
          128,
          128,
          128,
          128,
          256,
          128,
          256,
          128,
          256,
          256,
          256,
          256,
          128,
          256,
          256,
          256,
          256,
          256,
          256,
          256,
          256,
          256,
          128,
          256,
          256,
          256,
          256,
          512,
          512,
          512,
          512,
          256,
          256,
          256,
          512,
          512,
          256,
          512,
          512,
          512,
          64,
          128,
          128,
          64,
          128,
          128,
          32,
          128,
          128,
          128,
          128,
          256,
          64,
          128,
          128,
          128,
          256,
          128,
          128,
          256,
          64,
          128,
          64,
          64,
          128,
          128,
          128,
          128,
          64,
          128,
          64,
          128,
          256,
          256,
          256,
          256,
          512,
          128,
          64,
          128,
          128,
          128,
          256,
          256,
          256,
          256,
          256,
          128,
          64,
          128,
          32,
          32,
          32,
          32,
          32,
          32,
          32,
          32,
          32,
          32,
          32,
          32,
          32,
          32,
          64,
          64,
          32,
          32,
          128,
          128,
          64,
          32,
          16,
          128,
          64,
          128,
          64,
          64,
          64,
          128,
          128,
          64,
          128,
          64,
          16,
          32,
          128,
          64,
          128,
          64,
          64,
          128,
          128,
          128,
          128,
          64,
          32,
          64,
          128,
          128,
          128,
          128,
          128,
          128,
          64,
          128,
          128,
          128,
          128,
          128,
          128,
          128,
          64,
          128,
          64,
          128,
          128,
          256,
          16,
          128,
          256,
          128,
          128,
          128,
          128,
          128,
          256,
          64,
          32,
          64,
          128,
          128,
          128,
          128,
          128,
          128,
          128,
          128,
          128,
          128,
          128,
          128,
          128,
          128,
          128,
          128,
          32,
          64,
          128,
          128,
          128,
          128,
          128,
          128,
          128,
          256,
          128,
          128,
          128,
          128,
          128,
          128,
          128,
          128,
          128,
          64,
          128,
          64,
          128,
          128,
          128,
          128,
          32,
          256,
          128,
          256,
          128,
          256,
          128,
          128,
          128,
          128,
          128,
          128,
          128,
          256,
          128,
          256,
          128,
          256,
          128,
          128,
          128,
          128,
          128,
          128,
          128,
          256,
          256,
          128,
          128,
          256,
          256,
          128,
          128,
          128,
          256,
          128,
          128,
          128,
          256,
          256,
          256,
          256,
          256,
          256,
          256,
          512,
          512,
          128,
          32,
          128,
          64,
          64,
          64,
          64,
          64,
          64,
          64,
          32,
          32,
          64,
          256,
          64,
          64,
          64,
          64,
          64,
          64,
          128,
          64,
          64,
          256,
          16,
          16,
          16,
          16,
          16,
          16,
          16,
          8,
          32,
          16,
          32,
          8,
          16,
          16,
          8,
          32,
          16,
          32,
          32,
          32,
          32,
          32,
          32,
          32,
          64,
          64,
          32,
          32,
          32,
          32,
          32,
          16,
          32,
          32,
          32,
          32,
          64,
          64,
          16,
          64,
          32,
          16,
          32,
          32,
          64,
          64,
          32,
          16,
          64,
          64,
          32,
          64,
          64,
          64,
          16,
          32,
          64,
          64,
          64,
          64,
          64,
          16,
          64,
          32,
          32,
          64,
          64,
          64,
          64,
          64,
          64,
          64,
          64,
          64,
          64,
          32,
          64,
          128,
          128,
          128,
          64,
          128,
          64,
          64,
          16,
          64,
          64,
          64,
          32,
          64,
          64,
          128,
          64,
          64,
          64,
          128,
          64,
          64,
          64,
          64,
          128,
          64,
          32,
          32,
          32,
          128,
          128,
          128,
          128,
          64,
          128,
          64,
          64,
          64,
          128,
          128,
          128,
          128,
          128,
          128,
          128,
          128,
          128,
          64,
          128,
          128,
          128,
          128,
          64,
          64,
          128,
          128,
          128,
          128,
          128,
          128,
          128,
          128,
          128,
          128,
          128,
          32,
          128,
          64,
          128,
          64,
          128,
          128,
          128,
          64,
          64,
          128,
          128,
          128,
          128,
          128,
          128,
          128,
          64,
          64,
          64,
          128,
          128,
          128,
          128,
          128,
          64,
          128,
          256,
          128,
          64,
          128,
          64,
          128,
          256,
          128,
          128,
          128,
          256,
          128,
          128,
          128,
          128,
          128,
          128,
          128,
          128,
          128,
          128,
          128,
          128,
          256,
          128,
          128,
          128,
          128,
          128,
          128,
          128,
          128,
          128,
          128,
          128,
          256,
          128,
          128,
          128,
          256,
          64,
          64,
          128,
          128,
          128,
          256,
          128,
          128,
          128,
          64,
          128,
          64,
          128,
          128,
          256,
          256,
          512,
          64,
          64,
          64,
          64,
          256,
          512,
          256,
          64,
          64,
          128,
          256,
          128,
          512,
          128,
          128,
          256,
          64,
          128,
          64,
          128,
          256,
          256,
          128,
          128,
          128,
          64,
          128,
          64,
          128,
          128,
          128,
          64,
          256,
          128,
          128,
          256,
          256,
          128,
          128,
          256,
          128,
          256,
          256,
          256,
          256,
          128,
          128,
          256,
          256,
          256,
          128,
          256,
          128,
          128,
          256,
          256,
          256,
          256,
          256,
          128,
          256,
          256,
          256,
          128,
          256,
          256,
          256,
          512,
          256,
          256,
          256,
          256,
          128,
          128,
          128,
          128,
          256,
          256,
          128,
          256,
          256,
          256,
          256,
          256,
          512,
          512,
          256,
          512,
          512,
          512,
          512,
          128,
          128,
          512,
          256,
          512,
          256,
          512,
          128,
          128,
          128,
          128,
          128,
          128,
          256,
          256,
          256,
          256,
          256,
          512,
          256,
          256,
          256,
          128,
          512,
          512,
          512,
          512,
          512,
          512,
          512,
          512
         ],
         "x0": " ",
         "xaxis": "x",
         "y0": " ",
         "yaxis": "y"
        }
       ],
       "layout": {
        "boxmode": "group",
        "legend": {
         "tracegroupgap": 0
        },
        "margin": {
         "t": 60
        },
        "template": {
         "data": {
          "bar": [
           {
            "error_x": {
             "color": "#2a3f5f"
            },
            "error_y": {
             "color": "#2a3f5f"
            },
            "marker": {
             "line": {
              "color": "#E5ECF6",
              "width": 0.5
             },
             "pattern": {
              "fillmode": "overlay",
              "size": 10,
              "solidity": 0.2
             }
            },
            "type": "bar"
           }
          ],
          "barpolar": [
           {
            "marker": {
             "line": {
              "color": "#E5ECF6",
              "width": 0.5
             },
             "pattern": {
              "fillmode": "overlay",
              "size": 10,
              "solidity": 0.2
             }
            },
            "type": "barpolar"
           }
          ],
          "carpet": [
           {
            "aaxis": {
             "endlinecolor": "#2a3f5f",
             "gridcolor": "white",
             "linecolor": "white",
             "minorgridcolor": "white",
             "startlinecolor": "#2a3f5f"
            },
            "baxis": {
             "endlinecolor": "#2a3f5f",
             "gridcolor": "white",
             "linecolor": "white",
             "minorgridcolor": "white",
             "startlinecolor": "#2a3f5f"
            },
            "type": "carpet"
           }
          ],
          "choropleth": [
           {
            "colorbar": {
             "outlinewidth": 0,
             "ticks": ""
            },
            "type": "choropleth"
           }
          ],
          "contour": [
           {
            "colorbar": {
             "outlinewidth": 0,
             "ticks": ""
            },
            "colorscale": [
             [
              0,
              "#0d0887"
             ],
             [
              0.1111111111111111,
              "#46039f"
             ],
             [
              0.2222222222222222,
              "#7201a8"
             ],
             [
              0.3333333333333333,
              "#9c179e"
             ],
             [
              0.4444444444444444,
              "#bd3786"
             ],
             [
              0.5555555555555556,
              "#d8576b"
             ],
             [
              0.6666666666666666,
              "#ed7953"
             ],
             [
              0.7777777777777778,
              "#fb9f3a"
             ],
             [
              0.8888888888888888,
              "#fdca26"
             ],
             [
              1,
              "#f0f921"
             ]
            ],
            "type": "contour"
           }
          ],
          "contourcarpet": [
           {
            "colorbar": {
             "outlinewidth": 0,
             "ticks": ""
            },
            "type": "contourcarpet"
           }
          ],
          "heatmap": [
           {
            "colorbar": {
             "outlinewidth": 0,
             "ticks": ""
            },
            "colorscale": [
             [
              0,
              "#0d0887"
             ],
             [
              0.1111111111111111,
              "#46039f"
             ],
             [
              0.2222222222222222,
              "#7201a8"
             ],
             [
              0.3333333333333333,
              "#9c179e"
             ],
             [
              0.4444444444444444,
              "#bd3786"
             ],
             [
              0.5555555555555556,
              "#d8576b"
             ],
             [
              0.6666666666666666,
              "#ed7953"
             ],
             [
              0.7777777777777778,
              "#fb9f3a"
             ],
             [
              0.8888888888888888,
              "#fdca26"
             ],
             [
              1,
              "#f0f921"
             ]
            ],
            "type": "heatmap"
           }
          ],
          "heatmapgl": [
           {
            "colorbar": {
             "outlinewidth": 0,
             "ticks": ""
            },
            "colorscale": [
             [
              0,
              "#0d0887"
             ],
             [
              0.1111111111111111,
              "#46039f"
             ],
             [
              0.2222222222222222,
              "#7201a8"
             ],
             [
              0.3333333333333333,
              "#9c179e"
             ],
             [
              0.4444444444444444,
              "#bd3786"
             ],
             [
              0.5555555555555556,
              "#d8576b"
             ],
             [
              0.6666666666666666,
              "#ed7953"
             ],
             [
              0.7777777777777778,
              "#fb9f3a"
             ],
             [
              0.8888888888888888,
              "#fdca26"
             ],
             [
              1,
              "#f0f921"
             ]
            ],
            "type": "heatmapgl"
           }
          ],
          "histogram": [
           {
            "marker": {
             "pattern": {
              "fillmode": "overlay",
              "size": 10,
              "solidity": 0.2
             }
            },
            "type": "histogram"
           }
          ],
          "histogram2d": [
           {
            "colorbar": {
             "outlinewidth": 0,
             "ticks": ""
            },
            "colorscale": [
             [
              0,
              "#0d0887"
             ],
             [
              0.1111111111111111,
              "#46039f"
             ],
             [
              0.2222222222222222,
              "#7201a8"
             ],
             [
              0.3333333333333333,
              "#9c179e"
             ],
             [
              0.4444444444444444,
              "#bd3786"
             ],
             [
              0.5555555555555556,
              "#d8576b"
             ],
             [
              0.6666666666666666,
              "#ed7953"
             ],
             [
              0.7777777777777778,
              "#fb9f3a"
             ],
             [
              0.8888888888888888,
              "#fdca26"
             ],
             [
              1,
              "#f0f921"
             ]
            ],
            "type": "histogram2d"
           }
          ],
          "histogram2dcontour": [
           {
            "colorbar": {
             "outlinewidth": 0,
             "ticks": ""
            },
            "colorscale": [
             [
              0,
              "#0d0887"
             ],
             [
              0.1111111111111111,
              "#46039f"
             ],
             [
              0.2222222222222222,
              "#7201a8"
             ],
             [
              0.3333333333333333,
              "#9c179e"
             ],
             [
              0.4444444444444444,
              "#bd3786"
             ],
             [
              0.5555555555555556,
              "#d8576b"
             ],
             [
              0.6666666666666666,
              "#ed7953"
             ],
             [
              0.7777777777777778,
              "#fb9f3a"
             ],
             [
              0.8888888888888888,
              "#fdca26"
             ],
             [
              1,
              "#f0f921"
             ]
            ],
            "type": "histogram2dcontour"
           }
          ],
          "mesh3d": [
           {
            "colorbar": {
             "outlinewidth": 0,
             "ticks": ""
            },
            "type": "mesh3d"
           }
          ],
          "parcoords": [
           {
            "line": {
             "colorbar": {
              "outlinewidth": 0,
              "ticks": ""
             }
            },
            "type": "parcoords"
           }
          ],
          "pie": [
           {
            "automargin": true,
            "type": "pie"
           }
          ],
          "scatter": [
           {
            "fillpattern": {
             "fillmode": "overlay",
             "size": 10,
             "solidity": 0.2
            },
            "type": "scatter"
           }
          ],
          "scatter3d": [
           {
            "line": {
             "colorbar": {
              "outlinewidth": 0,
              "ticks": ""
             }
            },
            "marker": {
             "colorbar": {
              "outlinewidth": 0,
              "ticks": ""
             }
            },
            "type": "scatter3d"
           }
          ],
          "scattercarpet": [
           {
            "marker": {
             "colorbar": {
              "outlinewidth": 0,
              "ticks": ""
             }
            },
            "type": "scattercarpet"
           }
          ],
          "scattergeo": [
           {
            "marker": {
             "colorbar": {
              "outlinewidth": 0,
              "ticks": ""
             }
            },
            "type": "scattergeo"
           }
          ],
          "scattergl": [
           {
            "marker": {
             "colorbar": {
              "outlinewidth": 0,
              "ticks": ""
             }
            },
            "type": "scattergl"
           }
          ],
          "scattermapbox": [
           {
            "marker": {
             "colorbar": {
              "outlinewidth": 0,
              "ticks": ""
             }
            },
            "type": "scattermapbox"
           }
          ],
          "scatterpolar": [
           {
            "marker": {
             "colorbar": {
              "outlinewidth": 0,
              "ticks": ""
             }
            },
            "type": "scatterpolar"
           }
          ],
          "scatterpolargl": [
           {
            "marker": {
             "colorbar": {
              "outlinewidth": 0,
              "ticks": ""
             }
            },
            "type": "scatterpolargl"
           }
          ],
          "scatterternary": [
           {
            "marker": {
             "colorbar": {
              "outlinewidth": 0,
              "ticks": ""
             }
            },
            "type": "scatterternary"
           }
          ],
          "surface": [
           {
            "colorbar": {
             "outlinewidth": 0,
             "ticks": ""
            },
            "colorscale": [
             [
              0,
              "#0d0887"
             ],
             [
              0.1111111111111111,
              "#46039f"
             ],
             [
              0.2222222222222222,
              "#7201a8"
             ],
             [
              0.3333333333333333,
              "#9c179e"
             ],
             [
              0.4444444444444444,
              "#bd3786"
             ],
             [
              0.5555555555555556,
              "#d8576b"
             ],
             [
              0.6666666666666666,
              "#ed7953"
             ],
             [
              0.7777777777777778,
              "#fb9f3a"
             ],
             [
              0.8888888888888888,
              "#fdca26"
             ],
             [
              1,
              "#f0f921"
             ]
            ],
            "type": "surface"
           }
          ],
          "table": [
           {
            "cells": {
             "fill": {
              "color": "#EBF0F8"
             },
             "line": {
              "color": "white"
             }
            },
            "header": {
             "fill": {
              "color": "#C8D4E3"
             },
             "line": {
              "color": "white"
             }
            },
            "type": "table"
           }
          ]
         },
         "layout": {
          "annotationdefaults": {
           "arrowcolor": "#2a3f5f",
           "arrowhead": 0,
           "arrowwidth": 1
          },
          "autotypenumbers": "strict",
          "coloraxis": {
           "colorbar": {
            "outlinewidth": 0,
            "ticks": ""
           }
          },
          "colorscale": {
           "diverging": [
            [
             0,
             "#8e0152"
            ],
            [
             0.1,
             "#c51b7d"
            ],
            [
             0.2,
             "#de77ae"
            ],
            [
             0.3,
             "#f1b6da"
            ],
            [
             0.4,
             "#fde0ef"
            ],
            [
             0.5,
             "#f7f7f7"
            ],
            [
             0.6,
             "#e6f5d0"
            ],
            [
             0.7,
             "#b8e186"
            ],
            [
             0.8,
             "#7fbc41"
            ],
            [
             0.9,
             "#4d9221"
            ],
            [
             1,
             "#276419"
            ]
           ],
           "sequential": [
            [
             0,
             "#0d0887"
            ],
            [
             0.1111111111111111,
             "#46039f"
            ],
            [
             0.2222222222222222,
             "#7201a8"
            ],
            [
             0.3333333333333333,
             "#9c179e"
            ],
            [
             0.4444444444444444,
             "#bd3786"
            ],
            [
             0.5555555555555556,
             "#d8576b"
            ],
            [
             0.6666666666666666,
             "#ed7953"
            ],
            [
             0.7777777777777778,
             "#fb9f3a"
            ],
            [
             0.8888888888888888,
             "#fdca26"
            ],
            [
             1,
             "#f0f921"
            ]
           ],
           "sequentialminus": [
            [
             0,
             "#0d0887"
            ],
            [
             0.1111111111111111,
             "#46039f"
            ],
            [
             0.2222222222222222,
             "#7201a8"
            ],
            [
             0.3333333333333333,
             "#9c179e"
            ],
            [
             0.4444444444444444,
             "#bd3786"
            ],
            [
             0.5555555555555556,
             "#d8576b"
            ],
            [
             0.6666666666666666,
             "#ed7953"
            ],
            [
             0.7777777777777778,
             "#fb9f3a"
            ],
            [
             0.8888888888888888,
             "#fdca26"
            ],
            [
             1,
             "#f0f921"
            ]
           ]
          },
          "colorway": [
           "#636efa",
           "#EF553B",
           "#00cc96",
           "#ab63fa",
           "#FFA15A",
           "#19d3f3",
           "#FF6692",
           "#B6E880",
           "#FF97FF",
           "#FECB52"
          ],
          "font": {
           "color": "#2a3f5f"
          },
          "geo": {
           "bgcolor": "white",
           "lakecolor": "white",
           "landcolor": "#E5ECF6",
           "showlakes": true,
           "showland": true,
           "subunitcolor": "white"
          },
          "hoverlabel": {
           "align": "left"
          },
          "hovermode": "closest",
          "mapbox": {
           "style": "light"
          },
          "paper_bgcolor": "white",
          "plot_bgcolor": "#E5ECF6",
          "polar": {
           "angularaxis": {
            "gridcolor": "white",
            "linecolor": "white",
            "ticks": ""
           },
           "bgcolor": "#E5ECF6",
           "radialaxis": {
            "gridcolor": "white",
            "linecolor": "white",
            "ticks": ""
           }
          },
          "scene": {
           "xaxis": {
            "backgroundcolor": "#E5ECF6",
            "gridcolor": "white",
            "gridwidth": 2,
            "linecolor": "white",
            "showbackground": true,
            "ticks": "",
            "zerolinecolor": "white"
           },
           "yaxis": {
            "backgroundcolor": "#E5ECF6",
            "gridcolor": "white",
            "gridwidth": 2,
            "linecolor": "white",
            "showbackground": true,
            "ticks": "",
            "zerolinecolor": "white"
           },
           "zaxis": {
            "backgroundcolor": "#E5ECF6",
            "gridcolor": "white",
            "gridwidth": 2,
            "linecolor": "white",
            "showbackground": true,
            "ticks": "",
            "zerolinecolor": "white"
           }
          },
          "shapedefaults": {
           "line": {
            "color": "#2a3f5f"
           }
          },
          "ternary": {
           "aaxis": {
            "gridcolor": "white",
            "linecolor": "white",
            "ticks": ""
           },
           "baxis": {
            "gridcolor": "white",
            "linecolor": "white",
            "ticks": ""
           },
           "bgcolor": "#E5ECF6",
           "caxis": {
            "gridcolor": "white",
            "linecolor": "white",
            "ticks": ""
           }
          },
          "title": {
           "x": 0.05
          },
          "xaxis": {
           "automargin": true,
           "gridcolor": "white",
           "linecolor": "white",
           "ticks": "",
           "title": {
            "standoff": 15
           },
           "zerolinecolor": "white",
           "zerolinewidth": 2
          },
          "yaxis": {
           "automargin": true,
           "gridcolor": "white",
           "linecolor": "white",
           "ticks": "",
           "title": {
            "standoff": 15
           },
           "zerolinecolor": "white",
           "zerolinewidth": 2
          }
         }
        },
        "xaxis": {
         "anchor": "y",
         "domain": [
          0,
          1
         ],
         "title": {
          "text": "Stockage(Go)"
         }
        },
        "yaxis": {
         "anchor": "x",
         "domain": [
          0,
          1
         ]
        }
       }
      },
      "text/html": [
       "<div>                            <div id=\"d12e6933-6cc0-44dc-8235-8cd24ba72392\" class=\"plotly-graph-div\" style=\"height:525px; width:100%;\"></div>            <script type=\"text/javascript\">                require([\"plotly\"], function(Plotly) {                    window.PLOTLYENV=window.PLOTLYENV || {};                                    if (document.getElementById(\"d12e6933-6cc0-44dc-8235-8cd24ba72392\")) {                    Plotly.newPlot(                        \"d12e6933-6cc0-44dc-8235-8cd24ba72392\",                        [{\"alignmentgroup\":\"True\",\"hovertemplate\":\"Stockage(Go)=%{x}<extra></extra>\",\"legendgroup\":\"\",\"marker\":{\"color\":\"#636efa\"},\"name\":\"\",\"notched\":false,\"offsetgroup\":\"\",\"orientation\":\"h\",\"showlegend\":false,\"x\":[128.0,128.0,128.0,64.0,128.0,32.0,128.0,128.0,256.0,256.0,128.0,128.0,256.0,128.0,64.0,64.0,128.0,128.0,64.0,128.0,32.0,32.0,64.0,64.0,128.0,128.0,32.0,64.0,128.0,128.0,128.0,128.0,128.0,128.0,128.0,128.0,256.0,256.0,128.0,256.0,128.0,128.0,128.0,128.0,128.0,128.0,128.0,128.0,64.0,128.0,128.0,128.0,64.0,128.0,256.0,256.0,256.0,128.0,128.0,256.0,128.0,256.0,256.0,256.0,256.0,128.0,256.0,64.0,256.0,128.0,256.0,128.0,256.0,128.0,256.0,128.0,256.0,256.0,64.0,128.0,64.0,64.0,128.0,128.0,128.0,256.0,128.0,256.0,512.0,128.0,128.0,256.0,64.0,128.0,128.0,128.0,64.0,128.0,128.0,128.0,128.0,256.0,256.0,128.0,256.0,256.0,64.0,128.0,64.0,128.0,32.0,128.0,128.0,64.0,64.0,128.0,128.0,32.0,256.0,128.0,128.0,32.0,32.0,32.0,64.0,64.0,64.0,64.0,64.0,64.0,128.0,128.0,128.0,128.0,128.0,256.0,128.0,256.0,128.0,256.0,256.0,256.0,256.0,128.0,256.0,256.0,256.0,256.0,256.0,256.0,256.0,256.0,256.0,128.0,256.0,256.0,256.0,256.0,512.0,512.0,512.0,512.0,256.0,256.0,256.0,512.0,512.0,256.0,512.0,512.0,512.0,64.0,128.0,128.0,64.0,128.0,128.0,32.0,128.0,128.0,128.0,128.0,256.0,64.0,128.0,128.0,128.0,256.0,128.0,128.0,256.0,64.0,128.0,64.0,64.0,128.0,128.0,128.0,128.0,64.0,128.0,64.0,128.0,256.0,256.0,256.0,256.0,512.0,128.0,64.0,128.0,128.0,128.0,256.0,256.0,256.0,256.0,256.0,128.0,64.0,128.0,32.0,32.0,32.0,32.0,32.0,32.0,32.0,32.0,32.0,32.0,32.0,32.0,32.0,32.0,64.0,64.0,32.0,32.0,128.0,128.0,64.0,32.0,16.0,128.0,64.0,128.0,64.0,64.0,64.0,128.0,128.0,64.0,128.0,64.0,16.0,32.0,128.0,64.0,128.0,64.0,64.0,128.0,128.0,128.0,128.0,64.0,32.0,64.0,128.0,128.0,128.0,128.0,128.0,128.0,64.0,128.0,128.0,128.0,128.0,128.0,128.0,128.0,64.0,128.0,64.0,128.0,128.0,256.0,16.0,128.0,256.0,128.0,128.0,128.0,128.0,128.0,256.0,64.0,32.0,64.0,128.0,128.0,128.0,128.0,128.0,128.0,128.0,128.0,128.0,128.0,128.0,128.0,128.0,128.0,128.0,128.0,32.0,64.0,128.0,128.0,128.0,128.0,128.0,128.0,128.0,256.0,128.0,128.0,128.0,128.0,128.0,128.0,128.0,128.0,128.0,64.0,128.0,64.0,128.0,128.0,128.0,128.0,32.0,256.0,128.0,256.0,128.0,256.0,128.0,128.0,128.0,128.0,128.0,128.0,128.0,256.0,128.0,256.0,128.0,256.0,128.0,128.0,128.0,128.0,128.0,128.0,128.0,256.0,256.0,128.0,128.0,256.0,256.0,128.0,128.0,128.0,256.0,128.0,128.0,128.0,256.0,256.0,256.0,256.0,256.0,256.0,256.0,512.0,512.0,128.0,32.0,128.0,64.0,64.0,64.0,64.0,64.0,64.0,64.0,32.0,32.0,64.0,256.0,64.0,64.0,64.0,64.0,64.0,64.0,128.0,64.0,64.0,256.0,16.0,16.0,16.0,16.0,16.0,16.0,16.0,8.0,32.0,16.0,32.0,8.0,16.0,16.0,8.0,32.0,16.0,32.0,32.0,32.0,32.0,32.0,32.0,32.0,64.0,64.0,32.0,32.0,32.0,32.0,32.0,16.0,32.0,32.0,32.0,32.0,64.0,64.0,16.0,64.0,32.0,16.0,32.0,32.0,64.0,64.0,32.0,16.0,64.0,64.0,32.0,64.0,64.0,64.0,16.0,32.0,64.0,64.0,64.0,64.0,64.0,16.0,64.0,32.0,32.0,64.0,64.0,64.0,64.0,64.0,64.0,64.0,64.0,64.0,64.0,32.0,64.0,128.0,128.0,128.0,64.0,128.0,64.0,64.0,16.0,64.0,64.0,64.0,32.0,64.0,64.0,128.0,64.0,64.0,64.0,128.0,64.0,64.0,64.0,64.0,128.0,64.0,32.0,32.0,32.0,128.0,128.0,128.0,128.0,64.0,128.0,64.0,64.0,64.0,128.0,128.0,128.0,128.0,128.0,128.0,128.0,128.0,128.0,64.0,128.0,128.0,128.0,128.0,64.0,64.0,128.0,128.0,128.0,128.0,128.0,128.0,128.0,128.0,128.0,128.0,128.0,32.0,128.0,64.0,128.0,64.0,128.0,128.0,128.0,64.0,64.0,128.0,128.0,128.0,128.0,128.0,128.0,128.0,64.0,64.0,64.0,128.0,128.0,128.0,128.0,128.0,64.0,128.0,256.0,128.0,64.0,128.0,64.0,128.0,256.0,128.0,128.0,128.0,256.0,128.0,128.0,128.0,128.0,128.0,128.0,128.0,128.0,128.0,128.0,128.0,128.0,256.0,128.0,128.0,128.0,128.0,128.0,128.0,128.0,128.0,128.0,128.0,128.0,256.0,128.0,128.0,128.0,256.0,64.0,64.0,128.0,128.0,128.0,256.0,128.0,128.0,128.0,64.0,128.0,64.0,128.0,128.0,256.0,256.0,512.0,64.0,64.0,64.0,64.0,256.0,512.0,256.0,64.0,64.0,128.0,256.0,128.0,512.0,128.0,128.0,256.0,64.0,128.0,64.0,128.0,256.0,256.0,128.0,128.0,128.0,64.0,128.0,64.0,128.0,128.0,128.0,64.0,256.0,128.0,128.0,256.0,256.0,128.0,128.0,256.0,128.0,256.0,256.0,256.0,256.0,128.0,128.0,256.0,256.0,256.0,128.0,256.0,128.0,128.0,256.0,256.0,256.0,256.0,256.0,128.0,256.0,256.0,256.0,128.0,256.0,256.0,256.0,512.0,256.0,256.0,256.0,256.0,128.0,128.0,128.0,128.0,256.0,256.0,128.0,256.0,256.0,256.0,256.0,256.0,512.0,512.0,256.0,512.0,512.0,512.0,512.0,128.0,128.0,512.0,256.0,512.0,256.0,512.0,128.0,128.0,128.0,128.0,128.0,128.0,256.0,256.0,256.0,256.0,256.0,512.0,256.0,256.0,256.0,128.0,512.0,512.0,512.0,512.0,512.0,512.0,512.0,512.0],\"x0\":\" \",\"xaxis\":\"x\",\"y0\":\" \",\"yaxis\":\"y\",\"type\":\"box\",\"fillcolor\":\"#C9A26B\"}],                        {\"template\":{\"data\":{\"histogram2dcontour\":[{\"type\":\"histogram2dcontour\",\"colorbar\":{\"outlinewidth\":0,\"ticks\":\"\"},\"colorscale\":[[0.0,\"#0d0887\"],[0.1111111111111111,\"#46039f\"],[0.2222222222222222,\"#7201a8\"],[0.3333333333333333,\"#9c179e\"],[0.4444444444444444,\"#bd3786\"],[0.5555555555555556,\"#d8576b\"],[0.6666666666666666,\"#ed7953\"],[0.7777777777777778,\"#fb9f3a\"],[0.8888888888888888,\"#fdca26\"],[1.0,\"#f0f921\"]]}],\"choropleth\":[{\"type\":\"choropleth\",\"colorbar\":{\"outlinewidth\":0,\"ticks\":\"\"}}],\"histogram2d\":[{\"type\":\"histogram2d\",\"colorbar\":{\"outlinewidth\":0,\"ticks\":\"\"},\"colorscale\":[[0.0,\"#0d0887\"],[0.1111111111111111,\"#46039f\"],[0.2222222222222222,\"#7201a8\"],[0.3333333333333333,\"#9c179e\"],[0.4444444444444444,\"#bd3786\"],[0.5555555555555556,\"#d8576b\"],[0.6666666666666666,\"#ed7953\"],[0.7777777777777778,\"#fb9f3a\"],[0.8888888888888888,\"#fdca26\"],[1.0,\"#f0f921\"]]}],\"heatmap\":[{\"type\":\"heatmap\",\"colorbar\":{\"outlinewidth\":0,\"ticks\":\"\"},\"colorscale\":[[0.0,\"#0d0887\"],[0.1111111111111111,\"#46039f\"],[0.2222222222222222,\"#7201a8\"],[0.3333333333333333,\"#9c179e\"],[0.4444444444444444,\"#bd3786\"],[0.5555555555555556,\"#d8576b\"],[0.6666666666666666,\"#ed7953\"],[0.7777777777777778,\"#fb9f3a\"],[0.8888888888888888,\"#fdca26\"],[1.0,\"#f0f921\"]]}],\"heatmapgl\":[{\"type\":\"heatmapgl\",\"colorbar\":{\"outlinewidth\":0,\"ticks\":\"\"},\"colorscale\":[[0.0,\"#0d0887\"],[0.1111111111111111,\"#46039f\"],[0.2222222222222222,\"#7201a8\"],[0.3333333333333333,\"#9c179e\"],[0.4444444444444444,\"#bd3786\"],[0.5555555555555556,\"#d8576b\"],[0.6666666666666666,\"#ed7953\"],[0.7777777777777778,\"#fb9f3a\"],[0.8888888888888888,\"#fdca26\"],[1.0,\"#f0f921\"]]}],\"contourcarpet\":[{\"type\":\"contourcarpet\",\"colorbar\":{\"outlinewidth\":0,\"ticks\":\"\"}}],\"contour\":[{\"type\":\"contour\",\"colorbar\":{\"outlinewidth\":0,\"ticks\":\"\"},\"colorscale\":[[0.0,\"#0d0887\"],[0.1111111111111111,\"#46039f\"],[0.2222222222222222,\"#7201a8\"],[0.3333333333333333,\"#9c179e\"],[0.4444444444444444,\"#bd3786\"],[0.5555555555555556,\"#d8576b\"],[0.6666666666666666,\"#ed7953\"],[0.7777777777777778,\"#fb9f3a\"],[0.8888888888888888,\"#fdca26\"],[1.0,\"#f0f921\"]]}],\"surface\":[{\"type\":\"surface\",\"colorbar\":{\"outlinewidth\":0,\"ticks\":\"\"},\"colorscale\":[[0.0,\"#0d0887\"],[0.1111111111111111,\"#46039f\"],[0.2222222222222222,\"#7201a8\"],[0.3333333333333333,\"#9c179e\"],[0.4444444444444444,\"#bd3786\"],[0.5555555555555556,\"#d8576b\"],[0.6666666666666666,\"#ed7953\"],[0.7777777777777778,\"#fb9f3a\"],[0.8888888888888888,\"#fdca26\"],[1.0,\"#f0f921\"]]}],\"mesh3d\":[{\"type\":\"mesh3d\",\"colorbar\":{\"outlinewidth\":0,\"ticks\":\"\"}}],\"scatter\":[{\"fillpattern\":{\"fillmode\":\"overlay\",\"size\":10,\"solidity\":0.2},\"type\":\"scatter\"}],\"parcoords\":[{\"type\":\"parcoords\",\"line\":{\"colorbar\":{\"outlinewidth\":0,\"ticks\":\"\"}}}],\"scatterpolargl\":[{\"type\":\"scatterpolargl\",\"marker\":{\"colorbar\":{\"outlinewidth\":0,\"ticks\":\"\"}}}],\"bar\":[{\"error_x\":{\"color\":\"#2a3f5f\"},\"error_y\":{\"color\":\"#2a3f5f\"},\"marker\":{\"line\":{\"color\":\"#E5ECF6\",\"width\":0.5},\"pattern\":{\"fillmode\":\"overlay\",\"size\":10,\"solidity\":0.2}},\"type\":\"bar\"}],\"scattergeo\":[{\"type\":\"scattergeo\",\"marker\":{\"colorbar\":{\"outlinewidth\":0,\"ticks\":\"\"}}}],\"scatterpolar\":[{\"type\":\"scatterpolar\",\"marker\":{\"colorbar\":{\"outlinewidth\":0,\"ticks\":\"\"}}}],\"histogram\":[{\"marker\":{\"pattern\":{\"fillmode\":\"overlay\",\"size\":10,\"solidity\":0.2}},\"type\":\"histogram\"}],\"scattergl\":[{\"type\":\"scattergl\",\"marker\":{\"colorbar\":{\"outlinewidth\":0,\"ticks\":\"\"}}}],\"scatter3d\":[{\"type\":\"scatter3d\",\"line\":{\"colorbar\":{\"outlinewidth\":0,\"ticks\":\"\"}},\"marker\":{\"colorbar\":{\"outlinewidth\":0,\"ticks\":\"\"}}}],\"scattermapbox\":[{\"type\":\"scattermapbox\",\"marker\":{\"colorbar\":{\"outlinewidth\":0,\"ticks\":\"\"}}}],\"scatterternary\":[{\"type\":\"scatterternary\",\"marker\":{\"colorbar\":{\"outlinewidth\":0,\"ticks\":\"\"}}}],\"scattercarpet\":[{\"type\":\"scattercarpet\",\"marker\":{\"colorbar\":{\"outlinewidth\":0,\"ticks\":\"\"}}}],\"carpet\":[{\"aaxis\":{\"endlinecolor\":\"#2a3f5f\",\"gridcolor\":\"white\",\"linecolor\":\"white\",\"minorgridcolor\":\"white\",\"startlinecolor\":\"#2a3f5f\"},\"baxis\":{\"endlinecolor\":\"#2a3f5f\",\"gridcolor\":\"white\",\"linecolor\":\"white\",\"minorgridcolor\":\"white\",\"startlinecolor\":\"#2a3f5f\"},\"type\":\"carpet\"}],\"table\":[{\"cells\":{\"fill\":{\"color\":\"#EBF0F8\"},\"line\":{\"color\":\"white\"}},\"header\":{\"fill\":{\"color\":\"#C8D4E3\"},\"line\":{\"color\":\"white\"}},\"type\":\"table\"}],\"barpolar\":[{\"marker\":{\"line\":{\"color\":\"#E5ECF6\",\"width\":0.5},\"pattern\":{\"fillmode\":\"overlay\",\"size\":10,\"solidity\":0.2}},\"type\":\"barpolar\"}],\"pie\":[{\"automargin\":true,\"type\":\"pie\"}]},\"layout\":{\"autotypenumbers\":\"strict\",\"colorway\":[\"#636efa\",\"#EF553B\",\"#00cc96\",\"#ab63fa\",\"#FFA15A\",\"#19d3f3\",\"#FF6692\",\"#B6E880\",\"#FF97FF\",\"#FECB52\"],\"font\":{\"color\":\"#2a3f5f\"},\"hovermode\":\"closest\",\"hoverlabel\":{\"align\":\"left\"},\"paper_bgcolor\":\"white\",\"plot_bgcolor\":\"#E5ECF6\",\"polar\":{\"bgcolor\":\"#E5ECF6\",\"angularaxis\":{\"gridcolor\":\"white\",\"linecolor\":\"white\",\"ticks\":\"\"},\"radialaxis\":{\"gridcolor\":\"white\",\"linecolor\":\"white\",\"ticks\":\"\"}},\"ternary\":{\"bgcolor\":\"#E5ECF6\",\"aaxis\":{\"gridcolor\":\"white\",\"linecolor\":\"white\",\"ticks\":\"\"},\"baxis\":{\"gridcolor\":\"white\",\"linecolor\":\"white\",\"ticks\":\"\"},\"caxis\":{\"gridcolor\":\"white\",\"linecolor\":\"white\",\"ticks\":\"\"}},\"coloraxis\":{\"colorbar\":{\"outlinewidth\":0,\"ticks\":\"\"}},\"colorscale\":{\"sequential\":[[0.0,\"#0d0887\"],[0.1111111111111111,\"#46039f\"],[0.2222222222222222,\"#7201a8\"],[0.3333333333333333,\"#9c179e\"],[0.4444444444444444,\"#bd3786\"],[0.5555555555555556,\"#d8576b\"],[0.6666666666666666,\"#ed7953\"],[0.7777777777777778,\"#fb9f3a\"],[0.8888888888888888,\"#fdca26\"],[1.0,\"#f0f921\"]],\"sequentialminus\":[[0.0,\"#0d0887\"],[0.1111111111111111,\"#46039f\"],[0.2222222222222222,\"#7201a8\"],[0.3333333333333333,\"#9c179e\"],[0.4444444444444444,\"#bd3786\"],[0.5555555555555556,\"#d8576b\"],[0.6666666666666666,\"#ed7953\"],[0.7777777777777778,\"#fb9f3a\"],[0.8888888888888888,\"#fdca26\"],[1.0,\"#f0f921\"]],\"diverging\":[[0,\"#8e0152\"],[0.1,\"#c51b7d\"],[0.2,\"#de77ae\"],[0.3,\"#f1b6da\"],[0.4,\"#fde0ef\"],[0.5,\"#f7f7f7\"],[0.6,\"#e6f5d0\"],[0.7,\"#b8e186\"],[0.8,\"#7fbc41\"],[0.9,\"#4d9221\"],[1,\"#276419\"]]},\"xaxis\":{\"gridcolor\":\"white\",\"linecolor\":\"white\",\"ticks\":\"\",\"title\":{\"standoff\":15},\"zerolinecolor\":\"white\",\"automargin\":true,\"zerolinewidth\":2},\"yaxis\":{\"gridcolor\":\"white\",\"linecolor\":\"white\",\"ticks\":\"\",\"title\":{\"standoff\":15},\"zerolinecolor\":\"white\",\"automargin\":true,\"zerolinewidth\":2},\"scene\":{\"xaxis\":{\"backgroundcolor\":\"#E5ECF6\",\"gridcolor\":\"white\",\"linecolor\":\"white\",\"showbackground\":true,\"ticks\":\"\",\"zerolinecolor\":\"white\",\"gridwidth\":2},\"yaxis\":{\"backgroundcolor\":\"#E5ECF6\",\"gridcolor\":\"white\",\"linecolor\":\"white\",\"showbackground\":true,\"ticks\":\"\",\"zerolinecolor\":\"white\",\"gridwidth\":2},\"zaxis\":{\"backgroundcolor\":\"#E5ECF6\",\"gridcolor\":\"white\",\"linecolor\":\"white\",\"showbackground\":true,\"ticks\":\"\",\"zerolinecolor\":\"white\",\"gridwidth\":2}},\"shapedefaults\":{\"line\":{\"color\":\"#2a3f5f\"}},\"annotationdefaults\":{\"arrowcolor\":\"#2a3f5f\",\"arrowhead\":0,\"arrowwidth\":1},\"geo\":{\"bgcolor\":\"white\",\"landcolor\":\"#E5ECF6\",\"subunitcolor\":\"white\",\"showland\":true,\"showlakes\":true,\"lakecolor\":\"white\"},\"title\":{\"x\":0.05},\"mapbox\":{\"style\":\"light\"}}},\"xaxis\":{\"anchor\":\"y\",\"domain\":[0.0,1.0],\"title\":{\"text\":\"Stockage(Go)\"}},\"yaxis\":{\"anchor\":\"x\",\"domain\":[0.0,1.0]},\"legend\":{\"tracegroupgap\":0},\"margin\":{\"t\":60},\"boxmode\":\"group\"},                        {\"responsive\": true}                    ).then(function(){\n",
       "                            \n",
       "var gd = document.getElementById('d12e6933-6cc0-44dc-8235-8cd24ba72392');\n",
       "var x = new MutationObserver(function (mutations, observer) {{\n",
       "        var display = window.getComputedStyle(gd).display;\n",
       "        if (!display || display === 'none') {{\n",
       "            console.log([gd, 'removed!']);\n",
       "            Plotly.purge(gd);\n",
       "            observer.disconnect();\n",
       "        }}\n",
       "}});\n",
       "\n",
       "// Listen for the removal of the full notebook cells\n",
       "var notebookContainer = gd.closest('#notebook-container');\n",
       "if (notebookContainer) {{\n",
       "    x.observe(notebookContainer, {childList: true});\n",
       "}}\n",
       "\n",
       "// Listen for the clearing of the current output cell\n",
       "var outputEl = gd.closest('.output');\n",
       "if (outputEl) {{\n",
       "    x.observe(outputEl, {childList: true});\n",
       "}}\n",
       "\n",
       "                        })                };                });            </script>        </div>"
      ]
     },
     "metadata": {},
     "output_type": "display_data"
    },
    {
     "data": {
      "application/vnd.plotly.v1+json": {
       "config": {
        "plotlyServerURL": "https://plot.ly"
       },
       "data": [
        {
         "alignmentgroup": "True",
         "fillcolor": "#C9A26B",
         "hovertemplate": "RAM(Go)=%{x}<extra></extra>",
         "legendgroup": "",
         "marker": {
          "color": "#636efa"
         },
         "name": "",
         "notched": false,
         "offsetgroup": "",
         "orientation": "h",
         "showlegend": false,
         "type": "box",
         "x": [
          8,
          6,
          8,
          4,
          4,
          2,
          8,
          8,
          12,
          12,
          8,
          8,
          8,
          6,
          4,
          4,
          6,
          6,
          4,
          4,
          2,
          2,
          4,
          4,
          6,
          6,
          3,
          4,
          6,
          6,
          6,
          6,
          4,
          4,
          4,
          6,
          6,
          6,
          6,
          6,
          4,
          12,
          6,
          4,
          4,
          4,
          4,
          4,
          4,
          8,
          6,
          4,
          3,
          4,
          6,
          4,
          4,
          4,
          12,
          4,
          4,
          6,
          4,
          6,
          4,
          8,
          4,
          4,
          4,
          6,
          8,
          4,
          8,
          4,
          4,
          3,
          4,
          4,
          3,
          8,
          4,
          4,
          6,
          8,
          6,
          8,
          8,
          12,
          4,
          8,
          4,
          4,
          3,
          8,
          8,
          4,
          4,
          8,
          8,
          8,
          4,
          8,
          8,
          3,
          8,
          12,
          4,
          4,
          4,
          4,
          2,
          6,
          6,
          3,
          4,
          4,
          4,
          2,
          12,
          8,
          4,
          2,
          3,
          2,
          4,
          4,
          4,
          4,
          4,
          4,
          6,
          8,
          6,
          8,
          8,
          8,
          8,
          12,
          3,
          8,
          12,
          8,
          12,
          8,
          8,
          3,
          3,
          12,
          8,
          12,
          12,
          12,
          12,
          8,
          4,
          4,
          12,
          12,
          4,
          4,
          4,
          4,
          12,
          4,
          4,
          4,
          4,
          12,
          4,
          4,
          4,
          4,
          4,
          4,
          4,
          4,
          4,
          2,
          8,
          12,
          4,
          6,
          8,
          4,
          6,
          4,
          8,
          12,
          6,
          8,
          8,
          4,
          6,
          2,
          4,
          4,
          6,
          8,
          6,
          4,
          6,
          4,
          8,
          4,
          8,
          8,
          8,
          12,
          4,
          4,
          4,
          8,
          8,
          8,
          8,
          12,
          4,
          4,
          6,
          4,
          6,
          2,
          2,
          2,
          2,
          2,
          3,
          3,
          2,
          2,
          2,
          2,
          2,
          2,
          3,
          3,
          3,
          3,
          2,
          4,
          4,
          4,
          3,
          2,
          4,
          4,
          4,
          4,
          4,
          4,
          4,
          4,
          4,
          4,
          4,
          2,
          3,
          4,
          4,
          4,
          4,
          4,
          4,
          4,
          4,
          4,
          4,
          3,
          4,
          4,
          4,
          6,
          4,
          4,
          4,
          4,
          6,
          6,
          6,
          6,
          6,
          4,
          8,
          4,
          4,
          4,
          8,
          4,
          8,
          2,
          4,
          8,
          4,
          6,
          8,
          4,
          8,
          8,
          4,
          3,
          4,
          6,
          6,
          6,
          6,
          6,
          6,
          6,
          6,
          6,
          8,
          8,
          4,
          8,
          8,
          8,
          8,
          4,
          4,
          6,
          4,
          4,
          8,
          8,
          6,
          8,
          12,
          6,
          6,
          6,
          6,
          8,
          6,
          8,
          6,
          6,
          4,
          8,
          4,
          6,
          8,
          6,
          8,
          3,
          8,
          6,
          8,
          6,
          8,
          6,
          8,
          12,
          6,
          8,
          8,
          8,
          8,
          8,
          8,
          6,
          8,
          8,
          8,
          6,
          8,
          4,
          8,
          8,
          4,
          8,
          8,
          8,
          8,
          12,
          8,
          12,
          8,
          12,
          8,
          8,
          8,
          8,
          12,
          12,
          12,
          12,
          12,
          12,
          12,
          12,
          12,
          2,
          4,
          3,
          4,
          3,
          4,
          3,
          3,
          3,
          2,
          2,
          2,
          2,
          3,
          4,
          3,
          3,
          3,
          3,
          8,
          4,
          4,
          3,
          2,
          3,
          2,
          3,
          2,
          2,
          1.5,
          1.5,
          2,
          2,
          2,
          1.5,
          2,
          2,
          1.5,
          4,
          2,
          4,
          3,
          3,
          3,
          3,
          4,
          2,
          3,
          3,
          3,
          3,
          3,
          3,
          3,
          2,
          4,
          3,
          4,
          3,
          4,
          4,
          2,
          4,
          2,
          2,
          2,
          4,
          4,
          3,
          2,
          2,
          4,
          4,
          2,
          6,
          4,
          4,
          2,
          3,
          4,
          4,
          4,
          4,
          4,
          2,
          4,
          3,
          3,
          3,
          4,
          4,
          4,
          4,
          4,
          4,
          6,
          6,
          1,
          2,
          4,
          4,
          4,
          4,
          4,
          6,
          4,
          4,
          2,
          4,
          4,
          4,
          4,
          4,
          4,
          6,
          4,
          4,
          4,
          4,
          4,
          4,
          3,
          3,
          4,
          3,
          3,
          3,
          4,
          6,
          4,
          6,
          6,
          3,
          6,
          4,
          4,
          6,
          6,
          4,
          4,
          6,
          6,
          4,
          4,
          4,
          4,
          4,
          3,
          3,
          3,
          4,
          4,
          4,
          8,
          6,
          6,
          4,
          6,
          6,
          8,
          6,
          8,
          6,
          4,
          3,
          4,
          3,
          8,
          3,
          6,
          6,
          6,
          3,
          3,
          6,
          4,
          6,
          8,
          8,
          6,
          6,
          3,
          4,
          6,
          6,
          8,
          6,
          8,
          6,
          4,
          8,
          6,
          8,
          3,
          6,
          6,
          8,
          8,
          6,
          6,
          3,
          8,
          6,
          8,
          3,
          6,
          6,
          6,
          6,
          6,
          6,
          6,
          6,
          6,
          3,
          8,
          6,
          8,
          8,
          8,
          8,
          8,
          3,
          12,
          6,
          12,
          8,
          8,
          6,
          8,
          3,
          4,
          4,
          6,
          6,
          8,
          12,
          12,
          12,
          12,
          4,
          3,
          4,
          8,
          8,
          8,
          8,
          8,
          4,
          4,
          4,
          4,
          12,
          8,
          8,
          4,
          4,
          8,
          3,
          8,
          8,
          8,
          12,
          12,
          4,
          4,
          4,
          4,
          8,
          8,
          8,
          12,
          4,
          4,
          4,
          4,
          4,
          4,
          4,
          4,
          3,
          8,
          8,
          4,
          4,
          4,
          4,
          4,
          12,
          4,
          4,
          4,
          8,
          6,
          6,
          12,
          4,
          12,
          8,
          12,
          8,
          12,
          4,
          4,
          12,
          12,
          8,
          6,
          4,
          4,
          8,
          8,
          4,
          4,
          4,
          4,
          6,
          6,
          6,
          4,
          6,
          6,
          6,
          6,
          8,
          12,
          8,
          8,
          8,
          6,
          6,
          6,
          6,
          12,
          12,
          4,
          6,
          12,
          12,
          6,
          8,
          6,
          12,
          6,
          8,
          4,
          6,
          6,
          6,
          6,
          6,
          6,
          6,
          6,
          6,
          6,
          6,
          6,
          6,
          6,
          6,
          6,
          6,
          6,
          6,
          6,
          6,
          6,
          6,
          6
         ],
         "x0": " ",
         "xaxis": "x",
         "y0": " ",
         "yaxis": "y"
        }
       ],
       "layout": {
        "boxmode": "group",
        "legend": {
         "tracegroupgap": 0
        },
        "margin": {
         "t": 60
        },
        "template": {
         "data": {
          "bar": [
           {
            "error_x": {
             "color": "#2a3f5f"
            },
            "error_y": {
             "color": "#2a3f5f"
            },
            "marker": {
             "line": {
              "color": "#E5ECF6",
              "width": 0.5
             },
             "pattern": {
              "fillmode": "overlay",
              "size": 10,
              "solidity": 0.2
             }
            },
            "type": "bar"
           }
          ],
          "barpolar": [
           {
            "marker": {
             "line": {
              "color": "#E5ECF6",
              "width": 0.5
             },
             "pattern": {
              "fillmode": "overlay",
              "size": 10,
              "solidity": 0.2
             }
            },
            "type": "barpolar"
           }
          ],
          "carpet": [
           {
            "aaxis": {
             "endlinecolor": "#2a3f5f",
             "gridcolor": "white",
             "linecolor": "white",
             "minorgridcolor": "white",
             "startlinecolor": "#2a3f5f"
            },
            "baxis": {
             "endlinecolor": "#2a3f5f",
             "gridcolor": "white",
             "linecolor": "white",
             "minorgridcolor": "white",
             "startlinecolor": "#2a3f5f"
            },
            "type": "carpet"
           }
          ],
          "choropleth": [
           {
            "colorbar": {
             "outlinewidth": 0,
             "ticks": ""
            },
            "type": "choropleth"
           }
          ],
          "contour": [
           {
            "colorbar": {
             "outlinewidth": 0,
             "ticks": ""
            },
            "colorscale": [
             [
              0,
              "#0d0887"
             ],
             [
              0.1111111111111111,
              "#46039f"
             ],
             [
              0.2222222222222222,
              "#7201a8"
             ],
             [
              0.3333333333333333,
              "#9c179e"
             ],
             [
              0.4444444444444444,
              "#bd3786"
             ],
             [
              0.5555555555555556,
              "#d8576b"
             ],
             [
              0.6666666666666666,
              "#ed7953"
             ],
             [
              0.7777777777777778,
              "#fb9f3a"
             ],
             [
              0.8888888888888888,
              "#fdca26"
             ],
             [
              1,
              "#f0f921"
             ]
            ],
            "type": "contour"
           }
          ],
          "contourcarpet": [
           {
            "colorbar": {
             "outlinewidth": 0,
             "ticks": ""
            },
            "type": "contourcarpet"
           }
          ],
          "heatmap": [
           {
            "colorbar": {
             "outlinewidth": 0,
             "ticks": ""
            },
            "colorscale": [
             [
              0,
              "#0d0887"
             ],
             [
              0.1111111111111111,
              "#46039f"
             ],
             [
              0.2222222222222222,
              "#7201a8"
             ],
             [
              0.3333333333333333,
              "#9c179e"
             ],
             [
              0.4444444444444444,
              "#bd3786"
             ],
             [
              0.5555555555555556,
              "#d8576b"
             ],
             [
              0.6666666666666666,
              "#ed7953"
             ],
             [
              0.7777777777777778,
              "#fb9f3a"
             ],
             [
              0.8888888888888888,
              "#fdca26"
             ],
             [
              1,
              "#f0f921"
             ]
            ],
            "type": "heatmap"
           }
          ],
          "heatmapgl": [
           {
            "colorbar": {
             "outlinewidth": 0,
             "ticks": ""
            },
            "colorscale": [
             [
              0,
              "#0d0887"
             ],
             [
              0.1111111111111111,
              "#46039f"
             ],
             [
              0.2222222222222222,
              "#7201a8"
             ],
             [
              0.3333333333333333,
              "#9c179e"
             ],
             [
              0.4444444444444444,
              "#bd3786"
             ],
             [
              0.5555555555555556,
              "#d8576b"
             ],
             [
              0.6666666666666666,
              "#ed7953"
             ],
             [
              0.7777777777777778,
              "#fb9f3a"
             ],
             [
              0.8888888888888888,
              "#fdca26"
             ],
             [
              1,
              "#f0f921"
             ]
            ],
            "type": "heatmapgl"
           }
          ],
          "histogram": [
           {
            "marker": {
             "pattern": {
              "fillmode": "overlay",
              "size": 10,
              "solidity": 0.2
             }
            },
            "type": "histogram"
           }
          ],
          "histogram2d": [
           {
            "colorbar": {
             "outlinewidth": 0,
             "ticks": ""
            },
            "colorscale": [
             [
              0,
              "#0d0887"
             ],
             [
              0.1111111111111111,
              "#46039f"
             ],
             [
              0.2222222222222222,
              "#7201a8"
             ],
             [
              0.3333333333333333,
              "#9c179e"
             ],
             [
              0.4444444444444444,
              "#bd3786"
             ],
             [
              0.5555555555555556,
              "#d8576b"
             ],
             [
              0.6666666666666666,
              "#ed7953"
             ],
             [
              0.7777777777777778,
              "#fb9f3a"
             ],
             [
              0.8888888888888888,
              "#fdca26"
             ],
             [
              1,
              "#f0f921"
             ]
            ],
            "type": "histogram2d"
           }
          ],
          "histogram2dcontour": [
           {
            "colorbar": {
             "outlinewidth": 0,
             "ticks": ""
            },
            "colorscale": [
             [
              0,
              "#0d0887"
             ],
             [
              0.1111111111111111,
              "#46039f"
             ],
             [
              0.2222222222222222,
              "#7201a8"
             ],
             [
              0.3333333333333333,
              "#9c179e"
             ],
             [
              0.4444444444444444,
              "#bd3786"
             ],
             [
              0.5555555555555556,
              "#d8576b"
             ],
             [
              0.6666666666666666,
              "#ed7953"
             ],
             [
              0.7777777777777778,
              "#fb9f3a"
             ],
             [
              0.8888888888888888,
              "#fdca26"
             ],
             [
              1,
              "#f0f921"
             ]
            ],
            "type": "histogram2dcontour"
           }
          ],
          "mesh3d": [
           {
            "colorbar": {
             "outlinewidth": 0,
             "ticks": ""
            },
            "type": "mesh3d"
           }
          ],
          "parcoords": [
           {
            "line": {
             "colorbar": {
              "outlinewidth": 0,
              "ticks": ""
             }
            },
            "type": "parcoords"
           }
          ],
          "pie": [
           {
            "automargin": true,
            "type": "pie"
           }
          ],
          "scatter": [
           {
            "fillpattern": {
             "fillmode": "overlay",
             "size": 10,
             "solidity": 0.2
            },
            "type": "scatter"
           }
          ],
          "scatter3d": [
           {
            "line": {
             "colorbar": {
              "outlinewidth": 0,
              "ticks": ""
             }
            },
            "marker": {
             "colorbar": {
              "outlinewidth": 0,
              "ticks": ""
             }
            },
            "type": "scatter3d"
           }
          ],
          "scattercarpet": [
           {
            "marker": {
             "colorbar": {
              "outlinewidth": 0,
              "ticks": ""
             }
            },
            "type": "scattercarpet"
           }
          ],
          "scattergeo": [
           {
            "marker": {
             "colorbar": {
              "outlinewidth": 0,
              "ticks": ""
             }
            },
            "type": "scattergeo"
           }
          ],
          "scattergl": [
           {
            "marker": {
             "colorbar": {
              "outlinewidth": 0,
              "ticks": ""
             }
            },
            "type": "scattergl"
           }
          ],
          "scattermapbox": [
           {
            "marker": {
             "colorbar": {
              "outlinewidth": 0,
              "ticks": ""
             }
            },
            "type": "scattermapbox"
           }
          ],
          "scatterpolar": [
           {
            "marker": {
             "colorbar": {
              "outlinewidth": 0,
              "ticks": ""
             }
            },
            "type": "scatterpolar"
           }
          ],
          "scatterpolargl": [
           {
            "marker": {
             "colorbar": {
              "outlinewidth": 0,
              "ticks": ""
             }
            },
            "type": "scatterpolargl"
           }
          ],
          "scatterternary": [
           {
            "marker": {
             "colorbar": {
              "outlinewidth": 0,
              "ticks": ""
             }
            },
            "type": "scatterternary"
           }
          ],
          "surface": [
           {
            "colorbar": {
             "outlinewidth": 0,
             "ticks": ""
            },
            "colorscale": [
             [
              0,
              "#0d0887"
             ],
             [
              0.1111111111111111,
              "#46039f"
             ],
             [
              0.2222222222222222,
              "#7201a8"
             ],
             [
              0.3333333333333333,
              "#9c179e"
             ],
             [
              0.4444444444444444,
              "#bd3786"
             ],
             [
              0.5555555555555556,
              "#d8576b"
             ],
             [
              0.6666666666666666,
              "#ed7953"
             ],
             [
              0.7777777777777778,
              "#fb9f3a"
             ],
             [
              0.8888888888888888,
              "#fdca26"
             ],
             [
              1,
              "#f0f921"
             ]
            ],
            "type": "surface"
           }
          ],
          "table": [
           {
            "cells": {
             "fill": {
              "color": "#EBF0F8"
             },
             "line": {
              "color": "white"
             }
            },
            "header": {
             "fill": {
              "color": "#C8D4E3"
             },
             "line": {
              "color": "white"
             }
            },
            "type": "table"
           }
          ]
         },
         "layout": {
          "annotationdefaults": {
           "arrowcolor": "#2a3f5f",
           "arrowhead": 0,
           "arrowwidth": 1
          },
          "autotypenumbers": "strict",
          "coloraxis": {
           "colorbar": {
            "outlinewidth": 0,
            "ticks": ""
           }
          },
          "colorscale": {
           "diverging": [
            [
             0,
             "#8e0152"
            ],
            [
             0.1,
             "#c51b7d"
            ],
            [
             0.2,
             "#de77ae"
            ],
            [
             0.3,
             "#f1b6da"
            ],
            [
             0.4,
             "#fde0ef"
            ],
            [
             0.5,
             "#f7f7f7"
            ],
            [
             0.6,
             "#e6f5d0"
            ],
            [
             0.7,
             "#b8e186"
            ],
            [
             0.8,
             "#7fbc41"
            ],
            [
             0.9,
             "#4d9221"
            ],
            [
             1,
             "#276419"
            ]
           ],
           "sequential": [
            [
             0,
             "#0d0887"
            ],
            [
             0.1111111111111111,
             "#46039f"
            ],
            [
             0.2222222222222222,
             "#7201a8"
            ],
            [
             0.3333333333333333,
             "#9c179e"
            ],
            [
             0.4444444444444444,
             "#bd3786"
            ],
            [
             0.5555555555555556,
             "#d8576b"
            ],
            [
             0.6666666666666666,
             "#ed7953"
            ],
            [
             0.7777777777777778,
             "#fb9f3a"
            ],
            [
             0.8888888888888888,
             "#fdca26"
            ],
            [
             1,
             "#f0f921"
            ]
           ],
           "sequentialminus": [
            [
             0,
             "#0d0887"
            ],
            [
             0.1111111111111111,
             "#46039f"
            ],
            [
             0.2222222222222222,
             "#7201a8"
            ],
            [
             0.3333333333333333,
             "#9c179e"
            ],
            [
             0.4444444444444444,
             "#bd3786"
            ],
            [
             0.5555555555555556,
             "#d8576b"
            ],
            [
             0.6666666666666666,
             "#ed7953"
            ],
            [
             0.7777777777777778,
             "#fb9f3a"
            ],
            [
             0.8888888888888888,
             "#fdca26"
            ],
            [
             1,
             "#f0f921"
            ]
           ]
          },
          "colorway": [
           "#636efa",
           "#EF553B",
           "#00cc96",
           "#ab63fa",
           "#FFA15A",
           "#19d3f3",
           "#FF6692",
           "#B6E880",
           "#FF97FF",
           "#FECB52"
          ],
          "font": {
           "color": "#2a3f5f"
          },
          "geo": {
           "bgcolor": "white",
           "lakecolor": "white",
           "landcolor": "#E5ECF6",
           "showlakes": true,
           "showland": true,
           "subunitcolor": "white"
          },
          "hoverlabel": {
           "align": "left"
          },
          "hovermode": "closest",
          "mapbox": {
           "style": "light"
          },
          "paper_bgcolor": "white",
          "plot_bgcolor": "#E5ECF6",
          "polar": {
           "angularaxis": {
            "gridcolor": "white",
            "linecolor": "white",
            "ticks": ""
           },
           "bgcolor": "#E5ECF6",
           "radialaxis": {
            "gridcolor": "white",
            "linecolor": "white",
            "ticks": ""
           }
          },
          "scene": {
           "xaxis": {
            "backgroundcolor": "#E5ECF6",
            "gridcolor": "white",
            "gridwidth": 2,
            "linecolor": "white",
            "showbackground": true,
            "ticks": "",
            "zerolinecolor": "white"
           },
           "yaxis": {
            "backgroundcolor": "#E5ECF6",
            "gridcolor": "white",
            "gridwidth": 2,
            "linecolor": "white",
            "showbackground": true,
            "ticks": "",
            "zerolinecolor": "white"
           },
           "zaxis": {
            "backgroundcolor": "#E5ECF6",
            "gridcolor": "white",
            "gridwidth": 2,
            "linecolor": "white",
            "showbackground": true,
            "ticks": "",
            "zerolinecolor": "white"
           }
          },
          "shapedefaults": {
           "line": {
            "color": "#2a3f5f"
           }
          },
          "ternary": {
           "aaxis": {
            "gridcolor": "white",
            "linecolor": "white",
            "ticks": ""
           },
           "baxis": {
            "gridcolor": "white",
            "linecolor": "white",
            "ticks": ""
           },
           "bgcolor": "#E5ECF6",
           "caxis": {
            "gridcolor": "white",
            "linecolor": "white",
            "ticks": ""
           }
          },
          "title": {
           "x": 0.05
          },
          "xaxis": {
           "automargin": true,
           "gridcolor": "white",
           "linecolor": "white",
           "ticks": "",
           "title": {
            "standoff": 15
           },
           "zerolinecolor": "white",
           "zerolinewidth": 2
          },
          "yaxis": {
           "automargin": true,
           "gridcolor": "white",
           "linecolor": "white",
           "ticks": "",
           "title": {
            "standoff": 15
           },
           "zerolinecolor": "white",
           "zerolinewidth": 2
          }
         }
        },
        "xaxis": {
         "anchor": "y",
         "domain": [
          0,
          1
         ],
         "title": {
          "text": "RAM(Go)"
         }
        },
        "yaxis": {
         "anchor": "x",
         "domain": [
          0,
          1
         ]
        }
       }
      },
      "text/html": [
       "<div>                            <div id=\"f832e6a6-cacc-4b75-b403-6198f4b1bc91\" class=\"plotly-graph-div\" style=\"height:525px; width:100%;\"></div>            <script type=\"text/javascript\">                require([\"plotly\"], function(Plotly) {                    window.PLOTLYENV=window.PLOTLYENV || {};                                    if (document.getElementById(\"f832e6a6-cacc-4b75-b403-6198f4b1bc91\")) {                    Plotly.newPlot(                        \"f832e6a6-cacc-4b75-b403-6198f4b1bc91\",                        [{\"alignmentgroup\":\"True\",\"hovertemplate\":\"RAM(Go)=%{x}<extra></extra>\",\"legendgroup\":\"\",\"marker\":{\"color\":\"#636efa\"},\"name\":\"\",\"notched\":false,\"offsetgroup\":\"\",\"orientation\":\"h\",\"showlegend\":false,\"x\":[8.0,6.0,8.0,4.0,4.0,2.0,8.0,8.0,12.0,12.0,8.0,8.0,8.0,6.0,4.0,4.0,6.0,6.0,4.0,4.0,2.0,2.0,4.0,4.0,6.0,6.0,3.0,4.0,6.0,6.0,6.0,6.0,4.0,4.0,4.0,6.0,6.0,6.0,6.0,6.0,4.0,12.0,6.0,4.0,4.0,4.0,4.0,4.0,4.0,8.0,6.0,4.0,3.0,4.0,6.0,4.0,4.0,4.0,12.0,4.0,4.0,6.0,4.0,6.0,4.0,8.0,4.0,4.0,4.0,6.0,8.0,4.0,8.0,4.0,4.0,3.0,4.0,4.0,3.0,8.0,4.0,4.0,6.0,8.0,6.0,8.0,8.0,12.0,4.0,8.0,4.0,4.0,3.0,8.0,8.0,4.0,4.0,8.0,8.0,8.0,4.0,8.0,8.0,3.0,8.0,12.0,4.0,4.0,4.0,4.0,2.0,6.0,6.0,3.0,4.0,4.0,4.0,2.0,12.0,8.0,4.0,2.0,3.0,2.0,4.0,4.0,4.0,4.0,4.0,4.0,6.0,8.0,6.0,8.0,8.0,8.0,8.0,12.0,3.0,8.0,12.0,8.0,12.0,8.0,8.0,3.0,3.0,12.0,8.0,12.0,12.0,12.0,12.0,8.0,4.0,4.0,12.0,12.0,4.0,4.0,4.0,4.0,12.0,4.0,4.0,4.0,4.0,12.0,4.0,4.0,4.0,4.0,4.0,4.0,4.0,4.0,4.0,2.0,8.0,12.0,4.0,6.0,8.0,4.0,6.0,4.0,8.0,12.0,6.0,8.0,8.0,4.0,6.0,2.0,4.0,4.0,6.0,8.0,6.0,4.0,6.0,4.0,8.0,4.0,8.0,8.0,8.0,12.0,4.0,4.0,4.0,8.0,8.0,8.0,8.0,12.0,4.0,4.0,6.0,4.0,6.0,2.0,2.0,2.0,2.0,2.0,3.0,3.0,2.0,2.0,2.0,2.0,2.0,2.0,3.0,3.0,3.0,3.0,2.0,4.0,4.0,4.0,3.0,2.0,4.0,4.0,4.0,4.0,4.0,4.0,4.0,4.0,4.0,4.0,4.0,2.0,3.0,4.0,4.0,4.0,4.0,4.0,4.0,4.0,4.0,4.0,4.0,3.0,4.0,4.0,4.0,6.0,4.0,4.0,4.0,4.0,6.0,6.0,6.0,6.0,6.0,4.0,8.0,4.0,4.0,4.0,8.0,4.0,8.0,2.0,4.0,8.0,4.0,6.0,8.0,4.0,8.0,8.0,4.0,3.0,4.0,6.0,6.0,6.0,6.0,6.0,6.0,6.0,6.0,6.0,8.0,8.0,4.0,8.0,8.0,8.0,8.0,4.0,4.0,6.0,4.0,4.0,8.0,8.0,6.0,8.0,12.0,6.0,6.0,6.0,6.0,8.0,6.0,8.0,6.0,6.0,4.0,8.0,4.0,6.0,8.0,6.0,8.0,3.0,8.0,6.0,8.0,6.0,8.0,6.0,8.0,12.0,6.0,8.0,8.0,8.0,8.0,8.0,8.0,6.0,8.0,8.0,8.0,6.0,8.0,4.0,8.0,8.0,4.0,8.0,8.0,8.0,8.0,12.0,8.0,12.0,8.0,12.0,8.0,8.0,8.0,8.0,12.0,12.0,12.0,12.0,12.0,12.0,12.0,12.0,12.0,2.0,4.0,3.0,4.0,3.0,4.0,3.0,3.0,3.0,2.0,2.0,2.0,2.0,3.0,4.0,3.0,3.0,3.0,3.0,8.0,4.0,4.0,3.0,2.0,3.0,2.0,3.0,2.0,2.0,1.5,1.5,2.0,2.0,2.0,1.5,2.0,2.0,1.5,4.0,2.0,4.0,3.0,3.0,3.0,3.0,4.0,2.0,3.0,3.0,3.0,3.0,3.0,3.0,3.0,2.0,4.0,3.0,4.0,3.0,4.0,4.0,2.0,4.0,2.0,2.0,2.0,4.0,4.0,3.0,2.0,2.0,4.0,4.0,2.0,6.0,4.0,4.0,2.0,3.0,4.0,4.0,4.0,4.0,4.0,2.0,4.0,3.0,3.0,3.0,4.0,4.0,4.0,4.0,4.0,4.0,6.0,6.0,1.0,2.0,4.0,4.0,4.0,4.0,4.0,6.0,4.0,4.0,2.0,4.0,4.0,4.0,4.0,4.0,4.0,6.0,4.0,4.0,4.0,4.0,4.0,4.0,3.0,3.0,4.0,3.0,3.0,3.0,4.0,6.0,4.0,6.0,6.0,3.0,6.0,4.0,4.0,6.0,6.0,4.0,4.0,6.0,6.0,4.0,4.0,4.0,4.0,4.0,3.0,3.0,3.0,4.0,4.0,4.0,8.0,6.0,6.0,4.0,6.0,6.0,8.0,6.0,8.0,6.0,4.0,3.0,4.0,3.0,8.0,3.0,6.0,6.0,6.0,3.0,3.0,6.0,4.0,6.0,8.0,8.0,6.0,6.0,3.0,4.0,6.0,6.0,8.0,6.0,8.0,6.0,4.0,8.0,6.0,8.0,3.0,6.0,6.0,8.0,8.0,6.0,6.0,3.0,8.0,6.0,8.0,3.0,6.0,6.0,6.0,6.0,6.0,6.0,6.0,6.0,6.0,3.0,8.0,6.0,8.0,8.0,8.0,8.0,8.0,3.0,12.0,6.0,12.0,8.0,8.0,6.0,8.0,3.0,4.0,4.0,6.0,6.0,8.0,12.0,12.0,12.0,12.0,4.0,3.0,4.0,8.0,8.0,8.0,8.0,8.0,4.0,4.0,4.0,4.0,12.0,8.0,8.0,4.0,4.0,8.0,3.0,8.0,8.0,8.0,12.0,12.0,4.0,4.0,4.0,4.0,8.0,8.0,8.0,12.0,4.0,4.0,4.0,4.0,4.0,4.0,4.0,4.0,3.0,8.0,8.0,4.0,4.0,4.0,4.0,4.0,12.0,4.0,4.0,4.0,8.0,6.0,6.0,12.0,4.0,12.0,8.0,12.0,8.0,12.0,4.0,4.0,12.0,12.0,8.0,6.0,4.0,4.0,8.0,8.0,4.0,4.0,4.0,4.0,6.0,6.0,6.0,4.0,6.0,6.0,6.0,6.0,8.0,12.0,8.0,8.0,8.0,6.0,6.0,6.0,6.0,12.0,12.0,4.0,6.0,12.0,12.0,6.0,8.0,6.0,12.0,6.0,8.0,4.0,6.0,6.0,6.0,6.0,6.0,6.0,6.0,6.0,6.0,6.0,6.0,6.0,6.0,6.0,6.0,6.0,6.0,6.0,6.0,6.0,6.0,6.0,6.0,6.0],\"x0\":\" \",\"xaxis\":\"x\",\"y0\":\" \",\"yaxis\":\"y\",\"type\":\"box\",\"fillcolor\":\"#C9A26B\"}],                        {\"template\":{\"data\":{\"histogram2dcontour\":[{\"type\":\"histogram2dcontour\",\"colorbar\":{\"outlinewidth\":0,\"ticks\":\"\"},\"colorscale\":[[0.0,\"#0d0887\"],[0.1111111111111111,\"#46039f\"],[0.2222222222222222,\"#7201a8\"],[0.3333333333333333,\"#9c179e\"],[0.4444444444444444,\"#bd3786\"],[0.5555555555555556,\"#d8576b\"],[0.6666666666666666,\"#ed7953\"],[0.7777777777777778,\"#fb9f3a\"],[0.8888888888888888,\"#fdca26\"],[1.0,\"#f0f921\"]]}],\"choropleth\":[{\"type\":\"choropleth\",\"colorbar\":{\"outlinewidth\":0,\"ticks\":\"\"}}],\"histogram2d\":[{\"type\":\"histogram2d\",\"colorbar\":{\"outlinewidth\":0,\"ticks\":\"\"},\"colorscale\":[[0.0,\"#0d0887\"],[0.1111111111111111,\"#46039f\"],[0.2222222222222222,\"#7201a8\"],[0.3333333333333333,\"#9c179e\"],[0.4444444444444444,\"#bd3786\"],[0.5555555555555556,\"#d8576b\"],[0.6666666666666666,\"#ed7953\"],[0.7777777777777778,\"#fb9f3a\"],[0.8888888888888888,\"#fdca26\"],[1.0,\"#f0f921\"]]}],\"heatmap\":[{\"type\":\"heatmap\",\"colorbar\":{\"outlinewidth\":0,\"ticks\":\"\"},\"colorscale\":[[0.0,\"#0d0887\"],[0.1111111111111111,\"#46039f\"],[0.2222222222222222,\"#7201a8\"],[0.3333333333333333,\"#9c179e\"],[0.4444444444444444,\"#bd3786\"],[0.5555555555555556,\"#d8576b\"],[0.6666666666666666,\"#ed7953\"],[0.7777777777777778,\"#fb9f3a\"],[0.8888888888888888,\"#fdca26\"],[1.0,\"#f0f921\"]]}],\"heatmapgl\":[{\"type\":\"heatmapgl\",\"colorbar\":{\"outlinewidth\":0,\"ticks\":\"\"},\"colorscale\":[[0.0,\"#0d0887\"],[0.1111111111111111,\"#46039f\"],[0.2222222222222222,\"#7201a8\"],[0.3333333333333333,\"#9c179e\"],[0.4444444444444444,\"#bd3786\"],[0.5555555555555556,\"#d8576b\"],[0.6666666666666666,\"#ed7953\"],[0.7777777777777778,\"#fb9f3a\"],[0.8888888888888888,\"#fdca26\"],[1.0,\"#f0f921\"]]}],\"contourcarpet\":[{\"type\":\"contourcarpet\",\"colorbar\":{\"outlinewidth\":0,\"ticks\":\"\"}}],\"contour\":[{\"type\":\"contour\",\"colorbar\":{\"outlinewidth\":0,\"ticks\":\"\"},\"colorscale\":[[0.0,\"#0d0887\"],[0.1111111111111111,\"#46039f\"],[0.2222222222222222,\"#7201a8\"],[0.3333333333333333,\"#9c179e\"],[0.4444444444444444,\"#bd3786\"],[0.5555555555555556,\"#d8576b\"],[0.6666666666666666,\"#ed7953\"],[0.7777777777777778,\"#fb9f3a\"],[0.8888888888888888,\"#fdca26\"],[1.0,\"#f0f921\"]]}],\"surface\":[{\"type\":\"surface\",\"colorbar\":{\"outlinewidth\":0,\"ticks\":\"\"},\"colorscale\":[[0.0,\"#0d0887\"],[0.1111111111111111,\"#46039f\"],[0.2222222222222222,\"#7201a8\"],[0.3333333333333333,\"#9c179e\"],[0.4444444444444444,\"#bd3786\"],[0.5555555555555556,\"#d8576b\"],[0.6666666666666666,\"#ed7953\"],[0.7777777777777778,\"#fb9f3a\"],[0.8888888888888888,\"#fdca26\"],[1.0,\"#f0f921\"]]}],\"mesh3d\":[{\"type\":\"mesh3d\",\"colorbar\":{\"outlinewidth\":0,\"ticks\":\"\"}}],\"scatter\":[{\"fillpattern\":{\"fillmode\":\"overlay\",\"size\":10,\"solidity\":0.2},\"type\":\"scatter\"}],\"parcoords\":[{\"type\":\"parcoords\",\"line\":{\"colorbar\":{\"outlinewidth\":0,\"ticks\":\"\"}}}],\"scatterpolargl\":[{\"type\":\"scatterpolargl\",\"marker\":{\"colorbar\":{\"outlinewidth\":0,\"ticks\":\"\"}}}],\"bar\":[{\"error_x\":{\"color\":\"#2a3f5f\"},\"error_y\":{\"color\":\"#2a3f5f\"},\"marker\":{\"line\":{\"color\":\"#E5ECF6\",\"width\":0.5},\"pattern\":{\"fillmode\":\"overlay\",\"size\":10,\"solidity\":0.2}},\"type\":\"bar\"}],\"scattergeo\":[{\"type\":\"scattergeo\",\"marker\":{\"colorbar\":{\"outlinewidth\":0,\"ticks\":\"\"}}}],\"scatterpolar\":[{\"type\":\"scatterpolar\",\"marker\":{\"colorbar\":{\"outlinewidth\":0,\"ticks\":\"\"}}}],\"histogram\":[{\"marker\":{\"pattern\":{\"fillmode\":\"overlay\",\"size\":10,\"solidity\":0.2}},\"type\":\"histogram\"}],\"scattergl\":[{\"type\":\"scattergl\",\"marker\":{\"colorbar\":{\"outlinewidth\":0,\"ticks\":\"\"}}}],\"scatter3d\":[{\"type\":\"scatter3d\",\"line\":{\"colorbar\":{\"outlinewidth\":0,\"ticks\":\"\"}},\"marker\":{\"colorbar\":{\"outlinewidth\":0,\"ticks\":\"\"}}}],\"scattermapbox\":[{\"type\":\"scattermapbox\",\"marker\":{\"colorbar\":{\"outlinewidth\":0,\"ticks\":\"\"}}}],\"scatterternary\":[{\"type\":\"scatterternary\",\"marker\":{\"colorbar\":{\"outlinewidth\":0,\"ticks\":\"\"}}}],\"scattercarpet\":[{\"type\":\"scattercarpet\",\"marker\":{\"colorbar\":{\"outlinewidth\":0,\"ticks\":\"\"}}}],\"carpet\":[{\"aaxis\":{\"endlinecolor\":\"#2a3f5f\",\"gridcolor\":\"white\",\"linecolor\":\"white\",\"minorgridcolor\":\"white\",\"startlinecolor\":\"#2a3f5f\"},\"baxis\":{\"endlinecolor\":\"#2a3f5f\",\"gridcolor\":\"white\",\"linecolor\":\"white\",\"minorgridcolor\":\"white\",\"startlinecolor\":\"#2a3f5f\"},\"type\":\"carpet\"}],\"table\":[{\"cells\":{\"fill\":{\"color\":\"#EBF0F8\"},\"line\":{\"color\":\"white\"}},\"header\":{\"fill\":{\"color\":\"#C8D4E3\"},\"line\":{\"color\":\"white\"}},\"type\":\"table\"}],\"barpolar\":[{\"marker\":{\"line\":{\"color\":\"#E5ECF6\",\"width\":0.5},\"pattern\":{\"fillmode\":\"overlay\",\"size\":10,\"solidity\":0.2}},\"type\":\"barpolar\"}],\"pie\":[{\"automargin\":true,\"type\":\"pie\"}]},\"layout\":{\"autotypenumbers\":\"strict\",\"colorway\":[\"#636efa\",\"#EF553B\",\"#00cc96\",\"#ab63fa\",\"#FFA15A\",\"#19d3f3\",\"#FF6692\",\"#B6E880\",\"#FF97FF\",\"#FECB52\"],\"font\":{\"color\":\"#2a3f5f\"},\"hovermode\":\"closest\",\"hoverlabel\":{\"align\":\"left\"},\"paper_bgcolor\":\"white\",\"plot_bgcolor\":\"#E5ECF6\",\"polar\":{\"bgcolor\":\"#E5ECF6\",\"angularaxis\":{\"gridcolor\":\"white\",\"linecolor\":\"white\",\"ticks\":\"\"},\"radialaxis\":{\"gridcolor\":\"white\",\"linecolor\":\"white\",\"ticks\":\"\"}},\"ternary\":{\"bgcolor\":\"#E5ECF6\",\"aaxis\":{\"gridcolor\":\"white\",\"linecolor\":\"white\",\"ticks\":\"\"},\"baxis\":{\"gridcolor\":\"white\",\"linecolor\":\"white\",\"ticks\":\"\"},\"caxis\":{\"gridcolor\":\"white\",\"linecolor\":\"white\",\"ticks\":\"\"}},\"coloraxis\":{\"colorbar\":{\"outlinewidth\":0,\"ticks\":\"\"}},\"colorscale\":{\"sequential\":[[0.0,\"#0d0887\"],[0.1111111111111111,\"#46039f\"],[0.2222222222222222,\"#7201a8\"],[0.3333333333333333,\"#9c179e\"],[0.4444444444444444,\"#bd3786\"],[0.5555555555555556,\"#d8576b\"],[0.6666666666666666,\"#ed7953\"],[0.7777777777777778,\"#fb9f3a\"],[0.8888888888888888,\"#fdca26\"],[1.0,\"#f0f921\"]],\"sequentialminus\":[[0.0,\"#0d0887\"],[0.1111111111111111,\"#46039f\"],[0.2222222222222222,\"#7201a8\"],[0.3333333333333333,\"#9c179e\"],[0.4444444444444444,\"#bd3786\"],[0.5555555555555556,\"#d8576b\"],[0.6666666666666666,\"#ed7953\"],[0.7777777777777778,\"#fb9f3a\"],[0.8888888888888888,\"#fdca26\"],[1.0,\"#f0f921\"]],\"diverging\":[[0,\"#8e0152\"],[0.1,\"#c51b7d\"],[0.2,\"#de77ae\"],[0.3,\"#f1b6da\"],[0.4,\"#fde0ef\"],[0.5,\"#f7f7f7\"],[0.6,\"#e6f5d0\"],[0.7,\"#b8e186\"],[0.8,\"#7fbc41\"],[0.9,\"#4d9221\"],[1,\"#276419\"]]},\"xaxis\":{\"gridcolor\":\"white\",\"linecolor\":\"white\",\"ticks\":\"\",\"title\":{\"standoff\":15},\"zerolinecolor\":\"white\",\"automargin\":true,\"zerolinewidth\":2},\"yaxis\":{\"gridcolor\":\"white\",\"linecolor\":\"white\",\"ticks\":\"\",\"title\":{\"standoff\":15},\"zerolinecolor\":\"white\",\"automargin\":true,\"zerolinewidth\":2},\"scene\":{\"xaxis\":{\"backgroundcolor\":\"#E5ECF6\",\"gridcolor\":\"white\",\"linecolor\":\"white\",\"showbackground\":true,\"ticks\":\"\",\"zerolinecolor\":\"white\",\"gridwidth\":2},\"yaxis\":{\"backgroundcolor\":\"#E5ECF6\",\"gridcolor\":\"white\",\"linecolor\":\"white\",\"showbackground\":true,\"ticks\":\"\",\"zerolinecolor\":\"white\",\"gridwidth\":2},\"zaxis\":{\"backgroundcolor\":\"#E5ECF6\",\"gridcolor\":\"white\",\"linecolor\":\"white\",\"showbackground\":true,\"ticks\":\"\",\"zerolinecolor\":\"white\",\"gridwidth\":2}},\"shapedefaults\":{\"line\":{\"color\":\"#2a3f5f\"}},\"annotationdefaults\":{\"arrowcolor\":\"#2a3f5f\",\"arrowhead\":0,\"arrowwidth\":1},\"geo\":{\"bgcolor\":\"white\",\"landcolor\":\"#E5ECF6\",\"subunitcolor\":\"white\",\"showland\":true,\"showlakes\":true,\"lakecolor\":\"white\"},\"title\":{\"x\":0.05},\"mapbox\":{\"style\":\"light\"}}},\"xaxis\":{\"anchor\":\"y\",\"domain\":[0.0,1.0],\"title\":{\"text\":\"RAM(Go)\"}},\"yaxis\":{\"anchor\":\"x\",\"domain\":[0.0,1.0]},\"legend\":{\"tracegroupgap\":0},\"margin\":{\"t\":60},\"boxmode\":\"group\"},                        {\"responsive\": true}                    ).then(function(){\n",
       "                            \n",
       "var gd = document.getElementById('f832e6a6-cacc-4b75-b403-6198f4b1bc91');\n",
       "var x = new MutationObserver(function (mutations, observer) {{\n",
       "        var display = window.getComputedStyle(gd).display;\n",
       "        if (!display || display === 'none') {{\n",
       "            console.log([gd, 'removed!']);\n",
       "            Plotly.purge(gd);\n",
       "            observer.disconnect();\n",
       "        }}\n",
       "}});\n",
       "\n",
       "// Listen for the removal of the full notebook cells\n",
       "var notebookContainer = gd.closest('#notebook-container');\n",
       "if (notebookContainer) {{\n",
       "    x.observe(notebookContainer, {childList: true});\n",
       "}}\n",
       "\n",
       "// Listen for the clearing of the current output cell\n",
       "var outputEl = gd.closest('.output');\n",
       "if (outputEl) {{\n",
       "    x.observe(outputEl, {childList: true});\n",
       "}}\n",
       "\n",
       "                        })                };                });            </script>        </div>"
      ]
     },
     "metadata": {},
     "output_type": "display_data"
    },
    {
     "data": {
      "application/vnd.plotly.v1+json": {
       "config": {
        "plotlyServerURL": "https://plot.ly"
       },
       "data": [
        {
         "alignmentgroup": "True",
         "fillcolor": "#C9A26B",
         "hovertemplate": "nb_capteur_ph=%{x}<extra></extra>",
         "legendgroup": "",
         "marker": {
          "color": "#636efa"
         },
         "name": "",
         "notched": false,
         "offsetgroup": "",
         "orientation": "h",
         "showlegend": false,
         "type": "box",
         "x": [
          3,
          4,
          3,
          3,
          4,
          2,
          3,
          3,
          1,
          1,
          3,
          3,
          3,
          4,
          4,
          4,
          4,
          4,
          3,
          4,
          2,
          2,
          null,
          2,
          4,
          4,
          1,
          4,
          3,
          3,
          3,
          3,
          2,
          2,
          2,
          3,
          3,
          3,
          3,
          3,
          2,
          4,
          3,
          2,
          null,
          null,
          2,
          null,
          2,
          3,
          2,
          2,
          1,
          2,
          3,
          2,
          2,
          2,
          4,
          2,
          2,
          3,
          2,
          3,
          2,
          2,
          null,
          2,
          2,
          3,
          3,
          2,
          3,
          4,
          2,
          1,
          2,
          2,
          2,
          2,
          4,
          2,
          4,
          3,
          3,
          3,
          2,
          3,
          2,
          3,
          4,
          2,
          2,
          3,
          3,
          3,
          4,
          3,
          2,
          2,
          2,
          3,
          3,
          1,
          3,
          3,
          4,
          2,
          2,
          2,
          2,
          4,
          1,
          1,
          4,
          3,
          2,
          2,
          3,
          3,
          2,
          2,
          1,
          2,
          2,
          3,
          4,
          3,
          4,
          3,
          1,
          3,
          3,
          3,
          3,
          3,
          3,
          3,
          1,
          3,
          3,
          3,
          3,
          3,
          3,
          1,
          1,
          3,
          2,
          3,
          3,
          3,
          3,
          3,
          2,
          2,
          3,
          3,
          2,
          2,
          2,
          2,
          3,
          null,
          null,
          2,
          2,
          3,
          null,
          null,
          null,
          2,
          2,
          2,
          2,
          2,
          2,
          3,
          2,
          3,
          2,
          2,
          4,
          2,
          3,
          2,
          3,
          3,
          3,
          3,
          2,
          2,
          2,
          1,
          2,
          2,
          3,
          3,
          3,
          1,
          1,
          1,
          2,
          2,
          2,
          2,
          2,
          3,
          2,
          3,
          4,
          4,
          3,
          3,
          2,
          4,
          2,
          2,
          4,
          3,
          4,
          null,
          null,
          null,
          null,
          null,
          3,
          null,
          null,
          null,
          1,
          1,
          null,
          null,
          null,
          null,
          null,
          null,
          null,
          null,
          null,
          null,
          3,
          1,
          null,
          null,
          null,
          1,
          null,
          3,
          null,
          null,
          null,
          null,
          null,
          1,
          3,
          4,
          null,
          4,
          4,
          4,
          null,
          null,
          null,
          null,
          null,
          null,
          null,
          null,
          null,
          null,
          2,
          null,
          null,
          3,
          4,
          4,
          null,
          null,
          4,
          null,
          2,
          null,
          3,
          3,
          null,
          null,
          null,
          1,
          null,
          null,
          3,
          3,
          null,
          3,
          4,
          null,
          4,
          1,
          null,
          null,
          4,
          4,
          4,
          null,
          null,
          null,
          null,
          null,
          null,
          null,
          3,
          3,
          3,
          3,
          null,
          null,
          3,
          3,
          3,
          4,
          4,
          null,
          4,
          null,
          3,
          4,
          null,
          null,
          4,
          null,
          null,
          null,
          null,
          null,
          1,
          3,
          2,
          null,
          null,
          4,
          null,
          1,
          null,
          null,
          3,
          null,
          null,
          null,
          2,
          null,
          3,
          3,
          3,
          null,
          3,
          3,
          null,
          3,
          null,
          null,
          null,
          3,
          3,
          2,
          null,
          2,
          2,
          null,
          null,
          3,
          4,
          null,
          null,
          null,
          null,
          null,
          null,
          null,
          null,
          null,
          null,
          null,
          null,
          null,
          3,
          3,
          null,
          null,
          4,
          3,
          2,
          1,
          2,
          1,
          1,
          1,
          1,
          1,
          1,
          1,
          1,
          1,
          1,
          4,
          1,
          1,
          1,
          1,
          3,
          2,
          2,
          1,
          null,
          null,
          null,
          null,
          null,
          null,
          null,
          null,
          2,
          null,
          null,
          null,
          null,
          null,
          null,
          null,
          null,
          null,
          null,
          null,
          3,
          2,
          null,
          1,
          2,
          2,
          2,
          null,
          2,
          null,
          null,
          null,
          null,
          null,
          null,
          null,
          null,
          null,
          null,
          null,
          1,
          null,
          1,
          null,
          null,
          3,
          null,
          null,
          null,
          null,
          null,
          null,
          null,
          null,
          null,
          1,
          null,
          null,
          null,
          null,
          null,
          null,
          4,
          4,
          null,
          4,
          4,
          null,
          null,
          4,
          4,
          3,
          null,
          null,
          1,
          1,
          4,
          3,
          3,
          null,
          null,
          3,
          null,
          null,
          null,
          3,
          null,
          null,
          null,
          null,
          4,
          4,
          3,
          3,
          3,
          3,
          null,
          2,
          1,
          1,
          4,
          1,
          4,
          4,
          null,
          4,
          null,
          3,
          null,
          1,
          4,
          null,
          null,
          null,
          null,
          null,
          null,
          2,
          null,
          4,
          null,
          4,
          null,
          4,
          1,
          1,
          1,
          4,
          null,
          null,
          3,
          4,
          4,
          4,
          4,
          null,
          null,
          null,
          4,
          null,
          4,
          null,
          4,
          1,
          4,
          1,
          null,
          4,
          3,
          1,
          1,
          3,
          4,
          4,
          null,
          3,
          4,
          3,
          1,
          2,
          null,
          null,
          3,
          4,
          3,
          4,
          2,
          3,
          null,
          null,
          1,
          null,
          null,
          3,
          4,
          null,
          4,
          1,
          4,
          3,
          3,
          1,
          3,
          3,
          3,
          3,
          3,
          3,
          3,
          3,
          null,
          1,
          3,
          null,
          3,
          3,
          3,
          3,
          3,
          1,
          3,
          3,
          3,
          4,
          2,
          3,
          3,
          1,
          2,
          2,
          3,
          3,
          null,
          null,
          3,
          3,
          3,
          2,
          1,
          2,
          3,
          3,
          4,
          3,
          null,
          2,
          2,
          2,
          2,
          null,
          null,
          4,
          2,
          2,
          3,
          1,
          3,
          3,
          2,
          3,
          4,
          3,
          2,
          2,
          2,
          null,
          3,
          3,
          3,
          2,
          2,
          2,
          2,
          2,
          2,
          2,
          2,
          1,
          3,
          3,
          2,
          3,
          2,
          2,
          2,
          4,
          2,
          2,
          2,
          3,
          3,
          3,
          3,
          3,
          4,
          3,
          4,
          2,
          4,
          2,
          2,
          3,
          3,
          3,
          3,
          2,
          2,
          4,
          3,
          2,
          2,
          2,
          3,
          3,
          3,
          3,
          2,
          3,
          3,
          3,
          3,
          3,
          4,
          3,
          3,
          3,
          3,
          3,
          3,
          3,
          3,
          3,
          2,
          3,
          3,
          3,
          3,
          null,
          3,
          3,
          3,
          null,
          2,
          3,
          3,
          3,
          3,
          3,
          3,
          3,
          3,
          3,
          3,
          3,
          3,
          3,
          3,
          3,
          3,
          3,
          3,
          3,
          3,
          3,
          3,
          3,
          3
         ],
         "x0": " ",
         "xaxis": "x",
         "y0": " ",
         "yaxis": "y"
        }
       ],
       "layout": {
        "boxmode": "group",
        "legend": {
         "tracegroupgap": 0
        },
        "margin": {
         "t": 60
        },
        "template": {
         "data": {
          "bar": [
           {
            "error_x": {
             "color": "#2a3f5f"
            },
            "error_y": {
             "color": "#2a3f5f"
            },
            "marker": {
             "line": {
              "color": "#E5ECF6",
              "width": 0.5
             },
             "pattern": {
              "fillmode": "overlay",
              "size": 10,
              "solidity": 0.2
             }
            },
            "type": "bar"
           }
          ],
          "barpolar": [
           {
            "marker": {
             "line": {
              "color": "#E5ECF6",
              "width": 0.5
             },
             "pattern": {
              "fillmode": "overlay",
              "size": 10,
              "solidity": 0.2
             }
            },
            "type": "barpolar"
           }
          ],
          "carpet": [
           {
            "aaxis": {
             "endlinecolor": "#2a3f5f",
             "gridcolor": "white",
             "linecolor": "white",
             "minorgridcolor": "white",
             "startlinecolor": "#2a3f5f"
            },
            "baxis": {
             "endlinecolor": "#2a3f5f",
             "gridcolor": "white",
             "linecolor": "white",
             "minorgridcolor": "white",
             "startlinecolor": "#2a3f5f"
            },
            "type": "carpet"
           }
          ],
          "choropleth": [
           {
            "colorbar": {
             "outlinewidth": 0,
             "ticks": ""
            },
            "type": "choropleth"
           }
          ],
          "contour": [
           {
            "colorbar": {
             "outlinewidth": 0,
             "ticks": ""
            },
            "colorscale": [
             [
              0,
              "#0d0887"
             ],
             [
              0.1111111111111111,
              "#46039f"
             ],
             [
              0.2222222222222222,
              "#7201a8"
             ],
             [
              0.3333333333333333,
              "#9c179e"
             ],
             [
              0.4444444444444444,
              "#bd3786"
             ],
             [
              0.5555555555555556,
              "#d8576b"
             ],
             [
              0.6666666666666666,
              "#ed7953"
             ],
             [
              0.7777777777777778,
              "#fb9f3a"
             ],
             [
              0.8888888888888888,
              "#fdca26"
             ],
             [
              1,
              "#f0f921"
             ]
            ],
            "type": "contour"
           }
          ],
          "contourcarpet": [
           {
            "colorbar": {
             "outlinewidth": 0,
             "ticks": ""
            },
            "type": "contourcarpet"
           }
          ],
          "heatmap": [
           {
            "colorbar": {
             "outlinewidth": 0,
             "ticks": ""
            },
            "colorscale": [
             [
              0,
              "#0d0887"
             ],
             [
              0.1111111111111111,
              "#46039f"
             ],
             [
              0.2222222222222222,
              "#7201a8"
             ],
             [
              0.3333333333333333,
              "#9c179e"
             ],
             [
              0.4444444444444444,
              "#bd3786"
             ],
             [
              0.5555555555555556,
              "#d8576b"
             ],
             [
              0.6666666666666666,
              "#ed7953"
             ],
             [
              0.7777777777777778,
              "#fb9f3a"
             ],
             [
              0.8888888888888888,
              "#fdca26"
             ],
             [
              1,
              "#f0f921"
             ]
            ],
            "type": "heatmap"
           }
          ],
          "heatmapgl": [
           {
            "colorbar": {
             "outlinewidth": 0,
             "ticks": ""
            },
            "colorscale": [
             [
              0,
              "#0d0887"
             ],
             [
              0.1111111111111111,
              "#46039f"
             ],
             [
              0.2222222222222222,
              "#7201a8"
             ],
             [
              0.3333333333333333,
              "#9c179e"
             ],
             [
              0.4444444444444444,
              "#bd3786"
             ],
             [
              0.5555555555555556,
              "#d8576b"
             ],
             [
              0.6666666666666666,
              "#ed7953"
             ],
             [
              0.7777777777777778,
              "#fb9f3a"
             ],
             [
              0.8888888888888888,
              "#fdca26"
             ],
             [
              1,
              "#f0f921"
             ]
            ],
            "type": "heatmapgl"
           }
          ],
          "histogram": [
           {
            "marker": {
             "pattern": {
              "fillmode": "overlay",
              "size": 10,
              "solidity": 0.2
             }
            },
            "type": "histogram"
           }
          ],
          "histogram2d": [
           {
            "colorbar": {
             "outlinewidth": 0,
             "ticks": ""
            },
            "colorscale": [
             [
              0,
              "#0d0887"
             ],
             [
              0.1111111111111111,
              "#46039f"
             ],
             [
              0.2222222222222222,
              "#7201a8"
             ],
             [
              0.3333333333333333,
              "#9c179e"
             ],
             [
              0.4444444444444444,
              "#bd3786"
             ],
             [
              0.5555555555555556,
              "#d8576b"
             ],
             [
              0.6666666666666666,
              "#ed7953"
             ],
             [
              0.7777777777777778,
              "#fb9f3a"
             ],
             [
              0.8888888888888888,
              "#fdca26"
             ],
             [
              1,
              "#f0f921"
             ]
            ],
            "type": "histogram2d"
           }
          ],
          "histogram2dcontour": [
           {
            "colorbar": {
             "outlinewidth": 0,
             "ticks": ""
            },
            "colorscale": [
             [
              0,
              "#0d0887"
             ],
             [
              0.1111111111111111,
              "#46039f"
             ],
             [
              0.2222222222222222,
              "#7201a8"
             ],
             [
              0.3333333333333333,
              "#9c179e"
             ],
             [
              0.4444444444444444,
              "#bd3786"
             ],
             [
              0.5555555555555556,
              "#d8576b"
             ],
             [
              0.6666666666666666,
              "#ed7953"
             ],
             [
              0.7777777777777778,
              "#fb9f3a"
             ],
             [
              0.8888888888888888,
              "#fdca26"
             ],
             [
              1,
              "#f0f921"
             ]
            ],
            "type": "histogram2dcontour"
           }
          ],
          "mesh3d": [
           {
            "colorbar": {
             "outlinewidth": 0,
             "ticks": ""
            },
            "type": "mesh3d"
           }
          ],
          "parcoords": [
           {
            "line": {
             "colorbar": {
              "outlinewidth": 0,
              "ticks": ""
             }
            },
            "type": "parcoords"
           }
          ],
          "pie": [
           {
            "automargin": true,
            "type": "pie"
           }
          ],
          "scatter": [
           {
            "fillpattern": {
             "fillmode": "overlay",
             "size": 10,
             "solidity": 0.2
            },
            "type": "scatter"
           }
          ],
          "scatter3d": [
           {
            "line": {
             "colorbar": {
              "outlinewidth": 0,
              "ticks": ""
             }
            },
            "marker": {
             "colorbar": {
              "outlinewidth": 0,
              "ticks": ""
             }
            },
            "type": "scatter3d"
           }
          ],
          "scattercarpet": [
           {
            "marker": {
             "colorbar": {
              "outlinewidth": 0,
              "ticks": ""
             }
            },
            "type": "scattercarpet"
           }
          ],
          "scattergeo": [
           {
            "marker": {
             "colorbar": {
              "outlinewidth": 0,
              "ticks": ""
             }
            },
            "type": "scattergeo"
           }
          ],
          "scattergl": [
           {
            "marker": {
             "colorbar": {
              "outlinewidth": 0,
              "ticks": ""
             }
            },
            "type": "scattergl"
           }
          ],
          "scattermapbox": [
           {
            "marker": {
             "colorbar": {
              "outlinewidth": 0,
              "ticks": ""
             }
            },
            "type": "scattermapbox"
           }
          ],
          "scatterpolar": [
           {
            "marker": {
             "colorbar": {
              "outlinewidth": 0,
              "ticks": ""
             }
            },
            "type": "scatterpolar"
           }
          ],
          "scatterpolargl": [
           {
            "marker": {
             "colorbar": {
              "outlinewidth": 0,
              "ticks": ""
             }
            },
            "type": "scatterpolargl"
           }
          ],
          "scatterternary": [
           {
            "marker": {
             "colorbar": {
              "outlinewidth": 0,
              "ticks": ""
             }
            },
            "type": "scatterternary"
           }
          ],
          "surface": [
           {
            "colorbar": {
             "outlinewidth": 0,
             "ticks": ""
            },
            "colorscale": [
             [
              0,
              "#0d0887"
             ],
             [
              0.1111111111111111,
              "#46039f"
             ],
             [
              0.2222222222222222,
              "#7201a8"
             ],
             [
              0.3333333333333333,
              "#9c179e"
             ],
             [
              0.4444444444444444,
              "#bd3786"
             ],
             [
              0.5555555555555556,
              "#d8576b"
             ],
             [
              0.6666666666666666,
              "#ed7953"
             ],
             [
              0.7777777777777778,
              "#fb9f3a"
             ],
             [
              0.8888888888888888,
              "#fdca26"
             ],
             [
              1,
              "#f0f921"
             ]
            ],
            "type": "surface"
           }
          ],
          "table": [
           {
            "cells": {
             "fill": {
              "color": "#EBF0F8"
             },
             "line": {
              "color": "white"
             }
            },
            "header": {
             "fill": {
              "color": "#C8D4E3"
             },
             "line": {
              "color": "white"
             }
            },
            "type": "table"
           }
          ]
         },
         "layout": {
          "annotationdefaults": {
           "arrowcolor": "#2a3f5f",
           "arrowhead": 0,
           "arrowwidth": 1
          },
          "autotypenumbers": "strict",
          "coloraxis": {
           "colorbar": {
            "outlinewidth": 0,
            "ticks": ""
           }
          },
          "colorscale": {
           "diverging": [
            [
             0,
             "#8e0152"
            ],
            [
             0.1,
             "#c51b7d"
            ],
            [
             0.2,
             "#de77ae"
            ],
            [
             0.3,
             "#f1b6da"
            ],
            [
             0.4,
             "#fde0ef"
            ],
            [
             0.5,
             "#f7f7f7"
            ],
            [
             0.6,
             "#e6f5d0"
            ],
            [
             0.7,
             "#b8e186"
            ],
            [
             0.8,
             "#7fbc41"
            ],
            [
             0.9,
             "#4d9221"
            ],
            [
             1,
             "#276419"
            ]
           ],
           "sequential": [
            [
             0,
             "#0d0887"
            ],
            [
             0.1111111111111111,
             "#46039f"
            ],
            [
             0.2222222222222222,
             "#7201a8"
            ],
            [
             0.3333333333333333,
             "#9c179e"
            ],
            [
             0.4444444444444444,
             "#bd3786"
            ],
            [
             0.5555555555555556,
             "#d8576b"
            ],
            [
             0.6666666666666666,
             "#ed7953"
            ],
            [
             0.7777777777777778,
             "#fb9f3a"
            ],
            [
             0.8888888888888888,
             "#fdca26"
            ],
            [
             1,
             "#f0f921"
            ]
           ],
           "sequentialminus": [
            [
             0,
             "#0d0887"
            ],
            [
             0.1111111111111111,
             "#46039f"
            ],
            [
             0.2222222222222222,
             "#7201a8"
            ],
            [
             0.3333333333333333,
             "#9c179e"
            ],
            [
             0.4444444444444444,
             "#bd3786"
            ],
            [
             0.5555555555555556,
             "#d8576b"
            ],
            [
             0.6666666666666666,
             "#ed7953"
            ],
            [
             0.7777777777777778,
             "#fb9f3a"
            ],
            [
             0.8888888888888888,
             "#fdca26"
            ],
            [
             1,
             "#f0f921"
            ]
           ]
          },
          "colorway": [
           "#636efa",
           "#EF553B",
           "#00cc96",
           "#ab63fa",
           "#FFA15A",
           "#19d3f3",
           "#FF6692",
           "#B6E880",
           "#FF97FF",
           "#FECB52"
          ],
          "font": {
           "color": "#2a3f5f"
          },
          "geo": {
           "bgcolor": "white",
           "lakecolor": "white",
           "landcolor": "#E5ECF6",
           "showlakes": true,
           "showland": true,
           "subunitcolor": "white"
          },
          "hoverlabel": {
           "align": "left"
          },
          "hovermode": "closest",
          "mapbox": {
           "style": "light"
          },
          "paper_bgcolor": "white",
          "plot_bgcolor": "#E5ECF6",
          "polar": {
           "angularaxis": {
            "gridcolor": "white",
            "linecolor": "white",
            "ticks": ""
           },
           "bgcolor": "#E5ECF6",
           "radialaxis": {
            "gridcolor": "white",
            "linecolor": "white",
            "ticks": ""
           }
          },
          "scene": {
           "xaxis": {
            "backgroundcolor": "#E5ECF6",
            "gridcolor": "white",
            "gridwidth": 2,
            "linecolor": "white",
            "showbackground": true,
            "ticks": "",
            "zerolinecolor": "white"
           },
           "yaxis": {
            "backgroundcolor": "#E5ECF6",
            "gridcolor": "white",
            "gridwidth": 2,
            "linecolor": "white",
            "showbackground": true,
            "ticks": "",
            "zerolinecolor": "white"
           },
           "zaxis": {
            "backgroundcolor": "#E5ECF6",
            "gridcolor": "white",
            "gridwidth": 2,
            "linecolor": "white",
            "showbackground": true,
            "ticks": "",
            "zerolinecolor": "white"
           }
          },
          "shapedefaults": {
           "line": {
            "color": "#2a3f5f"
           }
          },
          "ternary": {
           "aaxis": {
            "gridcolor": "white",
            "linecolor": "white",
            "ticks": ""
           },
           "baxis": {
            "gridcolor": "white",
            "linecolor": "white",
            "ticks": ""
           },
           "bgcolor": "#E5ECF6",
           "caxis": {
            "gridcolor": "white",
            "linecolor": "white",
            "ticks": ""
           }
          },
          "title": {
           "x": 0.05
          },
          "xaxis": {
           "automargin": true,
           "gridcolor": "white",
           "linecolor": "white",
           "ticks": "",
           "title": {
            "standoff": 15
           },
           "zerolinecolor": "white",
           "zerolinewidth": 2
          },
          "yaxis": {
           "automargin": true,
           "gridcolor": "white",
           "linecolor": "white",
           "ticks": "",
           "title": {
            "standoff": 15
           },
           "zerolinecolor": "white",
           "zerolinewidth": 2
          }
         }
        },
        "xaxis": {
         "anchor": "y",
         "domain": [
          0,
          1
         ],
         "title": {
          "text": "nb_capteur_ph"
         }
        },
        "yaxis": {
         "anchor": "x",
         "domain": [
          0,
          1
         ]
        }
       }
      },
      "text/html": [
       "<div>                            <div id=\"af5956cb-5c81-45f7-92d5-d4c7f32bb9ce\" class=\"plotly-graph-div\" style=\"height:525px; width:100%;\"></div>            <script type=\"text/javascript\">                require([\"plotly\"], function(Plotly) {                    window.PLOTLYENV=window.PLOTLYENV || {};                                    if (document.getElementById(\"af5956cb-5c81-45f7-92d5-d4c7f32bb9ce\")) {                    Plotly.newPlot(                        \"af5956cb-5c81-45f7-92d5-d4c7f32bb9ce\",                        [{\"alignmentgroup\":\"True\",\"hovertemplate\":\"nb_capteur_ph=%{x}<extra></extra>\",\"legendgroup\":\"\",\"marker\":{\"color\":\"#636efa\"},\"name\":\"\",\"notched\":false,\"offsetgroup\":\"\",\"orientation\":\"h\",\"showlegend\":false,\"x\":[3.0,4.0,3.0,3.0,4.0,2.0,3.0,3.0,1.0,1.0,3.0,3.0,3.0,4.0,4.0,4.0,4.0,4.0,3.0,4.0,2.0,2.0,null,2.0,4.0,4.0,1.0,4.0,3.0,3.0,3.0,3.0,2.0,2.0,2.0,3.0,3.0,3.0,3.0,3.0,2.0,4.0,3.0,2.0,null,null,2.0,null,2.0,3.0,2.0,2.0,1.0,2.0,3.0,2.0,2.0,2.0,4.0,2.0,2.0,3.0,2.0,3.0,2.0,2.0,null,2.0,2.0,3.0,3.0,2.0,3.0,4.0,2.0,1.0,2.0,2.0,2.0,2.0,4.0,2.0,4.0,3.0,3.0,3.0,2.0,3.0,2.0,3.0,4.0,2.0,2.0,3.0,3.0,3.0,4.0,3.0,2.0,2.0,2.0,3.0,3.0,1.0,3.0,3.0,4.0,2.0,2.0,2.0,2.0,4.0,1.0,1.0,4.0,3.0,2.0,2.0,3.0,3.0,2.0,2.0,1.0,2.0,2.0,3.0,4.0,3.0,4.0,3.0,1.0,3.0,3.0,3.0,3.0,3.0,3.0,3.0,1.0,3.0,3.0,3.0,3.0,3.0,3.0,1.0,1.0,3.0,2.0,3.0,3.0,3.0,3.0,3.0,2.0,2.0,3.0,3.0,2.0,2.0,2.0,2.0,3.0,null,null,2.0,2.0,3.0,null,null,null,2.0,2.0,2.0,2.0,2.0,2.0,3.0,2.0,3.0,2.0,2.0,4.0,2.0,3.0,2.0,3.0,3.0,3.0,3.0,2.0,2.0,2.0,1.0,2.0,2.0,3.0,3.0,3.0,1.0,1.0,1.0,2.0,2.0,2.0,2.0,2.0,3.0,2.0,3.0,4.0,4.0,3.0,3.0,2.0,4.0,2.0,2.0,4.0,3.0,4.0,null,null,null,null,null,3.0,null,null,null,1.0,1.0,null,null,null,null,null,null,null,null,null,null,3.0,1.0,null,null,null,1.0,null,3.0,null,null,null,null,null,1.0,3.0,4.0,null,4.0,4.0,4.0,null,null,null,null,null,null,null,null,null,null,2.0,null,null,3.0,4.0,4.0,null,null,4.0,null,2.0,null,3.0,3.0,null,null,null,1.0,null,null,3.0,3.0,null,3.0,4.0,null,4.0,1.0,null,null,4.0,4.0,4.0,null,null,null,null,null,null,null,3.0,3.0,3.0,3.0,null,null,3.0,3.0,3.0,4.0,4.0,null,4.0,null,3.0,4.0,null,null,4.0,null,null,null,null,null,1.0,3.0,2.0,null,null,4.0,null,1.0,null,null,3.0,null,null,null,2.0,null,3.0,3.0,3.0,null,3.0,3.0,null,3.0,null,null,null,3.0,3.0,2.0,null,2.0,2.0,null,null,3.0,4.0,null,null,null,null,null,null,null,null,null,null,null,null,null,3.0,3.0,null,null,4.0,3.0,2.0,1.0,2.0,1.0,1.0,1.0,1.0,1.0,1.0,1.0,1.0,1.0,1.0,4.0,1.0,1.0,1.0,1.0,3.0,2.0,2.0,1.0,null,null,null,null,null,null,null,null,2.0,null,null,null,null,null,null,null,null,null,null,null,3.0,2.0,null,1.0,2.0,2.0,2.0,null,2.0,null,null,null,null,null,null,null,null,null,null,null,1.0,null,1.0,null,null,3.0,null,null,null,null,null,null,null,null,null,1.0,null,null,null,null,null,null,4.0,4.0,null,4.0,4.0,null,null,4.0,4.0,3.0,null,null,1.0,1.0,4.0,3.0,3.0,null,null,3.0,null,null,null,3.0,null,null,null,null,4.0,4.0,3.0,3.0,3.0,3.0,null,2.0,1.0,1.0,4.0,1.0,4.0,4.0,null,4.0,null,3.0,null,1.0,4.0,null,null,null,null,null,null,2.0,null,4.0,null,4.0,null,4.0,1.0,1.0,1.0,4.0,null,null,3.0,4.0,4.0,4.0,4.0,null,null,null,4.0,null,4.0,null,4.0,1.0,4.0,1.0,null,4.0,3.0,1.0,1.0,3.0,4.0,4.0,null,3.0,4.0,3.0,1.0,2.0,null,null,3.0,4.0,3.0,4.0,2.0,3.0,null,null,1.0,null,null,3.0,4.0,null,4.0,1.0,4.0,3.0,3.0,1.0,3.0,3.0,3.0,3.0,3.0,3.0,3.0,3.0,null,1.0,3.0,null,3.0,3.0,3.0,3.0,3.0,1.0,3.0,3.0,3.0,4.0,2.0,3.0,3.0,1.0,2.0,2.0,3.0,3.0,null,null,3.0,3.0,3.0,2.0,1.0,2.0,3.0,3.0,4.0,3.0,null,2.0,2.0,2.0,2.0,null,null,4.0,2.0,2.0,3.0,1.0,3.0,3.0,2.0,3.0,4.0,3.0,2.0,2.0,2.0,null,3.0,3.0,3.0,2.0,2.0,2.0,2.0,2.0,2.0,2.0,2.0,1.0,3.0,3.0,2.0,3.0,2.0,2.0,2.0,4.0,2.0,2.0,2.0,3.0,3.0,3.0,3.0,3.0,4.0,3.0,4.0,2.0,4.0,2.0,2.0,3.0,3.0,3.0,3.0,2.0,2.0,4.0,3.0,2.0,2.0,2.0,3.0,3.0,3.0,3.0,2.0,3.0,3.0,3.0,3.0,3.0,4.0,3.0,3.0,3.0,3.0,3.0,3.0,3.0,3.0,3.0,2.0,3.0,3.0,3.0,3.0,null,3.0,3.0,3.0,null,2.0,3.0,3.0,3.0,3.0,3.0,3.0,3.0,3.0,3.0,3.0,3.0,3.0,3.0,3.0,3.0,3.0,3.0,3.0,3.0,3.0,3.0,3.0,3.0,3.0],\"x0\":\" \",\"xaxis\":\"x\",\"y0\":\" \",\"yaxis\":\"y\",\"type\":\"box\",\"fillcolor\":\"#C9A26B\"}],                        {\"template\":{\"data\":{\"histogram2dcontour\":[{\"type\":\"histogram2dcontour\",\"colorbar\":{\"outlinewidth\":0,\"ticks\":\"\"},\"colorscale\":[[0.0,\"#0d0887\"],[0.1111111111111111,\"#46039f\"],[0.2222222222222222,\"#7201a8\"],[0.3333333333333333,\"#9c179e\"],[0.4444444444444444,\"#bd3786\"],[0.5555555555555556,\"#d8576b\"],[0.6666666666666666,\"#ed7953\"],[0.7777777777777778,\"#fb9f3a\"],[0.8888888888888888,\"#fdca26\"],[1.0,\"#f0f921\"]]}],\"choropleth\":[{\"type\":\"choropleth\",\"colorbar\":{\"outlinewidth\":0,\"ticks\":\"\"}}],\"histogram2d\":[{\"type\":\"histogram2d\",\"colorbar\":{\"outlinewidth\":0,\"ticks\":\"\"},\"colorscale\":[[0.0,\"#0d0887\"],[0.1111111111111111,\"#46039f\"],[0.2222222222222222,\"#7201a8\"],[0.3333333333333333,\"#9c179e\"],[0.4444444444444444,\"#bd3786\"],[0.5555555555555556,\"#d8576b\"],[0.6666666666666666,\"#ed7953\"],[0.7777777777777778,\"#fb9f3a\"],[0.8888888888888888,\"#fdca26\"],[1.0,\"#f0f921\"]]}],\"heatmap\":[{\"type\":\"heatmap\",\"colorbar\":{\"outlinewidth\":0,\"ticks\":\"\"},\"colorscale\":[[0.0,\"#0d0887\"],[0.1111111111111111,\"#46039f\"],[0.2222222222222222,\"#7201a8\"],[0.3333333333333333,\"#9c179e\"],[0.4444444444444444,\"#bd3786\"],[0.5555555555555556,\"#d8576b\"],[0.6666666666666666,\"#ed7953\"],[0.7777777777777778,\"#fb9f3a\"],[0.8888888888888888,\"#fdca26\"],[1.0,\"#f0f921\"]]}],\"heatmapgl\":[{\"type\":\"heatmapgl\",\"colorbar\":{\"outlinewidth\":0,\"ticks\":\"\"},\"colorscale\":[[0.0,\"#0d0887\"],[0.1111111111111111,\"#46039f\"],[0.2222222222222222,\"#7201a8\"],[0.3333333333333333,\"#9c179e\"],[0.4444444444444444,\"#bd3786\"],[0.5555555555555556,\"#d8576b\"],[0.6666666666666666,\"#ed7953\"],[0.7777777777777778,\"#fb9f3a\"],[0.8888888888888888,\"#fdca26\"],[1.0,\"#f0f921\"]]}],\"contourcarpet\":[{\"type\":\"contourcarpet\",\"colorbar\":{\"outlinewidth\":0,\"ticks\":\"\"}}],\"contour\":[{\"type\":\"contour\",\"colorbar\":{\"outlinewidth\":0,\"ticks\":\"\"},\"colorscale\":[[0.0,\"#0d0887\"],[0.1111111111111111,\"#46039f\"],[0.2222222222222222,\"#7201a8\"],[0.3333333333333333,\"#9c179e\"],[0.4444444444444444,\"#bd3786\"],[0.5555555555555556,\"#d8576b\"],[0.6666666666666666,\"#ed7953\"],[0.7777777777777778,\"#fb9f3a\"],[0.8888888888888888,\"#fdca26\"],[1.0,\"#f0f921\"]]}],\"surface\":[{\"type\":\"surface\",\"colorbar\":{\"outlinewidth\":0,\"ticks\":\"\"},\"colorscale\":[[0.0,\"#0d0887\"],[0.1111111111111111,\"#46039f\"],[0.2222222222222222,\"#7201a8\"],[0.3333333333333333,\"#9c179e\"],[0.4444444444444444,\"#bd3786\"],[0.5555555555555556,\"#d8576b\"],[0.6666666666666666,\"#ed7953\"],[0.7777777777777778,\"#fb9f3a\"],[0.8888888888888888,\"#fdca26\"],[1.0,\"#f0f921\"]]}],\"mesh3d\":[{\"type\":\"mesh3d\",\"colorbar\":{\"outlinewidth\":0,\"ticks\":\"\"}}],\"scatter\":[{\"fillpattern\":{\"fillmode\":\"overlay\",\"size\":10,\"solidity\":0.2},\"type\":\"scatter\"}],\"parcoords\":[{\"type\":\"parcoords\",\"line\":{\"colorbar\":{\"outlinewidth\":0,\"ticks\":\"\"}}}],\"scatterpolargl\":[{\"type\":\"scatterpolargl\",\"marker\":{\"colorbar\":{\"outlinewidth\":0,\"ticks\":\"\"}}}],\"bar\":[{\"error_x\":{\"color\":\"#2a3f5f\"},\"error_y\":{\"color\":\"#2a3f5f\"},\"marker\":{\"line\":{\"color\":\"#E5ECF6\",\"width\":0.5},\"pattern\":{\"fillmode\":\"overlay\",\"size\":10,\"solidity\":0.2}},\"type\":\"bar\"}],\"scattergeo\":[{\"type\":\"scattergeo\",\"marker\":{\"colorbar\":{\"outlinewidth\":0,\"ticks\":\"\"}}}],\"scatterpolar\":[{\"type\":\"scatterpolar\",\"marker\":{\"colorbar\":{\"outlinewidth\":0,\"ticks\":\"\"}}}],\"histogram\":[{\"marker\":{\"pattern\":{\"fillmode\":\"overlay\",\"size\":10,\"solidity\":0.2}},\"type\":\"histogram\"}],\"scattergl\":[{\"type\":\"scattergl\",\"marker\":{\"colorbar\":{\"outlinewidth\":0,\"ticks\":\"\"}}}],\"scatter3d\":[{\"type\":\"scatter3d\",\"line\":{\"colorbar\":{\"outlinewidth\":0,\"ticks\":\"\"}},\"marker\":{\"colorbar\":{\"outlinewidth\":0,\"ticks\":\"\"}}}],\"scattermapbox\":[{\"type\":\"scattermapbox\",\"marker\":{\"colorbar\":{\"outlinewidth\":0,\"ticks\":\"\"}}}],\"scatterternary\":[{\"type\":\"scatterternary\",\"marker\":{\"colorbar\":{\"outlinewidth\":0,\"ticks\":\"\"}}}],\"scattercarpet\":[{\"type\":\"scattercarpet\",\"marker\":{\"colorbar\":{\"outlinewidth\":0,\"ticks\":\"\"}}}],\"carpet\":[{\"aaxis\":{\"endlinecolor\":\"#2a3f5f\",\"gridcolor\":\"white\",\"linecolor\":\"white\",\"minorgridcolor\":\"white\",\"startlinecolor\":\"#2a3f5f\"},\"baxis\":{\"endlinecolor\":\"#2a3f5f\",\"gridcolor\":\"white\",\"linecolor\":\"white\",\"minorgridcolor\":\"white\",\"startlinecolor\":\"#2a3f5f\"},\"type\":\"carpet\"}],\"table\":[{\"cells\":{\"fill\":{\"color\":\"#EBF0F8\"},\"line\":{\"color\":\"white\"}},\"header\":{\"fill\":{\"color\":\"#C8D4E3\"},\"line\":{\"color\":\"white\"}},\"type\":\"table\"}],\"barpolar\":[{\"marker\":{\"line\":{\"color\":\"#E5ECF6\",\"width\":0.5},\"pattern\":{\"fillmode\":\"overlay\",\"size\":10,\"solidity\":0.2}},\"type\":\"barpolar\"}],\"pie\":[{\"automargin\":true,\"type\":\"pie\"}]},\"layout\":{\"autotypenumbers\":\"strict\",\"colorway\":[\"#636efa\",\"#EF553B\",\"#00cc96\",\"#ab63fa\",\"#FFA15A\",\"#19d3f3\",\"#FF6692\",\"#B6E880\",\"#FF97FF\",\"#FECB52\"],\"font\":{\"color\":\"#2a3f5f\"},\"hovermode\":\"closest\",\"hoverlabel\":{\"align\":\"left\"},\"paper_bgcolor\":\"white\",\"plot_bgcolor\":\"#E5ECF6\",\"polar\":{\"bgcolor\":\"#E5ECF6\",\"angularaxis\":{\"gridcolor\":\"white\",\"linecolor\":\"white\",\"ticks\":\"\"},\"radialaxis\":{\"gridcolor\":\"white\",\"linecolor\":\"white\",\"ticks\":\"\"}},\"ternary\":{\"bgcolor\":\"#E5ECF6\",\"aaxis\":{\"gridcolor\":\"white\",\"linecolor\":\"white\",\"ticks\":\"\"},\"baxis\":{\"gridcolor\":\"white\",\"linecolor\":\"white\",\"ticks\":\"\"},\"caxis\":{\"gridcolor\":\"white\",\"linecolor\":\"white\",\"ticks\":\"\"}},\"coloraxis\":{\"colorbar\":{\"outlinewidth\":0,\"ticks\":\"\"}},\"colorscale\":{\"sequential\":[[0.0,\"#0d0887\"],[0.1111111111111111,\"#46039f\"],[0.2222222222222222,\"#7201a8\"],[0.3333333333333333,\"#9c179e\"],[0.4444444444444444,\"#bd3786\"],[0.5555555555555556,\"#d8576b\"],[0.6666666666666666,\"#ed7953\"],[0.7777777777777778,\"#fb9f3a\"],[0.8888888888888888,\"#fdca26\"],[1.0,\"#f0f921\"]],\"sequentialminus\":[[0.0,\"#0d0887\"],[0.1111111111111111,\"#46039f\"],[0.2222222222222222,\"#7201a8\"],[0.3333333333333333,\"#9c179e\"],[0.4444444444444444,\"#bd3786\"],[0.5555555555555556,\"#d8576b\"],[0.6666666666666666,\"#ed7953\"],[0.7777777777777778,\"#fb9f3a\"],[0.8888888888888888,\"#fdca26\"],[1.0,\"#f0f921\"]],\"diverging\":[[0,\"#8e0152\"],[0.1,\"#c51b7d\"],[0.2,\"#de77ae\"],[0.3,\"#f1b6da\"],[0.4,\"#fde0ef\"],[0.5,\"#f7f7f7\"],[0.6,\"#e6f5d0\"],[0.7,\"#b8e186\"],[0.8,\"#7fbc41\"],[0.9,\"#4d9221\"],[1,\"#276419\"]]},\"xaxis\":{\"gridcolor\":\"white\",\"linecolor\":\"white\",\"ticks\":\"\",\"title\":{\"standoff\":15},\"zerolinecolor\":\"white\",\"automargin\":true,\"zerolinewidth\":2},\"yaxis\":{\"gridcolor\":\"white\",\"linecolor\":\"white\",\"ticks\":\"\",\"title\":{\"standoff\":15},\"zerolinecolor\":\"white\",\"automargin\":true,\"zerolinewidth\":2},\"scene\":{\"xaxis\":{\"backgroundcolor\":\"#E5ECF6\",\"gridcolor\":\"white\",\"linecolor\":\"white\",\"showbackground\":true,\"ticks\":\"\",\"zerolinecolor\":\"white\",\"gridwidth\":2},\"yaxis\":{\"backgroundcolor\":\"#E5ECF6\",\"gridcolor\":\"white\",\"linecolor\":\"white\",\"showbackground\":true,\"ticks\":\"\",\"zerolinecolor\":\"white\",\"gridwidth\":2},\"zaxis\":{\"backgroundcolor\":\"#E5ECF6\",\"gridcolor\":\"white\",\"linecolor\":\"white\",\"showbackground\":true,\"ticks\":\"\",\"zerolinecolor\":\"white\",\"gridwidth\":2}},\"shapedefaults\":{\"line\":{\"color\":\"#2a3f5f\"}},\"annotationdefaults\":{\"arrowcolor\":\"#2a3f5f\",\"arrowhead\":0,\"arrowwidth\":1},\"geo\":{\"bgcolor\":\"white\",\"landcolor\":\"#E5ECF6\",\"subunitcolor\":\"white\",\"showland\":true,\"showlakes\":true,\"lakecolor\":\"white\"},\"title\":{\"x\":0.05},\"mapbox\":{\"style\":\"light\"}}},\"xaxis\":{\"anchor\":\"y\",\"domain\":[0.0,1.0],\"title\":{\"text\":\"nb_capteur_ph\"}},\"yaxis\":{\"anchor\":\"x\",\"domain\":[0.0,1.0]},\"legend\":{\"tracegroupgap\":0},\"margin\":{\"t\":60},\"boxmode\":\"group\"},                        {\"responsive\": true}                    ).then(function(){\n",
       "                            \n",
       "var gd = document.getElementById('af5956cb-5c81-45f7-92d5-d4c7f32bb9ce');\n",
       "var x = new MutationObserver(function (mutations, observer) {{\n",
       "        var display = window.getComputedStyle(gd).display;\n",
       "        if (!display || display === 'none') {{\n",
       "            console.log([gd, 'removed!']);\n",
       "            Plotly.purge(gd);\n",
       "            observer.disconnect();\n",
       "        }}\n",
       "}});\n",
       "\n",
       "// Listen for the removal of the full notebook cells\n",
       "var notebookContainer = gd.closest('#notebook-container');\n",
       "if (notebookContainer) {{\n",
       "    x.observe(notebookContainer, {childList: true});\n",
       "}}\n",
       "\n",
       "// Listen for the clearing of the current output cell\n",
       "var outputEl = gd.closest('.output');\n",
       "if (outputEl) {{\n",
       "    x.observe(outputEl, {childList: true});\n",
       "}}\n",
       "\n",
       "                        })                };                });            </script>        </div>"
      ]
     },
     "metadata": {},
     "output_type": "display_data"
    },
    {
     "data": {
      "application/vnd.plotly.v1+json": {
       "config": {
        "plotlyServerURL": "https://plot.ly"
       },
       "data": [
        {
         "alignmentgroup": "True",
         "fillcolor": "#C9A26B",
         "hovertemplate": "Selfie(mégapixels)=%{x}<extra></extra>",
         "legendgroup": "",
         "marker": {
          "color": "#636efa"
         },
         "name": "",
         "notched": false,
         "offsetgroup": "",
         "orientation": "h",
         "showlegend": false,
         "type": "box",
         "x": [
          10,
          16,
          16,
          8,
          8,
          5,
          16,
          16,
          11.099170124481326,
          11.099170124481326,
          8,
          16,
          11.099170124481326,
          11.099170124481326,
          8,
          5,
          16,
          16,
          8,
          13,
          5,
          5,
          null,
          5,
          16,
          16,
          2,
          13,
          12,
          12,
          12,
          12,
          12,
          12,
          12,
          12,
          12,
          12,
          12,
          12,
          12,
          10.8,
          12,
          12,
          null,
          null,
          12,
          null,
          12,
          10.8,
          8,
          12,
          7,
          12,
          12,
          12,
          12,
          12,
          10.8,
          12,
          12,
          12,
          12,
          12,
          12,
          10,
          null,
          12,
          12,
          16,
          11.099170124481326,
          12,
          10.77491314819956,
          8,
          12,
          7,
          12,
          12,
          5,
          11.099170124481326,
          8,
          12,
          16,
          16,
          11.099170124481326,
          10.77491314819956,
          16,
          12,
          12,
          16,
          8,
          12,
          5,
          12,
          12,
          8,
          13,
          16,
          12,
          11.099170124481326,
          12,
          11.099170124481326,
          11.099170124481326,
          7,
          11.099170124481326,
          11.099170124481326,
          13,
          5,
          8,
          5,
          5,
          16,
          16,
          7,
          13,
          8,
          5,
          5,
          11.099170124481326,
          10.8,
          12,
          5,
          5,
          5,
          8,
          8,
          16,
          16,
          13,
          16,
          16,
          16,
          8,
          11.099170124481326,
          16,
          11.099170124481326,
          16,
          16,
          7,
          16,
          16,
          10.77491314819956,
          11.099170124481326,
          11.099170124481326,
          11.099170124481326,
          7,
          7,
          11.099170124481326,
          12,
          11.099170124481326,
          11.099170124481326,
          11.099170124481326,
          11.099170124481326,
          12,
          12,
          12,
          12,
          12,
          12,
          12,
          12,
          12,
          12,
          null,
          null,
          12,
          12,
          12,
          null,
          null,
          null,
          12,
          12,
          12,
          12,
          12,
          12,
          5,
          10,
          12,
          12,
          8,
          16,
          12,
          8,
          8,
          16,
          11.099170124481326,
          16,
          11.099170124481326,
          12,
          13,
          8,
          5,
          5,
          8,
          16,
          11.099170124481326,
          8,
          8,
          10.77491314819956,
          8,
          12,
          12,
          11.099170124481326,
          11.099170124481326,
          11.099170124481326,
          8,
          12,
          8,
          13,
          16,
          16,
          11.099170124481326,
          11.099170124481326,
          11.099170124481326,
          12,
          12,
          16,
          8,
          11.099170124481326,
          null,
          null,
          null,
          null,
          null,
          5,
          null,
          null,
          null,
          5,
          5,
          null,
          null,
          null,
          null,
          null,
          null,
          null,
          null,
          null,
          null,
          8,
          2,
          null,
          null,
          null,
          2,
          null,
          5,
          null,
          null,
          null,
          null,
          null,
          5,
          5,
          8,
          null,
          8,
          8,
          8,
          null,
          null,
          null,
          null,
          null,
          null,
          null,
          null,
          null,
          null,
          5,
          null,
          null,
          8,
          16,
          13,
          null,
          null,
          13,
          null,
          16,
          null,
          8,
          8,
          null,
          null,
          null,
          5,
          null,
          null,
          16,
          16,
          null,
          8,
          11.099170124481326,
          null,
          16,
          null,
          null,
          null,
          13,
          13,
          13,
          null,
          null,
          null,
          null,
          null,
          null,
          null,
          8,
          11.099170124481326,
          11.099170124481326,
          8,
          null,
          null,
          13,
          16,
          13,
          13,
          16,
          null,
          16,
          null,
          11.099170124481326,
          11.099170124481326,
          null,
          null,
          11.099170124481326,
          null,
          null,
          null,
          null,
          null,
          8,
          10.77491314819956,
          13,
          null,
          null,
          11.099170124481326,
          null,
          8,
          null,
          null,
          16,
          null,
          null,
          null,
          16,
          null,
          11.099170124481326,
          11.099170124481326,
          11.099170124481326,
          null,
          11.099170124481326,
          10,
          null,
          11.099170124481326,
          null,
          null,
          null,
          11.099170124481326,
          10,
          12,
          null,
          10,
          12,
          null,
          null,
          10,
          13,
          null,
          null,
          null,
          null,
          null,
          null,
          null,
          null,
          null,
          null,
          null,
          null,
          null,
          8,
          10,
          null,
          null,
          10.8,
          5,
          8,
          7,
          12,
          7,
          8,
          7,
          7,
          7,
          7,
          7,
          7,
          7,
          7,
          11.099170124481326,
          7,
          7,
          7,
          7,
          10,
          12,
          12,
          7,
          null,
          null,
          null,
          null,
          null,
          null,
          null,
          null,
          5,
          null,
          null,
          null,
          null,
          null,
          null,
          null,
          null,
          null,
          null,
          null,
          5,
          8,
          null,
          8,
          8,
          8,
          8,
          null,
          8,
          null,
          null,
          null,
          null,
          null,
          null,
          null,
          null,
          null,
          null,
          null,
          7,
          null,
          5,
          null,
          null,
          8,
          null,
          null,
          null,
          null,
          null,
          null,
          null,
          null,
          null,
          5,
          null,
          null,
          null,
          null,
          null,
          null,
          8,
          13,
          null,
          13,
          8,
          null,
          null,
          8,
          8,
          8,
          null,
          null,
          5,
          7,
          8,
          10.77491314819956,
          10.77491314819956,
          null,
          null,
          10.77491314819956,
          null,
          null,
          null,
          8,
          null,
          null,
          null,
          null,
          16,
          16,
          10.77491314819956,
          10.77491314819956,
          10.77491314819956,
          8,
          null,
          8,
          7,
          7,
          11.099170124481326,
          7,
          13,
          13,
          null,
          16,
          null,
          16,
          null,
          7,
          16,
          null,
          null,
          null,
          null,
          null,
          null,
          10,
          null,
          11.099170124481326,
          null,
          8,
          null,
          13,
          7,
          7,
          7,
          8,
          null,
          null,
          10,
          11.099170124481326,
          16,
          11.099170124481326,
          11.099170124481326,
          null,
          null,
          null,
          11.099170124481326,
          null,
          10.77491314819956,
          null,
          10.77491314819956,
          7,
          16,
          7,
          null,
          11.099170124481326,
          11.099170124481326,
          7,
          7,
          11.099170124481326,
          10.77491314819956,
          16,
          null,
          10,
          11.099170124481326,
          11.099170124481326,
          7,
          8,
          null,
          null,
          10,
          11.099170124481326,
          10,
          11.099170124481326,
          8,
          10,
          null,
          null,
          7,
          null,
          null,
          11.099170124481326,
          10.77491314819956,
          null,
          11.099170124481326,
          7,
          11.099170124481326,
          11.099170124481326,
          11.099170124481326,
          7,
          11.099170124481326,
          11.099170124481326,
          11.099170124481326,
          11.099170124481326,
          11.099170124481326,
          11.099170124481326,
          11.099170124481326,
          12,
          null,
          7,
          10,
          null,
          11.099170124481326,
          8,
          10.77491314819956,
          8,
          10,
          7,
          10,
          11.099170124481326,
          10,
          10.77491314819956,
          8,
          16,
          10,
          7,
          12,
          12,
          11.099170124481326,
          11.099170124481326,
          null,
          null,
          10,
          10,
          10,
          12,
          7,
          12,
          10,
          10,
          11.099170124481326,
          16,
          null,
          12,
          12,
          12,
          12,
          null,
          null,
          11.099170124481326,
          12,
          12,
          11.099170124481326,
          7,
          11.099170124481326,
          10,
          8,
          11.099170124481326,
          11.099170124481326,
          12,
          12,
          12,
          12,
          null,
          11.099170124481326,
          10,
          11.099170124481326,
          12,
          12,
          12,
          12,
          12,
          12,
          12,
          12,
          7,
          10,
          10,
          12,
          12,
          12,
          12,
          12,
          11.099170124481326,
          12,
          12,
          12,
          13,
          12,
          12,
          10,
          12,
          11.099170124481326,
          8,
          11.099170124481326,
          10,
          11.099170124481326,
          12,
          12,
          10,
          10,
          10,
          12,
          12,
          12,
          13,
          10,
          12,
          12,
          12,
          12,
          12,
          12,
          12,
          12,
          12,
          12,
          12,
          12,
          13,
          10.8,
          10,
          10,
          10,
          12,
          12,
          12,
          12,
          10,
          10,
          12,
          12,
          10,
          10,
          12,
          null,
          12,
          10,
          12,
          null,
          12,
          12,
          12,
          12,
          12,
          12,
          12,
          12,
          12,
          12,
          12,
          12,
          12,
          12,
          12,
          12,
          12,
          12,
          12,
          12,
          12,
          12,
          12,
          12,
          12
         ],
         "x0": " ",
         "xaxis": "x",
         "y0": " ",
         "yaxis": "y"
        }
       ],
       "layout": {
        "boxmode": "group",
        "legend": {
         "tracegroupgap": 0
        },
        "margin": {
         "t": 60
        },
        "template": {
         "data": {
          "bar": [
           {
            "error_x": {
             "color": "#2a3f5f"
            },
            "error_y": {
             "color": "#2a3f5f"
            },
            "marker": {
             "line": {
              "color": "#E5ECF6",
              "width": 0.5
             },
             "pattern": {
              "fillmode": "overlay",
              "size": 10,
              "solidity": 0.2
             }
            },
            "type": "bar"
           }
          ],
          "barpolar": [
           {
            "marker": {
             "line": {
              "color": "#E5ECF6",
              "width": 0.5
             },
             "pattern": {
              "fillmode": "overlay",
              "size": 10,
              "solidity": 0.2
             }
            },
            "type": "barpolar"
           }
          ],
          "carpet": [
           {
            "aaxis": {
             "endlinecolor": "#2a3f5f",
             "gridcolor": "white",
             "linecolor": "white",
             "minorgridcolor": "white",
             "startlinecolor": "#2a3f5f"
            },
            "baxis": {
             "endlinecolor": "#2a3f5f",
             "gridcolor": "white",
             "linecolor": "white",
             "minorgridcolor": "white",
             "startlinecolor": "#2a3f5f"
            },
            "type": "carpet"
           }
          ],
          "choropleth": [
           {
            "colorbar": {
             "outlinewidth": 0,
             "ticks": ""
            },
            "type": "choropleth"
           }
          ],
          "contour": [
           {
            "colorbar": {
             "outlinewidth": 0,
             "ticks": ""
            },
            "colorscale": [
             [
              0,
              "#0d0887"
             ],
             [
              0.1111111111111111,
              "#46039f"
             ],
             [
              0.2222222222222222,
              "#7201a8"
             ],
             [
              0.3333333333333333,
              "#9c179e"
             ],
             [
              0.4444444444444444,
              "#bd3786"
             ],
             [
              0.5555555555555556,
              "#d8576b"
             ],
             [
              0.6666666666666666,
              "#ed7953"
             ],
             [
              0.7777777777777778,
              "#fb9f3a"
             ],
             [
              0.8888888888888888,
              "#fdca26"
             ],
             [
              1,
              "#f0f921"
             ]
            ],
            "type": "contour"
           }
          ],
          "contourcarpet": [
           {
            "colorbar": {
             "outlinewidth": 0,
             "ticks": ""
            },
            "type": "contourcarpet"
           }
          ],
          "heatmap": [
           {
            "colorbar": {
             "outlinewidth": 0,
             "ticks": ""
            },
            "colorscale": [
             [
              0,
              "#0d0887"
             ],
             [
              0.1111111111111111,
              "#46039f"
             ],
             [
              0.2222222222222222,
              "#7201a8"
             ],
             [
              0.3333333333333333,
              "#9c179e"
             ],
             [
              0.4444444444444444,
              "#bd3786"
             ],
             [
              0.5555555555555556,
              "#d8576b"
             ],
             [
              0.6666666666666666,
              "#ed7953"
             ],
             [
              0.7777777777777778,
              "#fb9f3a"
             ],
             [
              0.8888888888888888,
              "#fdca26"
             ],
             [
              1,
              "#f0f921"
             ]
            ],
            "type": "heatmap"
           }
          ],
          "heatmapgl": [
           {
            "colorbar": {
             "outlinewidth": 0,
             "ticks": ""
            },
            "colorscale": [
             [
              0,
              "#0d0887"
             ],
             [
              0.1111111111111111,
              "#46039f"
             ],
             [
              0.2222222222222222,
              "#7201a8"
             ],
             [
              0.3333333333333333,
              "#9c179e"
             ],
             [
              0.4444444444444444,
              "#bd3786"
             ],
             [
              0.5555555555555556,
              "#d8576b"
             ],
             [
              0.6666666666666666,
              "#ed7953"
             ],
             [
              0.7777777777777778,
              "#fb9f3a"
             ],
             [
              0.8888888888888888,
              "#fdca26"
             ],
             [
              1,
              "#f0f921"
             ]
            ],
            "type": "heatmapgl"
           }
          ],
          "histogram": [
           {
            "marker": {
             "pattern": {
              "fillmode": "overlay",
              "size": 10,
              "solidity": 0.2
             }
            },
            "type": "histogram"
           }
          ],
          "histogram2d": [
           {
            "colorbar": {
             "outlinewidth": 0,
             "ticks": ""
            },
            "colorscale": [
             [
              0,
              "#0d0887"
             ],
             [
              0.1111111111111111,
              "#46039f"
             ],
             [
              0.2222222222222222,
              "#7201a8"
             ],
             [
              0.3333333333333333,
              "#9c179e"
             ],
             [
              0.4444444444444444,
              "#bd3786"
             ],
             [
              0.5555555555555556,
              "#d8576b"
             ],
             [
              0.6666666666666666,
              "#ed7953"
             ],
             [
              0.7777777777777778,
              "#fb9f3a"
             ],
             [
              0.8888888888888888,
              "#fdca26"
             ],
             [
              1,
              "#f0f921"
             ]
            ],
            "type": "histogram2d"
           }
          ],
          "histogram2dcontour": [
           {
            "colorbar": {
             "outlinewidth": 0,
             "ticks": ""
            },
            "colorscale": [
             [
              0,
              "#0d0887"
             ],
             [
              0.1111111111111111,
              "#46039f"
             ],
             [
              0.2222222222222222,
              "#7201a8"
             ],
             [
              0.3333333333333333,
              "#9c179e"
             ],
             [
              0.4444444444444444,
              "#bd3786"
             ],
             [
              0.5555555555555556,
              "#d8576b"
             ],
             [
              0.6666666666666666,
              "#ed7953"
             ],
             [
              0.7777777777777778,
              "#fb9f3a"
             ],
             [
              0.8888888888888888,
              "#fdca26"
             ],
             [
              1,
              "#f0f921"
             ]
            ],
            "type": "histogram2dcontour"
           }
          ],
          "mesh3d": [
           {
            "colorbar": {
             "outlinewidth": 0,
             "ticks": ""
            },
            "type": "mesh3d"
           }
          ],
          "parcoords": [
           {
            "line": {
             "colorbar": {
              "outlinewidth": 0,
              "ticks": ""
             }
            },
            "type": "parcoords"
           }
          ],
          "pie": [
           {
            "automargin": true,
            "type": "pie"
           }
          ],
          "scatter": [
           {
            "fillpattern": {
             "fillmode": "overlay",
             "size": 10,
             "solidity": 0.2
            },
            "type": "scatter"
           }
          ],
          "scatter3d": [
           {
            "line": {
             "colorbar": {
              "outlinewidth": 0,
              "ticks": ""
             }
            },
            "marker": {
             "colorbar": {
              "outlinewidth": 0,
              "ticks": ""
             }
            },
            "type": "scatter3d"
           }
          ],
          "scattercarpet": [
           {
            "marker": {
             "colorbar": {
              "outlinewidth": 0,
              "ticks": ""
             }
            },
            "type": "scattercarpet"
           }
          ],
          "scattergeo": [
           {
            "marker": {
             "colorbar": {
              "outlinewidth": 0,
              "ticks": ""
             }
            },
            "type": "scattergeo"
           }
          ],
          "scattergl": [
           {
            "marker": {
             "colorbar": {
              "outlinewidth": 0,
              "ticks": ""
             }
            },
            "type": "scattergl"
           }
          ],
          "scattermapbox": [
           {
            "marker": {
             "colorbar": {
              "outlinewidth": 0,
              "ticks": ""
             }
            },
            "type": "scattermapbox"
           }
          ],
          "scatterpolar": [
           {
            "marker": {
             "colorbar": {
              "outlinewidth": 0,
              "ticks": ""
             }
            },
            "type": "scatterpolar"
           }
          ],
          "scatterpolargl": [
           {
            "marker": {
             "colorbar": {
              "outlinewidth": 0,
              "ticks": ""
             }
            },
            "type": "scatterpolargl"
           }
          ],
          "scatterternary": [
           {
            "marker": {
             "colorbar": {
              "outlinewidth": 0,
              "ticks": ""
             }
            },
            "type": "scatterternary"
           }
          ],
          "surface": [
           {
            "colorbar": {
             "outlinewidth": 0,
             "ticks": ""
            },
            "colorscale": [
             [
              0,
              "#0d0887"
             ],
             [
              0.1111111111111111,
              "#46039f"
             ],
             [
              0.2222222222222222,
              "#7201a8"
             ],
             [
              0.3333333333333333,
              "#9c179e"
             ],
             [
              0.4444444444444444,
              "#bd3786"
             ],
             [
              0.5555555555555556,
              "#d8576b"
             ],
             [
              0.6666666666666666,
              "#ed7953"
             ],
             [
              0.7777777777777778,
              "#fb9f3a"
             ],
             [
              0.8888888888888888,
              "#fdca26"
             ],
             [
              1,
              "#f0f921"
             ]
            ],
            "type": "surface"
           }
          ],
          "table": [
           {
            "cells": {
             "fill": {
              "color": "#EBF0F8"
             },
             "line": {
              "color": "white"
             }
            },
            "header": {
             "fill": {
              "color": "#C8D4E3"
             },
             "line": {
              "color": "white"
             }
            },
            "type": "table"
           }
          ]
         },
         "layout": {
          "annotationdefaults": {
           "arrowcolor": "#2a3f5f",
           "arrowhead": 0,
           "arrowwidth": 1
          },
          "autotypenumbers": "strict",
          "coloraxis": {
           "colorbar": {
            "outlinewidth": 0,
            "ticks": ""
           }
          },
          "colorscale": {
           "diverging": [
            [
             0,
             "#8e0152"
            ],
            [
             0.1,
             "#c51b7d"
            ],
            [
             0.2,
             "#de77ae"
            ],
            [
             0.3,
             "#f1b6da"
            ],
            [
             0.4,
             "#fde0ef"
            ],
            [
             0.5,
             "#f7f7f7"
            ],
            [
             0.6,
             "#e6f5d0"
            ],
            [
             0.7,
             "#b8e186"
            ],
            [
             0.8,
             "#7fbc41"
            ],
            [
             0.9,
             "#4d9221"
            ],
            [
             1,
             "#276419"
            ]
           ],
           "sequential": [
            [
             0,
             "#0d0887"
            ],
            [
             0.1111111111111111,
             "#46039f"
            ],
            [
             0.2222222222222222,
             "#7201a8"
            ],
            [
             0.3333333333333333,
             "#9c179e"
            ],
            [
             0.4444444444444444,
             "#bd3786"
            ],
            [
             0.5555555555555556,
             "#d8576b"
            ],
            [
             0.6666666666666666,
             "#ed7953"
            ],
            [
             0.7777777777777778,
             "#fb9f3a"
            ],
            [
             0.8888888888888888,
             "#fdca26"
            ],
            [
             1,
             "#f0f921"
            ]
           ],
           "sequentialminus": [
            [
             0,
             "#0d0887"
            ],
            [
             0.1111111111111111,
             "#46039f"
            ],
            [
             0.2222222222222222,
             "#7201a8"
            ],
            [
             0.3333333333333333,
             "#9c179e"
            ],
            [
             0.4444444444444444,
             "#bd3786"
            ],
            [
             0.5555555555555556,
             "#d8576b"
            ],
            [
             0.6666666666666666,
             "#ed7953"
            ],
            [
             0.7777777777777778,
             "#fb9f3a"
            ],
            [
             0.8888888888888888,
             "#fdca26"
            ],
            [
             1,
             "#f0f921"
            ]
           ]
          },
          "colorway": [
           "#636efa",
           "#EF553B",
           "#00cc96",
           "#ab63fa",
           "#FFA15A",
           "#19d3f3",
           "#FF6692",
           "#B6E880",
           "#FF97FF",
           "#FECB52"
          ],
          "font": {
           "color": "#2a3f5f"
          },
          "geo": {
           "bgcolor": "white",
           "lakecolor": "white",
           "landcolor": "#E5ECF6",
           "showlakes": true,
           "showland": true,
           "subunitcolor": "white"
          },
          "hoverlabel": {
           "align": "left"
          },
          "hovermode": "closest",
          "mapbox": {
           "style": "light"
          },
          "paper_bgcolor": "white",
          "plot_bgcolor": "#E5ECF6",
          "polar": {
           "angularaxis": {
            "gridcolor": "white",
            "linecolor": "white",
            "ticks": ""
           },
           "bgcolor": "#E5ECF6",
           "radialaxis": {
            "gridcolor": "white",
            "linecolor": "white",
            "ticks": ""
           }
          },
          "scene": {
           "xaxis": {
            "backgroundcolor": "#E5ECF6",
            "gridcolor": "white",
            "gridwidth": 2,
            "linecolor": "white",
            "showbackground": true,
            "ticks": "",
            "zerolinecolor": "white"
           },
           "yaxis": {
            "backgroundcolor": "#E5ECF6",
            "gridcolor": "white",
            "gridwidth": 2,
            "linecolor": "white",
            "showbackground": true,
            "ticks": "",
            "zerolinecolor": "white"
           },
           "zaxis": {
            "backgroundcolor": "#E5ECF6",
            "gridcolor": "white",
            "gridwidth": 2,
            "linecolor": "white",
            "showbackground": true,
            "ticks": "",
            "zerolinecolor": "white"
           }
          },
          "shapedefaults": {
           "line": {
            "color": "#2a3f5f"
           }
          },
          "ternary": {
           "aaxis": {
            "gridcolor": "white",
            "linecolor": "white",
            "ticks": ""
           },
           "baxis": {
            "gridcolor": "white",
            "linecolor": "white",
            "ticks": ""
           },
           "bgcolor": "#E5ECF6",
           "caxis": {
            "gridcolor": "white",
            "linecolor": "white",
            "ticks": ""
           }
          },
          "title": {
           "x": 0.05
          },
          "xaxis": {
           "automargin": true,
           "gridcolor": "white",
           "linecolor": "white",
           "ticks": "",
           "title": {
            "standoff": 15
           },
           "zerolinecolor": "white",
           "zerolinewidth": 2
          },
          "yaxis": {
           "automargin": true,
           "gridcolor": "white",
           "linecolor": "white",
           "ticks": "",
           "title": {
            "standoff": 15
           },
           "zerolinecolor": "white",
           "zerolinewidth": 2
          }
         }
        },
        "xaxis": {
         "anchor": "y",
         "domain": [
          0,
          1
         ],
         "title": {
          "text": "Selfie(mégapixels)"
         }
        },
        "yaxis": {
         "anchor": "x",
         "domain": [
          0,
          1
         ]
        }
       }
      },
      "text/html": [
       "<div>                            <div id=\"486a5b5b-e045-4bc6-aef6-e393c9c1c6c3\" class=\"plotly-graph-div\" style=\"height:525px; width:100%;\"></div>            <script type=\"text/javascript\">                require([\"plotly\"], function(Plotly) {                    window.PLOTLYENV=window.PLOTLYENV || {};                                    if (document.getElementById(\"486a5b5b-e045-4bc6-aef6-e393c9c1c6c3\")) {                    Plotly.newPlot(                        \"486a5b5b-e045-4bc6-aef6-e393c9c1c6c3\",                        [{\"alignmentgroup\":\"True\",\"hovertemplate\":\"Selfie(m\\u00e9gapixels)=%{x}<extra></extra>\",\"legendgroup\":\"\",\"marker\":{\"color\":\"#636efa\"},\"name\":\"\",\"notched\":false,\"offsetgroup\":\"\",\"orientation\":\"h\",\"showlegend\":false,\"x\":[10.0,16.0,16.0,8.0,8.0,5.0,16.0,16.0,11.099170124481326,11.099170124481326,8.0,16.0,11.099170124481326,11.099170124481326,8.0,5.0,16.0,16.0,8.0,13.0,5.0,5.0,null,5.0,16.0,16.0,2.0,13.0,12.0,12.0,12.0,12.0,12.0,12.0,12.0,12.0,12.0,12.0,12.0,12.0,12.0,10.8,12.0,12.0,null,null,12.0,null,12.0,10.8,8.0,12.0,7.0,12.0,12.0,12.0,12.0,12.0,10.8,12.0,12.0,12.0,12.0,12.0,12.0,10.0,null,12.0,12.0,16.0,11.099170124481326,12.0,10.77491314819956,8.0,12.0,7.0,12.0,12.0,5.0,11.099170124481326,8.0,12.0,16.0,16.0,11.099170124481326,10.77491314819956,16.0,12.0,12.0,16.0,8.0,12.0,5.0,12.0,12.0,8.0,13.0,16.0,12.0,11.099170124481326,12.0,11.099170124481326,11.099170124481326,7.0,11.099170124481326,11.099170124481326,13.0,5.0,8.0,5.0,5.0,16.0,16.0,7.0,13.0,8.0,5.0,5.0,11.099170124481326,10.8,12.0,5.0,5.0,5.0,8.0,8.0,16.0,16.0,13.0,16.0,16.0,16.0,8.0,11.099170124481326,16.0,11.099170124481326,16.0,16.0,7.0,16.0,16.0,10.77491314819956,11.099170124481326,11.099170124481326,11.099170124481326,7.0,7.0,11.099170124481326,12.0,11.099170124481326,11.099170124481326,11.099170124481326,11.099170124481326,12.0,12.0,12.0,12.0,12.0,12.0,12.0,12.0,12.0,12.0,null,null,12.0,12.0,12.0,null,null,null,12.0,12.0,12.0,12.0,12.0,12.0,5.0,10.0,12.0,12.0,8.0,16.0,12.0,8.0,8.0,16.0,11.099170124481326,16.0,11.099170124481326,12.0,13.0,8.0,5.0,5.0,8.0,16.0,11.099170124481326,8.0,8.0,10.77491314819956,8.0,12.0,12.0,11.099170124481326,11.099170124481326,11.099170124481326,8.0,12.0,8.0,13.0,16.0,16.0,11.099170124481326,11.099170124481326,11.099170124481326,12.0,12.0,16.0,8.0,11.099170124481326,null,null,null,null,null,5.0,null,null,null,5.0,5.0,null,null,null,null,null,null,null,null,null,null,8.0,2.0,null,null,null,2.0,null,5.0,null,null,null,null,null,5.0,5.0,8.0,null,8.0,8.0,8.0,null,null,null,null,null,null,null,null,null,null,5.0,null,null,8.0,16.0,13.0,null,null,13.0,null,16.0,null,8.0,8.0,null,null,null,5.0,null,null,16.0,16.0,null,8.0,11.099170124481326,null,16.0,null,null,null,13.0,13.0,13.0,null,null,null,null,null,null,null,8.0,11.099170124481326,11.099170124481326,8.0,null,null,13.0,16.0,13.0,13.0,16.0,null,16.0,null,11.099170124481326,11.099170124481326,null,null,11.099170124481326,null,null,null,null,null,8.0,10.77491314819956,13.0,null,null,11.099170124481326,null,8.0,null,null,16.0,null,null,null,16.0,null,11.099170124481326,11.099170124481326,11.099170124481326,null,11.099170124481326,10.0,null,11.099170124481326,null,null,null,11.099170124481326,10.0,12.0,null,10.0,12.0,null,null,10.0,13.0,null,null,null,null,null,null,null,null,null,null,null,null,null,8.0,10.0,null,null,10.8,5.0,8.0,7.0,12.0,7.0,8.0,7.0,7.0,7.0,7.0,7.0,7.0,7.0,7.0,11.099170124481326,7.0,7.0,7.0,7.0,10.0,12.0,12.0,7.0,null,null,null,null,null,null,null,null,5.0,null,null,null,null,null,null,null,null,null,null,null,5.0,8.0,null,8.0,8.0,8.0,8.0,null,8.0,null,null,null,null,null,null,null,null,null,null,null,7.0,null,5.0,null,null,8.0,null,null,null,null,null,null,null,null,null,5.0,null,null,null,null,null,null,8.0,13.0,null,13.0,8.0,null,null,8.0,8.0,8.0,null,null,5.0,7.0,8.0,10.77491314819956,10.77491314819956,null,null,10.77491314819956,null,null,null,8.0,null,null,null,null,16.0,16.0,10.77491314819956,10.77491314819956,10.77491314819956,8.0,null,8.0,7.0,7.0,11.099170124481326,7.0,13.0,13.0,null,16.0,null,16.0,null,7.0,16.0,null,null,null,null,null,null,10.0,null,11.099170124481326,null,8.0,null,13.0,7.0,7.0,7.0,8.0,null,null,10.0,11.099170124481326,16.0,11.099170124481326,11.099170124481326,null,null,null,11.099170124481326,null,10.77491314819956,null,10.77491314819956,7.0,16.0,7.0,null,11.099170124481326,11.099170124481326,7.0,7.0,11.099170124481326,10.77491314819956,16.0,null,10.0,11.099170124481326,11.099170124481326,7.0,8.0,null,null,10.0,11.099170124481326,10.0,11.099170124481326,8.0,10.0,null,null,7.0,null,null,11.099170124481326,10.77491314819956,null,11.099170124481326,7.0,11.099170124481326,11.099170124481326,11.099170124481326,7.0,11.099170124481326,11.099170124481326,11.099170124481326,11.099170124481326,11.099170124481326,11.099170124481326,11.099170124481326,12.0,null,7.0,10.0,null,11.099170124481326,8.0,10.77491314819956,8.0,10.0,7.0,10.0,11.099170124481326,10.0,10.77491314819956,8.0,16.0,10.0,7.0,12.0,12.0,11.099170124481326,11.099170124481326,null,null,10.0,10.0,10.0,12.0,7.0,12.0,10.0,10.0,11.099170124481326,16.0,null,12.0,12.0,12.0,12.0,null,null,11.099170124481326,12.0,12.0,11.099170124481326,7.0,11.099170124481326,10.0,8.0,11.099170124481326,11.099170124481326,12.0,12.0,12.0,12.0,null,11.099170124481326,10.0,11.099170124481326,12.0,12.0,12.0,12.0,12.0,12.0,12.0,12.0,7.0,10.0,10.0,12.0,12.0,12.0,12.0,12.0,11.099170124481326,12.0,12.0,12.0,13.0,12.0,12.0,10.0,12.0,11.099170124481326,8.0,11.099170124481326,10.0,11.099170124481326,12.0,12.0,10.0,10.0,10.0,12.0,12.0,12.0,13.0,10.0,12.0,12.0,12.0,12.0,12.0,12.0,12.0,12.0,12.0,12.0,12.0,12.0,13.0,10.8,10.0,10.0,10.0,12.0,12.0,12.0,12.0,10.0,10.0,12.0,12.0,10.0,10.0,12.0,null,12.0,10.0,12.0,null,12.0,12.0,12.0,12.0,12.0,12.0,12.0,12.0,12.0,12.0,12.0,12.0,12.0,12.0,12.0,12.0,12.0,12.0,12.0,12.0,12.0,12.0,12.0,12.0,12.0],\"x0\":\" \",\"xaxis\":\"x\",\"y0\":\" \",\"yaxis\":\"y\",\"type\":\"box\",\"fillcolor\":\"#C9A26B\"}],                        {\"template\":{\"data\":{\"histogram2dcontour\":[{\"type\":\"histogram2dcontour\",\"colorbar\":{\"outlinewidth\":0,\"ticks\":\"\"},\"colorscale\":[[0.0,\"#0d0887\"],[0.1111111111111111,\"#46039f\"],[0.2222222222222222,\"#7201a8\"],[0.3333333333333333,\"#9c179e\"],[0.4444444444444444,\"#bd3786\"],[0.5555555555555556,\"#d8576b\"],[0.6666666666666666,\"#ed7953\"],[0.7777777777777778,\"#fb9f3a\"],[0.8888888888888888,\"#fdca26\"],[1.0,\"#f0f921\"]]}],\"choropleth\":[{\"type\":\"choropleth\",\"colorbar\":{\"outlinewidth\":0,\"ticks\":\"\"}}],\"histogram2d\":[{\"type\":\"histogram2d\",\"colorbar\":{\"outlinewidth\":0,\"ticks\":\"\"},\"colorscale\":[[0.0,\"#0d0887\"],[0.1111111111111111,\"#46039f\"],[0.2222222222222222,\"#7201a8\"],[0.3333333333333333,\"#9c179e\"],[0.4444444444444444,\"#bd3786\"],[0.5555555555555556,\"#d8576b\"],[0.6666666666666666,\"#ed7953\"],[0.7777777777777778,\"#fb9f3a\"],[0.8888888888888888,\"#fdca26\"],[1.0,\"#f0f921\"]]}],\"heatmap\":[{\"type\":\"heatmap\",\"colorbar\":{\"outlinewidth\":0,\"ticks\":\"\"},\"colorscale\":[[0.0,\"#0d0887\"],[0.1111111111111111,\"#46039f\"],[0.2222222222222222,\"#7201a8\"],[0.3333333333333333,\"#9c179e\"],[0.4444444444444444,\"#bd3786\"],[0.5555555555555556,\"#d8576b\"],[0.6666666666666666,\"#ed7953\"],[0.7777777777777778,\"#fb9f3a\"],[0.8888888888888888,\"#fdca26\"],[1.0,\"#f0f921\"]]}],\"heatmapgl\":[{\"type\":\"heatmapgl\",\"colorbar\":{\"outlinewidth\":0,\"ticks\":\"\"},\"colorscale\":[[0.0,\"#0d0887\"],[0.1111111111111111,\"#46039f\"],[0.2222222222222222,\"#7201a8\"],[0.3333333333333333,\"#9c179e\"],[0.4444444444444444,\"#bd3786\"],[0.5555555555555556,\"#d8576b\"],[0.6666666666666666,\"#ed7953\"],[0.7777777777777778,\"#fb9f3a\"],[0.8888888888888888,\"#fdca26\"],[1.0,\"#f0f921\"]]}],\"contourcarpet\":[{\"type\":\"contourcarpet\",\"colorbar\":{\"outlinewidth\":0,\"ticks\":\"\"}}],\"contour\":[{\"type\":\"contour\",\"colorbar\":{\"outlinewidth\":0,\"ticks\":\"\"},\"colorscale\":[[0.0,\"#0d0887\"],[0.1111111111111111,\"#46039f\"],[0.2222222222222222,\"#7201a8\"],[0.3333333333333333,\"#9c179e\"],[0.4444444444444444,\"#bd3786\"],[0.5555555555555556,\"#d8576b\"],[0.6666666666666666,\"#ed7953\"],[0.7777777777777778,\"#fb9f3a\"],[0.8888888888888888,\"#fdca26\"],[1.0,\"#f0f921\"]]}],\"surface\":[{\"type\":\"surface\",\"colorbar\":{\"outlinewidth\":0,\"ticks\":\"\"},\"colorscale\":[[0.0,\"#0d0887\"],[0.1111111111111111,\"#46039f\"],[0.2222222222222222,\"#7201a8\"],[0.3333333333333333,\"#9c179e\"],[0.4444444444444444,\"#bd3786\"],[0.5555555555555556,\"#d8576b\"],[0.6666666666666666,\"#ed7953\"],[0.7777777777777778,\"#fb9f3a\"],[0.8888888888888888,\"#fdca26\"],[1.0,\"#f0f921\"]]}],\"mesh3d\":[{\"type\":\"mesh3d\",\"colorbar\":{\"outlinewidth\":0,\"ticks\":\"\"}}],\"scatter\":[{\"fillpattern\":{\"fillmode\":\"overlay\",\"size\":10,\"solidity\":0.2},\"type\":\"scatter\"}],\"parcoords\":[{\"type\":\"parcoords\",\"line\":{\"colorbar\":{\"outlinewidth\":0,\"ticks\":\"\"}}}],\"scatterpolargl\":[{\"type\":\"scatterpolargl\",\"marker\":{\"colorbar\":{\"outlinewidth\":0,\"ticks\":\"\"}}}],\"bar\":[{\"error_x\":{\"color\":\"#2a3f5f\"},\"error_y\":{\"color\":\"#2a3f5f\"},\"marker\":{\"line\":{\"color\":\"#E5ECF6\",\"width\":0.5},\"pattern\":{\"fillmode\":\"overlay\",\"size\":10,\"solidity\":0.2}},\"type\":\"bar\"}],\"scattergeo\":[{\"type\":\"scattergeo\",\"marker\":{\"colorbar\":{\"outlinewidth\":0,\"ticks\":\"\"}}}],\"scatterpolar\":[{\"type\":\"scatterpolar\",\"marker\":{\"colorbar\":{\"outlinewidth\":0,\"ticks\":\"\"}}}],\"histogram\":[{\"marker\":{\"pattern\":{\"fillmode\":\"overlay\",\"size\":10,\"solidity\":0.2}},\"type\":\"histogram\"}],\"scattergl\":[{\"type\":\"scattergl\",\"marker\":{\"colorbar\":{\"outlinewidth\":0,\"ticks\":\"\"}}}],\"scatter3d\":[{\"type\":\"scatter3d\",\"line\":{\"colorbar\":{\"outlinewidth\":0,\"ticks\":\"\"}},\"marker\":{\"colorbar\":{\"outlinewidth\":0,\"ticks\":\"\"}}}],\"scattermapbox\":[{\"type\":\"scattermapbox\",\"marker\":{\"colorbar\":{\"outlinewidth\":0,\"ticks\":\"\"}}}],\"scatterternary\":[{\"type\":\"scatterternary\",\"marker\":{\"colorbar\":{\"outlinewidth\":0,\"ticks\":\"\"}}}],\"scattercarpet\":[{\"type\":\"scattercarpet\",\"marker\":{\"colorbar\":{\"outlinewidth\":0,\"ticks\":\"\"}}}],\"carpet\":[{\"aaxis\":{\"endlinecolor\":\"#2a3f5f\",\"gridcolor\":\"white\",\"linecolor\":\"white\",\"minorgridcolor\":\"white\",\"startlinecolor\":\"#2a3f5f\"},\"baxis\":{\"endlinecolor\":\"#2a3f5f\",\"gridcolor\":\"white\",\"linecolor\":\"white\",\"minorgridcolor\":\"white\",\"startlinecolor\":\"#2a3f5f\"},\"type\":\"carpet\"}],\"table\":[{\"cells\":{\"fill\":{\"color\":\"#EBF0F8\"},\"line\":{\"color\":\"white\"}},\"header\":{\"fill\":{\"color\":\"#C8D4E3\"},\"line\":{\"color\":\"white\"}},\"type\":\"table\"}],\"barpolar\":[{\"marker\":{\"line\":{\"color\":\"#E5ECF6\",\"width\":0.5},\"pattern\":{\"fillmode\":\"overlay\",\"size\":10,\"solidity\":0.2}},\"type\":\"barpolar\"}],\"pie\":[{\"automargin\":true,\"type\":\"pie\"}]},\"layout\":{\"autotypenumbers\":\"strict\",\"colorway\":[\"#636efa\",\"#EF553B\",\"#00cc96\",\"#ab63fa\",\"#FFA15A\",\"#19d3f3\",\"#FF6692\",\"#B6E880\",\"#FF97FF\",\"#FECB52\"],\"font\":{\"color\":\"#2a3f5f\"},\"hovermode\":\"closest\",\"hoverlabel\":{\"align\":\"left\"},\"paper_bgcolor\":\"white\",\"plot_bgcolor\":\"#E5ECF6\",\"polar\":{\"bgcolor\":\"#E5ECF6\",\"angularaxis\":{\"gridcolor\":\"white\",\"linecolor\":\"white\",\"ticks\":\"\"},\"radialaxis\":{\"gridcolor\":\"white\",\"linecolor\":\"white\",\"ticks\":\"\"}},\"ternary\":{\"bgcolor\":\"#E5ECF6\",\"aaxis\":{\"gridcolor\":\"white\",\"linecolor\":\"white\",\"ticks\":\"\"},\"baxis\":{\"gridcolor\":\"white\",\"linecolor\":\"white\",\"ticks\":\"\"},\"caxis\":{\"gridcolor\":\"white\",\"linecolor\":\"white\",\"ticks\":\"\"}},\"coloraxis\":{\"colorbar\":{\"outlinewidth\":0,\"ticks\":\"\"}},\"colorscale\":{\"sequential\":[[0.0,\"#0d0887\"],[0.1111111111111111,\"#46039f\"],[0.2222222222222222,\"#7201a8\"],[0.3333333333333333,\"#9c179e\"],[0.4444444444444444,\"#bd3786\"],[0.5555555555555556,\"#d8576b\"],[0.6666666666666666,\"#ed7953\"],[0.7777777777777778,\"#fb9f3a\"],[0.8888888888888888,\"#fdca26\"],[1.0,\"#f0f921\"]],\"sequentialminus\":[[0.0,\"#0d0887\"],[0.1111111111111111,\"#46039f\"],[0.2222222222222222,\"#7201a8\"],[0.3333333333333333,\"#9c179e\"],[0.4444444444444444,\"#bd3786\"],[0.5555555555555556,\"#d8576b\"],[0.6666666666666666,\"#ed7953\"],[0.7777777777777778,\"#fb9f3a\"],[0.8888888888888888,\"#fdca26\"],[1.0,\"#f0f921\"]],\"diverging\":[[0,\"#8e0152\"],[0.1,\"#c51b7d\"],[0.2,\"#de77ae\"],[0.3,\"#f1b6da\"],[0.4,\"#fde0ef\"],[0.5,\"#f7f7f7\"],[0.6,\"#e6f5d0\"],[0.7,\"#b8e186\"],[0.8,\"#7fbc41\"],[0.9,\"#4d9221\"],[1,\"#276419\"]]},\"xaxis\":{\"gridcolor\":\"white\",\"linecolor\":\"white\",\"ticks\":\"\",\"title\":{\"standoff\":15},\"zerolinecolor\":\"white\",\"automargin\":true,\"zerolinewidth\":2},\"yaxis\":{\"gridcolor\":\"white\",\"linecolor\":\"white\",\"ticks\":\"\",\"title\":{\"standoff\":15},\"zerolinecolor\":\"white\",\"automargin\":true,\"zerolinewidth\":2},\"scene\":{\"xaxis\":{\"backgroundcolor\":\"#E5ECF6\",\"gridcolor\":\"white\",\"linecolor\":\"white\",\"showbackground\":true,\"ticks\":\"\",\"zerolinecolor\":\"white\",\"gridwidth\":2},\"yaxis\":{\"backgroundcolor\":\"#E5ECF6\",\"gridcolor\":\"white\",\"linecolor\":\"white\",\"showbackground\":true,\"ticks\":\"\",\"zerolinecolor\":\"white\",\"gridwidth\":2},\"zaxis\":{\"backgroundcolor\":\"#E5ECF6\",\"gridcolor\":\"white\",\"linecolor\":\"white\",\"showbackground\":true,\"ticks\":\"\",\"zerolinecolor\":\"white\",\"gridwidth\":2}},\"shapedefaults\":{\"line\":{\"color\":\"#2a3f5f\"}},\"annotationdefaults\":{\"arrowcolor\":\"#2a3f5f\",\"arrowhead\":0,\"arrowwidth\":1},\"geo\":{\"bgcolor\":\"white\",\"landcolor\":\"#E5ECF6\",\"subunitcolor\":\"white\",\"showland\":true,\"showlakes\":true,\"lakecolor\":\"white\"},\"title\":{\"x\":0.05},\"mapbox\":{\"style\":\"light\"}}},\"xaxis\":{\"anchor\":\"y\",\"domain\":[0.0,1.0],\"title\":{\"text\":\"Selfie(m\\u00e9gapixels)\"}},\"yaxis\":{\"anchor\":\"x\",\"domain\":[0.0,1.0]},\"legend\":{\"tracegroupgap\":0},\"margin\":{\"t\":60},\"boxmode\":\"group\"},                        {\"responsive\": true}                    ).then(function(){\n",
       "                            \n",
       "var gd = document.getElementById('486a5b5b-e045-4bc6-aef6-e393c9c1c6c3');\n",
       "var x = new MutationObserver(function (mutations, observer) {{\n",
       "        var display = window.getComputedStyle(gd).display;\n",
       "        if (!display || display === 'none') {{\n",
       "            console.log([gd, 'removed!']);\n",
       "            Plotly.purge(gd);\n",
       "            observer.disconnect();\n",
       "        }}\n",
       "}});\n",
       "\n",
       "// Listen for the removal of the full notebook cells\n",
       "var notebookContainer = gd.closest('#notebook-container');\n",
       "if (notebookContainer) {{\n",
       "    x.observe(notebookContainer, {childList: true});\n",
       "}}\n",
       "\n",
       "// Listen for the clearing of the current output cell\n",
       "var outputEl = gd.closest('.output');\n",
       "if (outputEl) {{\n",
       "    x.observe(outputEl, {childList: true});\n",
       "}}\n",
       "\n",
       "                        })                };                });            </script>        </div>"
      ]
     },
     "metadata": {},
     "output_type": "display_data"
    },
    {
     "data": {
      "application/vnd.plotly.v1+json": {
       "config": {
        "plotlyServerURL": "https://plot.ly"
       },
       "data": [
        {
         "alignmentgroup": "True",
         "fillcolor": "#C9A26B",
         "hovertemplate": "Price(€)=%{x}<extra></extra>",
         "legendgroup": "",
         "marker": {
          "color": "#636efa"
         },
         "name": "",
         "notched": false,
         "offsetgroup": "",
         "orientation": "h",
         "showlegend": false,
         "type": "box",
         "x": [
          749,
          249,
          419,
          299,
          229,
          129,
          299,
          299,
          449,
          449,
          269,
          349,
          599,
          459,
          199,
          249,
          339,
          249,
          279,
          229,
          114.99,
          119,
          299,
          179,
          329,
          249,
          329,
          199,
          1379,
          1229,
          1379,
          1229,
          969,
          859,
          969,
          1379,
          1509,
          1509,
          1379,
          1359,
          969,
          799,
          1229,
          969,
          1119,
          1119,
          859,
          1119,
          759,
          649,
          349,
          859,
          559,
          859,
          1509,
          979,
          979,
          759,
          799,
          1099,
          809,
          1359,
          1099,
          1509,
          1099,
          749,
          1249,
          759,
          979,
          379,
          549,
          809,
          699,
          199,
          1099,
          629,
          979,
          979,
          149,
          299,
          179,
          759,
          339,
          199,
          659,
          649,
          269,
          1398.98,
          1359,
          319,
          199,
          1099,
          149,
          1049,
          927.69,
          219,
          199,
          319,
          799,
          299,
          759,
          699,
          699,
          629,
          549,
          522.74,
          199,
          189,
          179,
          179,
          149,
          349,
          319,
          299,
          249,
          249,
          179,
          149,
          899,
          649,
          809,
          119,
          139,
          149,
          179,
          185.86,
          189,
          200.53,
          219,
          241.46,
          315.23,
          319,
          443.75,
          499,
          549,
          549,
          549,
          599,
          629,
          699,
          699,
          699,
          746.85,
          749,
          749,
          759,
          759,
          788.4,
          849,
          849,
          899,
          899,
          899,
          927.69,
          929,
          929,
          929,
          929,
          1209,
          1209,
          1209,
          1209,
          1237.32,
          1249,
          1249,
          1359,
          1359,
          1399,
          1509,
          1509,
          1509,
          529,
          599,
          859,
          529,
          599,
          809,
          229,
          975.23,
          599,
          759,
          335.9,
          279,
          759,
          499,
          249,
          319,
          899,
          379,
          479,
          849,
          469,
          334.88,
          129,
          179,
          199,
          299,
          479,
          499,
          549,
          579,
          799,
          799,
          879,
          1099,
          1099,
          1199,
          1499,
          715,
          279,
          216.39,
          229,
          349,
          499,
          649,
          799,
          879,
          879,
          303.25,
          187.36,
          385.71,
          100.94,
          102.06,
          102.29,
          102.38,
          102.6,
          106.32,
          107.66,
          107.66,
          109.01,
          109.1,
          109.4,
          114.38,
          126.98,
          136.81,
          137.36,
          138.21,
          139.62,
          144,
          147.9,
          148.94,
          155.06,
          156,
          157,
          158.08,
          158.33,
          162.94,
          169.1,
          171.42,
          174,
          175.03,
          175.98,
          176.13,
          180.42,
          181.74,
          186.58,
          187,
          191.57,
          193.11,
          193.82,
          194.9,
          199.5,
          199.78,
          201.54,
          201.62,
          210.27,
          214.04,
          218.25,
          219.28,
          223.17,
          225.33,
          225.72,
          227,
          228,
          233.7,
          235.95,
          239.31,
          241.59,
          242.97,
          242.97,
          246.34,
          246.69,
          249.14,
          256.77,
          260,
          263,
          264.59,
          267.82,
          268.8,
          269,
          270.58,
          276.99,
          278,
          278.63,
          280.04,
          282,
          284.38,
          288.46,
          290.84,
          292.62,
          297.4,
          297.83,
          303.15,
          303.15,
          303.15,
          304.05,
          306.38,
          306.38,
          309.21,
          309.52,
          313.74,
          316.23,
          318,
          318.27,
          324.1,
          337.36,
          344.77,
          347.24,
          349,
          351.89,
          352.9,
          352.9,
          354,
          356.18,
          363.68,
          368,
          373.46,
          383.78,
          385.71,
          385.71,
          385.71,
          386.34,
          388.84,
          393.78,
          396.78,
          398.4,
          404,
          409.8,
          410.2,
          416.24,
          427.48,
          427.5,
          427.48,
          436.1,
          444.33,
          445.58,
          456.97,
          471.37,
          476.62,
          476.62,
          489.99,
          498.42,
          502.5,
          515.72,
          528,
          549.74,
          580,
          605.7,
          608.48,
          626.9,
          639.51,
          645.13,
          653.55,
          676,
          700,
          734,
          752.7,
          752.7,
          772,
          781.34,
          799.5,
          799.5,
          805.54,
          952.65,
          988.14,
          1070.6,
          1072,
          1106.18,
          1115.85,
          1155,
          1156,
          1174.5,
          1174.65,
          1185.51,
          1188.55,
          1287.79,
          1332.49,
          1408.2,
          1417.71,
          1457.06,
          799,
          189,
          249,
          279,
          699,
          289,
          259,
          379,
          349,
          349,
          189,
          199,
          249,
          289,
          319,
          319,
          349,
          359,
          379,
          379,
          379,
          699,
          699,
          389,
          85,
          92,
          94,
          96.72,
          98,
          99,
          104,
          104,
          104,
          104.87,
          109,
          110,
          116,
          117,
          118,
          119.9,
          127,
          130,
          135,
          138,
          139,
          141,
          142,
          142,
          144,
          144,
          145,
          145,
          145,
          145,
          146,
          147,
          150,
          150,
          150,
          150,
          150,
          151,
          154,
          154,
          155,
          155,
          158.9,
          159,
          159,
          159,
          159.9,
          159.99,
          163.9,
          164,
          165,
          167.51,
          168,
          169,
          169,
          170,
          170,
          170,
          170,
          170,
          171,
          175,
          172.47,
          176,
          178,
          184,
          184,
          184,
          184,
          184,
          189.9,
          190,
          190,
          190,
          191,
          191,
          192,
          194,
          194,
          194,
          199,
          199,
          199,
          200,
          200,
          201,
          203,
          203,
          203,
          207,
          209,
          209,
          215,
          215,
          215,
          218.9,
          219,
          219,
          220,
          220,
          220,
          220,
          220,
          220,
          221.9,
          222.7,
          223,
          228.09,
          236,
          239,
          239.9,
          244,
          244,
          247,
          249,
          250,
          250,
          251,
          251,
          251.9,
          251.9,
          251.9,
          251.9,
          254,
          254,
          255,
          255,
          256,
          256,
          258,
          259,
          259,
          259.9,
          260,
          263.78,
          264.9,
          265,
          265,
          268,
          269,
          269,
          269,
          269,
          270,
          277,
          279,
          279,
          279,
          279,
          279,
          280,
          280,
          280,
          283.9,
          284.9,
          289,
          292.86,
          294,
          295.9,
          297,
          297,
          299,
          300,
          300,
          300,
          300,
          300.9,
          304,
          304,
          305,
          309,
          316,
          316,
          319.9,
          320,
          323,
          334,
          335,
          343.91,
          300,
          339,
          339.9,
          340,
          340,
          300,
          340,
          340,
          340,
          345,
          350.9,
          352,
          355,
          359,
          366,
          368,
          369.9,
          369.9,
          369.9,
          370,
          370.9,
          375,
          379,
          380,
          380,
          381.73,
          383.9,
          388,
          389,
          389,
          389.9,
          390,
          390,
          395,
          419,
          399,
          399,
          400,
          404.9,
          405,
          405,
          410,
          410,
          416.9,
          416.9,
          417,
          419,
          419,
          419.9,
          430,
          400,
          438,
          438.9,
          440,
          440,
          442,
          446,
          446,
          372,
          480.76,
          467,
          469,
          469.9,
          470,
          469.99,
          470,
          471.9,
          471.9,
          474,
          489,
          499,
          500,
          500,
          503,
          504.9,
          508,
          518,
          440,
          519,
          529,
          529,
          550,
          579,
          613,
          613,
          614.9,
          630,
          635,
          639,
          639,
          658.9,
          669,
          669,
          675,
          686,
          797,
          700,
          690,
          700,
          705,
          709,
          722,
          735.9,
          735.9,
          735.9,
          738.9,
          743,
          743,
          757.9,
          757.9,
          773,
          777,
          777,
          779,
          779,
          779.9,
          780,
          782,
          789,
          760,
          789,
          789,
          791.9,
          807.9,
          839.9,
          845.9,
          845.9,
          849,
          849,
          859,
          870.9,
          889,
          928,
          946,
          954,
          955.9,
          955.9,
          958,
          983,
          1123,
          1022,
          1026,
          1037,
          1048,
          1083,
          1085,
          1085,
          1088,
          1088,
          1109,
          1179,
          1211,
          1264,
          1264,
          1264,
          1264,
          1299,
          1299,
          1299,
          1308,
          1399,
          1399,
          1399,
          1399,
          1463.9,
          1528,
          1528,
          1528
         ],
         "x0": " ",
         "xaxis": "x",
         "y0": " ",
         "yaxis": "y"
        }
       ],
       "layout": {
        "boxmode": "group",
        "legend": {
         "tracegroupgap": 0
        },
        "margin": {
         "t": 60
        },
        "template": {
         "data": {
          "bar": [
           {
            "error_x": {
             "color": "#2a3f5f"
            },
            "error_y": {
             "color": "#2a3f5f"
            },
            "marker": {
             "line": {
              "color": "#E5ECF6",
              "width": 0.5
             },
             "pattern": {
              "fillmode": "overlay",
              "size": 10,
              "solidity": 0.2
             }
            },
            "type": "bar"
           }
          ],
          "barpolar": [
           {
            "marker": {
             "line": {
              "color": "#E5ECF6",
              "width": 0.5
             },
             "pattern": {
              "fillmode": "overlay",
              "size": 10,
              "solidity": 0.2
             }
            },
            "type": "barpolar"
           }
          ],
          "carpet": [
           {
            "aaxis": {
             "endlinecolor": "#2a3f5f",
             "gridcolor": "white",
             "linecolor": "white",
             "minorgridcolor": "white",
             "startlinecolor": "#2a3f5f"
            },
            "baxis": {
             "endlinecolor": "#2a3f5f",
             "gridcolor": "white",
             "linecolor": "white",
             "minorgridcolor": "white",
             "startlinecolor": "#2a3f5f"
            },
            "type": "carpet"
           }
          ],
          "choropleth": [
           {
            "colorbar": {
             "outlinewidth": 0,
             "ticks": ""
            },
            "type": "choropleth"
           }
          ],
          "contour": [
           {
            "colorbar": {
             "outlinewidth": 0,
             "ticks": ""
            },
            "colorscale": [
             [
              0,
              "#0d0887"
             ],
             [
              0.1111111111111111,
              "#46039f"
             ],
             [
              0.2222222222222222,
              "#7201a8"
             ],
             [
              0.3333333333333333,
              "#9c179e"
             ],
             [
              0.4444444444444444,
              "#bd3786"
             ],
             [
              0.5555555555555556,
              "#d8576b"
             ],
             [
              0.6666666666666666,
              "#ed7953"
             ],
             [
              0.7777777777777778,
              "#fb9f3a"
             ],
             [
              0.8888888888888888,
              "#fdca26"
             ],
             [
              1,
              "#f0f921"
             ]
            ],
            "type": "contour"
           }
          ],
          "contourcarpet": [
           {
            "colorbar": {
             "outlinewidth": 0,
             "ticks": ""
            },
            "type": "contourcarpet"
           }
          ],
          "heatmap": [
           {
            "colorbar": {
             "outlinewidth": 0,
             "ticks": ""
            },
            "colorscale": [
             [
              0,
              "#0d0887"
             ],
             [
              0.1111111111111111,
              "#46039f"
             ],
             [
              0.2222222222222222,
              "#7201a8"
             ],
             [
              0.3333333333333333,
              "#9c179e"
             ],
             [
              0.4444444444444444,
              "#bd3786"
             ],
             [
              0.5555555555555556,
              "#d8576b"
             ],
             [
              0.6666666666666666,
              "#ed7953"
             ],
             [
              0.7777777777777778,
              "#fb9f3a"
             ],
             [
              0.8888888888888888,
              "#fdca26"
             ],
             [
              1,
              "#f0f921"
             ]
            ],
            "type": "heatmap"
           }
          ],
          "heatmapgl": [
           {
            "colorbar": {
             "outlinewidth": 0,
             "ticks": ""
            },
            "colorscale": [
             [
              0,
              "#0d0887"
             ],
             [
              0.1111111111111111,
              "#46039f"
             ],
             [
              0.2222222222222222,
              "#7201a8"
             ],
             [
              0.3333333333333333,
              "#9c179e"
             ],
             [
              0.4444444444444444,
              "#bd3786"
             ],
             [
              0.5555555555555556,
              "#d8576b"
             ],
             [
              0.6666666666666666,
              "#ed7953"
             ],
             [
              0.7777777777777778,
              "#fb9f3a"
             ],
             [
              0.8888888888888888,
              "#fdca26"
             ],
             [
              1,
              "#f0f921"
             ]
            ],
            "type": "heatmapgl"
           }
          ],
          "histogram": [
           {
            "marker": {
             "pattern": {
              "fillmode": "overlay",
              "size": 10,
              "solidity": 0.2
             }
            },
            "type": "histogram"
           }
          ],
          "histogram2d": [
           {
            "colorbar": {
             "outlinewidth": 0,
             "ticks": ""
            },
            "colorscale": [
             [
              0,
              "#0d0887"
             ],
             [
              0.1111111111111111,
              "#46039f"
             ],
             [
              0.2222222222222222,
              "#7201a8"
             ],
             [
              0.3333333333333333,
              "#9c179e"
             ],
             [
              0.4444444444444444,
              "#bd3786"
             ],
             [
              0.5555555555555556,
              "#d8576b"
             ],
             [
              0.6666666666666666,
              "#ed7953"
             ],
             [
              0.7777777777777778,
              "#fb9f3a"
             ],
             [
              0.8888888888888888,
              "#fdca26"
             ],
             [
              1,
              "#f0f921"
             ]
            ],
            "type": "histogram2d"
           }
          ],
          "histogram2dcontour": [
           {
            "colorbar": {
             "outlinewidth": 0,
             "ticks": ""
            },
            "colorscale": [
             [
              0,
              "#0d0887"
             ],
             [
              0.1111111111111111,
              "#46039f"
             ],
             [
              0.2222222222222222,
              "#7201a8"
             ],
             [
              0.3333333333333333,
              "#9c179e"
             ],
             [
              0.4444444444444444,
              "#bd3786"
             ],
             [
              0.5555555555555556,
              "#d8576b"
             ],
             [
              0.6666666666666666,
              "#ed7953"
             ],
             [
              0.7777777777777778,
              "#fb9f3a"
             ],
             [
              0.8888888888888888,
              "#fdca26"
             ],
             [
              1,
              "#f0f921"
             ]
            ],
            "type": "histogram2dcontour"
           }
          ],
          "mesh3d": [
           {
            "colorbar": {
             "outlinewidth": 0,
             "ticks": ""
            },
            "type": "mesh3d"
           }
          ],
          "parcoords": [
           {
            "line": {
             "colorbar": {
              "outlinewidth": 0,
              "ticks": ""
             }
            },
            "type": "parcoords"
           }
          ],
          "pie": [
           {
            "automargin": true,
            "type": "pie"
           }
          ],
          "scatter": [
           {
            "fillpattern": {
             "fillmode": "overlay",
             "size": 10,
             "solidity": 0.2
            },
            "type": "scatter"
           }
          ],
          "scatter3d": [
           {
            "line": {
             "colorbar": {
              "outlinewidth": 0,
              "ticks": ""
             }
            },
            "marker": {
             "colorbar": {
              "outlinewidth": 0,
              "ticks": ""
             }
            },
            "type": "scatter3d"
           }
          ],
          "scattercarpet": [
           {
            "marker": {
             "colorbar": {
              "outlinewidth": 0,
              "ticks": ""
             }
            },
            "type": "scattercarpet"
           }
          ],
          "scattergeo": [
           {
            "marker": {
             "colorbar": {
              "outlinewidth": 0,
              "ticks": ""
             }
            },
            "type": "scattergeo"
           }
          ],
          "scattergl": [
           {
            "marker": {
             "colorbar": {
              "outlinewidth": 0,
              "ticks": ""
             }
            },
            "type": "scattergl"
           }
          ],
          "scattermapbox": [
           {
            "marker": {
             "colorbar": {
              "outlinewidth": 0,
              "ticks": ""
             }
            },
            "type": "scattermapbox"
           }
          ],
          "scatterpolar": [
           {
            "marker": {
             "colorbar": {
              "outlinewidth": 0,
              "ticks": ""
             }
            },
            "type": "scatterpolar"
           }
          ],
          "scatterpolargl": [
           {
            "marker": {
             "colorbar": {
              "outlinewidth": 0,
              "ticks": ""
             }
            },
            "type": "scatterpolargl"
           }
          ],
          "scatterternary": [
           {
            "marker": {
             "colorbar": {
              "outlinewidth": 0,
              "ticks": ""
             }
            },
            "type": "scatterternary"
           }
          ],
          "surface": [
           {
            "colorbar": {
             "outlinewidth": 0,
             "ticks": ""
            },
            "colorscale": [
             [
              0,
              "#0d0887"
             ],
             [
              0.1111111111111111,
              "#46039f"
             ],
             [
              0.2222222222222222,
              "#7201a8"
             ],
             [
              0.3333333333333333,
              "#9c179e"
             ],
             [
              0.4444444444444444,
              "#bd3786"
             ],
             [
              0.5555555555555556,
              "#d8576b"
             ],
             [
              0.6666666666666666,
              "#ed7953"
             ],
             [
              0.7777777777777778,
              "#fb9f3a"
             ],
             [
              0.8888888888888888,
              "#fdca26"
             ],
             [
              1,
              "#f0f921"
             ]
            ],
            "type": "surface"
           }
          ],
          "table": [
           {
            "cells": {
             "fill": {
              "color": "#EBF0F8"
             },
             "line": {
              "color": "white"
             }
            },
            "header": {
             "fill": {
              "color": "#C8D4E3"
             },
             "line": {
              "color": "white"
             }
            },
            "type": "table"
           }
          ]
         },
         "layout": {
          "annotationdefaults": {
           "arrowcolor": "#2a3f5f",
           "arrowhead": 0,
           "arrowwidth": 1
          },
          "autotypenumbers": "strict",
          "coloraxis": {
           "colorbar": {
            "outlinewidth": 0,
            "ticks": ""
           }
          },
          "colorscale": {
           "diverging": [
            [
             0,
             "#8e0152"
            ],
            [
             0.1,
             "#c51b7d"
            ],
            [
             0.2,
             "#de77ae"
            ],
            [
             0.3,
             "#f1b6da"
            ],
            [
             0.4,
             "#fde0ef"
            ],
            [
             0.5,
             "#f7f7f7"
            ],
            [
             0.6,
             "#e6f5d0"
            ],
            [
             0.7,
             "#b8e186"
            ],
            [
             0.8,
             "#7fbc41"
            ],
            [
             0.9,
             "#4d9221"
            ],
            [
             1,
             "#276419"
            ]
           ],
           "sequential": [
            [
             0,
             "#0d0887"
            ],
            [
             0.1111111111111111,
             "#46039f"
            ],
            [
             0.2222222222222222,
             "#7201a8"
            ],
            [
             0.3333333333333333,
             "#9c179e"
            ],
            [
             0.4444444444444444,
             "#bd3786"
            ],
            [
             0.5555555555555556,
             "#d8576b"
            ],
            [
             0.6666666666666666,
             "#ed7953"
            ],
            [
             0.7777777777777778,
             "#fb9f3a"
            ],
            [
             0.8888888888888888,
             "#fdca26"
            ],
            [
             1,
             "#f0f921"
            ]
           ],
           "sequentialminus": [
            [
             0,
             "#0d0887"
            ],
            [
             0.1111111111111111,
             "#46039f"
            ],
            [
             0.2222222222222222,
             "#7201a8"
            ],
            [
             0.3333333333333333,
             "#9c179e"
            ],
            [
             0.4444444444444444,
             "#bd3786"
            ],
            [
             0.5555555555555556,
             "#d8576b"
            ],
            [
             0.6666666666666666,
             "#ed7953"
            ],
            [
             0.7777777777777778,
             "#fb9f3a"
            ],
            [
             0.8888888888888888,
             "#fdca26"
            ],
            [
             1,
             "#f0f921"
            ]
           ]
          },
          "colorway": [
           "#636efa",
           "#EF553B",
           "#00cc96",
           "#ab63fa",
           "#FFA15A",
           "#19d3f3",
           "#FF6692",
           "#B6E880",
           "#FF97FF",
           "#FECB52"
          ],
          "font": {
           "color": "#2a3f5f"
          },
          "geo": {
           "bgcolor": "white",
           "lakecolor": "white",
           "landcolor": "#E5ECF6",
           "showlakes": true,
           "showland": true,
           "subunitcolor": "white"
          },
          "hoverlabel": {
           "align": "left"
          },
          "hovermode": "closest",
          "mapbox": {
           "style": "light"
          },
          "paper_bgcolor": "white",
          "plot_bgcolor": "#E5ECF6",
          "polar": {
           "angularaxis": {
            "gridcolor": "white",
            "linecolor": "white",
            "ticks": ""
           },
           "bgcolor": "#E5ECF6",
           "radialaxis": {
            "gridcolor": "white",
            "linecolor": "white",
            "ticks": ""
           }
          },
          "scene": {
           "xaxis": {
            "backgroundcolor": "#E5ECF6",
            "gridcolor": "white",
            "gridwidth": 2,
            "linecolor": "white",
            "showbackground": true,
            "ticks": "",
            "zerolinecolor": "white"
           },
           "yaxis": {
            "backgroundcolor": "#E5ECF6",
            "gridcolor": "white",
            "gridwidth": 2,
            "linecolor": "white",
            "showbackground": true,
            "ticks": "",
            "zerolinecolor": "white"
           },
           "zaxis": {
            "backgroundcolor": "#E5ECF6",
            "gridcolor": "white",
            "gridwidth": 2,
            "linecolor": "white",
            "showbackground": true,
            "ticks": "",
            "zerolinecolor": "white"
           }
          },
          "shapedefaults": {
           "line": {
            "color": "#2a3f5f"
           }
          },
          "ternary": {
           "aaxis": {
            "gridcolor": "white",
            "linecolor": "white",
            "ticks": ""
           },
           "baxis": {
            "gridcolor": "white",
            "linecolor": "white",
            "ticks": ""
           },
           "bgcolor": "#E5ECF6",
           "caxis": {
            "gridcolor": "white",
            "linecolor": "white",
            "ticks": ""
           }
          },
          "title": {
           "x": 0.05
          },
          "xaxis": {
           "automargin": true,
           "gridcolor": "white",
           "linecolor": "white",
           "ticks": "",
           "title": {
            "standoff": 15
           },
           "zerolinecolor": "white",
           "zerolinewidth": 2
          },
          "yaxis": {
           "automargin": true,
           "gridcolor": "white",
           "linecolor": "white",
           "ticks": "",
           "title": {
            "standoff": 15
           },
           "zerolinecolor": "white",
           "zerolinewidth": 2
          }
         }
        },
        "xaxis": {
         "anchor": "y",
         "domain": [
          0,
          1
         ],
         "title": {
          "text": "Price(€)"
         }
        },
        "yaxis": {
         "anchor": "x",
         "domain": [
          0,
          1
         ]
        }
       }
      },
      "text/html": [
       "<div>                            <div id=\"8161971e-84a7-45d5-af43-aa59079b4972\" class=\"plotly-graph-div\" style=\"height:525px; width:100%;\"></div>            <script type=\"text/javascript\">                require([\"plotly\"], function(Plotly) {                    window.PLOTLYENV=window.PLOTLYENV || {};                                    if (document.getElementById(\"8161971e-84a7-45d5-af43-aa59079b4972\")) {                    Plotly.newPlot(                        \"8161971e-84a7-45d5-af43-aa59079b4972\",                        [{\"alignmentgroup\":\"True\",\"hovertemplate\":\"Price(\\u20ac)=%{x}<extra></extra>\",\"legendgroup\":\"\",\"marker\":{\"color\":\"#636efa\"},\"name\":\"\",\"notched\":false,\"offsetgroup\":\"\",\"orientation\":\"h\",\"showlegend\":false,\"x\":[749.0,249.0,419.0,299.0,229.0,129.0,299.0,299.0,449.0,449.0,269.0,349.0,599.0,459.0,199.0,249.0,339.0,249.0,279.0,229.0,114.99,119.0,299.0,179.0,329.0,249.0,329.0,199.0,1379.0,1229.0,1379.0,1229.0,969.0,859.0,969.0,1379.0,1509.0,1509.0,1379.0,1359.0,969.0,799.0,1229.0,969.0,1119.0,1119.0,859.0,1119.0,759.0,649.0,349.0,859.0,559.0,859.0,1509.0,979.0,979.0,759.0,799.0,1099.0,809.0,1359.0,1099.0,1509.0,1099.0,749.0,1249.0,759.0,979.0,379.0,549.0,809.0,699.0,199.0,1099.0,629.0,979.0,979.0,149.0,299.0,179.0,759.0,339.0,199.0,659.0,649.0,269.0,1398.98,1359.0,319.0,199.0,1099.0,149.0,1049.0,927.69,219.0,199.0,319.0,799.0,299.0,759.0,699.0,699.0,629.0,549.0,522.74,199.0,189.0,179.0,179.0,149.0,349.0,319.0,299.0,249.0,249.0,179.0,149.0,899.0,649.0,809.0,119.0,139.0,149.0,179.0,185.86,189.0,200.53,219.0,241.46,315.23,319.0,443.75,499.0,549.0,549.0,549.0,599.0,629.0,699.0,699.0,699.0,746.85,749.0,749.0,759.0,759.0,788.4,849.0,849.0,899.0,899.0,899.0,927.69,929.0,929.0,929.0,929.0,1209.0,1209.0,1209.0,1209.0,1237.32,1249.0,1249.0,1359.0,1359.0,1399.0,1509.0,1509.0,1509.0,529.0,599.0,859.0,529.0,599.0,809.0,229.0,975.23,599.0,759.0,335.9,279.0,759.0,499.0,249.0,319.0,899.0,379.0,479.0,849.0,469.0,334.88,129.0,179.0,199.0,299.0,479.0,499.0,549.0,579.0,799.0,799.0,879.0,1099.0,1099.0,1199.0,1499.0,715.0,279.0,216.39,229.0,349.0,499.0,649.0,799.0,879.0,879.0,303.25,187.36,385.71,100.94,102.06,102.29,102.38,102.6,106.32,107.66,107.66,109.01,109.1,109.4,114.38,126.98,136.81,137.36,138.21,139.62,144.0,147.9,148.94,155.06,156.0,157.0,158.08,158.33,162.94,169.1,171.42,174.0,175.03,175.98,176.13,180.42,181.74,186.58,187.0,191.57,193.11,193.82,194.9,199.5,199.78,201.54,201.62,210.27,214.04,218.25,219.28,223.17,225.33,225.72,227.0,228.0,233.7,235.95,239.31,241.59,242.97,242.97,246.34,246.69,249.14,256.77,260.0,263.0,264.59,267.82,268.8,269.0,270.58,276.99,278.0,278.63,280.04,282.0,284.38,288.46,290.84,292.62,297.4,297.83,303.15,303.15,303.15,304.05,306.38,306.38,309.21,309.52,313.74,316.23,318.0,318.27,324.1,337.36,344.77,347.24,349.0,351.89,352.9,352.9,354.0,356.18,363.68,368.0,373.46,383.78,385.71,385.71,385.71,386.34,388.84,393.78,396.78,398.4,404.0,409.8,410.2,416.24,427.48,427.5,427.48,436.1,444.33,445.58,456.97,471.37,476.62,476.62,489.99,498.42,502.5,515.72,528.0,549.74,580.0,605.7,608.48,626.9,639.51,645.13,653.55,676.0,700.0,734.0,752.7,752.7,772.0,781.34,799.5,799.5,805.54,952.65,988.14,1070.6,1072.0,1106.18,1115.85,1155.0,1156.0,1174.5,1174.65,1185.51,1188.55,1287.79,1332.49,1408.2,1417.71,1457.06,799.0,189.0,249.0,279.0,699.0,289.0,259.0,379.0,349.0,349.0,189.0,199.0,249.0,289.0,319.0,319.0,349.0,359.0,379.0,379.0,379.0,699.0,699.0,389.0,85.0,92.0,94.0,96.72,98.0,99.0,104.0,104.0,104.0,104.87,109.0,110.0,116.0,117.0,118.0,119.9,127.0,130.0,135.0,138.0,139.0,141.0,142.0,142.0,144.0,144.0,145.0,145.0,145.0,145.0,146.0,147.0,150.0,150.0,150.0,150.0,150.0,151.0,154.0,154.0,155.0,155.0,158.9,159.0,159.0,159.0,159.9,159.99,163.9,164.0,165.0,167.51,168.0,169.0,169.0,170.0,170.0,170.0,170.0,170.0,171.0,175.0,172.47,176.0,178.0,184.0,184.0,184.0,184.0,184.0,189.9,190.0,190.0,190.0,191.0,191.0,192.0,194.0,194.0,194.0,199.0,199.0,199.0,200.0,200.0,201.0,203.0,203.0,203.0,207.0,209.0,209.0,215.0,215.0,215.0,218.9,219.0,219.0,220.0,220.0,220.0,220.0,220.0,220.0,221.9,222.7,223.0,228.09,236.0,239.0,239.9,244.0,244.0,247.0,249.0,250.0,250.0,251.0,251.0,251.9,251.9,251.9,251.9,254.0,254.0,255.0,255.0,256.0,256.0,258.0,259.0,259.0,259.9,260.0,263.78,264.9,265.0,265.0,268.0,269.0,269.0,269.0,269.0,270.0,277.0,279.0,279.0,279.0,279.0,279.0,280.0,280.0,280.0,283.9,284.9,289.0,292.86,294.0,295.9,297.0,297.0,299.0,300.0,300.0,300.0,300.0,300.9,304.0,304.0,305.0,309.0,316.0,316.0,319.9,320.0,323.0,334.0,335.0,343.91,300.0,339.0,339.9,340.0,340.0,300.0,340.0,340.0,340.0,345.0,350.9,352.0,355.0,359.0,366.0,368.0,369.9,369.9,369.9,370.0,370.9,375.0,379.0,380.0,380.0,381.73,383.9,388.0,389.0,389.0,389.9,390.0,390.0,395.0,419.0,399.0,399.0,400.0,404.9,405.0,405.0,410.0,410.0,416.9,416.9,417.0,419.0,419.0,419.9,430.0,400.0,438.0,438.9,440.0,440.0,442.0,446.0,446.0,372.0,480.76,467.0,469.0,469.9,470.0,469.99,470.0,471.9,471.9,474.0,489.0,499.0,500.0,500.0,503.0,504.9,508.0,518.0,440.0,519.0,529.0,529.0,550.0,579.0,613.0,613.0,614.9,630.0,635.0,639.0,639.0,658.9,669.0,669.0,675.0,686.0,797.0,700.0,690.0,700.0,705.0,709.0,722.0,735.9,735.9,735.9,738.9,743.0,743.0,757.9,757.9,773.0,777.0,777.0,779.0,779.0,779.9,780.0,782.0,789.0,760.0,789.0,789.0,791.9,807.9,839.9,845.9,845.9,849.0,849.0,859.0,870.9,889.0,928.0,946.0,954.0,955.9,955.9,958.0,983.0,1123.0,1022.0,1026.0,1037.0,1048.0,1083.0,1085.0,1085.0,1088.0,1088.0,1109.0,1179.0,1211.0,1264.0,1264.0,1264.0,1264.0,1299.0,1299.0,1299.0,1308.0,1399.0,1399.0,1399.0,1399.0,1463.9,1528.0,1528.0,1528.0],\"x0\":\" \",\"xaxis\":\"x\",\"y0\":\" \",\"yaxis\":\"y\",\"type\":\"box\",\"fillcolor\":\"#C9A26B\"}],                        {\"template\":{\"data\":{\"histogram2dcontour\":[{\"type\":\"histogram2dcontour\",\"colorbar\":{\"outlinewidth\":0,\"ticks\":\"\"},\"colorscale\":[[0.0,\"#0d0887\"],[0.1111111111111111,\"#46039f\"],[0.2222222222222222,\"#7201a8\"],[0.3333333333333333,\"#9c179e\"],[0.4444444444444444,\"#bd3786\"],[0.5555555555555556,\"#d8576b\"],[0.6666666666666666,\"#ed7953\"],[0.7777777777777778,\"#fb9f3a\"],[0.8888888888888888,\"#fdca26\"],[1.0,\"#f0f921\"]]}],\"choropleth\":[{\"type\":\"choropleth\",\"colorbar\":{\"outlinewidth\":0,\"ticks\":\"\"}}],\"histogram2d\":[{\"type\":\"histogram2d\",\"colorbar\":{\"outlinewidth\":0,\"ticks\":\"\"},\"colorscale\":[[0.0,\"#0d0887\"],[0.1111111111111111,\"#46039f\"],[0.2222222222222222,\"#7201a8\"],[0.3333333333333333,\"#9c179e\"],[0.4444444444444444,\"#bd3786\"],[0.5555555555555556,\"#d8576b\"],[0.6666666666666666,\"#ed7953\"],[0.7777777777777778,\"#fb9f3a\"],[0.8888888888888888,\"#fdca26\"],[1.0,\"#f0f921\"]]}],\"heatmap\":[{\"type\":\"heatmap\",\"colorbar\":{\"outlinewidth\":0,\"ticks\":\"\"},\"colorscale\":[[0.0,\"#0d0887\"],[0.1111111111111111,\"#46039f\"],[0.2222222222222222,\"#7201a8\"],[0.3333333333333333,\"#9c179e\"],[0.4444444444444444,\"#bd3786\"],[0.5555555555555556,\"#d8576b\"],[0.6666666666666666,\"#ed7953\"],[0.7777777777777778,\"#fb9f3a\"],[0.8888888888888888,\"#fdca26\"],[1.0,\"#f0f921\"]]}],\"heatmapgl\":[{\"type\":\"heatmapgl\",\"colorbar\":{\"outlinewidth\":0,\"ticks\":\"\"},\"colorscale\":[[0.0,\"#0d0887\"],[0.1111111111111111,\"#46039f\"],[0.2222222222222222,\"#7201a8\"],[0.3333333333333333,\"#9c179e\"],[0.4444444444444444,\"#bd3786\"],[0.5555555555555556,\"#d8576b\"],[0.6666666666666666,\"#ed7953\"],[0.7777777777777778,\"#fb9f3a\"],[0.8888888888888888,\"#fdca26\"],[1.0,\"#f0f921\"]]}],\"contourcarpet\":[{\"type\":\"contourcarpet\",\"colorbar\":{\"outlinewidth\":0,\"ticks\":\"\"}}],\"contour\":[{\"type\":\"contour\",\"colorbar\":{\"outlinewidth\":0,\"ticks\":\"\"},\"colorscale\":[[0.0,\"#0d0887\"],[0.1111111111111111,\"#46039f\"],[0.2222222222222222,\"#7201a8\"],[0.3333333333333333,\"#9c179e\"],[0.4444444444444444,\"#bd3786\"],[0.5555555555555556,\"#d8576b\"],[0.6666666666666666,\"#ed7953\"],[0.7777777777777778,\"#fb9f3a\"],[0.8888888888888888,\"#fdca26\"],[1.0,\"#f0f921\"]]}],\"surface\":[{\"type\":\"surface\",\"colorbar\":{\"outlinewidth\":0,\"ticks\":\"\"},\"colorscale\":[[0.0,\"#0d0887\"],[0.1111111111111111,\"#46039f\"],[0.2222222222222222,\"#7201a8\"],[0.3333333333333333,\"#9c179e\"],[0.4444444444444444,\"#bd3786\"],[0.5555555555555556,\"#d8576b\"],[0.6666666666666666,\"#ed7953\"],[0.7777777777777778,\"#fb9f3a\"],[0.8888888888888888,\"#fdca26\"],[1.0,\"#f0f921\"]]}],\"mesh3d\":[{\"type\":\"mesh3d\",\"colorbar\":{\"outlinewidth\":0,\"ticks\":\"\"}}],\"scatter\":[{\"fillpattern\":{\"fillmode\":\"overlay\",\"size\":10,\"solidity\":0.2},\"type\":\"scatter\"}],\"parcoords\":[{\"type\":\"parcoords\",\"line\":{\"colorbar\":{\"outlinewidth\":0,\"ticks\":\"\"}}}],\"scatterpolargl\":[{\"type\":\"scatterpolargl\",\"marker\":{\"colorbar\":{\"outlinewidth\":0,\"ticks\":\"\"}}}],\"bar\":[{\"error_x\":{\"color\":\"#2a3f5f\"},\"error_y\":{\"color\":\"#2a3f5f\"},\"marker\":{\"line\":{\"color\":\"#E5ECF6\",\"width\":0.5},\"pattern\":{\"fillmode\":\"overlay\",\"size\":10,\"solidity\":0.2}},\"type\":\"bar\"}],\"scattergeo\":[{\"type\":\"scattergeo\",\"marker\":{\"colorbar\":{\"outlinewidth\":0,\"ticks\":\"\"}}}],\"scatterpolar\":[{\"type\":\"scatterpolar\",\"marker\":{\"colorbar\":{\"outlinewidth\":0,\"ticks\":\"\"}}}],\"histogram\":[{\"marker\":{\"pattern\":{\"fillmode\":\"overlay\",\"size\":10,\"solidity\":0.2}},\"type\":\"histogram\"}],\"scattergl\":[{\"type\":\"scattergl\",\"marker\":{\"colorbar\":{\"outlinewidth\":0,\"ticks\":\"\"}}}],\"scatter3d\":[{\"type\":\"scatter3d\",\"line\":{\"colorbar\":{\"outlinewidth\":0,\"ticks\":\"\"}},\"marker\":{\"colorbar\":{\"outlinewidth\":0,\"ticks\":\"\"}}}],\"scattermapbox\":[{\"type\":\"scattermapbox\",\"marker\":{\"colorbar\":{\"outlinewidth\":0,\"ticks\":\"\"}}}],\"scatterternary\":[{\"type\":\"scatterternary\",\"marker\":{\"colorbar\":{\"outlinewidth\":0,\"ticks\":\"\"}}}],\"scattercarpet\":[{\"type\":\"scattercarpet\",\"marker\":{\"colorbar\":{\"outlinewidth\":0,\"ticks\":\"\"}}}],\"carpet\":[{\"aaxis\":{\"endlinecolor\":\"#2a3f5f\",\"gridcolor\":\"white\",\"linecolor\":\"white\",\"minorgridcolor\":\"white\",\"startlinecolor\":\"#2a3f5f\"},\"baxis\":{\"endlinecolor\":\"#2a3f5f\",\"gridcolor\":\"white\",\"linecolor\":\"white\",\"minorgridcolor\":\"white\",\"startlinecolor\":\"#2a3f5f\"},\"type\":\"carpet\"}],\"table\":[{\"cells\":{\"fill\":{\"color\":\"#EBF0F8\"},\"line\":{\"color\":\"white\"}},\"header\":{\"fill\":{\"color\":\"#C8D4E3\"},\"line\":{\"color\":\"white\"}},\"type\":\"table\"}],\"barpolar\":[{\"marker\":{\"line\":{\"color\":\"#E5ECF6\",\"width\":0.5},\"pattern\":{\"fillmode\":\"overlay\",\"size\":10,\"solidity\":0.2}},\"type\":\"barpolar\"}],\"pie\":[{\"automargin\":true,\"type\":\"pie\"}]},\"layout\":{\"autotypenumbers\":\"strict\",\"colorway\":[\"#636efa\",\"#EF553B\",\"#00cc96\",\"#ab63fa\",\"#FFA15A\",\"#19d3f3\",\"#FF6692\",\"#B6E880\",\"#FF97FF\",\"#FECB52\"],\"font\":{\"color\":\"#2a3f5f\"},\"hovermode\":\"closest\",\"hoverlabel\":{\"align\":\"left\"},\"paper_bgcolor\":\"white\",\"plot_bgcolor\":\"#E5ECF6\",\"polar\":{\"bgcolor\":\"#E5ECF6\",\"angularaxis\":{\"gridcolor\":\"white\",\"linecolor\":\"white\",\"ticks\":\"\"},\"radialaxis\":{\"gridcolor\":\"white\",\"linecolor\":\"white\",\"ticks\":\"\"}},\"ternary\":{\"bgcolor\":\"#E5ECF6\",\"aaxis\":{\"gridcolor\":\"white\",\"linecolor\":\"white\",\"ticks\":\"\"},\"baxis\":{\"gridcolor\":\"white\",\"linecolor\":\"white\",\"ticks\":\"\"},\"caxis\":{\"gridcolor\":\"white\",\"linecolor\":\"white\",\"ticks\":\"\"}},\"coloraxis\":{\"colorbar\":{\"outlinewidth\":0,\"ticks\":\"\"}},\"colorscale\":{\"sequential\":[[0.0,\"#0d0887\"],[0.1111111111111111,\"#46039f\"],[0.2222222222222222,\"#7201a8\"],[0.3333333333333333,\"#9c179e\"],[0.4444444444444444,\"#bd3786\"],[0.5555555555555556,\"#d8576b\"],[0.6666666666666666,\"#ed7953\"],[0.7777777777777778,\"#fb9f3a\"],[0.8888888888888888,\"#fdca26\"],[1.0,\"#f0f921\"]],\"sequentialminus\":[[0.0,\"#0d0887\"],[0.1111111111111111,\"#46039f\"],[0.2222222222222222,\"#7201a8\"],[0.3333333333333333,\"#9c179e\"],[0.4444444444444444,\"#bd3786\"],[0.5555555555555556,\"#d8576b\"],[0.6666666666666666,\"#ed7953\"],[0.7777777777777778,\"#fb9f3a\"],[0.8888888888888888,\"#fdca26\"],[1.0,\"#f0f921\"]],\"diverging\":[[0,\"#8e0152\"],[0.1,\"#c51b7d\"],[0.2,\"#de77ae\"],[0.3,\"#f1b6da\"],[0.4,\"#fde0ef\"],[0.5,\"#f7f7f7\"],[0.6,\"#e6f5d0\"],[0.7,\"#b8e186\"],[0.8,\"#7fbc41\"],[0.9,\"#4d9221\"],[1,\"#276419\"]]},\"xaxis\":{\"gridcolor\":\"white\",\"linecolor\":\"white\",\"ticks\":\"\",\"title\":{\"standoff\":15},\"zerolinecolor\":\"white\",\"automargin\":true,\"zerolinewidth\":2},\"yaxis\":{\"gridcolor\":\"white\",\"linecolor\":\"white\",\"ticks\":\"\",\"title\":{\"standoff\":15},\"zerolinecolor\":\"white\",\"automargin\":true,\"zerolinewidth\":2},\"scene\":{\"xaxis\":{\"backgroundcolor\":\"#E5ECF6\",\"gridcolor\":\"white\",\"linecolor\":\"white\",\"showbackground\":true,\"ticks\":\"\",\"zerolinecolor\":\"white\",\"gridwidth\":2},\"yaxis\":{\"backgroundcolor\":\"#E5ECF6\",\"gridcolor\":\"white\",\"linecolor\":\"white\",\"showbackground\":true,\"ticks\":\"\",\"zerolinecolor\":\"white\",\"gridwidth\":2},\"zaxis\":{\"backgroundcolor\":\"#E5ECF6\",\"gridcolor\":\"white\",\"linecolor\":\"white\",\"showbackground\":true,\"ticks\":\"\",\"zerolinecolor\":\"white\",\"gridwidth\":2}},\"shapedefaults\":{\"line\":{\"color\":\"#2a3f5f\"}},\"annotationdefaults\":{\"arrowcolor\":\"#2a3f5f\",\"arrowhead\":0,\"arrowwidth\":1},\"geo\":{\"bgcolor\":\"white\",\"landcolor\":\"#E5ECF6\",\"subunitcolor\":\"white\",\"showland\":true,\"showlakes\":true,\"lakecolor\":\"white\"},\"title\":{\"x\":0.05},\"mapbox\":{\"style\":\"light\"}}},\"xaxis\":{\"anchor\":\"y\",\"domain\":[0.0,1.0],\"title\":{\"text\":\"Price(\\u20ac)\"}},\"yaxis\":{\"anchor\":\"x\",\"domain\":[0.0,1.0]},\"legend\":{\"tracegroupgap\":0},\"margin\":{\"t\":60},\"boxmode\":\"group\"},                        {\"responsive\": true}                    ).then(function(){\n",
       "                            \n",
       "var gd = document.getElementById('8161971e-84a7-45d5-af43-aa59079b4972');\n",
       "var x = new MutationObserver(function (mutations, observer) {{\n",
       "        var display = window.getComputedStyle(gd).display;\n",
       "        if (!display || display === 'none') {{\n",
       "            console.log([gd, 'removed!']);\n",
       "            Plotly.purge(gd);\n",
       "            observer.disconnect();\n",
       "        }}\n",
       "}});\n",
       "\n",
       "// Listen for the removal of the full notebook cells\n",
       "var notebookContainer = gd.closest('#notebook-container');\n",
       "if (notebookContainer) {{\n",
       "    x.observe(notebookContainer, {childList: true});\n",
       "}}\n",
       "\n",
       "// Listen for the clearing of the current output cell\n",
       "var outputEl = gd.closest('.output');\n",
       "if (outputEl) {{\n",
       "    x.observe(outputEl, {childList: true});\n",
       "}}\n",
       "\n",
       "                        })                };                });            </script>        </div>"
      ]
     },
     "metadata": {},
     "output_type": "display_data"
    }
   ],
   "source": [
    "for i in num_col:\n",
    "    fig = px.box(df, x = df[i])\n",
    "    fig.update_traces(fillcolor = '#C9A26B')\n",
    "    fig.show()"
   ]
  },
  {
   "cell_type": "code",
   "execution_count": 142,
   "id": "e3f5b8c6",
   "metadata": {},
   "outputs": [
    {
     "data": {
      "text/plain": [
       "(761, 16)"
      ]
     },
     "execution_count": 142,
     "metadata": {},
     "output_type": "execute_result"
    }
   ],
   "source": [
    "df.shape"
   ]
  },
  {
   "cell_type": "code",
   "execution_count": 143,
   "id": "b80ed18d",
   "metadata": {},
   "outputs": [
    {
     "data": {
      "text/html": [
       "<div>\n",
       "<style scoped>\n",
       "    .dataframe tbody tr th:only-of-type {\n",
       "        vertical-align: middle;\n",
       "    }\n",
       "\n",
       "    .dataframe tbody tr th {\n",
       "        vertical-align: top;\n",
       "    }\n",
       "\n",
       "    .dataframe thead th {\n",
       "        text-align: right;\n",
       "    }\n",
       "</style>\n",
       "<table border=\"1\" class=\"dataframe\">\n",
       "  <thead>\n",
       "    <tr style=\"text-align: right;\">\n",
       "      <th></th>\n",
       "      <th>Marque</th>\n",
       "      <th>Model</th>\n",
       "      <th>couleur</th>\n",
       "      <th>os</th>\n",
       "      <th>CPU</th>\n",
       "      <th>Battery(mAh)</th>\n",
       "      <th>Taille_ecran(en pouces)</th>\n",
       "      <th>Resolution_ecran</th>\n",
       "      <th>Réseau</th>\n",
       "      <th>Bluetooth</th>\n",
       "      <th>Stockage(Go)</th>\n",
       "      <th>RAM(Go)</th>\n",
       "      <th>nb_capteur_ph</th>\n",
       "      <th>camera</th>\n",
       "      <th>Selfie(mégapixels)</th>\n",
       "      <th>Price(€)</th>\n",
       "    </tr>\n",
       "  </thead>\n",
       "  <tbody>\n",
       "    <tr>\n",
       "      <th>0</th>\n",
       "      <td>SAMSUNG</td>\n",
       "      <td>Galaxy S22</td>\n",
       "      <td>Noir</td>\n",
       "      <td>Android 12</td>\n",
       "      <td>Exynos2200</td>\n",
       "      <td>3700.0</td>\n",
       "      <td>6.1</td>\n",
       "      <td>2340 x 1080 pixels</td>\n",
       "      <td>5G</td>\n",
       "      <td>5</td>\n",
       "      <td>128.0</td>\n",
       "      <td>8.0</td>\n",
       "      <td>3.0</td>\n",
       "      <td>50 mégapixels+ 12 mégapixels+ 10 mégapixels</td>\n",
       "      <td>10.0</td>\n",
       "      <td>749.0</td>\n",
       "    </tr>\n",
       "    <tr>\n",
       "      <th>1</th>\n",
       "      <td>XIAOMI</td>\n",
       "      <td>Redmi Note 10 Pro</td>\n",
       "      <td>Gris</td>\n",
       "      <td>Android 10</td>\n",
       "      <td>8coeursjusqu'à2,3GHz</td>\n",
       "      <td>5020.0</td>\n",
       "      <td>6.6</td>\n",
       "      <td>2340 x 1080 pixels</td>\n",
       "      <td>4G</td>\n",
       "      <td>5</td>\n",
       "      <td>128.0</td>\n",
       "      <td>6.0</td>\n",
       "      <td>4.0</td>\n",
       "      <td>108 mégapixels + 8 mégapixels + 5 mégapixels ...</td>\n",
       "      <td>16.0</td>\n",
       "      <td>249.0</td>\n",
       "    </tr>\n",
       "    <tr>\n",
       "      <th>2</th>\n",
       "      <td>OPPO</td>\n",
       "      <td>Reno 8 Lite</td>\n",
       "      <td>Noir</td>\n",
       "      <td>Android 11</td>\n",
       "      <td>8coeursjusqu'à2,2GHz</td>\n",
       "      <td>4500.0</td>\n",
       "      <td>6.4</td>\n",
       "      <td>2400 x 1080 pixels</td>\n",
       "      <td>5G</td>\n",
       "      <td>5.1</td>\n",
       "      <td>128.0</td>\n",
       "      <td>8.0</td>\n",
       "      <td>3.0</td>\n",
       "      <td>64 mégapixels+ 2 mégapixels+ 2 mégapixels</td>\n",
       "      <td>16.0</td>\n",
       "      <td>419.0</td>\n",
       "    </tr>\n",
       "    <tr>\n",
       "      <th>3</th>\n",
       "      <td>OPPO</td>\n",
       "      <td>A77</td>\n",
       "      <td>Noir</td>\n",
       "      <td>Android 12</td>\n",
       "      <td>8coeursjusqu'à2,4GHz</td>\n",
       "      <td>5000.0</td>\n",
       "      <td>6.5</td>\n",
       "      <td>1600 x 720 pixels</td>\n",
       "      <td>5G</td>\n",
       "      <td>5.2</td>\n",
       "      <td>64.0</td>\n",
       "      <td>4.0</td>\n",
       "      <td>3.0</td>\n",
       "      <td>48 mégapixels+ 8 mégapixels+ 2 mégapixels</td>\n",
       "      <td>8.0</td>\n",
       "      <td>299.0</td>\n",
       "    </tr>\n",
       "    <tr>\n",
       "      <th>4</th>\n",
       "      <td>HONOR</td>\n",
       "      <td>X7A</td>\n",
       "      <td>Noir</td>\n",
       "      <td>Android S + Magic UI 6.1</td>\n",
       "      <td>8coeursjusqu'à2,3GHz</td>\n",
       "      <td>5330.0</td>\n",
       "      <td>6.7</td>\n",
       "      <td>1600 x 720 pixels</td>\n",
       "      <td>4G</td>\n",
       "      <td>5.1</td>\n",
       "      <td>128.0</td>\n",
       "      <td>4.0</td>\n",
       "      <td>4.0</td>\n",
       "      <td>50 mégapixels+ 5 mégapixels + 2 mégapixels+ 2...</td>\n",
       "      <td>8.0</td>\n",
       "      <td>229.0</td>\n",
       "    </tr>\n",
       "  </tbody>\n",
       "</table>\n",
       "</div>"
      ],
      "text/plain": [
       "    Marque               Model couleur                          os  \\\n",
       "0  SAMSUNG         Galaxy S22     Noir                 Android 12    \n",
       "1   XIAOMI  Redmi Note 10 Pro     Gris                 Android 10    \n",
       "2     OPPO        Reno 8 Lite     Noir                 Android 11    \n",
       "3     OPPO                A77     Noir                 Android 12    \n",
       "4    HONOR                X7A     Noir   Android S + Magic UI 6.1    \n",
       "\n",
       "                    CPU  Battery(mAh)  Taille_ecran(en pouces)  \\\n",
       "0            Exynos2200        3700.0                      6.1   \n",
       "1  8coeursjusqu'à2,3GHz        5020.0                      6.6   \n",
       "2  8coeursjusqu'à2,2GHz        4500.0                      6.4   \n",
       "3  8coeursjusqu'à2,4GHz        5000.0                      6.5   \n",
       "4  8coeursjusqu'à2,3GHz        5330.0                      6.7   \n",
       "\n",
       "       Resolution_ecran Réseau Bluetooth  Stockage(Go)  RAM(Go)  \\\n",
       "0   2340 x 1080 pixels     5G         5          128.0      8.0   \n",
       "1   2340 x 1080 pixels     4G         5          128.0      6.0   \n",
       "2   2400 x 1080 pixels     5G       5.1          128.0      8.0   \n",
       "3    1600 x 720 pixels     5G       5.2           64.0      4.0   \n",
       "4    1600 x 720 pixels     4G       5.1          128.0      4.0   \n",
       "\n",
       "   nb_capteur_ph                                             camera  \\\n",
       "0            3.0       50 mégapixels+ 12 mégapixels+ 10 mégapixels    \n",
       "1            4.0   108 mégapixels + 8 mégapixels + 5 mégapixels ...   \n",
       "2            3.0         64 mégapixels+ 2 mégapixels+ 2 mégapixels    \n",
       "3            3.0         48 mégapixels+ 8 mégapixels+ 2 mégapixels    \n",
       "4            4.0   50 mégapixels+ 5 mégapixels + 2 mégapixels+ 2...   \n",
       "\n",
       "   Selfie(mégapixels)  Price(€)  \n",
       "0                10.0     749.0  \n",
       "1                16.0     249.0  \n",
       "2                16.0     419.0  \n",
       "3                 8.0     299.0  \n",
       "4                 8.0     229.0  "
      ]
     },
     "execution_count": 143,
     "metadata": {},
     "output_type": "execute_result"
    }
   ],
   "source": [
    "df.head()"
   ]
  },
  {
   "cell_type": "code",
   "execution_count": 780,
   "id": "d3707587",
   "metadata": {},
   "outputs": [],
   "source": [
    "df.to_csv(\"smartphone_clained\")"
   ]
  }
 ],
 "metadata": {
  "kernelspec": {
   "display_name": "Python 3 (ipykernel)",
   "language": "python",
   "name": "python3"
  },
  "language_info": {
   "codemirror_mode": {
    "name": "ipython",
    "version": 3
   },
   "file_extension": ".py",
   "mimetype": "text/x-python",
   "name": "python",
   "nbconvert_exporter": "python",
   "pygments_lexer": "ipython3",
   "version": "3.10.5"
  }
 },
 "nbformat": 4,
 "nbformat_minor": 5
}
